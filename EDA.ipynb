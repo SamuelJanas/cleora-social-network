{
 "cells": [
  {
   "cell_type": "code",
   "execution_count": 1,
   "metadata": {},
   "outputs": [],
   "source": [
    "import pandas as pd\n",
    "import numpy as np\n",
    "import matplotlib.pyplot as plt\n",
    "import seaborn as sns\n",
    "import warnings\n",
    "\n",
    "# Load the dataset\n",
    "df = pd.read_csv('data/witcher.csv')"
   ]
  },
  {
   "cell_type": "markdown",
   "metadata": {},
   "source": [
    "Witcher csv was downloaded from [kaggle](https://www.kaggle.com/datasets/avasadasivan/witcher-network). It's a small dataset that describes interaction between characters in the Witcher book series. The dataset contains ~~5~~ 4 columns: `Source`, `Target`, `Weight` and `book`. The `Source` and `Target` columns contain the names of the characters that interacted with each other. `Weight` column contains the number of interactions between the characters. The `book` column contains the book number in which the interaction took place.\n",
    "\n",
    "For the sake of this experiment, we'll aim at classifying the interactions to the book they belong to. We'll use the `Source` and `Target` columns as features and the `book` column as the target variable. We'll use the `Weight` column as the edge weight between the characters.\n",
    "\n",
    "This will then be transformed into embeddings using Cleora's algorithm and then used to train a classifier to predict the book number.\n",
    "\n",
    "The dataset is small and the interactions are sparse, so we'll use a simple model to classify the interactions - most likely setting the baseline to a simple logistic regression model and possibly comparing it to some neural network model and RandomForestClassifier from sklearn.\n"
   ]
  },
  {
   "cell_type": "code",
   "execution_count": 2,
   "metadata": {},
   "outputs": [
    {
     "name": "stdout",
     "output_type": "stream",
     "text": [
      "First few rows of the dataset:\n"
     ]
    },
    {
     "data": {
      "text/html": [
       "<div>\n",
       "<style scoped>\n",
       "    .dataframe tbody tr th:only-of-type {\n",
       "        vertical-align: middle;\n",
       "    }\n",
       "\n",
       "    .dataframe tbody tr th {\n",
       "        vertical-align: top;\n",
       "    }\n",
       "\n",
       "    .dataframe thead th {\n",
       "        text-align: right;\n",
       "    }\n",
       "</style>\n",
       "<table border=\"1\" class=\"dataframe\">\n",
       "  <thead>\n",
       "    <tr style=\"text-align: right;\">\n",
       "      <th></th>\n",
       "      <th>Unnamed: 0</th>\n",
       "      <th>Source</th>\n",
       "      <th>Target</th>\n",
       "      <th>Type</th>\n",
       "      <th>Weight</th>\n",
       "      <th>book</th>\n",
       "    </tr>\n",
       "  </thead>\n",
       "  <tbody>\n",
       "    <tr>\n",
       "      <th>0</th>\n",
       "      <td>0</td>\n",
       "      <td>Velerad</td>\n",
       "      <td>Geralt</td>\n",
       "      <td>Undirected</td>\n",
       "      <td>1</td>\n",
       "      <td>1</td>\n",
       "    </tr>\n",
       "    <tr>\n",
       "      <th>1</th>\n",
       "      <td>1</td>\n",
       "      <td>Geralt</td>\n",
       "      <td>Foltest</td>\n",
       "      <td>Undirected</td>\n",
       "      <td>5</td>\n",
       "      <td>1</td>\n",
       "    </tr>\n",
       "    <tr>\n",
       "      <th>2</th>\n",
       "      <td>2</td>\n",
       "      <td>Foltest</td>\n",
       "      <td>Geralt</td>\n",
       "      <td>Undirected</td>\n",
       "      <td>4</td>\n",
       "      <td>1</td>\n",
       "    </tr>\n",
       "    <tr>\n",
       "      <th>3</th>\n",
       "      <td>3</td>\n",
       "      <td>Adda</td>\n",
       "      <td>Geralt</td>\n",
       "      <td>Undirected</td>\n",
       "      <td>1</td>\n",
       "      <td>1</td>\n",
       "    </tr>\n",
       "    <tr>\n",
       "      <th>4</th>\n",
       "      <td>4</td>\n",
       "      <td>Geralt</td>\n",
       "      <td>Ostrit</td>\n",
       "      <td>Undirected</td>\n",
       "      <td>4</td>\n",
       "      <td>1</td>\n",
       "    </tr>\n",
       "  </tbody>\n",
       "</table>\n",
       "</div>"
      ],
      "text/plain": [
       "   Unnamed: 0   Source   Target        Type  Weight  book\n",
       "0           0  Velerad   Geralt  Undirected       1     1\n",
       "1           1   Geralt  Foltest  Undirected       5     1\n",
       "2           2  Foltest   Geralt  Undirected       4     1\n",
       "3           3     Adda   Geralt  Undirected       1     1\n",
       "4           4   Geralt   Ostrit  Undirected       4     1"
      ]
     },
     "metadata": {},
     "output_type": "display_data"
    }
   ],
   "source": [
    "print(\"First few rows of the dataset:\")\n",
    "display(df.head())"
   ]
  },
  {
   "cell_type": "code",
   "execution_count": 3,
   "metadata": {},
   "outputs": [],
   "source": [
    "df['Type'].value_counts()\n",
    "\n",
    "# only one value for 'Type' column, so we can drop it\n",
    "df.drop('Type', axis=1, inplace=True)\n",
    "\n",
    "# Unnamed: 0 is just an index, so we can drop it as well\n",
    "df.drop('Unnamed: 0', axis=1, inplace=True)"
   ]
  },
  {
   "cell_type": "code",
   "execution_count": 4,
   "metadata": {},
   "outputs": [
    {
     "name": "stdout",
     "output_type": "stream",
     "text": [
      "\n",
      "Summary Statistics:\n"
     ]
    },
    {
     "data": {
      "text/html": [
       "<div>\n",
       "<style scoped>\n",
       "    .dataframe tbody tr th:only-of-type {\n",
       "        vertical-align: middle;\n",
       "    }\n",
       "\n",
       "    .dataframe tbody tr th {\n",
       "        vertical-align: top;\n",
       "    }\n",
       "\n",
       "    .dataframe thead th {\n",
       "        text-align: right;\n",
       "    }\n",
       "</style>\n",
       "<table border=\"1\" class=\"dataframe\">\n",
       "  <thead>\n",
       "    <tr style=\"text-align: right;\">\n",
       "      <th></th>\n",
       "      <th>Weight</th>\n",
       "      <th>book</th>\n",
       "    </tr>\n",
       "  </thead>\n",
       "  <tbody>\n",
       "    <tr>\n",
       "      <th>count</th>\n",
       "      <td>2600.000000</td>\n",
       "      <td>2600.000000</td>\n",
       "    </tr>\n",
       "    <tr>\n",
       "      <th>mean</th>\n",
       "      <td>3.280385</td>\n",
       "      <td>4.652692</td>\n",
       "    </tr>\n",
       "    <tr>\n",
       "      <th>std</th>\n",
       "      <td>6.241843</td>\n",
       "      <td>1.958533</td>\n",
       "    </tr>\n",
       "    <tr>\n",
       "      <th>min</th>\n",
       "      <td>1.000000</td>\n",
       "      <td>1.000000</td>\n",
       "    </tr>\n",
       "    <tr>\n",
       "      <th>25%</th>\n",
       "      <td>1.000000</td>\n",
       "      <td>3.000000</td>\n",
       "    </tr>\n",
       "    <tr>\n",
       "      <th>50%</th>\n",
       "      <td>1.000000</td>\n",
       "      <td>5.000000</td>\n",
       "    </tr>\n",
       "    <tr>\n",
       "      <th>75%</th>\n",
       "      <td>3.000000</td>\n",
       "      <td>7.000000</td>\n",
       "    </tr>\n",
       "    <tr>\n",
       "      <th>max</th>\n",
       "      <td>88.000000</td>\n",
       "      <td>7.000000</td>\n",
       "    </tr>\n",
       "  </tbody>\n",
       "</table>\n",
       "</div>"
      ],
      "text/plain": [
       "            Weight         book\n",
       "count  2600.000000  2600.000000\n",
       "mean      3.280385     4.652692\n",
       "std       6.241843     1.958533\n",
       "min       1.000000     1.000000\n",
       "25%       1.000000     3.000000\n",
       "50%       1.000000     5.000000\n",
       "75%       3.000000     7.000000\n",
       "max      88.000000     7.000000"
      ]
     },
     "metadata": {},
     "output_type": "display_data"
    }
   ],
   "source": [
    "print(\"\\nSummary Statistics:\")\n",
    "display(df.describe())"
   ]
  },
  {
   "cell_type": "code",
   "execution_count": 5,
   "metadata": {},
   "outputs": [
    {
     "name": "stdout",
     "output_type": "stream",
     "text": [
      "\n",
      "Missing Values:\n"
     ]
    },
    {
     "data": {
      "text/plain": [
       "Source    0\n",
       "Target    0\n",
       "Weight    0\n",
       "book      0\n",
       "dtype: int64"
      ]
     },
     "metadata": {},
     "output_type": "display_data"
    }
   ],
   "source": [
    "# No missing values present\n",
    "print(\"\\nMissing Values:\")\n",
    "display(df.isnull().sum())\n"
   ]
  },
  {
   "cell_type": "code",
   "execution_count": 6,
   "metadata": {},
   "outputs": [
    {
     "name": "stdout",
     "output_type": "stream",
     "text": [
      "\n",
      "Number of Duplicate Rows:\n"
     ]
    },
    {
     "data": {
      "text/plain": [
       "np.int64(0)"
      ]
     },
     "metadata": {},
     "output_type": "display_data"
    }
   ],
   "source": [
    "# no duplicate rows in the data neither\n",
    "print(\"\\nNumber of Duplicate Rows:\")\n",
    "display(df.duplicated().sum())"
   ]
  },
  {
   "cell_type": "code",
   "execution_count": 7,
   "metadata": {},
   "outputs": [
    {
     "name": "stdout",
     "output_type": "stream",
     "text": [
      "\n",
      "Distribution of Weight(interaction counts) Features:\n"
     ]
    },
    {
     "data": {
      "image/png": "[encoded data removed]",
      "text/plain": [
       "<Figure size 1000x500 with 1 Axes>"
      ]
     },
     "metadata": {},
     "output_type": "display_data"
    },
    {
     "name": "stdout",
     "output_type": "stream",
     "text": [
      "\n",
      "Distribution of Book number:\n"
     ]
    },
    {
     "data": {
      "image/png": "[encoded data removed]",
      "text/plain": [
       "<Figure size 1000x500 with 1 Axes>"
      ]
     },
     "metadata": {},
     "output_type": "display_data"
    }
   ],
   "source": [
    "# Display the distribution of numerical features, Weight on log scale\n",
    "print(\"\\nDistribution of Weight(interaction counts) Features:\")\n",
    "\n",
    "plt.figure(figsize=(10, 5))\n",
    "sns.histplot(df['Weight'], bins=30, kde=False)\n",
    "plt.title(f'Distribution of Weight (log scale)')\n",
    "plt.yscale('log')\n",
    "plt.ylim(0.1, 1000)\n",
    "plt.show()\n",
    "\n",
    "\n",
    "print(\"\\nDistribution of Book number:\")\n",
    "plt.figure(figsize=(10, 5))\n",
    "sns.countplot(y=\"book\", data=df)\n",
    "plt.title(f'Distribution of \"book\"')\n",
    "plt.show()\n"
   ]
  },
  {
   "cell_type": "code",
   "execution_count": 8,
   "metadata": {},
   "outputs": [
    {
     "name": "stdout",
     "output_type": "stream",
     "text": [
      "\n",
      "Pairplot of Numerical Features:\n"
     ]
    },
    {
     "data": {
      "text/plain": [
       "<Figure size 1000x1000 with 0 Axes>"
      ]
     },
     "metadata": {},
     "output_type": "display_data"
    },
    {
     "data": {
      "image/png": "[encoded data removed]",
      "text/plain": [
       "<Figure size 1000x1000 with 6 Axes>"
      ]
     },
     "metadata": {},
     "output_type": "display_data"
    }
   ],
   "source": [
    "print(\"\\nPairplot of Numerical Features:\")\n",
    "warnings.filterwarnings('ignore')\n",
    "plt.figure(figsize=(10, 10))\n",
    "fig = sns.pairplot(df)\n",
    "fig.fig.set_size_inches(10, 10)"
   ]
  },
  {
   "cell_type": "code",
   "execution_count": 9,
   "metadata": {},
   "outputs": [
    {
     "name": "stdout",
     "output_type": "stream",
     "text": [
      "\\Violin plot of Numerical Features:\n"
     ]
    },
    {
     "data": {
      "image/png": "[encoded data removed]",
      "text/plain": [
       "<Figure size 1000x500 with 1 Axes>"
      ]
     },
     "metadata": {},
     "output_type": "display_data"
    },
    {
     "data": {
      "image/png": "[encoded data removed]",
      "text/plain": [
       "<Figure size 1000x500 with 1 Axes>"
      ]
     },
     "metadata": {},
     "output_type": "display_data"
    }
   ],
   "source": [
    "\n",
    "# Boxplots for numerical features to check for outliers\n",
    "print(\"\\Violin plot of Numerical Features:\")\n",
    "numerical_features = df.select_dtypes(include=[np.number]).columns\n",
    "for feature in numerical_features:\n",
    "    plt.figure(figsize=(10, 5))\n",
    "    sns.violinplot(x=df[feature])\n",
    "    plt.title(f'Violin plot of {feature}')\n",
    "    plt.show()"
   ]
  },
  {
   "cell_type": "code",
   "execution_count": 10,
   "metadata": {},
   "outputs": [
    {
     "name": "stdout",
     "output_type": "stream",
     "text": [
      "Requirement already satisfied: netgraph in d:\\uni\\cleora-social-network\\.venv\\lib\\site-packages (4.13.2)\n",
      "Requirement already satisfied: grandalf in d:\\uni\\cleora-social-network\\.venv\\lib\\site-packages (from netgraph) (0.8)\n",
      "Requirement already satisfied: scipy in d:\\uni\\cleora-social-network\\.venv\\lib\\site-packages (from netgraph) (1.14.1)\n",
      "Requirement already satisfied: numpy in d:\\uni\\cleora-social-network\\.venv\\lib\\site-packages (from netgraph) (2.1.2)\n",
      "Requirement already satisfied: matplotlib>=1.5 in d:\\uni\\cleora-social-network\\.venv\\lib\\site-packages (from netgraph) (3.9.2)\n",
      "Requirement already satisfied: rectangle-packer in d:\\uni\\cleora-social-network\\.venv\\lib\\site-packages (from netgraph) (2.0.2)\n",
      "Requirement already satisfied: cycler>=0.10 in d:\\uni\\cleora-social-network\\.venv\\lib\\site-packages (from matplotlib>=1.5->netgraph) (0.12.1)\n",
      "Requirement already satisfied: fonttools>=4.22.0 in d:\\uni\\cleora-social-network\\.venv\\lib\\site-packages (from matplotlib>=1.5->netgraph) (4.54.1)\n",
      "Requirement already satisfied: pyparsing>=2.3.1 in d:\\uni\\cleora-social-network\\.venv\\lib\\site-packages (from matplotlib>=1.5->netgraph) (3.2.0)\n",
      "Requirement already satisfied: contourpy>=1.0.1 in d:\\uni\\cleora-social-network\\.venv\\lib\\site-packages (from matplotlib>=1.5->netgraph) (1.3.0)\n",
      "Requirement already satisfied: kiwisolver>=1.3.1 in d:\\uni\\cleora-social-network\\.venv\\lib\\site-packages (from matplotlib>=1.5->netgraph) (1.4.7)\n",
      "Requirement already satisfied: packaging>=20.0 in d:\\uni\\cleora-social-network\\.venv\\lib\\site-packages (from matplotlib>=1.5->netgraph) (24.1)\n",
      "Requirement already satisfied: python-dateutil>=2.7 in d:\\uni\\cleora-social-network\\.venv\\lib\\site-packages (from matplotlib>=1.5->netgraph) (2.9.0.post0)\n",
      "Requirement already satisfied: pillow>=8 in d:\\uni\\cleora-social-network\\.venv\\lib\\site-packages (from matplotlib>=1.5->netgraph) (11.0.0)\n",
      "Requirement already satisfied: six>=1.5 in d:\\uni\\cleora-social-network\\.venv\\lib\\site-packages (from python-dateutil>=2.7->matplotlib>=1.5->netgraph) (1.16.0)\n",
      "Note: you may need to restart the kernel to use updated packages.\n"
     ]
    },
    {
     "name": "stderr",
     "output_type": "stream",
     "text": [
      "WARNING: You are using pip version 21.2.3; however, version 24.3.1 is available.\n",
      "You should consider upgrading via the 'd:\\Uni\\cleora-social-network\\.venv\\Scripts\\python.exe -m pip install --upgrade pip' command.\n"
     ]
    }
   ],
   "source": [
    "%pip install netgraph"
   ]
  },
  {
   "cell_type": "code",
   "execution_count": null,
   "metadata": {},
   "outputs": [
    {
     "data": {
      "application/vnd.plotly.v1+json": {
       "config": {
        "plotlyServerURL": "https://plot.ly"
       },
       "data": [
        {
         "hoverinfo": "none",
         "line": {
          "color": "rgba(144.0, 238.0, 144.0, 0.5)",
          "width": 0.5
         },
         "mode": "lines",
         "type": "scatter",
         "x": [
          0.2072795844977499,
          0.06656449284234275,
          null
         ],
         "y": [
          0.46565471615481707,
          -0.08082063388911187,
          null
         ]
        },
        {
         "hoverinfo": "none",
         "line": {
          "color": "rgba(144.0, 238.0, 144.0, 0.5)",
          "width": 0.5
         },
         "mode": "lines",
         "type": "scatter",
         "x": [
          0.2072795844977499,
          0.2611063692610051,
          null
         ],
         "y": [
          0.46565471615481707,
          0.16055659023472824,
          null
         ]
        },
        {
         "hoverinfo": "none",
         "line": {
          "color": "rgba(144.0, 238.0, 144.0, 0.5)",
          "width": 0.5
         },
         "mode": "lines",
         "type": "scatter",
         "x": [
          0.2072795844977499,
          0.017725687660674613,
          null
         ],
         "y": [
          0.46565471615481707,
          0.22151993733942793,
          null
         ]
        },
        {
         "hoverinfo": "none",
         "line": {
          "color": "rgba(144.0, 238.0, 144.0, 0.5)",
          "width": 0.5
         },
         "mode": "lines",
         "type": "scatter",
         "x": [
          0.06656449284234275,
          0.017725687660674613,
          null
         ],
         "y": [
          -0.08082063388911187,
          0.22151993733942793,
          null
         ]
        },
        {
         "hoverinfo": "none",
         "line": {
          "color": "rgba(146.17647058823528, 233.33333333333331, 141.1764705882353, 0.5)",
          "width": 0.5
         },
         "mode": "lines",
         "type": "scatter",
         "x": [
          0.06656449284234275,
          -0.30083830080903784,
          null
         ],
         "y": [
          -0.08082063388911187,
          0.04221848309718572,
          null
         ]
        },
        {
         "hoverinfo": "none",
         "line": {
          "color": "rgba(154.01176470588237, 216.53333333333333, 131.01176470588237, 0.5)",
          "width": 0.5
         },
         "mode": "lines",
         "type": "scatter",
         "x": [
          0.06656449284234275,
          0.2611063692610051,
          null
         ],
         "y": [
          -0.08082063388911187,
          0.16055659023472824,
          null
         ]
        },
        {
         "hoverinfo": "none",
         "line": {
          "color": "rgba(144.0, 238.0, 144.0, 0.5)",
          "width": 0.5
         },
         "mode": "lines",
         "type": "scatter",
         "x": [
          0.06656449284234275,
          -0.0824867474963051,
          null
         ],
         "y": [
          -0.08082063388911187,
          0.022671849273135113,
          null
         ]
        },
        {
         "hoverinfo": "none",
         "line": {
          "color": "rgba(146.17647058823528, 233.33333333333331, 141.1764705882353, 0.5)",
          "width": 0.5
         },
         "mode": "lines",
         "type": "scatter",
         "x": [
          0.06656449284234275,
          0.022799241112800586,
          null
         ],
         "y": [
          -0.08082063388911187,
          0.11535195333824314,
          null
         ]
        },
        {
         "hoverinfo": "none",
         "line": {
          "color": "rgba(146.17647058823528, 233.33333333333331, 141.1764705882353, 0.5)",
          "width": 0.5
         },
         "mode": "lines",
         "type": "scatter",
         "x": [
          0.06656449284234275,
          -0.05988037641289631,
          null
         ],
         "y": [
          -0.08082063388911187,
          -0.24034809173940616,
          null
         ]
        },
        {
         "hoverinfo": "none",
         "line": {
          "color": "rgba(146.17647058823528, 233.33333333333331, 141.1764705882353, 0.5)",
          "width": 0.5
         },
         "mode": "lines",
         "type": "scatter",
         "x": [
          0.06656449284234275,
          -0.14217672132883327,
          null
         ],
         "y": [
          -0.08082063388911187,
          0.028056759866294426,
          null
         ]
        },
        {
         "hoverinfo": "none",
         "line": {
          "color": "rgba(169.68235294117648, 182.93333333333334, 110.68235294117648, 0.5)",
          "width": 0.5
         },
         "mode": "lines",
         "type": "scatter",
         "x": [
          0.06656449284234275,
          0.12133013315908264,
          null
         ],
         "y": [
          -0.08082063388911187,
          -0.2800915285125472,
          null
         ]
        },
        {
         "hoverinfo": "none",
         "line": {
          "color": "rgba(144.0, 238.0, 144.0, 0.5)",
          "width": 0.5
         },
         "mode": "lines",
         "type": "scatter",
         "x": [
          0.06656449284234275,
          0.6806207479471333,
          null
         ],
         "y": [
          -0.08082063388911187,
          0.0655603224796806,
          null
         ]
        },
        {
         "hoverinfo": "none",
         "line": {
          "color": "rgba(146.17647058823528, 233.33333333333331, 141.1764705882353, 0.5)",
          "width": 0.5
         },
         "mode": "lines",
         "type": "scatter",
         "x": [
          0.06656449284234275,
          -0.025222713648049167,
          null
         ],
         "y": [
          -0.08082063388911187,
          -0.23768233551134987,
          null
         ]
        },
        {
         "hoverinfo": "none",
         "line": {
          "color": "rgba(151.4, 222.13333333333335, 134.4, 0.5)",
          "width": 0.5
         },
         "mode": "lines",
         "type": "scatter",
         "x": [
          0.06656449284234275,
          0.07195439250223575,
          null
         ],
         "y": [
          -0.08082063388911187,
          -0.400696158706266,
          null
         ]
        },
        {
         "hoverinfo": "none",
         "line": {
          "color": "rgba(148.78823529411764, 227.73333333333335, 137.78823529411767, 0.5)",
          "width": 0.5
         },
         "mode": "lines",
         "type": "scatter",
         "x": [
          0.06656449284234275,
          -0.19301812381864844,
          null
         ],
         "y": [
          -0.08082063388911187,
          0.09135760075681051,
          null
         ]
        },
        {
         "hoverinfo": "none",
         "line": {
          "color": "rgba(148.78823529411764, 227.73333333333335, 137.78823529411767, 0.5)",
          "width": 0.5
         },
         "mode": "lines",
         "type": "scatter",
         "x": [
          0.06656449284234275,
          -0.2299531137968582,
          null
         ],
         "y": [
          -0.08082063388911187,
          -0.029604394701872365,
          null
         ]
        },
        {
         "hoverinfo": "none",
         "line": {
          "color": "rgba(164.45882352941177, 194.13333333333333, 117.45882352941177, 0.5)",
          "width": 0.5
         },
         "mode": "lines",
         "type": "scatter",
         "x": [
          0.06656449284234275,
          0.1878068002708232,
          null
         ],
         "y": [
          -0.08082063388911187,
          -0.3224562201133303,
          null
         ]
        },
        {
         "hoverinfo": "none",
         "line": {
          "color": "rgba(161.8470588235294, 199.73333333333335, 120.84705882352942, 0.5)",
          "width": 0.5
         },
         "mode": "lines",
         "type": "scatter",
         "x": [
          0.06656449284234275,
          0.20613286297093755,
          null
         ],
         "y": [
          -0.08082063388911187,
          -0.2515482722700618,
          null
         ]
        },
        {
         "hoverinfo": "none",
         "line": {
          "color": "rgba(144.0, 238.0, 144.0, 0.5)",
          "width": 0.5
         },
         "mode": "lines",
         "type": "scatter",
         "x": [
          0.06656449284234275,
          -0.26313259625245056,
          null
         ],
         "y": [
          -0.08082063388911187,
          -0.6262052075133723,
          null
         ]
        },
        {
         "hoverinfo": "none",
         "line": {
          "color": "rgba(144.0, 238.0, 144.0, 0.5)",
          "width": 0.5
         },
         "mode": "lines",
         "type": "scatter",
         "x": [
          0.06656449284234275,
          0.3646472940287012,
          null
         ],
         "y": [
          -0.08082063388911187,
          -0.45147715700301844,
          null
         ]
        },
        {
         "hoverinfo": "none",
         "line": {
          "color": "rgba(144.0, 238.0, 144.0, 0.5)",
          "width": 0.5
         },
         "mode": "lines",
         "type": "scatter",
         "x": [
          0.06656449284234275,
          0.24034291504186064,
          null
         ],
         "y": [
          -0.08082063388911187,
          -0.6694931776181153,
          null
         ]
        },
        {
         "hoverinfo": "none",
         "line": {
          "color": "rgba(161.8470588235294, 199.73333333333335, 120.84705882352942, 0.5)",
          "width": 0.5
         },
         "mode": "lines",
         "type": "scatter",
         "x": [
          0.06656449284234275,
          0.2255783421536663,
          null
         ],
         "y": [
          -0.08082063388911187,
          -0.33655595515679293,
          null
         ]
        },
        {
         "hoverinfo": "none",
         "line": {
          "color": "rgba(146.17647058823528, 233.33333333333331, 141.1764705882353, 0.5)",
          "width": 0.5
         },
         "mode": "lines",
         "type": "scatter",
         "x": [
          0.06656449284234275,
          0.15549625081730184,
          null
         ],
         "y": [
          -0.08082063388911187,
          -0.5367552495356873,
          null
         ]
        },
        {
         "hoverinfo": "none",
         "line": {
          "color": "rgba(144.0, 238.0, 144.0, 0.5)",
          "width": 0.5
         },
         "mode": "lines",
         "type": "scatter",
         "x": [
          0.06656449284234275,
          0.322048109851657,
          null
         ],
         "y": [
          -0.08082063388911187,
          -0.4967902766951395,
          null
         ]
        },
        {
         "hoverinfo": "none",
         "line": {
          "color": "rgba(144.0, 238.0, 144.0, 0.5)",
          "width": 0.5
         },
         "mode": "lines",
         "type": "scatter",
         "x": [
          0.06656449284234275,
          0.2499440796226149,
          null
         ],
         "y": [
          -0.08082063388911187,
          -0.5244762083205755,
          null
         ]
        },
        {
         "hoverinfo": "none",
         "line": {
          "color": "rgba(148.78823529411764, 227.73333333333335, 137.78823529411767, 0.5)",
          "width": 0.5
         },
         "mode": "lines",
         "type": "scatter",
         "x": [
          0.06656449284234275,
          0.4148875712192451,
          null
         ],
         "y": [
          -0.08082063388911187,
          -0.11238755379678743,
          null
         ]
        },
        {
         "hoverinfo": "none",
         "line": {
          "color": "rgba(144.0, 238.0, 144.0, 0.5)",
          "width": 0.5
         },
         "mode": "lines",
         "type": "scatter",
         "x": [
          0.06656449284234275,
          0.1681471909172889,
          null
         ],
         "y": [
          -0.08082063388911187,
          0.12252577017806437,
          null
         ]
        },
        {
         "hoverinfo": "none",
         "line": {
          "color": "rgba(144.0, 238.0, 144.0, 0.5)",
          "width": 0.5
         },
         "mode": "lines",
         "type": "scatter",
         "x": [
          0.06656449284234275,
          0.4485713614547625,
          null
         ],
         "y": [
          -0.08082063388911187,
          0.1065702378510162,
          null
         ]
        },
        {
         "hoverinfo": "none",
         "line": {
          "color": "rgba(144.0, 238.0, 144.0, 0.5)",
          "width": 0.5
         },
         "mode": "lines",
         "type": "scatter",
         "x": [
          0.06656449284234275,
          0.3169063743701449,
          null
         ],
         "y": [
          -0.08082063388911187,
          0.3010327765827759,
          null
         ]
        },
        {
         "hoverinfo": "none",
         "line": {
          "color": "rgba(146.17647058823528, 233.33333333333331, 141.1764705882353, 0.5)",
          "width": 0.5
         },
         "mode": "lines",
         "type": "scatter",
         "x": [
          0.06656449284234275,
          0.37768535454200663,
          null
         ],
         "y": [
          -0.08082063388911187,
          0.05514185504872265,
          null
         ]
        },
        {
         "hoverinfo": "none",
         "line": {
          "color": "rgba(144.0, 238.0, 144.0, 0.5)",
          "width": 0.5
         },
         "mode": "lines",
         "type": "scatter",
         "x": [
          0.06656449284234275,
          0.0633813890216842,
          null
         ],
         "y": [
          -0.08082063388911187,
          0.1708497958201921,
          null
         ]
        },
        {
         "hoverinfo": "none",
         "line": {
          "color": "rgba(144.0, 238.0, 144.0, 0.5)",
          "width": 0.5
         },
         "mode": "lines",
         "type": "scatter",
         "x": [
          0.06656449284234275,
          0.11864841531844185,
          null
         ],
         "y": [
          -0.08082063388911187,
          0.10057846423515035,
          null
         ]
        },
        {
         "hoverinfo": "none",
         "line": {
          "color": "rgba(146.17647058823528, 233.33333333333331, 141.1764705882353, 0.5)",
          "width": 0.5
         },
         "mode": "lines",
         "type": "scatter",
         "x": [
          0.06656449284234275,
          0.29974872209354714,
          null
         ],
         "y": [
          -0.08082063388911187,
          0.13546324523716463,
          null
         ]
        },
        {
         "hoverinfo": "none",
         "line": {
          "color": "rgba(161.8470588235294, 199.73333333333335, 120.84705882352942, 0.5)",
          "width": 0.5
         },
         "mode": "lines",
         "type": "scatter",
         "x": [
          0.06656449284234275,
          0.24027995853925033,
          null
         ],
         "y": [
          -0.08082063388911187,
          -0.006338437098562069,
          null
         ]
        },
        {
         "hoverinfo": "none",
         "line": {
          "color": "rgba(146.17647058823528, 233.33333333333331, 141.1764705882353, 0.5)",
          "width": 0.5
         },
         "mode": "lines",
         "type": "scatter",
         "x": [
          0.06656449284234275,
          0.34849815216105473,
          null
         ],
         "y": [
          -0.08082063388911187,
          0.0031757432778342985,
          null
         ]
        },
        {
         "hoverinfo": "none",
         "line": {
          "color": "rgba(146.17647058823528, 233.33333333333331, 141.1764705882353, 0.5)",
          "width": 0.5
         },
         "mode": "lines",
         "type": "scatter",
         "x": [
          0.06656449284234275,
          0.23010504573538224,
          null
         ],
         "y": [
          -0.08082063388911187,
          0.08416042030327081,
          null
         ]
        },
        {
         "hoverinfo": "none",
         "line": {
          "color": "rgba(148.78823529411764, 227.73333333333335, 137.78823529411767, 0.5)",
          "width": 0.5
         },
         "mode": "lines",
         "type": "scatter",
         "x": [
          0.06656449284234275,
          0.43351429138747266,
          null
         ],
         "y": [
          -0.08082063388911187,
          -0.046776956499071355,
          null
         ]
        },
        {
         "hoverinfo": "none",
         "line": {
          "color": "rgba(148.78823529411764, 227.73333333333335, 137.78823529411767, 0.5)",
          "width": 0.5
         },
         "mode": "lines",
         "type": "scatter",
         "x": [
          0.06656449284234275,
          0.44294953308999263,
          null
         ],
         "y": [
          -0.08082063388911187,
          -0.10939325634034679,
          null
         ]
        },
        {
         "hoverinfo": "none",
         "line": {
          "color": "rgba(156.6235294117647, 210.93333333333334, 127.62352941176471, 0.5)",
          "width": 0.5
         },
         "mode": "lines",
         "type": "scatter",
         "x": [
          0.06656449284234275,
          0.2877616288706344,
          null
         ],
         "y": [
          -0.08082063388911187,
          -0.09112667943117772,
          null
         ]
        },
        {
         "hoverinfo": "none",
         "line": {
          "color": "rgba(148.78823529411764, 227.73333333333335, 137.78823529411767, 0.5)",
          "width": 0.5
         },
         "mode": "lines",
         "type": "scatter",
         "x": [
          0.06656449284234275,
          0.051369703358791555,
          null
         ],
         "y": [
          -0.08082063388911187,
          -0.06605561465884656,
          null
         ]
        },
        {
         "hoverinfo": "none",
         "line": {
          "color": "rgba(148.78823529411764, 227.73333333333335, 137.78823529411767, 0.5)",
          "width": 0.5
         },
         "mode": "lines",
         "type": "scatter",
         "x": [
          0.06656449284234275,
          0.37932811557106944,
          null
         ],
         "y": [
          -0.08082063388911187,
          -0.23656675216984518,
          null
         ]
        },
        {
         "hoverinfo": "none",
         "line": {
          "color": "rgba(148.78823529411764, 227.73333333333335, 137.78823529411767, 0.5)",
          "width": 0.5
         },
         "mode": "lines",
         "type": "scatter",
         "x": [
          0.06656449284234275,
          0.2647786104991697,
          null
         ],
         "y": [
          -0.08082063388911187,
          -0.17332847682185096,
          null
         ]
        },
        {
         "hoverinfo": "none",
         "line": {
          "color": "rgba(144.0, 238.0, 144.0, 0.5)",
          "width": 0.5
         },
         "mode": "lines",
         "type": "scatter",
         "x": [
          0.06656449284234275,
          -0.00894059969700433,
          null
         ],
         "y": [
          -0.08082063388911187,
          0.07375130773845237,
          null
         ]
        },
        {
         "hoverinfo": "none",
         "line": {
          "color": "rgba(146.17647058823528, 233.33333333333331, 141.1764705882353, 0.5)",
          "width": 0.5
         },
         "mode": "lines",
         "type": "scatter",
         "x": [
          0.06656449284234275,
          0.3813397183633559,
          null
         ],
         "y": [
          -0.08082063388911187,
          -0.1583671294707783,
          null
         ]
        },
        {
         "hoverinfo": "none",
         "line": {
          "color": "rgba(154.01176470588237, 216.53333333333333, 131.01176470588237, 0.5)",
          "width": 0.5
         },
         "mode": "lines",
         "type": "scatter",
         "x": [
          0.06656449284234275,
          0.1471055204536889,
          null
         ],
         "y": [
          -0.08082063388911187,
          0.014871912349713466,
          null
         ]
        },
        {
         "hoverinfo": "none",
         "line": {
          "color": "rgba(154.01176470588237, 216.53333333333333, 131.01176470588237, 0.5)",
          "width": 0.5
         },
         "mode": "lines",
         "type": "scatter",
         "x": [
          0.06656449284234275,
          0.15197018759499384,
          null
         ],
         "y": [
          -0.08082063388911187,
          0.052208707723797376,
          null
         ]
        },
        {
         "hoverinfo": "none",
         "line": {
          "color": "rgba(180.1294117647059, 160.53333333333333, 97.12941176470588, 0.5)",
          "width": 0.5
         },
         "mode": "lines",
         "type": "scatter",
         "x": [
          0.06656449284234275,
          -0.020718659940216443,
          null
         ],
         "y": [
          -0.08082063388911187,
          0.006742399417472763,
          null
         ]
        },
        {
         "hoverinfo": "none",
         "line": {
          "color": "rgba(148.78823529411764, 227.73333333333335, 137.78823529411767, 0.5)",
          "width": 0.5
         },
         "mode": "lines",
         "type": "scatter",
         "x": [
          0.06656449284234275,
          -0.02944573707110539,
          null
         ],
         "y": [
          -0.08082063388911187,
          0.15990157972187483,
          null
         ]
        },
        {
         "hoverinfo": "none",
         "line": {
          "color": "rgba(164.45882352941177, 194.13333333333333, 117.45882352941177, 0.5)",
          "width": 0.5
         },
         "mode": "lines",
         "type": "scatter",
         "x": [
          0.06656449284234275,
          0.05279576170885225,
          null
         ],
         "y": [
          -0.08082063388911187,
          -0.2417125933960446,
          null
         ]
        },
        {
         "hoverinfo": "none",
         "line": {
          "color": "rgba(148.78823529411764, 227.73333333333335, 137.78823529411767, 0.5)",
          "width": 0.5
         },
         "mode": "lines",
         "type": "scatter",
         "x": [
          0.06656449284234275,
          0.01318206610121052,
          null
         ],
         "y": [
          -0.08082063388911187,
          -0.3368989977418131,
          null
         ]
        },
        {
         "hoverinfo": "none",
         "line": {
          "color": "rgba(146.17647058823528, 233.33333333333331, 141.1764705882353, 0.5)",
          "width": 0.5
         },
         "mode": "lines",
         "type": "scatter",
         "x": [
          0.06656449284234275,
          0.048524894804532356,
          null
         ],
         "y": [
          -0.08082063388911187,
          -0.3616202410109812,
          null
         ]
        },
        {
         "hoverinfo": "none",
         "line": {
          "color": "rgba(161.8470588235294, 199.73333333333335, 120.84705882352942, 0.5)",
          "width": 0.5
         },
         "mode": "lines",
         "type": "scatter",
         "x": [
          0.06656449284234275,
          -0.03705981388259749,
          null
         ],
         "y": [
          -0.08082063388911187,
          -0.06691982066653902,
          null
         ]
        },
        {
         "hoverinfo": "none",
         "line": {
          "color": "rgba(144.0, 238.0, 144.0, 0.5)",
          "width": 0.5
         },
         "mode": "lines",
         "type": "scatter",
         "x": [
          0.06656449284234275,
          -0.0642487984527689,
          null
         ],
         "y": [
          -0.08082063388911187,
          0.03486906981503287,
          null
         ]
        },
        {
         "hoverinfo": "none",
         "line": {
          "color": "rgba(148.78823529411764, 227.73333333333335, 137.78823529411767, 0.5)",
          "width": 0.5
         },
         "mode": "lines",
         "type": "scatter",
         "x": [
          0.06656449284234275,
          -0.059980207520610444,
          null
         ],
         "y": [
          -0.08082063388911187,
          -0.023130294095487357,
          null
         ]
        },
        {
         "hoverinfo": "none",
         "line": {
          "color": "rgba(146.17647058823528, 233.33333333333331, 141.1764705882353, 0.5)",
          "width": 0.5
         },
         "mode": "lines",
         "type": "scatter",
         "x": [
          0.06656449284234275,
          0.28359107050092613,
          null
         ],
         "y": [
          -0.08082063388911187,
          -0.2802176111132153,
          null
         ]
        },
        {
         "hoverinfo": "none",
         "line": {
          "color": "rgba(144.0, 238.0, 144.0, 0.5)",
          "width": 0.5
         },
         "mode": "lines",
         "type": "scatter",
         "x": [
          0.06656449284234275,
          0.13847244367201625,
          null
         ],
         "y": [
          -0.08082063388911187,
          -0.44585731153129937,
          null
         ]
        },
        {
         "hoverinfo": "none",
         "line": {
          "color": "rgba(144.0, 238.0, 144.0, 0.5)",
          "width": 0.5
         },
         "mode": "lines",
         "type": "scatter",
         "x": [
          0.06656449284234275,
          -0.023706579468236465,
          null
         ],
         "y": [
          -0.08082063388911187,
          -0.1719531655029565,
          null
         ]
        },
        {
         "hoverinfo": "none",
         "line": {
          "color": "rgba(144.0, 238.0, 144.0, 0.5)",
          "width": 0.5
         },
         "mode": "lines",
         "type": "scatter",
         "x": [
          0.06656449284234275,
          -0.11075489112328026,
          null
         ],
         "y": [
          -0.08082063388911187,
          -0.11376191238424242,
          null
         ]
        },
        {
         "hoverinfo": "none",
         "line": {
          "color": "rgba(148.78823529411764, 227.73333333333335, 137.78823529411767, 0.5)",
          "width": 0.5
         },
         "mode": "lines",
         "type": "scatter",
         "x": [
          0.06656449284234275,
          -0.20437734098484633,
          null
         ],
         "y": [
          -0.08082063388911187,
          0.040505340548191986,
          null
         ]
        },
        {
         "hoverinfo": "none",
         "line": {
          "color": "rgba(148.78823529411764, 227.73333333333335, 137.78823529411767, 0.5)",
          "width": 0.5
         },
         "mode": "lines",
         "type": "scatter",
         "x": [
          0.06656449284234275,
          -0.09712082956116205,
          null
         ],
         "y": [
          -0.08082063388911187,
          0.16616080061522118,
          null
         ]
        },
        {
         "hoverinfo": "none",
         "line": {
          "color": "rgba(203.2, 111.06666666666668, 67.2, 0.5)",
          "width": 0.5
         },
         "mode": "lines",
         "type": "scatter",
         "x": [
          0.06656449284234275,
          0.09359900415860646,
          null
         ],
         "y": [
          -0.08082063388911187,
          -0.1644428106546643,
          null
         ]
        },
        {
         "hoverinfo": "none",
         "line": {
          "color": "rgba(172.2941176470588, 177.33333333333331, 107.29411764705883, 0.5)",
          "width": 0.5
         },
         "mode": "lines",
         "type": "scatter",
         "x": [
          0.06656449284234275,
          0.08304942441927554,
          null
         ],
         "y": [
          -0.08082063388911187,
          -0.2390790882081588,
          null
         ]
        },
        {
         "hoverinfo": "none",
         "line": {
          "color": "rgba(148.78823529411764, 227.73333333333335, 137.78823529411767, 0.5)",
          "width": 0.5
         },
         "mode": "lines",
         "type": "scatter",
         "x": [
          0.06656449284234275,
          -0.1840932534843109,
          null
         ],
         "y": [
          -0.08082063388911187,
          -0.1878456931166274,
          null
         ]
        },
        {
         "hoverinfo": "none",
         "line": {
          "color": "rgba(151.4, 222.13333333333335, 134.4, 0.5)",
          "width": 0.5
         },
         "mode": "lines",
         "type": "scatter",
         "x": [
          0.06656449284234275,
          0.16105680476195416,
          null
         ],
         "y": [
          -0.08082063388911187,
          -0.22640406278010852,
          null
         ]
        },
        {
         "hoverinfo": "none",
         "line": {
          "color": "rgba(213.64705882352942, 88.66666666666666, 53.64705882352941, 0.5)",
          "width": 0.5
         },
         "mode": "lines",
         "type": "scatter",
         "x": [
          0.06656449284234275,
          -0.021233240631821707,
          null
         ],
         "y": [
          -0.08082063388911187,
          -0.04959646375473747,
          null
         ]
        },
        {
         "hoverinfo": "none",
         "line": {
          "color": "rgba(144.0, 238.0, 144.0, 0.5)",
          "width": 0.5
         },
         "mode": "lines",
         "type": "scatter",
         "x": [
          0.06656449284234275,
          0.11446488128043716,
          null
         ],
         "y": [
          -0.08082063388911187,
          0.1771605177335045,
          null
         ]
        },
        {
         "hoverinfo": "none",
         "line": {
          "color": "rgba(151.4, 222.13333333333335, 134.4, 0.5)",
          "width": 0.5
         },
         "mode": "lines",
         "type": "scatter",
         "x": [
          0.06656449284234275,
          0.008881731270320388,
          null
         ],
         "y": [
          -0.08082063388911187,
          -0.3880380386075744,
          null
         ]
        },
        {
         "hoverinfo": "none",
         "line": {
          "color": "rgba(146.17647058823528, 233.33333333333331, 141.1764705882353, 0.5)",
          "width": 0.5
         },
         "mode": "lines",
         "type": "scatter",
         "x": [
          0.06656449284234275,
          0.2922399271954087,
          null
         ],
         "y": [
          -0.08082063388911187,
          -0.1938310040327664,
          null
         ]
        },
        {
         "hoverinfo": "none",
         "line": {
          "color": "rgba(144.0, 238.0, 144.0, 0.5)",
          "width": 0.5
         },
         "mode": "lines",
         "type": "scatter",
         "x": [
          0.06656449284234275,
          0.040436006585932986,
          null
         ],
         "y": [
          -0.08082063388911187,
          -0.11245970248929078,
          null
         ]
        },
        {
         "hoverinfo": "none",
         "line": {
          "color": "rgba(169.68235294117648, 182.93333333333334, 110.68235294117648, 0.5)",
          "width": 0.5
         },
         "mode": "lines",
         "type": "scatter",
         "x": [
          0.06656449284234275,
          0.16617558107958147,
          null
         ],
         "y": [
          -0.08082063388911187,
          -0.12651106712926039,
          null
         ]
        },
        {
         "hoverinfo": "none",
         "line": {
          "color": "rgba(144.0, 238.0, 144.0, 0.5)",
          "width": 0.5
         },
         "mode": "lines",
         "type": "scatter",
         "x": [
          0.06656449284234275,
          0.3047752643761323,
          null
         ],
         "y": [
          -0.08082063388911187,
          -0.38193414232700745,
          null
         ]
        },
        {
         "hoverinfo": "none",
         "line": {
          "color": "rgba(200.58823529411765, 116.66666666666667, 70.58823529411765, 0.5)",
          "width": 0.5
         },
         "mode": "lines",
         "type": "scatter",
         "x": [
          0.06656449284234275,
          0.12973198260062271,
          null
         ],
         "y": [
          -0.08082063388911187,
          -0.14884767452265774,
          null
         ]
        },
        {
         "hoverinfo": "none",
         "line": {
          "color": "rgba(148.78823529411764, 227.73333333333335, 137.78823529411767, 0.5)",
          "width": 0.5
         },
         "mode": "lines",
         "type": "scatter",
         "x": [
          0.06656449284234275,
          0.09154239875927359,
          null
         ],
         "y": [
          -0.08082063388911187,
          0.13936048585214847,
          null
         ]
        },
        {
         "hoverinfo": "none",
         "line": {
          "color": "rgba(159.23529411764704, 205.33333333333334, 124.23529411764706, 0.5)",
          "width": 0.5
         },
         "mode": "lines",
         "type": "scatter",
         "x": [
          0.06656449284234275,
          0.2059115061276234,
          null
         ],
         "y": [
          -0.08082063388911187,
          -0.15453399767208037,
          null
         ]
        },
        {
         "hoverinfo": "none",
         "line": {
          "color": "rgba(185.35294117647058, 149.33333333333334, 90.35294117647058, 0.5)",
          "width": 0.5
         },
         "mode": "lines",
         "type": "scatter",
         "x": [
          0.06656449284234275,
          0.10141493191329501,
          null
         ],
         "y": [
          -0.08082063388911187,
          -0.05325499216906051,
          null
         ]
        },
        {
         "hoverinfo": "none",
         "line": {
          "color": "rgba(172.2941176470588, 177.33333333333331, 107.29411764705883, 0.5)",
          "width": 0.5
         },
         "mode": "lines",
         "type": "scatter",
         "x": [
          0.06656449284234275,
          0.16626054632938567,
          null
         ],
         "y": [
          -0.08082063388911187,
          0.03499164605088286,
          null
         ]
        },
        {
         "hoverinfo": "none",
         "line": {
          "color": "rgba(187.96470588235294, 143.73333333333335, 86.96470588235293, 0.5)",
          "width": 0.5
         },
         "mode": "lines",
         "type": "scatter",
         "x": [
          0.06656449284234275,
          0.14989312569988808,
          null
         ],
         "y": [
          -0.08082063388911187,
          -0.03096123652709826,
          null
         ]
        },
        {
         "hoverinfo": "none",
         "line": {
          "color": "rgba(213.64705882352942, 88.66666666666666, 53.64705882352941, 0.5)",
          "width": 0.5
         },
         "mode": "lines",
         "type": "scatter",
         "x": [
          0.06656449284234275,
          -0.004092312520426679,
          null
         ],
         "y": [
          -0.08082063388911187,
          0.024106741651111197,
          null
         ]
        },
        {
         "hoverinfo": "none",
         "line": {
          "color": "rgba(144.0, 238.0, 144.0, 0.5)",
          "width": 0.5
         },
         "mode": "lines",
         "type": "scatter",
         "x": [
          0.06656449284234275,
          0.2290320009809992,
          null
         ],
         "y": [
          -0.08082063388911187,
          0.27709614057250703,
          null
         ]
        },
        {
         "hoverinfo": "none",
         "line": {
          "color": "rgba(195.79999999999998, 126.93333333333332, 76.8, 0.5)",
          "width": 0.5
         },
         "mode": "lines",
         "type": "scatter",
         "x": [
          0.06656449284234275,
          0.06642876558189482,
          null
         ],
         "y": [
          -0.08082063388911187,
          -0.1308773144455644,
          null
         ]
        },
        {
         "hoverinfo": "none",
         "line": {
          "color": "rgba(167.0705882352941, 188.53333333333333, 114.07058823529412, 0.5)",
          "width": 0.5
         },
         "mode": "lines",
         "type": "scatter",
         "x": [
          0.06656449284234275,
          0.15889584701162374,
          null
         ],
         "y": [
          -0.08082063388911187,
          -0.25531418213048807,
          null
         ]
        },
        {
         "hoverinfo": "none",
         "line": {
          "color": "rgba(144.0, 238.0, 144.0, 0.5)",
          "width": 0.5
         },
         "mode": "lines",
         "type": "scatter",
         "x": [
          0.06656449284234275,
          0.08032564751396598,
          null
         ],
         "y": [
          -0.08082063388911187,
          -0.02409632523960449,
          null
         ]
        },
        {
         "hoverinfo": "none",
         "line": {
          "color": "rgba(156.6235294117647, 210.93333333333334, 127.62352941176471, 0.5)",
          "width": 0.5
         },
         "mode": "lines",
         "type": "scatter",
         "x": [
          0.06656449284234275,
          -0.01920046280766127,
          null
         ],
         "y": [
          -0.08082063388911187,
          0.05693354076657738,
          null
         ]
        },
        {
         "hoverinfo": "none",
         "line": {
          "color": "rgba(146.17647058823528, 233.33333333333331, 141.1764705882353, 0.5)",
          "width": 0.5
         },
         "mode": "lines",
         "type": "scatter",
         "x": [
          0.06656449284234275,
          -0.018967929377365664,
          null
         ],
         "y": [
          -0.08082063388911187,
          -0.08945783424872485,
          null
         ]
        },
        {
         "hoverinfo": "none",
         "line": {
          "color": "rgba(144.0, 238.0, 144.0, 0.5)",
          "width": 0.5
         },
         "mode": "lines",
         "type": "scatter",
         "x": [
          0.06656449284234275,
          -0.16807591990904772,
          null
         ],
         "y": [
          -0.08082063388911187,
          0.002254779748922316,
          null
         ]
        },
        {
         "hoverinfo": "none",
         "line": {
          "color": "rgba(144.0, 238.0, 144.0, 0.5)",
          "width": 0.5
         },
         "mode": "lines",
         "type": "scatter",
         "x": [
          0.06656449284234275,
          0.29668389970862213,
          null
         ],
         "y": [
          -0.08082063388911187,
          -0.12969702221079557,
          null
         ]
        },
        {
         "hoverinfo": "none",
         "line": {
          "color": "rgba(144.0, 238.0, 144.0, 0.5)",
          "width": 0.5
         },
         "mode": "lines",
         "type": "scatter",
         "x": [
          0.06656449284234275,
          -0.28880853885362967,
          null
         ],
         "y": [
          -0.08082063388911187,
          0.0942248662756934,
          null
         ]
        },
        {
         "hoverinfo": "none",
         "line": {
          "color": "rgba(146.17647058823528, 233.33333333333331, 141.1764705882353, 0.5)",
          "width": 0.5
         },
         "mode": "lines",
         "type": "scatter",
         "x": [
          0.06656449284234275,
          -0.18755978864923079,
          null
         ],
         "y": [
          -0.08082063388911187,
          -0.08615810018397115,
          null
         ]
        },
        {
         "hoverinfo": "none",
         "line": {
          "color": "rgba(156.6235294117647, 210.93333333333334, 127.62352941176471, 0.5)",
          "width": 0.5
         },
         "mode": "lines",
         "type": "scatter",
         "x": [
          0.06656449284234275,
          -0.14319011935497858,
          null
         ],
         "y": [
          -0.08082063388911187,
          -0.09835547769374435,
          null
         ]
        },
        {
         "hoverinfo": "none",
         "line": {
          "color": "rgba(148.78823529411764, 227.73333333333335, 137.78823529411767, 0.5)",
          "width": 0.5
         },
         "mode": "lines",
         "type": "scatter",
         "x": [
          0.06656449284234275,
          0.005720528430193572,
          null
         ],
         "y": [
          -0.08082063388911187,
          0.1609735299876217,
          null
         ]
        },
        {
         "hoverinfo": "none",
         "line": {
          "color": "rgba(151.4, 222.13333333333335, 134.4, 0.5)",
          "width": 0.5
         },
         "mode": "lines",
         "type": "scatter",
         "x": [
          0.06656449284234275,
          0.06340199839732927,
          null
         ],
         "y": [
          -0.08082063388911187,
          0.04334777518009053,
          null
         ]
        },
        {
         "hoverinfo": "none",
         "line": {
          "color": "rgba(144.0, 238.0, 144.0, 0.5)",
          "width": 0.5
         },
         "mode": "lines",
         "type": "scatter",
         "x": [
          0.06656449284234275,
          -0.01850548100425071,
          null
         ],
         "y": [
          -0.08082063388911187,
          0.25254677681882975,
          null
         ]
        },
        {
         "hoverinfo": "none",
         "line": {
          "color": "rgba(144.0, 238.0, 144.0, 0.5)",
          "width": 0.5
         },
         "mode": "lines",
         "type": "scatter",
         "x": [
          0.06656449284234275,
          -0.26096416492678304,
          null
         ],
         "y": [
          -0.08082063388911187,
          0.05494137806017977,
          null
         ]
        },
        {
         "hoverinfo": "none",
         "line": {
          "color": "rgba(144.0, 238.0, 144.0, 0.5)",
          "width": 0.5
         },
         "mode": "lines",
         "type": "scatter",
         "x": [
          0.06656449284234275,
          0.1208207247688906,
          null
         ],
         "y": [
          -0.08082063388911187,
          -0.01204508455225134,
          null
         ]
        },
        {
         "hoverinfo": "none",
         "line": {
          "color": "rgba(144.0, 238.0, 144.0, 0.5)",
          "width": 0.5
         },
         "mode": "lines",
         "type": "scatter",
         "x": [
          0.06656449284234275,
          0.3380234153202886,
          null
         ],
         "y": [
          -0.08082063388911187,
          -0.13438898539837152,
          null
         ]
        },
        {
         "hoverinfo": "none",
         "line": {
          "color": "rgba(144.0, 238.0, 144.0, 0.5)",
          "width": 0.5
         },
         "mode": "lines",
         "type": "scatter",
         "x": [
          0.06656449284234275,
          0.00608491303550132,
          null
         ],
         "y": [
          -0.08082063388911187,
          0.1386826777322132,
          null
         ]
        },
        {
         "hoverinfo": "none",
         "line": {
          "color": "rgba(146.17647058823528, 233.33333333333331, 141.1764705882353, 0.5)",
          "width": 0.5
         },
         "mode": "lines",
         "type": "scatter",
         "x": [
          0.06656449284234275,
          -0.037736053121505325,
          null
         ],
         "y": [
          -0.08082063388911187,
          0.1941783921269007,
          null
         ]
        },
        {
         "hoverinfo": "none",
         "line": {
          "color": "rgba(144.0, 238.0, 144.0, 0.5)",
          "width": 0.5
         },
         "mode": "lines",
         "type": "scatter",
         "x": [
          0.06656449284234275,
          -0.0777819075103812,
          null
         ],
         "y": [
          -0.08082063388911187,
          0.3141753414343992,
          null
         ]
        },
        {
         "hoverinfo": "none",
         "line": {
          "color": "rgba(198.41176470588235, 121.33333333333334, 73.41176470588236, 0.5)",
          "width": 0.5
         },
         "mode": "lines",
         "type": "scatter",
         "x": [
          0.06656449284234275,
          -0.04312852812558068,
          null
         ],
         "y": [
          -0.08082063388911187,
          0.06529052607210352,
          null
         ]
        },
        {
         "hoverinfo": "none",
         "line": {
          "color": "rgba(144.0, 238.0, 144.0, 0.5)",
          "width": 0.5
         },
         "mode": "lines",
         "type": "scatter",
         "x": [
          0.06656449284234275,
          -0.05177677912445756,
          null
         ],
         "y": [
          -0.08082063388911187,
          0.21324350394641564,
          null
         ]
        },
        {
         "hoverinfo": "none",
         "line": {
          "color": "rgba(146.17647058823528, 233.33333333333331, 141.1764705882353, 0.5)",
          "width": 0.5
         },
         "mode": "lines",
         "type": "scatter",
         "x": [
          0.06656449284234275,
          0.08508056166314654,
          null
         ],
         "y": [
          -0.08082063388911187,
          0.21727748726847088,
          null
         ]
        },
        {
         "hoverinfo": "none",
         "line": {
          "color": "rgba(148.78823529411764, 227.73333333333335, 137.78823529411767, 0.5)",
          "width": 0.5
         },
         "mode": "lines",
         "type": "scatter",
         "x": [
          0.06656449284234275,
          0.1574657163746438,
          null
         ],
         "y": [
          -0.08082063388911187,
          0.2233464453212604,
          null
         ]
        },
        {
         "hoverinfo": "none",
         "line": {
          "color": "rgba(148.78823529411764, 227.73333333333335, 137.78823529411767, 0.5)",
          "width": 0.5
         },
         "mode": "lines",
         "type": "scatter",
         "x": [
          0.06656449284234275,
          -0.013254801021019556,
          null
         ],
         "y": [
          -0.08082063388911187,
          0.20632008218218892,
          null
         ]
        },
        {
         "hoverinfo": "none",
         "line": {
          "color": "rgba(144.0, 238.0, 144.0, 0.5)",
          "width": 0.5
         },
         "mode": "lines",
         "type": "scatter",
         "x": [
          0.06656449284234275,
          0.005386321220475092,
          null
         ],
         "y": [
          -0.08082063388911187,
          0.04818967093067006,
          null
         ]
        },
        {
         "hoverinfo": "none",
         "line": {
          "color": "rgba(144.0, 238.0, 144.0, 0.5)",
          "width": 0.5
         },
         "mode": "lines",
         "type": "scatter",
         "x": [
          0.06656449284234275,
          -0.1675259453265881,
          null
         ],
         "y": [
          -0.08082063388911187,
          0.23429302452312867,
          null
         ]
        },
        {
         "hoverinfo": "none",
         "line": {
          "color": "rgba(144.0, 238.0, 144.0, 0.5)",
          "width": 0.5
         },
         "mode": "lines",
         "type": "scatter",
         "x": [
          0.06656449284234275,
          -0.06610153325615863,
          null
         ],
         "y": [
          -0.08082063388911187,
          0.2606475451946278,
          null
         ]
        },
        {
         "hoverinfo": "none",
         "line": {
          "color": "rgba(146.17647058823528, 233.33333333333331, 141.1764705882353, 0.5)",
          "width": 0.5
         },
         "mode": "lines",
         "type": "scatter",
         "x": [
          0.06656449284234275,
          -0.08609823480974288,
          null
         ],
         "y": [
          -0.08082063388911187,
          0.1553027250389448,
          null
         ]
        },
        {
         "hoverinfo": "none",
         "line": {
          "color": "rgba(144.0, 238.0, 144.0, 0.5)",
          "width": 0.5
         },
         "mode": "lines",
         "type": "scatter",
         "x": [
          0.06656449284234275,
          0.42323034174642354,
          null
         ],
         "y": [
          -0.08082063388911187,
          0.12304165355902631,
          null
         ]
        },
        {
         "hoverinfo": "none",
         "line": {
          "color": "rgba(144.0, 238.0, 144.0, 0.5)",
          "width": 0.5
         },
         "mode": "lines",
         "type": "scatter",
         "x": [
          0.06656449284234275,
          -0.3259160963210564,
          null
         ],
         "y": [
          -0.08082063388911187,
          -0.11374568248356766,
          null
         ]
        },
        {
         "hoverinfo": "none",
         "line": {
          "color": "rgba(164.45882352941177, 194.13333333333333, 117.45882352941177, 0.5)",
          "width": 0.5
         },
         "mode": "lines",
         "type": "scatter",
         "x": [
          0.06656449284234275,
          -0.08002563823441185,
          null
         ],
         "y": [
          -0.08082063388911187,
          -0.06939400517860572,
          null
         ]
        },
        {
         "hoverinfo": "none",
         "line": {
          "color": "rgba(144.0, 238.0, 144.0, 0.5)",
          "width": 0.5
         },
         "mode": "lines",
         "type": "scatter",
         "x": [
          0.06656449284234275,
          -0.3333960749512078,
          null
         ],
         "y": [
          -0.08082063388911187,
          -0.21797028785639486,
          null
         ]
        },
        {
         "hoverinfo": "none",
         "line": {
          "color": "rgba(144.0, 238.0, 144.0, 0.5)",
          "width": 0.5
         },
         "mode": "lines",
         "type": "scatter",
         "x": [
          0.06656449284234275,
          -0.1278979291781272,
          null
         ],
         "y": [
          -0.08082063388911187,
          -0.08103816897878831,
          null
         ]
        },
        {
         "hoverinfo": "none",
         "line": {
          "color": "rgba(146.17647058823528, 233.33333333333331, 141.1764705882353, 0.5)",
          "width": 0.5
         },
         "mode": "lines",
         "type": "scatter",
         "x": [
          0.06656449284234275,
          -0.15884862835591715,
          null
         ],
         "y": [
          -0.08082063388911187,
          -0.2605013762401174,
          null
         ]
        },
        {
         "hoverinfo": "none",
         "line": {
          "color": "rgba(161.8470588235294, 199.73333333333335, 120.84705882352942, 0.5)",
          "width": 0.5
         },
         "mode": "lines",
         "type": "scatter",
         "x": [
          0.06656449284234275,
          -0.052972056262706874,
          null
         ],
         "y": [
          -0.08082063388911187,
          -0.17629299205101095,
          null
         ]
        },
        {
         "hoverinfo": "none",
         "line": {
          "color": "rgba(146.17647058823528, 233.33333333333331, 141.1764705882353, 0.5)",
          "width": 0.5
         },
         "mode": "lines",
         "type": "scatter",
         "x": [
          0.06656449284234275,
          -0.12149020981009737,
          null
         ],
         "y": [
          -0.08082063388911187,
          -0.3189035281333635,
          null
         ]
        },
        {
         "hoverinfo": "none",
         "line": {
          "color": "rgba(151.4, 222.13333333333335, 134.4, 0.5)",
          "width": 0.5
         },
         "mode": "lines",
         "type": "scatter",
         "x": [
          0.06656449284234275,
          -0.08777666419090452,
          null
         ],
         "y": [
          -0.08082063388911187,
          -0.18080269467733467,
          null
         ]
        },
        {
         "hoverinfo": "none",
         "line": {
          "color": "rgba(167.0705882352941, 188.53333333333333, 114.07058823529412, 0.5)",
          "width": 0.5
         },
         "mode": "lines",
         "type": "scatter",
         "x": [
          0.06656449284234275,
          -0.1103728414169264,
          null
         ],
         "y": [
          -0.08082063388911187,
          -0.014126211710549553,
          null
         ]
        },
        {
         "hoverinfo": "none",
         "line": {
          "color": "rgba(146.17647058823528, 233.33333333333331, 141.1764705882353, 0.5)",
          "width": 0.5
         },
         "mode": "lines",
         "type": "scatter",
         "x": [
          0.06656449284234275,
          -0.11656011755985318,
          null
         ],
         "y": [
          -0.08082063388911187,
          -0.23291884797257528,
          null
         ]
        },
        {
         "hoverinfo": "none",
         "line": {
          "color": "rgba(144.0, 238.0, 144.0, 0.5)",
          "width": 0.5
         },
         "mode": "lines",
         "type": "scatter",
         "x": [
          0.06656449284234275,
          -0.21841503354558905,
          null
         ],
         "y": [
          -0.08082063388911187,
          -0.0945802778400624,
          null
         ]
        },
        {
         "hoverinfo": "none",
         "line": {
          "color": "rgba(144.0, 238.0, 144.0, 0.5)",
          "width": 0.5
         },
         "mode": "lines",
         "type": "scatter",
         "x": [
          0.06656449284234275,
          -0.12459395883666516,
          null
         ],
         "y": [
          -0.08082063388911187,
          0.3089196779436653,
          null
         ]
        },
        {
         "hoverinfo": "none",
         "line": {
          "color": "rgba(198.41176470588235, 121.33333333333334, 73.41176470588236, 0.5)",
          "width": 0.5
         },
         "mode": "lines",
         "type": "scatter",
         "x": [
          0.06656449284234275,
          -0.09888059852184569,
          null
         ],
         "y": [
          -0.08082063388911187,
          0.019712051440705456,
          null
         ]
        },
        {
         "hoverinfo": "none",
         "line": {
          "color": "rgba(144.0, 238.0, 144.0, 0.5)",
          "width": 0.5
         },
         "mode": "lines",
         "type": "scatter",
         "x": [
          0.06656449284234275,
          -0.09904357357897299,
          null
         ],
         "y": [
          -0.08082063388911187,
          0.07036911152043185,
          null
         ]
        },
        {
         "hoverinfo": "none",
         "line": {
          "color": "rgba(144.0, 238.0, 144.0, 0.5)",
          "width": 0.5
         },
         "mode": "lines",
         "type": "scatter",
         "x": [
          0.06656449284234275,
          -0.19055928449609405,
          null
         ],
         "y": [
          -0.08082063388911187,
          0.217299725401975,
          null
         ]
        },
        {
         "hoverinfo": "none",
         "line": {
          "color": "rgba(144.0, 238.0, 144.0, 0.5)",
          "width": 0.5
         },
         "mode": "lines",
         "type": "scatter",
         "x": [
          0.06656449284234275,
          0.2529097371575984,
          null
         ],
         "y": [
          -0.08082063388911187,
          -0.13380420467015644,
          null
         ]
        },
        {
         "hoverinfo": "none",
         "line": {
          "color": "rgba(148.78823529411764, 227.73333333333335, 137.78823529411767, 0.5)",
          "width": 0.5
         },
         "mode": "lines",
         "type": "scatter",
         "x": [
          0.06656449284234275,
          -0.04789367222069038,
          null
         ],
         "y": [
          -0.08082063388911187,
          0.12632699513542509,
          null
         ]
        },
        {
         "hoverinfo": "none",
         "line": {
          "color": "rgba(146.17647058823528, 233.33333333333331, 141.1764705882353, 0.5)",
          "width": 0.5
         },
         "mode": "lines",
         "type": "scatter",
         "x": [
          0.06656449284234275,
          0.023384759964192165,
          null
         ],
         "y": [
          -0.08082063388911187,
          -0.19734267718946394,
          null
         ]
        },
        {
         "hoverinfo": "none",
         "line": {
          "color": "rgba(144.0, 238.0, 144.0, 0.5)",
          "width": 0.5
         },
         "mode": "lines",
         "type": "scatter",
         "x": [
          0.06656449284234275,
          0.49167135614137625,
          null
         ],
         "y": [
          -0.08082063388911187,
          -0.5548178145651238,
          null
         ]
        },
        {
         "hoverinfo": "none",
         "line": {
          "color": "rgba(144.0, 238.0, 144.0, 0.5)",
          "width": 0.5
         },
         "mode": "lines",
         "type": "scatter",
         "x": [
          0.06656449284234275,
          -0.1310758831768436,
          null
         ],
         "y": [
          -0.08082063388911187,
          0.1092337977977338,
          null
         ]
        },
        {
         "hoverinfo": "none",
         "line": {
          "color": "rgba(144.0, 238.0, 144.0, 0.5)",
          "width": 0.5
         },
         "mode": "lines",
         "type": "scatter",
         "x": [
          0.06656449284234275,
          -0.09217634642314189,
          null
         ],
         "y": [
          -0.08082063388911187,
          0.10947281325324452,
          null
         ]
        },
        {
         "hoverinfo": "none",
         "line": {
          "color": "rgba(144.0, 238.0, 144.0, 0.5)",
          "width": 0.5
         },
         "mode": "lines",
         "type": "scatter",
         "x": [
          0.06656449284234275,
          -0.17978469425979474,
          null
         ],
         "y": [
          -0.08082063388911187,
          -0.02793329833471627,
          null
         ]
        },
        {
         "hoverinfo": "none",
         "line": {
          "color": "rgba(144.0, 238.0, 144.0, 0.5)",
          "width": 0.5
         },
         "mode": "lines",
         "type": "scatter",
         "x": [
          0.06656449284234275,
          -0.13414347973577812,
          null
         ],
         "y": [
          -0.08082063388911187,
          0.07497062075222752,
          null
         ]
        },
        {
         "hoverinfo": "none",
         "line": {
          "color": "rgba(169.68235294117648, 182.93333333333334, 110.68235294117648, 0.5)",
          "width": 0.5
         },
         "mode": "lines",
         "type": "scatter",
         "x": [
          0.06656449284234275,
          -0.05535731170970401,
          null
         ],
         "y": [
          -0.08082063388911187,
          -0.13165770614718297,
          null
         ]
        },
        {
         "hoverinfo": "none",
         "line": {
          "color": "rgba(144.0, 238.0, 144.0, 0.5)",
          "width": 0.5
         },
         "mode": "lines",
         "type": "scatter",
         "x": [
          0.06656449284234275,
          -0.4866247849330894,
          null
         ],
         "y": [
          -0.08082063388911187,
          -0.4604052161532061,
          null
         ]
        },
        {
         "hoverinfo": "none",
         "line": {
          "color": "rgba(144.0, 238.0, 144.0, 0.5)",
          "width": 0.5
         },
         "mode": "lines",
         "type": "scatter",
         "x": [
          0.06656449284234275,
          0.44053857609595404,
          null
         ],
         "y": [
          -0.08082063388911187,
          0.15370652239066104,
          null
         ]
        },
        {
         "hoverinfo": "none",
         "line": {
          "color": "rgba(146.17647058823528, 233.33333333333331, 141.1764705882353, 0.5)",
          "width": 0.5
         },
         "mode": "lines",
         "type": "scatter",
         "x": [
          0.06656449284234275,
          -0.23123087529251413,
          null
         ],
         "y": [
          -0.08082063388911187,
          0.10582388808140479,
          null
         ]
        },
        {
         "hoverinfo": "none",
         "line": {
          "color": "rgba(144.0, 238.0, 144.0, 0.5)",
          "width": 0.5
         },
         "mode": "lines",
         "type": "scatter",
         "x": [
          0.06656449284234275,
          -0.1987027931296927,
          null
         ],
         "y": [
          -0.08082063388911187,
          -0.3429663223835842,
          null
         ]
        },
        {
         "hoverinfo": "none",
         "line": {
          "color": "rgba(146.17647058823528, 233.33333333333331, 141.1764705882353, 0.5)",
          "width": 0.5
         },
         "mode": "lines",
         "type": "scatter",
         "x": [
          0.06656449284234275,
          0.14555908708716736,
          null
         ],
         "y": [
          -0.08082063388911187,
          0.13274317123413848,
          null
         ]
        },
        {
         "hoverinfo": "none",
         "line": {
          "color": "rgba(144.0, 238.0, 144.0, 0.5)",
          "width": 0.5
         },
         "mode": "lines",
         "type": "scatter",
         "x": [
          0.06656449284234275,
          0.01102729588140955,
          null
         ],
         "y": [
          -0.08082063388911187,
          -0.0593242624273822,
          null
         ]
        },
        {
         "hoverinfo": "none",
         "line": {
          "color": "rgba(146.17647058823528, 233.33333333333331, 141.1764705882353, 0.5)",
          "width": 0.5
         },
         "mode": "lines",
         "type": "scatter",
         "x": [
          0.06656449284234275,
          -0.0795150080994743,
          null
         ],
         "y": [
          -0.08082063388911187,
          0.2172236208559976,
          null
         ]
        },
        {
         "hoverinfo": "none",
         "line": {
          "color": "rgba(144.0, 238.0, 144.0, 0.5)",
          "width": 0.5
         },
         "mode": "lines",
         "type": "scatter",
         "x": [
          0.017725687660674613,
          0.2611063692610051,
          null
         ],
         "y": [
          0.22151993733942793,
          0.16055659023472824,
          null
         ]
        },
        {
         "hoverinfo": "none",
         "line": {
          "color": "rgba(144.0, 238.0, 144.0, 0.5)",
          "width": 0.5
         },
         "mode": "lines",
         "type": "scatter",
         "x": [
          0.017725687660674613,
          -0.30083830080903784,
          null
         ],
         "y": [
          0.22151993733942793,
          0.04221848309718572,
          null
         ]
        },
        {
         "hoverinfo": "none",
         "line": {
          "color": "rgba(144.0, 238.0, 144.0, 0.5)",
          "width": 0.5
         },
         "mode": "lines",
         "type": "scatter",
         "x": [
          0.017725687660674613,
          -0.14217672132883327,
          null
         ],
         "y": [
          0.22151993733942793,
          0.028056759866294426,
          null
         ]
        },
        {
         "hoverinfo": "none",
         "line": {
          "color": "rgba(144.0, 238.0, 144.0, 0.5)",
          "width": 0.5
         },
         "mode": "lines",
         "type": "scatter",
         "x": [
          0.017725687660674613,
          -0.14319011935497858,
          null
         ],
         "y": [
          0.22151993733942793,
          -0.09835547769374435,
          null
         ]
        },
        {
         "hoverinfo": "none",
         "line": {
          "color": "rgba(144.0, 238.0, 144.0, 0.5)",
          "width": 0.5
         },
         "mode": "lines",
         "type": "scatter",
         "x": [
          0.017725687660674613,
          -0.02944573707110539,
          null
         ],
         "y": [
          0.22151993733942793,
          0.15990157972187483,
          null
         ]
        },
        {
         "hoverinfo": "none",
         "line": {
          "color": "rgba(144.0, 238.0, 144.0, 0.5)",
          "width": 0.5
         },
         "mode": "lines",
         "type": "scatter",
         "x": [
          0.017725687660674613,
          -0.04789367222069038,
          null
         ],
         "y": [
          0.22151993733942793,
          0.12632699513542509,
          null
         ]
        },
        {
         "hoverinfo": "none",
         "line": {
          "color": "rgba(144.0, 238.0, 144.0, 0.5)",
          "width": 0.5
         },
         "mode": "lines",
         "type": "scatter",
         "x": [
          0.017725687660674613,
          0.038452299517264144,
          null
         ],
         "y": [
          0.22151993733942793,
          0.2806057862863662,
          null
         ]
        },
        {
         "hoverinfo": "none",
         "line": {
          "color": "rgba(144.0, 238.0, 144.0, 0.5)",
          "width": 0.5
         },
         "mode": "lines",
         "type": "scatter",
         "x": [
          0.017725687660674613,
          -0.08609823480974288,
          null
         ],
         "y": [
          0.22151993733942793,
          0.1553027250389448,
          null
         ]
        },
        {
         "hoverinfo": "none",
         "line": {
          "color": "rgba(144.0, 238.0, 144.0, 0.5)",
          "width": 0.5
         },
         "mode": "lines",
         "type": "scatter",
         "x": [
          0.017725687660674613,
          0.11864841531844185,
          null
         ],
         "y": [
          0.22151993733942793,
          0.10057846423515035,
          null
         ]
        },
        {
         "hoverinfo": "none",
         "line": {
          "color": "rgba(144.0, 238.0, 144.0, 0.5)",
          "width": 0.5
         },
         "mode": "lines",
         "type": "scatter",
         "x": [
          0.017725687660674613,
          0.0633813890216842,
          null
         ],
         "y": [
          0.22151993733942793,
          0.1708497958201921,
          null
         ]
        },
        {
         "hoverinfo": "none",
         "line": {
          "color": "rgba(144.0, 238.0, 144.0, 0.5)",
          "width": 0.5
         },
         "mode": "lines",
         "type": "scatter",
         "x": [
          0.017725687660674613,
          0.1681471909172889,
          null
         ],
         "y": [
          0.22151993733942793,
          0.12252577017806437,
          null
         ]
        },
        {
         "hoverinfo": "none",
         "line": {
          "color": "rgba(144.0, 238.0, 144.0, 0.5)",
          "width": 0.5
         },
         "mode": "lines",
         "type": "scatter",
         "x": [
          0.017725687660674613,
          0.2290320009809992,
          null
         ],
         "y": [
          0.22151993733942793,
          0.27709614057250703,
          null
         ]
        },
        {
         "hoverinfo": "none",
         "line": {
          "color": "rgba(146.17647058823528, 233.33333333333331, 141.1764705882353, 0.5)",
          "width": 0.5
         },
         "mode": "lines",
         "type": "scatter",
         "x": [
          0.017725687660674613,
          0.23010504573538224,
          null
         ],
         "y": [
          0.22151993733942793,
          0.08416042030327081,
          null
         ]
        },
        {
         "hoverinfo": "none",
         "line": {
          "color": "rgba(144.0, 238.0, 144.0, 0.5)",
          "width": 0.5
         },
         "mode": "lines",
         "type": "scatter",
         "x": [
          0.017725687660674613,
          -0.01920046280766127,
          null
         ],
         "y": [
          0.22151993733942793,
          0.05693354076657738,
          null
         ]
        },
        {
         "hoverinfo": "none",
         "line": {
          "color": "rgba(144.0, 238.0, 144.0, 0.5)",
          "width": 0.5
         },
         "mode": "lines",
         "type": "scatter",
         "x": [
          0.017725687660674613,
          0.08805613312227421,
          null
         ],
         "y": [
          0.22151993733942793,
          0.2614632945348678,
          null
         ]
        },
        {
         "hoverinfo": "none",
         "line": {
          "color": "rgba(144.0, 238.0, 144.0, 0.5)",
          "width": 0.5
         },
         "mode": "lines",
         "type": "scatter",
         "x": [
          0.017725687660674613,
          -0.01835863240164065,
          null
         ],
         "y": [
          0.22151993733942793,
          0.2816710488450301,
          null
         ]
        },
        {
         "hoverinfo": "none",
         "line": {
          "color": "rgba(144.0, 238.0, 144.0, 0.5)",
          "width": 0.5
         },
         "mode": "lines",
         "type": "scatter",
         "x": [
          0.017725687660674613,
          0.1208207247688906,
          null
         ],
         "y": [
          0.22151993733942793,
          -0.01204508455225134,
          null
         ]
        },
        {
         "hoverinfo": "none",
         "line": {
          "color": "rgba(144.0, 238.0, 144.0, 0.5)",
          "width": 0.5
         },
         "mode": "lines",
         "type": "scatter",
         "x": [
          0.017725687660674613,
          -0.004092312520426679,
          null
         ],
         "y": [
          0.22151993733942793,
          0.024106741651111197,
          null
         ]
        },
        {
         "hoverinfo": "none",
         "line": {
          "color": "rgba(144.0, 238.0, 144.0, 0.5)",
          "width": 0.5
         },
         "mode": "lines",
         "type": "scatter",
         "x": [
          0.017725687660674613,
          0.05555256613411498,
          null
         ],
         "y": [
          0.22151993733942793,
          0.13608372729972124,
          null
         ]
        },
        {
         "hoverinfo": "none",
         "line": {
          "color": "rgba(144.0, 238.0, 144.0, 0.5)",
          "width": 0.5
         },
         "mode": "lines",
         "type": "scatter",
         "x": [
          0.017725687660674613,
          -0.037736053121505325,
          null
         ],
         "y": [
          0.22151993733942793,
          0.1941783921269007,
          null
         ]
        },
        {
         "hoverinfo": "none",
         "line": {
          "color": "rgba(144.0, 238.0, 144.0, 0.5)",
          "width": 0.5
         },
         "mode": "lines",
         "type": "scatter",
         "x": [
          0.017725687660674613,
          0.005720528430193572,
          null
         ],
         "y": [
          0.22151993733942793,
          0.1609735299876217,
          null
         ]
        },
        {
         "hoverinfo": "none",
         "line": {
          "color": "rgba(144.0, 238.0, 144.0, 0.5)",
          "width": 0.5
         },
         "mode": "lines",
         "type": "scatter",
         "x": [
          0.017725687660674613,
          -0.28870609353163784,
          null
         ],
         "y": [
          0.22151993733942793,
          0.1857962856331318,
          null
         ]
        },
        {
         "hoverinfo": "none",
         "line": {
          "color": "rgba(144.0, 238.0, 144.0, 0.5)",
          "width": 0.5
         },
         "mode": "lines",
         "type": "scatter",
         "x": [
          0.017725687660674613,
          0.15197018759499384,
          null
         ],
         "y": [
          0.22151993733942793,
          0.052208707723797376,
          null
         ]
        },
        {
         "hoverinfo": "none",
         "line": {
          "color": "rgba(144.0, 238.0, 144.0, 0.5)",
          "width": 0.5
         },
         "mode": "lines",
         "type": "scatter",
         "x": [
          0.017725687660674613,
          -0.09712082956116205,
          null
         ],
         "y": [
          0.22151993733942793,
          0.16616080061522118,
          null
         ]
        },
        {
         "hoverinfo": "none",
         "line": {
          "color": "rgba(144.0, 238.0, 144.0, 0.5)",
          "width": 0.5
         },
         "mode": "lines",
         "type": "scatter",
         "x": [
          0.017725687660674613,
          0.03318362620603166,
          null
         ],
         "y": [
          0.22151993733942793,
          0.40262569127087705,
          null
         ]
        },
        {
         "hoverinfo": "none",
         "line": {
          "color": "rgba(144.0, 238.0, 144.0, 0.5)",
          "width": 0.5
         },
         "mode": "lines",
         "type": "scatter",
         "x": [
          0.017725687660674613,
          -0.0777819075103812,
          null
         ],
         "y": [
          0.22151993733942793,
          0.3141753414343992,
          null
         ]
        },
        {
         "hoverinfo": "none",
         "line": {
          "color": "rgba(144.0, 238.0, 144.0, 0.5)",
          "width": 0.5
         },
         "mode": "lines",
         "type": "scatter",
         "x": [
          0.017725687660674613,
          -0.12459395883666516,
          null
         ],
         "y": [
          0.22151993733942793,
          0.3089196779436653,
          null
         ]
        },
        {
         "hoverinfo": "none",
         "line": {
          "color": "rgba(144.0, 238.0, 144.0, 0.5)",
          "width": 0.5
         },
         "mode": "lines",
         "type": "scatter",
         "x": [
          0.017725687660674613,
          -0.34958674786515487,
          null
         ],
         "y": [
          0.22151993733942793,
          0.4088785253160498,
          null
         ]
        },
        {
         "hoverinfo": "none",
         "line": {
          "color": "rgba(144.0, 238.0, 144.0, 0.5)",
          "width": 0.5
         },
         "mode": "lines",
         "type": "scatter",
         "x": [
          0.017725687660674613,
          -0.1310758831768436,
          null
         ],
         "y": [
          0.22151993733942793,
          0.1092337977977338,
          null
         ]
        },
        {
         "hoverinfo": "none",
         "line": {
          "color": "rgba(146.17647058823528, 233.33333333333331, 141.1764705882353, 0.5)",
          "width": 0.5
         },
         "mode": "lines",
         "type": "scatter",
         "x": [
          0.017725687660674613,
          0.1158453758115048,
          null
         ],
         "y": [
          0.22151993733942793,
          0.29463524803815394,
          null
         ]
        },
        {
         "hoverinfo": "none",
         "line": {
          "color": "rgba(144.0, 238.0, 144.0, 0.5)",
          "width": 0.5
         },
         "mode": "lines",
         "type": "scatter",
         "x": [
          -0.30083830080903784,
          -0.17061830911863504,
          null
         ],
         "y": [
          0.04221848309718572,
          0.16087499144082618,
          null
         ]
        },
        {
         "hoverinfo": "none",
         "line": {
          "color": "rgba(144.0, 238.0, 144.0, 0.5)",
          "width": 0.5
         },
         "mode": "lines",
         "type": "scatter",
         "x": [
          -0.30083830080903784,
          -0.004092312520426679,
          null
         ],
         "y": [
          0.04221848309718572,
          0.024106741651111197,
          null
         ]
        },
        {
         "hoverinfo": "none",
         "line": {
          "color": "rgba(144.0, 238.0, 144.0, 0.5)",
          "width": 0.5
         },
         "mode": "lines",
         "type": "scatter",
         "x": [
          -0.14217672132883327,
          -0.020718659940216443,
          null
         ],
         "y": [
          0.028056759866294426,
          0.006742399417472763,
          null
         ]
        },
        {
         "hoverinfo": "none",
         "line": {
          "color": "rgba(148.78823529411764, 227.73333333333335, 137.78823529411767, 0.5)",
          "width": 0.5
         },
         "mode": "lines",
         "type": "scatter",
         "x": [
          -0.14217672132883327,
          -0.004092312520426679,
          null
         ],
         "y": [
          0.028056759866294426,
          0.024106741651111197,
          null
         ]
        },
        {
         "hoverinfo": "none",
         "line": {
          "color": "rgba(144.0, 238.0, 144.0, 0.5)",
          "width": 0.5
         },
         "mode": "lines",
         "type": "scatter",
         "x": [
          -0.14217672132883327,
          -0.32169159398371533,
          null
         ],
         "y": [
          0.028056759866294426,
          -0.40453800375018484,
          null
         ]
        },
        {
         "hoverinfo": "none",
         "line": {
          "color": "rgba(146.17647058823528, 233.33333333333331, 141.1764705882353, 0.5)",
          "width": 0.5
         },
         "mode": "lines",
         "type": "scatter",
         "x": [
          -0.14217672132883327,
          -0.021233240631821707,
          null
         ],
         "y": [
          0.028056759866294426,
          -0.04959646375473747,
          null
         ]
        },
        {
         "hoverinfo": "none",
         "line": {
          "color": "rgba(144.0, 238.0, 144.0, 0.5)",
          "width": 0.5
         },
         "mode": "lines",
         "type": "scatter",
         "x": [
          -0.14217672132883327,
          -0.0642487984527689,
          null
         ],
         "y": [
          0.028056759866294426,
          0.03486906981503287,
          null
         ]
        },
        {
         "hoverinfo": "none",
         "line": {
          "color": "rgba(144.0, 238.0, 144.0, 0.5)",
          "width": 0.5
         },
         "mode": "lines",
         "type": "scatter",
         "x": [
          -0.14217672132883327,
          0.06340199839732927,
          null
         ],
         "y": [
          0.028056759866294426,
          0.04334777518009053,
          null
         ]
        },
        {
         "hoverinfo": "none",
         "line": {
          "color": "rgba(144.0, 238.0, 144.0, 0.5)",
          "width": 0.5
         },
         "mode": "lines",
         "type": "scatter",
         "x": [
          -0.14217672132883327,
          -0.01920046280766127,
          null
         ],
         "y": [
          0.028056759866294426,
          0.05693354076657738,
          null
         ]
        },
        {
         "hoverinfo": "none",
         "line": {
          "color": "rgba(144.0, 238.0, 144.0, 0.5)",
          "width": 0.5
         },
         "mode": "lines",
         "type": "scatter",
         "x": [
          -0.14217672132883327,
          -0.01850548100425071,
          null
         ],
         "y": [
          0.028056759866294426,
          0.25254677681882975,
          null
         ]
        },
        {
         "hoverinfo": "none",
         "line": {
          "color": "rgba(144.0, 238.0, 144.0, 0.5)",
          "width": 0.5
         },
         "mode": "lines",
         "type": "scatter",
         "x": [
          -0.14217672132883327,
          -0.1675259453265881,
          null
         ],
         "y": [
          0.028056759866294426,
          0.23429302452312867,
          null
         ]
        },
        {
         "hoverinfo": "none",
         "line": {
          "color": "rgba(146.17647058823528, 233.33333333333331, 141.1764705882353, 0.5)",
          "width": 0.5
         },
         "mode": "lines",
         "type": "scatter",
         "x": [
          -0.14217672132883327,
          -0.013254801021019556,
          null
         ],
         "y": [
          0.028056759866294426,
          0.20632008218218892,
          null
         ]
        },
        {
         "hoverinfo": "none",
         "line": {
          "color": "rgba(144.0, 238.0, 144.0, 0.5)",
          "width": 0.5
         },
         "mode": "lines",
         "type": "scatter",
         "x": [
          -0.14217672132883327,
          0.07025780894941544,
          null
         ],
         "y": [
          0.028056759866294426,
          0.0758657772446874,
          null
         ]
        },
        {
         "hoverinfo": "none",
         "line": {
          "color": "rgba(144.0, 238.0, 144.0, 0.5)",
          "width": 0.5
         },
         "mode": "lines",
         "type": "scatter",
         "x": [
          -0.14217672132883327,
          -0.02944573707110539,
          null
         ],
         "y": [
          0.028056759866294426,
          0.15990157972187483,
          null
         ]
        },
        {
         "hoverinfo": "none",
         "line": {
          "color": "rgba(144.0, 238.0, 144.0, 0.5)",
          "width": 0.5
         },
         "mode": "lines",
         "type": "scatter",
         "x": [
          -0.14217672132883327,
          -0.08609823480974288,
          null
         ],
         "y": [
          0.028056759866294426,
          0.1553027250389448,
          null
         ]
        },
        {
         "hoverinfo": "none",
         "line": {
          "color": "rgba(156.6235294117647, 210.93333333333334, 127.62352941176471, 0.5)",
          "width": 0.5
         },
         "mode": "lines",
         "type": "scatter",
         "x": [
          -0.14217672132883327,
          -0.09904357357897299,
          null
         ],
         "y": [
          0.028056759866294426,
          0.07036911152043185,
          null
         ]
        },
        {
         "hoverinfo": "none",
         "line": {
          "color": "rgba(144.0, 238.0, 144.0, 0.5)",
          "width": 0.5
         },
         "mode": "lines",
         "type": "scatter",
         "x": [
          -0.14217672132883327,
          -0.17978469425979474,
          null
         ],
         "y": [
          0.028056759866294426,
          -0.02793329833471627,
          null
         ]
        },
        {
         "hoverinfo": "none",
         "line": {
          "color": "rgba(144.0, 238.0, 144.0, 0.5)",
          "width": 0.5
         },
         "mode": "lines",
         "type": "scatter",
         "x": [
          -0.14217672132883327,
          0.005386321220475092,
          null
         ],
         "y": [
          0.028056759866294426,
          0.04818967093067006,
          null
         ]
        },
        {
         "hoverinfo": "none",
         "line": {
          "color": "rgba(144.0, 238.0, 144.0, 0.5)",
          "width": 0.5
         },
         "mode": "lines",
         "type": "scatter",
         "x": [
          -0.14217672132883327,
          -0.08777666419090452,
          null
         ],
         "y": [
          0.028056759866294426,
          -0.18080269467733467,
          null
         ]
        },
        {
         "hoverinfo": "none",
         "line": {
          "color": "rgba(146.17647058823528, 233.33333333333331, 141.1764705882353, 0.5)",
          "width": 0.5
         },
         "mode": "lines",
         "type": "scatter",
         "x": [
          -0.14217672132883327,
          -0.1278979291781272,
          null
         ],
         "y": [
          0.028056759866294426,
          -0.08103816897878831,
          null
         ]
        },
        {
         "hoverinfo": "none",
         "line": {
          "color": "rgba(144.0, 238.0, 144.0, 0.5)",
          "width": 0.5
         },
         "mode": "lines",
         "type": "scatter",
         "x": [
          -0.14217672132883327,
          -0.052972056262706874,
          null
         ],
         "y": [
          0.028056759866294426,
          -0.17629299205101095,
          null
         ]
        },
        {
         "hoverinfo": "none",
         "line": {
          "color": "rgba(144.0, 238.0, 144.0, 0.5)",
          "width": 0.5
         },
         "mode": "lines",
         "type": "scatter",
         "x": [
          -0.14217672132883327,
          -0.09888059852184569,
          null
         ],
         "y": [
          0.028056759866294426,
          0.019712051440705456,
          null
         ]
        },
        {
         "hoverinfo": "none",
         "line": {
          "color": "rgba(144.0, 238.0, 144.0, 0.5)",
          "width": 0.5
         },
         "mode": "lines",
         "type": "scatter",
         "x": [
          -0.14217672132883327,
          -0.1840932534843109,
          null
         ],
         "y": [
          0.028056759866294426,
          -0.1878456931166274,
          null
         ]
        },
        {
         "hoverinfo": "none",
         "line": {
          "color": "rgba(144.0, 238.0, 144.0, 0.5)",
          "width": 0.5
         },
         "mode": "lines",
         "type": "scatter",
         "x": [
          -0.14217672132883327,
          -0.5181830269989587,
          null
         ],
         "y": [
          0.028056759866294426,
          0.2070075865883011,
          null
         ]
        },
        {
         "hoverinfo": "none",
         "line": {
          "color": "rgba(144.0, 238.0, 144.0, 0.5)",
          "width": 0.5
         },
         "mode": "lines",
         "type": "scatter",
         "x": [
          -0.14217672132883327,
          -0.1103728414169264,
          null
         ],
         "y": [
          0.028056759866294426,
          -0.014126211710549553,
          null
         ]
        },
        {
         "hoverinfo": "none",
         "line": {
          "color": "rgba(144.0, 238.0, 144.0, 0.5)",
          "width": 0.5
         },
         "mode": "lines",
         "type": "scatter",
         "x": [
          -0.14217672132883327,
          -0.1310758831768436,
          null
         ],
         "y": [
          0.028056759866294426,
          0.1092337977977338,
          null
         ]
        },
        {
         "hoverinfo": "none",
         "line": {
          "color": "rgba(144.0, 238.0, 144.0, 0.5)",
          "width": 0.5
         },
         "mode": "lines",
         "type": "scatter",
         "x": [
          -0.14217672132883327,
          0.08032564751396598,
          null
         ],
         "y": [
          0.028056759866294426,
          -0.02409632523960449,
          null
         ]
        },
        {
         "hoverinfo": "none",
         "line": {
          "color": "rgba(144.0, 238.0, 144.0, 0.5)",
          "width": 0.5
         },
         "mode": "lines",
         "type": "scatter",
         "x": [
          -0.14217672132883327,
          0.11864841531844185,
          null
         ],
         "y": [
          0.028056759866294426,
          0.10057846423515035,
          null
         ]
        },
        {
         "hoverinfo": "none",
         "line": {
          "color": "rgba(144.0, 238.0, 144.0, 0.5)",
          "width": 0.5
         },
         "mode": "lines",
         "type": "scatter",
         "x": [
          -0.14217672132883327,
          -0.059980207520610444,
          null
         ],
         "y": [
          0.028056759866294426,
          -0.023130294095487357,
          null
         ]
        },
        {
         "hoverinfo": "none",
         "line": {
          "color": "rgba(144.0, 238.0, 144.0, 0.5)",
          "width": 0.5
         },
         "mode": "lines",
         "type": "scatter",
         "x": [
          -0.14217672132883327,
          -0.23123087529251413,
          null
         ],
         "y": [
          0.028056759866294426,
          0.10582388808140479,
          null
         ]
        },
        {
         "hoverinfo": "none",
         "line": {
          "color": "rgba(144.0, 238.0, 144.0, 0.5)",
          "width": 0.5
         },
         "mode": "lines",
         "type": "scatter",
         "x": [
          -0.14217672132883327,
          -0.13414347973577812,
          null
         ],
         "y": [
          0.028056759866294426,
          0.07497062075222752,
          null
         ]
        },
        {
         "hoverinfo": "none",
         "line": {
          "color": "rgba(144.0, 238.0, 144.0, 0.5)",
          "width": 0.5
         },
         "mode": "lines",
         "type": "scatter",
         "x": [
          -0.14217672132883327,
          -0.05535731170970401,
          null
         ],
         "y": [
          0.028056759866294426,
          -0.13165770614718297,
          null
         ]
        },
        {
         "hoverinfo": "none",
         "line": {
          "color": "rgba(146.17647058823528, 233.33333333333331, 141.1764705882353, 0.5)",
          "width": 0.5
         },
         "mode": "lines",
         "type": "scatter",
         "x": [
          -0.14217672132883327,
          -0.05988037641289631,
          null
         ],
         "y": [
          0.028056759866294426,
          -0.24034809173940616,
          null
         ]
        },
        {
         "hoverinfo": "none",
         "line": {
          "color": "rgba(146.17647058823528, 233.33333333333331, 141.1764705882353, 0.5)",
          "width": 0.5
         },
         "mode": "lines",
         "type": "scatter",
         "x": [
          -0.14217672132883327,
          -0.26096416492678304,
          null
         ],
         "y": [
          0.028056759866294426,
          0.05494137806017977,
          null
         ]
        },
        {
         "hoverinfo": "none",
         "line": {
          "color": "rgba(144.0, 238.0, 144.0, 0.5)",
          "width": 0.5
         },
         "mode": "lines",
         "type": "scatter",
         "x": [
          -0.14217672132883327,
          0.01102729588140955,
          null
         ],
         "y": [
          0.028056759866294426,
          -0.0593242624273822,
          null
         ]
        },
        {
         "hoverinfo": "none",
         "line": {
          "color": "rgba(144.0, 238.0, 144.0, 0.5)",
          "width": 0.5
         },
         "mode": "lines",
         "type": "scatter",
         "x": [
          -0.14217672132883327,
          -0.2894252955259959,
          null
         ],
         "y": [
          0.028056759866294426,
          0.4723524239738518,
          null
         ]
        },
        {
         "hoverinfo": "none",
         "line": {
          "color": "rgba(144.0, 238.0, 144.0, 0.5)",
          "width": 0.5
         },
         "mode": "lines",
         "type": "scatter",
         "x": [
          -0.14217672132883327,
          -0.39263049002499584,
          null
         ],
         "y": [
          0.028056759866294426,
          0.11306709038117096,
          null
         ]
        },
        {
         "hoverinfo": "none",
         "line": {
          "color": "rgba(172.2941176470588, 177.33333333333331, 107.29411764705883, 0.5)",
          "width": 0.5
         },
         "mode": "lines",
         "type": "scatter",
         "x": [
          -0.020718659940216443,
          -0.0824867474963051,
          null
         ],
         "y": [
          0.006742399417472763,
          0.022671849273135113,
          null
         ]
        },
        {
         "hoverinfo": "none",
         "line": {
          "color": "rgba(144.0, 238.0, 144.0, 0.5)",
          "width": 0.5
         },
         "mode": "lines",
         "type": "scatter",
         "x": [
          -0.020718659940216443,
          0.022799241112800586,
          null
         ],
         "y": [
          0.006742399417472763,
          0.11535195333824314,
          null
         ]
        },
        {
         "hoverinfo": "none",
         "line": {
          "color": "rgba(144.0, 238.0, 144.0, 0.5)",
          "width": 0.5
         },
         "mode": "lines",
         "type": "scatter",
         "x": [
          -0.020718659940216443,
          0.01318206610121052,
          null
         ],
         "y": [
          0.006742399417472763,
          -0.3368989977418131,
          null
         ]
        },
        {
         "hoverinfo": "none",
         "line": {
          "color": "rgba(146.17647058823528, 233.33333333333331, 141.1764705882353, 0.5)",
          "width": 0.5
         },
         "mode": "lines",
         "type": "scatter",
         "x": [
          -0.020718659940216443,
          0.048524894804532356,
          null
         ],
         "y": [
          0.006742399417472763,
          -0.3616202410109812,
          null
         ]
        },
        {
         "hoverinfo": "none",
         "line": {
          "color": "rgba(148.78823529411764, 227.73333333333335, 137.78823529411767, 0.5)",
          "width": 0.5
         },
         "mode": "lines",
         "type": "scatter",
         "x": [
          -0.020718659940216443,
          0.05279576170885225,
          null
         ],
         "y": [
          0.006742399417472763,
          -0.2417125933960446,
          null
         ]
        },
        {
         "hoverinfo": "none",
         "line": {
          "color": "rgba(144.0, 238.0, 144.0, 0.5)",
          "width": 0.5
         },
         "mode": "lines",
         "type": "scatter",
         "x": [
          -0.020718659940216443,
          -0.03705981388259749,
          null
         ],
         "y": [
          0.006742399417472763,
          -0.06691982066653902,
          null
         ]
        },
        {
         "hoverinfo": "none",
         "line": {
          "color": "rgba(144.0, 238.0, 144.0, 0.5)",
          "width": 0.5
         },
         "mode": "lines",
         "type": "scatter",
         "x": [
          -0.020718659940216443,
          0.28359107050092613,
          null
         ],
         "y": [
          0.006742399417472763,
          -0.2802176111132153,
          null
         ]
        },
        {
         "hoverinfo": "none",
         "line": {
          "color": "rgba(144.0, 238.0, 144.0, 0.5)",
          "width": 0.5
         },
         "mode": "lines",
         "type": "scatter",
         "x": [
          -0.020718659940216443,
          0.13847244367201625,
          null
         ],
         "y": [
          0.006742399417472763,
          -0.44585731153129937,
          null
         ]
        },
        {
         "hoverinfo": "none",
         "line": {
          "color": "rgba(151.4, 222.13333333333335, 134.4, 0.5)",
          "width": 0.5
         },
         "mode": "lines",
         "type": "scatter",
         "x": [
          -0.020718659940216443,
          0.09359900415860646,
          null
         ],
         "y": [
          0.006742399417472763,
          -0.1644428106546643,
          null
         ]
        },
        {
         "hoverinfo": "none",
         "line": {
          "color": "rgba(144.0, 238.0, 144.0, 0.5)",
          "width": 0.5
         },
         "mode": "lines",
         "type": "scatter",
         "x": [
          -0.020718659940216443,
          -0.021233240631821707,
          null
         ],
         "y": [
          0.006742399417472763,
          -0.04959646375473747,
          null
         ]
        },
        {
         "hoverinfo": "none",
         "line": {
          "color": "rgba(144.0, 238.0, 144.0, 0.5)",
          "width": 0.5
         },
         "mode": "lines",
         "type": "scatter",
         "x": [
          -0.020718659940216443,
          0.12973198260062271,
          null
         ],
         "y": [
          0.006742399417472763,
          -0.14884767452265774,
          null
         ]
        },
        {
         "hoverinfo": "none",
         "line": {
          "color": "rgba(144.0, 238.0, 144.0, 0.5)",
          "width": 0.5
         },
         "mode": "lines",
         "type": "scatter",
         "x": [
          -0.020718659940216443,
          0.14989312569988808,
          null
         ],
         "y": [
          0.006742399417472763,
          -0.03096123652709826,
          null
         ]
        },
        {
         "hoverinfo": "none",
         "line": {
          "color": "rgba(144.0, 238.0, 144.0, 0.5)",
          "width": 0.5
         },
         "mode": "lines",
         "type": "scatter",
         "x": [
          -0.020718659940216443,
          0.06642876558189482,
          null
         ],
         "y": [
          0.006742399417472763,
          -0.1308773144455644,
          null
         ]
        },
        {
         "hoverinfo": "none",
         "line": {
          "color": "rgba(144.0, 238.0, 144.0, 0.5)",
          "width": 0.5
         },
         "mode": "lines",
         "type": "scatter",
         "x": [
          -0.020718659940216443,
          -0.01920046280766127,
          null
         ],
         "y": [
          0.006742399417472763,
          0.05693354076657738,
          null
         ]
        },
        {
         "hoverinfo": "none",
         "line": {
          "color": "rgba(144.0, 238.0, 144.0, 0.5)",
          "width": 0.5
         },
         "mode": "lines",
         "type": "scatter",
         "x": [
          -0.020718659940216443,
          0.1681471909172889,
          null
         ],
         "y": [
          0.006742399417472763,
          0.12252577017806437,
          null
         ]
        },
        {
         "hoverinfo": "none",
         "line": {
          "color": "rgba(255.0, 0.0, 0.0, 0.5)",
          "width": 0.5
         },
         "mode": "lines",
         "type": "scatter",
         "x": [
          -0.020718659940216443,
          -0.004092312520426679,
          null
         ],
         "y": [
          0.006742399417472763,
          0.024106741651111197,
          null
         ]
        },
        {
         "hoverinfo": "none",
         "line": {
          "color": "rgba(180.1294117647059, 160.53333333333333, 97.12941176470588, 0.5)",
          "width": 0.5
         },
         "mode": "lines",
         "type": "scatter",
         "x": [
          -0.020718659940216443,
          -0.0642487984527689,
          null
         ],
         "y": [
          0.006742399417472763,
          0.03486906981503287,
          null
         ]
        },
        {
         "hoverinfo": "none",
         "line": {
          "color": "rgba(144.0, 238.0, 144.0, 0.5)",
          "width": 0.5
         },
         "mode": "lines",
         "type": "scatter",
         "x": [
          -0.020718659940216443,
          0.29668389970862213,
          null
         ],
         "y": [
          0.006742399417472763,
          -0.12969702221079557,
          null
         ]
        },
        {
         "hoverinfo": "none",
         "line": {
          "color": "rgba(146.17647058823528, 233.33333333333331, 141.1764705882353, 0.5)",
          "width": 0.5
         },
         "mode": "lines",
         "type": "scatter",
         "x": [
          -0.020718659940216443,
          -0.18755978864923079,
          null
         ],
         "y": [
          0.006742399417472763,
          -0.08615810018397115,
          null
         ]
        },
        {
         "hoverinfo": "none",
         "line": {
          "color": "rgba(146.17647058823528, 233.33333333333331, 141.1764705882353, 0.5)",
          "width": 0.5
         },
         "mode": "lines",
         "type": "scatter",
         "x": [
          -0.020718659940216443,
          0.005720528430193572,
          null
         ],
         "y": [
          0.006742399417472763,
          0.1609735299876217,
          null
         ]
        },
        {
         "hoverinfo": "none",
         "line": {
          "color": "rgba(144.0, 238.0, 144.0, 0.5)",
          "width": 0.5
         },
         "mode": "lines",
         "type": "scatter",
         "x": [
          -0.020718659940216443,
          0.06340199839732927,
          null
         ],
         "y": [
          0.006742399417472763,
          0.04334777518009053,
          null
         ]
        },
        {
         "hoverinfo": "none",
         "line": {
          "color": "rgba(144.0, 238.0, 144.0, 0.5)",
          "width": 0.5
         },
         "mode": "lines",
         "type": "scatter",
         "x": [
          -0.020718659940216443,
          -0.00894059969700433,
          null
         ],
         "y": [
          0.006742399417472763,
          0.07375130773845237,
          null
         ]
        },
        {
         "hoverinfo": "none",
         "line": {
          "color": "rgba(148.78823529411764, 227.73333333333335, 137.78823529411767, 0.5)",
          "width": 0.5
         },
         "mode": "lines",
         "type": "scatter",
         "x": [
          -0.020718659940216443,
          -0.01850548100425071,
          null
         ],
         "y": [
          0.006742399417472763,
          0.25254677681882975,
          null
         ]
        },
        {
         "hoverinfo": "none",
         "line": {
          "color": "rgba(193.18823529411765, 132.53333333333336, 80.18823529411766, 0.5)",
          "width": 0.5
         },
         "mode": "lines",
         "type": "scatter",
         "x": [
          -0.020718659940216443,
          -0.04312852812558068,
          null
         ],
         "y": [
          0.006742399417472763,
          0.06529052607210352,
          null
         ]
        },
        {
         "hoverinfo": "none",
         "line": {
          "color": "rgba(144.0, 238.0, 144.0, 0.5)",
          "width": 0.5
         },
         "mode": "lines",
         "type": "scatter",
         "x": [
          -0.020718659940216443,
          -0.013254801021019556,
          null
         ],
         "y": [
          0.006742399417472763,
          0.20632008218218892,
          null
         ]
        },
        {
         "hoverinfo": "none",
         "line": {
          "color": "rgba(144.0, 238.0, 144.0, 0.5)",
          "width": 0.5
         },
         "mode": "lines",
         "type": "scatter",
         "x": [
          -0.020718659940216443,
          -0.1675259453265881,
          null
         ],
         "y": [
          0.006742399417472763,
          0.23429302452312867,
          null
         ]
        },
        {
         "hoverinfo": "none",
         "line": {
          "color": "rgba(144.0, 238.0, 144.0, 0.5)",
          "width": 0.5
         },
         "mode": "lines",
         "type": "scatter",
         "x": [
          -0.020718659940216443,
          -0.26096416492678304,
          null
         ],
         "y": [
          0.006742399417472763,
          0.05494137806017977,
          null
         ]
        },
        {
         "hoverinfo": "none",
         "line": {
          "color": "rgba(144.0, 238.0, 144.0, 0.5)",
          "width": 0.5
         },
         "mode": "lines",
         "type": "scatter",
         "x": [
          -0.020718659940216443,
          -0.09904357357897299,
          null
         ],
         "y": [
          0.006742399417472763,
          0.07036911152043185,
          null
         ]
        },
        {
         "hoverinfo": "none",
         "line": {
          "color": "rgba(144.0, 238.0, 144.0, 0.5)",
          "width": 0.5
         },
         "mode": "lines",
         "type": "scatter",
         "x": [
          -0.020718659940216443,
          0.00608491303550132,
          null
         ],
         "y": [
          0.006742399417472763,
          0.1386826777322132,
          null
         ]
        },
        {
         "hoverinfo": "none",
         "line": {
          "color": "rgba(144.0, 238.0, 144.0, 0.5)",
          "width": 0.5
         },
         "mode": "lines",
         "type": "scatter",
         "x": [
          -0.020718659940216443,
          0.040436006585932986,
          null
         ],
         "y": [
          0.006742399417472763,
          -0.11245970248929078,
          null
         ]
        },
        {
         "hoverinfo": "none",
         "line": {
          "color": "rgba(144.0, 238.0, 144.0, 0.5)",
          "width": 0.5
         },
         "mode": "lines",
         "type": "scatter",
         "x": [
          -0.020718659940216443,
          0.08805613312227421,
          null
         ],
         "y": [
          0.006742399417472763,
          0.2614632945348678,
          null
         ]
        },
        {
         "hoverinfo": "none",
         "line": {
          "color": "rgba(146.17647058823528, 233.33333333333331, 141.1764705882353, 0.5)",
          "width": 0.5
         },
         "mode": "lines",
         "type": "scatter",
         "x": [
          -0.020718659940216443,
          0.1208207247688906,
          null
         ],
         "y": [
          0.006742399417472763,
          -0.01204508455225134,
          null
         ]
        },
        {
         "hoverinfo": "none",
         "line": {
          "color": "rgba(144.0, 238.0, 144.0, 0.5)",
          "width": 0.5
         },
         "mode": "lines",
         "type": "scatter",
         "x": [
          -0.020718659940216443,
          0.11446488128043716,
          null
         ],
         "y": [
          0.006742399417472763,
          0.1771605177335045,
          null
         ]
        },
        {
         "hoverinfo": "none",
         "line": {
          "color": "rgba(154.01176470588237, 216.53333333333333, 131.01176470588237, 0.5)",
          "width": 0.5
         },
         "mode": "lines",
         "type": "scatter",
         "x": [
          -0.020718659940216443,
          0.05555256613411498,
          null
         ],
         "y": [
          0.006742399417472763,
          0.13608372729972124,
          null
         ]
        },
        {
         "hoverinfo": "none",
         "line": {
          "color": "rgba(146.17647058823528, 233.33333333333331, 141.1764705882353, 0.5)",
          "width": 0.5
         },
         "mode": "lines",
         "type": "scatter",
         "x": [
          -0.020718659940216443,
          -0.08609823480974288,
          null
         ],
         "y": [
          0.006742399417472763,
          0.1553027250389448,
          null
         ]
        },
        {
         "hoverinfo": "none",
         "line": {
          "color": "rgba(144.0, 238.0, 144.0, 0.5)",
          "width": 0.5
         },
         "mode": "lines",
         "type": "scatter",
         "x": [
          -0.020718659940216443,
          0.14270551669236803,
          null
         ],
         "y": [
          0.006742399417472763,
          -0.6287464926388941,
          null
         ]
        },
        {
         "hoverinfo": "none",
         "line": {
          "color": "rgba(144.0, 238.0, 144.0, 0.5)",
          "width": 0.5
         },
         "mode": "lines",
         "type": "scatter",
         "x": [
          -0.020718659940216443,
          0.051369703358791555,
          null
         ],
         "y": [
          0.006742399417472763,
          -0.06605561465884656,
          null
         ]
        },
        {
         "hoverinfo": "none",
         "line": {
          "color": "rgba(144.0, 238.0, 144.0, 0.5)",
          "width": 0.5
         },
         "mode": "lines",
         "type": "scatter",
         "x": [
          -0.020718659940216443,
          0.07025780894941544,
          null
         ],
         "y": [
          0.006742399417472763,
          0.0758657772446874,
          null
         ]
        },
        {
         "hoverinfo": "none",
         "line": {
          "color": "rgba(144.0, 238.0, 144.0, 0.5)",
          "width": 0.5
         },
         "mode": "lines",
         "type": "scatter",
         "x": [
          -0.020718659940216443,
          -0.09217634642314189,
          null
         ],
         "y": [
          0.006742399417472763,
          0.10947281325324452,
          null
         ]
        },
        {
         "hoverinfo": "none",
         "line": {
          "color": "rgba(144.0, 238.0, 144.0, 0.5)",
          "width": 0.5
         },
         "mode": "lines",
         "type": "scatter",
         "x": [
          -0.020718659940216443,
          -0.0795150080994743,
          null
         ],
         "y": [
          0.006742399417472763,
          0.2172236208559976,
          null
         ]
        },
        {
         "hoverinfo": "none",
         "line": {
          "color": "rgba(144.0, 238.0, 144.0, 0.5)",
          "width": 0.5
         },
         "mode": "lines",
         "type": "scatter",
         "x": [
          -0.020718659940216443,
          -0.12735754871383898,
          null
         ],
         "y": [
          0.006742399417472763,
          0.336905683302759,
          null
         ]
        },
        {
         "hoverinfo": "none",
         "line": {
          "color": "rgba(146.17647058823528, 233.33333333333331, 141.1764705882353, 0.5)",
          "width": 0.5
         },
         "mode": "lines",
         "type": "scatter",
         "x": [
          -0.020718659940216443,
          -0.037736053121505325,
          null
         ],
         "y": [
          0.006742399417472763,
          0.1941783921269007,
          null
         ]
        },
        {
         "hoverinfo": "none",
         "line": {
          "color": "rgba(144.0, 238.0, 144.0, 0.5)",
          "width": 0.5
         },
         "mode": "lines",
         "type": "scatter",
         "x": [
          -0.020718659940216443,
          0.038452299517264144,
          null
         ],
         "y": [
          0.006742399417472763,
          0.2806057862863662,
          null
         ]
        },
        {
         "hoverinfo": "none",
         "line": {
          "color": "rgba(144.0, 238.0, 144.0, 0.5)",
          "width": 0.5
         },
         "mode": "lines",
         "type": "scatter",
         "x": [
          -0.020718659940216443,
          0.1574657163746438,
          null
         ],
         "y": [
          0.006742399417472763,
          0.2233464453212604,
          null
         ]
        },
        {
         "hoverinfo": "none",
         "line": {
          "color": "rgba(144.0, 238.0, 144.0, 0.5)",
          "width": 0.5
         },
         "mode": "lines",
         "type": "scatter",
         "x": [
          -0.020718659940216443,
          -0.06610153325615863,
          null
         ],
         "y": [
          0.006742399417472763,
          0.2606475451946278,
          null
         ]
        },
        {
         "hoverinfo": "none",
         "line": {
          "color": "rgba(144.0, 238.0, 144.0, 0.5)",
          "width": 0.5
         },
         "mode": "lines",
         "type": "scatter",
         "x": [
          -0.020718659940216443,
          -0.05177677912445756,
          null
         ],
         "y": [
          0.006742399417472763,
          0.21324350394641564,
          null
         ]
        },
        {
         "hoverinfo": "none",
         "line": {
          "color": "rgba(146.17647058823528, 233.33333333333331, 141.1764705882353, 0.5)",
          "width": 0.5
         },
         "mode": "lines",
         "type": "scatter",
         "x": [
          -0.020718659940216443,
          -0.16807591990904772,
          null
         ],
         "y": [
          0.006742399417472763,
          0.002254779748922316,
          null
         ]
        },
        {
         "hoverinfo": "none",
         "line": {
          "color": "rgba(144.0, 238.0, 144.0, 0.5)",
          "width": 0.5
         },
         "mode": "lines",
         "type": "scatter",
         "x": [
          -0.020718659940216443,
          -0.08002563823441185,
          null
         ],
         "y": [
          0.006742399417472763,
          -0.06939400517860572,
          null
         ]
        },
        {
         "hoverinfo": "none",
         "line": {
          "color": "rgba(148.78823529411764, 227.73333333333335, 137.78823529411767, 0.5)",
          "width": 0.5
         },
         "mode": "lines",
         "type": "scatter",
         "x": [
          -0.020718659940216443,
          -0.09888059852184569,
          null
         ],
         "y": [
          0.006742399417472763,
          0.019712051440705456,
          null
         ]
        },
        {
         "hoverinfo": "none",
         "line": {
          "color": "rgba(151.4, 222.13333333333335, 134.4, 0.5)",
          "width": 0.5
         },
         "mode": "lines",
         "type": "scatter",
         "x": [
          -0.020718659940216443,
          -0.20402730722088458,
          null
         ],
         "y": [
          0.006742399417472763,
          0.17892555488701034,
          null
         ]
        },
        {
         "hoverinfo": "none",
         "line": {
          "color": "rgba(144.0, 238.0, 144.0, 0.5)",
          "width": 0.5
         },
         "mode": "lines",
         "type": "scatter",
         "x": [
          -0.020718659940216443,
          0.005386321220475092,
          null
         ],
         "y": [
          0.006742399417472763,
          0.04818967093067006,
          null
         ]
        },
        {
         "hoverinfo": "none",
         "line": {
          "color": "rgba(146.17647058823528, 233.33333333333331, 141.1764705882353, 0.5)",
          "width": 0.5
         },
         "mode": "lines",
         "type": "scatter",
         "x": [
          -0.020718659940216443,
          -0.16077250953811276,
          null
         ],
         "y": [
          0.006742399417472763,
          0.3360781181857651,
          null
         ]
        },
        {
         "hoverinfo": "none",
         "line": {
          "color": "rgba(144.0, 238.0, 144.0, 0.5)",
          "width": 0.5
         },
         "mode": "lines",
         "type": "scatter",
         "x": [
          -0.020718659940216443,
          -0.12568436166720384,
          null
         ],
         "y": [
          0.006742399417472763,
          0.23711320197900426,
          null
         ]
        },
        {
         "hoverinfo": "none",
         "line": {
          "color": "rgba(167.0705882352941, 188.53333333333333, 114.07058823529412, 0.5)",
          "width": 0.5
         },
         "mode": "lines",
         "type": "scatter",
         "x": [
          -0.020718659940216443,
          0.11864841531844185,
          null
         ],
         "y": [
          0.006742399417472763,
          0.10057846423515035,
          null
         ]
        },
        {
         "hoverinfo": "none",
         "line": {
          "color": "rgba(144.0, 238.0, 144.0, 0.5)",
          "width": 0.5
         },
         "mode": "lines",
         "type": "scatter",
         "x": [
          -0.020718659940216443,
          0.023384759964192165,
          null
         ],
         "y": [
          0.006742399417472763,
          -0.19734267718946394,
          null
         ]
        },
        {
         "hoverinfo": "none",
         "line": {
          "color": "rgba(144.0, 238.0, 144.0, 0.5)",
          "width": 0.5
         },
         "mode": "lines",
         "type": "scatter",
         "x": [
          -0.020718659940216443,
          0.23010504573538224,
          null
         ],
         "y": [
          0.006742399417472763,
          0.08416042030327081,
          null
         ]
        },
        {
         "hoverinfo": "none",
         "line": {
          "color": "rgba(159.23529411764704, 205.33333333333334, 124.23529411764706, 0.5)",
          "width": 0.5
         },
         "mode": "lines",
         "type": "scatter",
         "x": [
          -0.020718659940216443,
          -0.18067723358052504,
          null
         ],
         "y": [
          0.006742399417472763,
          -0.12069862000410217,
          null
         ]
        },
        {
         "hoverinfo": "none",
         "line": {
          "color": "rgba(144.0, 238.0, 144.0, 0.5)",
          "width": 0.5
         },
         "mode": "lines",
         "type": "scatter",
         "x": [
          -0.020718659940216443,
          0.24312232119304752,
          null
         ],
         "y": [
          0.006742399417472763,
          0.22272154339534592,
          null
         ]
        },
        {
         "hoverinfo": "none",
         "line": {
          "color": "rgba(146.17647058823528, 233.33333333333331, 141.1764705882353, 0.5)",
          "width": 0.5
         },
         "mode": "lines",
         "type": "scatter",
         "x": [
          -0.020718659940216443,
          -0.13414347973577812,
          null
         ],
         "y": [
          0.006742399417472763,
          0.07497062075222752,
          null
         ]
        },
        {
         "hoverinfo": "none",
         "line": {
          "color": "rgba(144.0, 238.0, 144.0, 0.5)",
          "width": 0.5
         },
         "mode": "lines",
         "type": "scatter",
         "x": [
          -0.020718659940216443,
          -0.23123087529251413,
          null
         ],
         "y": [
          0.006742399417472763,
          0.10582388808140479,
          null
         ]
        },
        {
         "hoverinfo": "none",
         "line": {
          "color": "rgba(146.17647058823528, 233.33333333333331, 141.1764705882353, 0.5)",
          "width": 0.5
         },
         "mode": "lines",
         "type": "scatter",
         "x": [
          -0.020718659940216443,
          -0.21372190190860446,
          null
         ],
         "y": [
          0.006742399417472763,
          0.015050777958272891,
          null
         ]
        },
        {
         "hoverinfo": "none",
         "line": {
          "color": "rgba(144.0, 238.0, 144.0, 0.5)",
          "width": 0.5
         },
         "mode": "lines",
         "type": "scatter",
         "x": [
          -0.020718659940216443,
          -0.3050897530341685,
          null
         ],
         "y": [
          0.006742399417472763,
          0.20869558028462507,
          null
         ]
        },
        {
         "hoverinfo": "none",
         "line": {
          "color": "rgba(144.0, 238.0, 144.0, 0.5)",
          "width": 0.5
         },
         "mode": "lines",
         "type": "scatter",
         "x": [
          -0.020718659940216443,
          -0.2728782061654218,
          null
         ],
         "y": [
          0.006742399417472763,
          0.24777215595226404,
          null
         ]
        },
        {
         "hoverinfo": "none",
         "line": {
          "color": "rgba(144.0, 238.0, 144.0, 0.5)",
          "width": 0.5
         },
         "mode": "lines",
         "type": "scatter",
         "x": [
          -0.020718659940216443,
          -0.11656011755985318,
          null
         ],
         "y": [
          0.006742399417472763,
          -0.23291884797257528,
          null
         ]
        },
        {
         "hoverinfo": "none",
         "line": {
          "color": "rgba(144.0, 238.0, 144.0, 0.5)",
          "width": 0.5
         },
         "mode": "lines",
         "type": "scatter",
         "x": [
          -0.020718659940216443,
          0.1808694119674158,
          null
         ],
         "y": [
          0.006742399417472763,
          0.28339783598243706,
          null
         ]
        },
        {
         "hoverinfo": "none",
         "line": {
          "color": "rgba(154.01176470588237, 216.53333333333333, 131.01176470588237, 0.5)",
          "width": 0.5
         },
         "mode": "lines",
         "type": "scatter",
         "x": [
          -0.020718659940216443,
          0.01102729588140955,
          null
         ],
         "y": [
          0.006742399417472763,
          -0.0593242624273822,
          null
         ]
        },
        {
         "hoverinfo": "none",
         "line": {
          "color": "rgba(144.0, 238.0, 144.0, 0.5)",
          "width": 0.5
         },
         "mode": "lines",
         "type": "scatter",
         "x": [
          -0.020718659940216443,
          -0.02944573707110539,
          null
         ],
         "y": [
          0.006742399417472763,
          0.15990157972187483,
          null
         ]
        },
        {
         "hoverinfo": "none",
         "line": {
          "color": "rgba(144.0, 238.0, 144.0, 0.5)",
          "width": 0.5
         },
         "mode": "lines",
         "type": "scatter",
         "x": [
          -0.020718659940216443,
          -0.5230291626398516,
          null
         ],
         "y": [
          0.006742399417472763,
          -0.04580185974946745,
          null
         ]
        },
        {
         "hoverinfo": "none",
         "line": {
          "color": "rgba(144.0, 238.0, 144.0, 0.5)",
          "width": 0.5
         },
         "mode": "lines",
         "type": "scatter",
         "x": [
          -0.020718659940216443,
          -0.1103728414169264,
          null
         ],
         "y": [
          0.006742399417472763,
          -0.014126211710549553,
          null
         ]
        },
        {
         "hoverinfo": "none",
         "line": {
          "color": "rgba(144.0, 238.0, 144.0, 0.5)",
          "width": 0.5
         },
         "mode": "lines",
         "type": "scatter",
         "x": [
          -0.020718659940216443,
          -0.1278979291781272,
          null
         ],
         "y": [
          0.006742399417472763,
          -0.08103816897878831,
          null
         ]
        },
        {
         "hoverinfo": "none",
         "line": {
          "color": "rgba(144.0, 238.0, 144.0, 0.5)",
          "width": 0.5
         },
         "mode": "lines",
         "type": "scatter",
         "x": [
          -0.0824867474963051,
          0.022799241112800586,
          null
         ],
         "y": [
          0.022671849273135113,
          0.11535195333824314,
          null
         ]
        },
        {
         "hoverinfo": "none",
         "line": {
          "color": "rgba(151.4, 222.13333333333335, 134.4, 0.5)",
          "width": 0.5
         },
         "mode": "lines",
         "type": "scatter",
         "x": [
          -0.0824867474963051,
          -0.19301812381864844,
          null
         ],
         "y": [
          0.022671849273135113,
          0.09135760075681051,
          null
         ]
        },
        {
         "hoverinfo": "none",
         "line": {
          "color": "rgba(156.6235294117647, 210.93333333333334, 127.62352941176471, 0.5)",
          "width": 0.5
         },
         "mode": "lines",
         "type": "scatter",
         "x": [
          -0.0824867474963051,
          -0.2299531137968582,
          null
         ],
         "y": [
          0.022671849273135113,
          -0.029604394701872365,
          null
         ]
        },
        {
         "hoverinfo": "none",
         "line": {
          "color": "rgba(144.0, 238.0, 144.0, 0.5)",
          "width": 0.5
         },
         "mode": "lines",
         "type": "scatter",
         "x": [
          -0.0824867474963051,
          -0.09712082956116205,
          null
         ],
         "y": [
          0.022671849273135113,
          0.16616080061522118,
          null
         ]
        },
        {
         "hoverinfo": "none",
         "line": {
          "color": "rgba(144.0, 238.0, 144.0, 0.5)",
          "width": 0.5
         },
         "mode": "lines",
         "type": "scatter",
         "x": [
          -0.0824867474963051,
          -0.004092312520426679,
          null
         ],
         "y": [
          0.022671849273135113,
          0.024106741651111197,
          null
         ]
        },
        {
         "hoverinfo": "none",
         "line": {
          "color": "rgba(144.0, 238.0, 144.0, 0.5)",
          "width": 0.5
         },
         "mode": "lines",
         "type": "scatter",
         "x": [
          -0.0824867474963051,
          -0.03705981388259749,
          null
         ],
         "y": [
          0.022671849273135113,
          -0.06691982066653902,
          null
         ]
        },
        {
         "hoverinfo": "none",
         "line": {
          "color": "rgba(148.78823529411764, 227.73333333333335, 137.78823529411767, 0.5)",
          "width": 0.5
         },
         "mode": "lines",
         "type": "scatter",
         "x": [
          -0.0824867474963051,
          -0.26096416492678304,
          null
         ],
         "y": [
          0.022671849273135113,
          0.05494137806017977,
          null
         ]
        },
        {
         "hoverinfo": "none",
         "line": {
          "color": "rgba(144.0, 238.0, 144.0, 0.5)",
          "width": 0.5
         },
         "mode": "lines",
         "type": "scatter",
         "x": [
          -0.0824867474963051,
          0.00608491303550132,
          null
         ],
         "y": [
          0.022671849273135113,
          0.1386826777322132,
          null
         ]
        },
        {
         "hoverinfo": "none",
         "line": {
          "color": "rgba(144.0, 238.0, 144.0, 0.5)",
          "width": 0.5
         },
         "mode": "lines",
         "type": "scatter",
         "x": [
          -0.0824867474963051,
          0.040436006585932986,
          null
         ],
         "y": [
          0.022671849273135113,
          -0.11245970248929078,
          null
         ]
        },
        {
         "hoverinfo": "none",
         "line": {
          "color": "rgba(144.0, 238.0, 144.0, 0.5)",
          "width": 0.5
         },
         "mode": "lines",
         "type": "scatter",
         "x": [
          -0.0824867474963051,
          0.07025780894941544,
          null
         ],
         "y": [
          0.022671849273135113,
          0.0758657772446874,
          null
         ]
        },
        {
         "hoverinfo": "none",
         "line": {
          "color": "rgba(144.0, 238.0, 144.0, 0.5)",
          "width": 0.5
         },
         "mode": "lines",
         "type": "scatter",
         "x": [
          -0.0824867474963051,
          0.11446488128043716,
          null
         ],
         "y": [
          0.022671849273135113,
          0.1771605177335045,
          null
         ]
        },
        {
         "hoverinfo": "none",
         "line": {
          "color": "rgba(159.23529411764704, 205.33333333333334, 124.23529411764706, 0.5)",
          "width": 0.5
         },
         "mode": "lines",
         "type": "scatter",
         "x": [
          -0.0824867474963051,
          -0.0642487984527689,
          null
         ],
         "y": [
          0.022671849273135113,
          0.03486906981503287,
          null
         ]
        },
        {
         "hoverinfo": "none",
         "line": {
          "color": "rgba(144.0, 238.0, 144.0, 0.5)",
          "width": 0.5
         },
         "mode": "lines",
         "type": "scatter",
         "x": [
          -0.0824867474963051,
          0.3871747872432823,
          null
         ],
         "y": [
          0.022671849273135113,
          0.13107032846071326,
          null
         ]
        },
        {
         "hoverinfo": "none",
         "line": {
          "color": "rgba(144.0, 238.0, 144.0, 0.5)",
          "width": 0.5
         },
         "mode": "lines",
         "type": "scatter",
         "x": [
          -0.0824867474963051,
          -0.20437734098484633,
          null
         ],
         "y": [
          0.022671849273135113,
          0.040505340548191986,
          null
         ]
        },
        {
         "hoverinfo": "none",
         "line": {
          "color": "rgba(144.0, 238.0, 144.0, 0.5)",
          "width": 0.5
         },
         "mode": "lines",
         "type": "scatter",
         "x": [
          0.022799241112800586,
          -0.004092312520426679,
          null
         ],
         "y": [
          0.11535195333824314,
          0.024106741651111197,
          null
         ]
        },
        {
         "hoverinfo": "none",
         "line": {
          "color": "rgba(144.0, 238.0, 144.0, 0.5)",
          "width": 0.5
         },
         "mode": "lines",
         "type": "scatter",
         "x": [
          0.022799241112800586,
          -0.03705981388259749,
          null
         ],
         "y": [
          0.11535195333824314,
          -0.06691982066653902,
          null
         ]
        },
        {
         "hoverinfo": "none",
         "line": {
          "color": "rgba(144.0, 238.0, 144.0, 0.5)",
          "width": 0.5
         },
         "mode": "lines",
         "type": "scatter",
         "x": [
          0.022799241112800586,
          -0.01850548100425071,
          null
         ],
         "y": [
          0.11535195333824314,
          0.25254677681882975,
          null
         ]
        },
        {
         "hoverinfo": "none",
         "line": {
          "color": "rgba(144.0, 238.0, 144.0, 0.5)",
          "width": 0.5
         },
         "mode": "lines",
         "type": "scatter",
         "x": [
          0.022799241112800586,
          0.3871747872432823,
          null
         ],
         "y": [
          0.11535195333824314,
          0.13107032846071326,
          null
         ]
        },
        {
         "hoverinfo": "none",
         "line": {
          "color": "rgba(144.0, 238.0, 144.0, 0.5)",
          "width": 0.5
         },
         "mode": "lines",
         "type": "scatter",
         "x": [
          0.022799241112800586,
          -0.26096416492678304,
          null
         ],
         "y": [
          0.11535195333824314,
          0.05494137806017977,
          null
         ]
        },
        {
         "hoverinfo": "none",
         "line": {
          "color": "rgba(144.0, 238.0, 144.0, 0.5)",
          "width": 0.5
         },
         "mode": "lines",
         "type": "scatter",
         "x": [
          0.022799241112800586,
          -0.0642487984527689,
          null
         ],
         "y": [
          0.11535195333824314,
          0.03486906981503287,
          null
         ]
        },
        {
         "hoverinfo": "none",
         "line": {
          "color": "rgba(144.0, 238.0, 144.0, 0.5)",
          "width": 0.5
         },
         "mode": "lines",
         "type": "scatter",
         "x": [
          0.022799241112800586,
          0.01102729588140955,
          null
         ],
         "y": [
          0.11535195333824314,
          -0.0593242624273822,
          null
         ]
        },
        {
         "hoverinfo": "none",
         "line": {
          "color": "rgba(156.6235294117647, 210.93333333333334, 127.62352941176471, 0.5)",
          "width": 0.5
         },
         "mode": "lines",
         "type": "scatter",
         "x": [
          0.022799241112800586,
          0.08508056166314654,
          null
         ],
         "y": [
          0.11535195333824314,
          0.21727748726847088,
          null
         ]
        },
        {
         "hoverinfo": "none",
         "line": {
          "color": "rgba(151.4, 222.13333333333335, 134.4, 0.5)",
          "width": 0.5
         },
         "mode": "lines",
         "type": "scatter",
         "x": [
          0.022799241112800586,
          0.06340199839732927,
          null
         ],
         "y": [
          0.11535195333824314,
          0.04334777518009053,
          null
         ]
        },
        {
         "hoverinfo": "none",
         "line": {
          "color": "rgba(144.0, 238.0, 144.0, 0.5)",
          "width": 0.5
         },
         "mode": "lines",
         "type": "scatter",
         "x": [
          0.022799241112800586,
          -0.3259160963210564,
          null
         ],
         "y": [
          0.11535195333824314,
          -0.11374568248356766,
          null
         ]
        },
        {
         "hoverinfo": "none",
         "line": {
          "color": "rgba(144.0, 238.0, 144.0, 0.5)",
          "width": 0.5
         },
         "mode": "lines",
         "type": "scatter",
         "x": [
          0.022799241112800586,
          0.16154627487490428,
          null
         ],
         "y": [
          0.11535195333824314,
          0.33030556468891753,
          null
         ]
        },
        {
         "hoverinfo": "none",
         "line": {
          "color": "rgba(144.0, 238.0, 144.0, 0.5)",
          "width": 0.5
         },
         "mode": "lines",
         "type": "scatter",
         "x": [
          0.022799241112800586,
          -0.28870609353163784,
          null
         ],
         "y": [
          0.11535195333824314,
          0.1857962856331318,
          null
         ]
        },
        {
         "hoverinfo": "none",
         "line": {
          "color": "rgba(146.17647058823528, 233.33333333333331, 141.1764705882353, 0.5)",
          "width": 0.5
         },
         "mode": "lines",
         "type": "scatter",
         "x": [
          -0.05988037641289631,
          0.07195439250223575,
          null
         ],
         "y": [
          -0.24034809173940616,
          -0.400696158706266,
          null
         ]
        },
        {
         "hoverinfo": "none",
         "line": {
          "color": "rgba(146.17647058823528, 233.33333333333331, 141.1764705882353, 0.5)",
          "width": 0.5
         },
         "mode": "lines",
         "type": "scatter",
         "x": [
          -0.05988037641289631,
          0.06642876558189482,
          null
         ],
         "y": [
          -0.24034809173940616,
          -0.1308773144455644,
          null
         ]
        },
        {
         "hoverinfo": "none",
         "line": {
          "color": "rgba(146.17647058823528, 233.33333333333331, 141.1764705882353, 0.5)",
          "width": 0.5
         },
         "mode": "lines",
         "type": "scatter",
         "x": [
          -0.05988037641289631,
          -0.021233240631821707,
          null
         ],
         "y": [
          -0.24034809173940616,
          -0.04959646375473747,
          null
         ]
        },
        {
         "hoverinfo": "none",
         "line": {
          "color": "rgba(144.0, 238.0, 144.0, 0.5)",
          "width": 0.5
         },
         "mode": "lines",
         "type": "scatter",
         "x": [
          -0.05988037641289631,
          -0.004092312520426679,
          null
         ],
         "y": [
          -0.24034809173940616,
          0.024106741651111197,
          null
         ]
        },
        {
         "hoverinfo": "none",
         "line": {
          "color": "rgba(144.0, 238.0, 144.0, 0.5)",
          "width": 0.5
         },
         "mode": "lines",
         "type": "scatter",
         "x": [
          -0.05988037641289631,
          -0.023706579468236465,
          null
         ],
         "y": [
          -0.24034809173940616,
          -0.1719531655029565,
          null
         ]
        },
        {
         "hoverinfo": "none",
         "line": {
          "color": "rgba(144.0, 238.0, 144.0, 0.5)",
          "width": 0.5
         },
         "mode": "lines",
         "type": "scatter",
         "x": [
          -0.05988037641289631,
          -0.08002563823441185,
          null
         ],
         "y": [
          -0.24034809173940616,
          -0.06939400517860572,
          null
         ]
        },
        {
         "hoverinfo": "none",
         "line": {
          "color": "rgba(144.0, 238.0, 144.0, 0.5)",
          "width": 0.5
         },
         "mode": "lines",
         "type": "scatter",
         "x": [
          -0.05988037641289631,
          -0.11656011755985318,
          null
         ],
         "y": [
          -0.24034809173940616,
          -0.23291884797257528,
          null
         ]
        },
        {
         "hoverinfo": "none",
         "line": {
          "color": "rgba(144.0, 238.0, 144.0, 0.5)",
          "width": 0.5
         },
         "mode": "lines",
         "type": "scatter",
         "x": [
          -0.05988037641289631,
          -0.1103728414169264,
          null
         ],
         "y": [
          -0.24034809173940616,
          -0.014126211710549553,
          null
         ]
        },
        {
         "hoverinfo": "none",
         "line": {
          "color": "rgba(144.0, 238.0, 144.0, 0.5)",
          "width": 0.5
         },
         "mode": "lines",
         "type": "scatter",
         "x": [
          -0.05988037641289631,
          -0.03705981388259749,
          null
         ],
         "y": [
          -0.24034809173940616,
          -0.06691982066653902,
          null
         ]
        },
        {
         "hoverinfo": "none",
         "line": {
          "color": "rgba(144.0, 238.0, 144.0, 0.5)",
          "width": 0.5
         },
         "mode": "lines",
         "type": "scatter",
         "x": [
          -0.05988037641289631,
          -0.05535731170970401,
          null
         ],
         "y": [
          -0.24034809173940616,
          -0.13165770614718297,
          null
         ]
        },
        {
         "hoverinfo": "none",
         "line": {
          "color": "rgba(146.17647058823528, 233.33333333333331, 141.1764705882353, 0.5)",
          "width": 0.5
         },
         "mode": "lines",
         "type": "scatter",
         "x": [
          0.12133013315908264,
          0.07195439250223575,
          null
         ],
         "y": [
          -0.2800915285125472,
          -0.400696158706266,
          null
         ]
        },
        {
         "hoverinfo": "none",
         "line": {
          "color": "rgba(144.0, 238.0, 144.0, 0.5)",
          "width": 0.5
         },
         "mode": "lines",
         "type": "scatter",
         "x": [
          -0.025222713648049167,
          -0.17978469425979474,
          null
         ],
         "y": [
          -0.23768233551134987,
          -0.02793329833471627,
          null
         ]
        },
        {
         "hoverinfo": "none",
         "line": {
          "color": "rgba(144.0, 238.0, 144.0, 0.5)",
          "width": 0.5
         },
         "mode": "lines",
         "type": "scatter",
         "x": [
          -0.025222713648049167,
          -0.21841503354558905,
          null
         ],
         "y": [
          -0.23768233551134987,
          -0.0945802778400624,
          null
         ]
        },
        {
         "hoverinfo": "none",
         "line": {
          "color": "rgba(144.0, 238.0, 144.0, 0.5)",
          "width": 0.5
         },
         "mode": "lines",
         "type": "scatter",
         "x": [
          -0.025222713648049167,
          0.051369703358791555,
          null
         ],
         "y": [
          -0.23768233551134987,
          -0.06605561465884656,
          null
         ]
        },
        {
         "hoverinfo": "none",
         "line": {
          "color": "rgba(144.0, 238.0, 144.0, 0.5)",
          "width": 0.5
         },
         "mode": "lines",
         "type": "scatter",
         "x": [
          -0.025222713648049167,
          -0.004092312520426679,
          null
         ],
         "y": [
          -0.23768233551134987,
          0.024106741651111197,
          null
         ]
        },
        {
         "hoverinfo": "none",
         "line": {
          "color": "rgba(144.0, 238.0, 144.0, 0.5)",
          "width": 0.5
         },
         "mode": "lines",
         "type": "scatter",
         "x": [
          -0.025222713648049167,
          0.005386321220475092,
          null
         ],
         "y": [
          -0.23768233551134987,
          0.04818967093067006,
          null
         ]
        },
        {
         "hoverinfo": "none",
         "line": {
          "color": "rgba(144.0, 238.0, 144.0, 0.5)",
          "width": 0.5
         },
         "mode": "lines",
         "type": "scatter",
         "x": [
          -0.025222713648049167,
          0.08032564751396598,
          null
         ],
         "y": [
          -0.23768233551134987,
          -0.02409632523960449,
          null
         ]
        },
        {
         "hoverinfo": "none",
         "line": {
          "color": "rgba(146.17647058823528, 233.33333333333331, 141.1764705882353, 0.5)",
          "width": 0.5
         },
         "mode": "lines",
         "type": "scatter",
         "x": [
          -0.025222713648049167,
          0.023384759964192165,
          null
         ],
         "y": [
          -0.23768233551134987,
          -0.19734267718946394,
          null
         ]
        },
        {
         "hoverinfo": "none",
         "line": {
          "color": "rgba(146.17647058823528, 233.33333333333331, 141.1764705882353, 0.5)",
          "width": 0.5
         },
         "mode": "lines",
         "type": "scatter",
         "x": [
          -0.025222713648049167,
          0.01102729588140955,
          null
         ],
         "y": [
          -0.23768233551134987,
          -0.0593242624273822,
          null
         ]
        },
        {
         "hoverinfo": "none",
         "line": {
          "color": "rgba(146.17647058823528, 233.33333333333331, 141.1764705882353, 0.5)",
          "width": 0.5
         },
         "mode": "lines",
         "type": "scatter",
         "x": [
          -0.19301812381864844,
          -0.2299531137968582,
          null
         ],
         "y": [
          0.09135760075681051,
          -0.029604394701872365,
          null
         ]
        },
        {
         "hoverinfo": "none",
         "line": {
          "color": "rgba(146.17647058823528, 233.33333333333331, 141.1764705882353, 0.5)",
          "width": 0.5
         },
         "mode": "lines",
         "type": "scatter",
         "x": [
          -0.19301812381864844,
          -0.01835863240164065,
          null
         ],
         "y": [
          0.09135760075681051,
          0.2816710488450301,
          null
         ]
        },
        {
         "hoverinfo": "none",
         "line": {
          "color": "rgba(144.0, 238.0, 144.0, 0.5)",
          "width": 0.5
         },
         "mode": "lines",
         "type": "scatter",
         "x": [
          -0.19301812381864844,
          -0.08609823480974288,
          null
         ],
         "y": [
          0.09135760075681051,
          0.1553027250389448,
          null
         ]
        },
        {
         "hoverinfo": "none",
         "line": {
          "color": "rgba(144.0, 238.0, 144.0, 0.5)",
          "width": 0.5
         },
         "mode": "lines",
         "type": "scatter",
         "x": [
          -0.2299531137968582,
          -0.20437734098484633,
          null
         ],
         "y": [
          -0.029604394701872365,
          0.040505340548191986,
          null
         ]
        },
        {
         "hoverinfo": "none",
         "line": {
          "color": "rgba(146.17647058823528, 233.33333333333331, 141.1764705882353, 0.5)",
          "width": 0.5
         },
         "mode": "lines",
         "type": "scatter",
         "x": [
          -0.2299531137968582,
          -0.09712082956116205,
          null
         ],
         "y": [
          -0.029604394701872365,
          0.16616080061522118,
          null
         ]
        },
        {
         "hoverinfo": "none",
         "line": {
          "color": "rgba(144.0, 238.0, 144.0, 0.5)",
          "width": 0.5
         },
         "mode": "lines",
         "type": "scatter",
         "x": [
          0.1878068002708232,
          0.3197984603220672,
          null
         ],
         "y": [
          -0.3224562201133303,
          -0.6866329409948275,
          null
         ]
        },
        {
         "hoverinfo": "none",
         "line": {
          "color": "rgba(146.17647058823528, 233.33333333333331, 141.1764705882353, 0.5)",
          "width": 0.5
         },
         "mode": "lines",
         "type": "scatter",
         "x": [
          0.1878068002708232,
          0.2255783421536663,
          null
         ],
         "y": [
          -0.3224562201133303,
          -0.33655595515679293,
          null
         ]
        },
        {
         "hoverinfo": "none",
         "line": {
          "color": "rgba(144.0, 238.0, 144.0, 0.5)",
          "width": 0.5
         },
         "mode": "lines",
         "type": "scatter",
         "x": [
          0.1878068002708232,
          0.322048109851657,
          null
         ],
         "y": [
          -0.3224562201133303,
          -0.4967902766951395,
          null
         ]
        },
        {
         "hoverinfo": "none",
         "line": {
          "color": "rgba(144.0, 238.0, 144.0, 0.5)",
          "width": 0.5
         },
         "mode": "lines",
         "type": "scatter",
         "x": [
          0.1878068002708232,
          0.20613286297093755,
          null
         ],
         "y": [
          -0.3224562201133303,
          -0.2515482722700618,
          null
         ]
        },
        {
         "hoverinfo": "none",
         "line": {
          "color": "rgba(144.0, 238.0, 144.0, 0.5)",
          "width": 0.5
         },
         "mode": "lines",
         "type": "scatter",
         "x": [
          0.20613286297093755,
          -0.09712082956116205,
          null
         ],
         "y": [
          -0.2515482722700618,
          0.16616080061522118,
          null
         ]
        },
        {
         "hoverinfo": "none",
         "line": {
          "color": "rgba(146.17647058823528, 233.33333333333331, 141.1764705882353, 0.5)",
          "width": 0.5
         },
         "mode": "lines",
         "type": "scatter",
         "x": [
          0.20613286297093755,
          0.3646472940287012,
          null
         ],
         "y": [
          -0.2515482722700618,
          -0.45147715700301844,
          null
         ]
        },
        {
         "hoverinfo": "none",
         "line": {
          "color": "rgba(161.8470588235294, 199.73333333333335, 120.84705882352942, 0.5)",
          "width": 0.5
         },
         "mode": "lines",
         "type": "scatter",
         "x": [
          0.20613286297093755,
          0.2255783421536663,
          null
         ],
         "y": [
          -0.2515482722700618,
          -0.33655595515679293,
          null
         ]
        },
        {
         "hoverinfo": "none",
         "line": {
          "color": "rgba(144.0, 238.0, 144.0, 0.5)",
          "width": 0.5
         },
         "mode": "lines",
         "type": "scatter",
         "x": [
          0.20613286297093755,
          0.322048109851657,
          null
         ],
         "y": [
          -0.2515482722700618,
          -0.4967902766951395,
          null
         ]
        },
        {
         "hoverinfo": "none",
         "line": {
          "color": "rgba(144.0, 238.0, 144.0, 0.5)",
          "width": 0.5
         },
         "mode": "lines",
         "type": "scatter",
         "x": [
          0.20613286297093755,
          0.08032564751396598,
          null
         ],
         "y": [
          -0.2515482722700618,
          -0.02409632523960449,
          null
         ]
        },
        {
         "hoverinfo": "none",
         "line": {
          "color": "rgba(144.0, 238.0, 144.0, 0.5)",
          "width": 0.5
         },
         "mode": "lines",
         "type": "scatter",
         "x": [
          -0.09712082956116205,
          -0.20437734098484633,
          null
         ],
         "y": [
          0.16616080061522118,
          0.040505340548191986,
          null
         ]
        },
        {
         "hoverinfo": "none",
         "line": {
          "color": "rgba(144.0, 238.0, 144.0, 0.5)",
          "width": 0.5
         },
         "mode": "lines",
         "type": "scatter",
         "x": [
          -0.09712082956116205,
          -0.004092312520426679,
          null
         ],
         "y": [
          0.16616080061522118,
          0.024106741651111197,
          null
         ]
        },
        {
         "hoverinfo": "none",
         "line": {
          "color": "rgba(148.78823529411764, 227.73333333333335, 137.78823529411767, 0.5)",
          "width": 0.5
         },
         "mode": "lines",
         "type": "scatter",
         "x": [
          -0.09712082956116205,
          -0.021233240631821707,
          null
         ],
         "y": [
          0.16616080061522118,
          -0.04959646375473747,
          null
         ]
        },
        {
         "hoverinfo": "none",
         "line": {
          "color": "rgba(144.0, 238.0, 144.0, 0.5)",
          "width": 0.5
         },
         "mode": "lines",
         "type": "scatter",
         "x": [
          -0.09712082956116205,
          -0.08609823480974288,
          null
         ],
         "y": [
          0.16616080061522118,
          0.1553027250389448,
          null
         ]
        },
        {
         "hoverinfo": "none",
         "line": {
          "color": "rgba(144.0, 238.0, 144.0, 0.5)",
          "width": 0.5
         },
         "mode": "lines",
         "type": "scatter",
         "x": [
          -0.09712082956116205,
          0.03318362620603166,
          null
         ],
         "y": [
          0.16616080061522118,
          0.40262569127087705,
          null
         ]
        },
        {
         "hoverinfo": "none",
         "line": {
          "color": "rgba(148.78823529411764, 227.73333333333335, 137.78823529411767, 0.5)",
          "width": 0.5
         },
         "mode": "lines",
         "type": "scatter",
         "x": [
          -0.09712082956116205,
          0.0633813890216842,
          null
         ],
         "y": [
          0.16616080061522118,
          0.1708497958201921,
          null
         ]
        },
        {
         "hoverinfo": "none",
         "line": {
          "color": "rgba(148.78823529411764, 227.73333333333335, 137.78823529411767, 0.5)",
          "width": 0.5
         },
         "mode": "lines",
         "type": "scatter",
         "x": [
          -0.09712082956116205,
          -0.059980207520610444,
          null
         ],
         "y": [
          0.16616080061522118,
          -0.023130294095487357,
          null
         ]
        },
        {
         "hoverinfo": "none",
         "line": {
          "color": "rgba(144.0, 238.0, 144.0, 0.5)",
          "width": 0.5
         },
         "mode": "lines",
         "type": "scatter",
         "x": [
          -0.09712082956116205,
          0.11682886181796201,
          null
         ],
         "y": [
          0.16616080061522118,
          0.3755850632547882,
          null
         ]
        },
        {
         "hoverinfo": "none",
         "line": {
          "color": "rgba(144.0, 238.0, 144.0, 0.5)",
          "width": 0.5
         },
         "mode": "lines",
         "type": "scatter",
         "x": [
          -0.09712082956116205,
          0.08032564751396598,
          null
         ],
         "y": [
          0.16616080061522118,
          -0.02409632523960449,
          null
         ]
        },
        {
         "hoverinfo": "none",
         "line": {
          "color": "rgba(151.4, 222.13333333333335, 134.4, 0.5)",
          "width": 0.5
         },
         "mode": "lines",
         "type": "scatter",
         "x": [
          -0.09712082956116205,
          -0.22617704328375923,
          null
         ],
         "y": [
          0.16616080061522118,
          0.38383303596181,
          null
         ]
        },
        {
         "hoverinfo": "none",
         "line": {
          "color": "rgba(144.0, 238.0, 144.0, 0.5)",
          "width": 0.5
         },
         "mode": "lines",
         "type": "scatter",
         "x": [
          -0.09712082956116205,
          -0.1103728414169264,
          null
         ],
         "y": [
          0.16616080061522118,
          -0.014126211710549553,
          null
         ]
        },
        {
         "hoverinfo": "none",
         "line": {
          "color": "rgba(144.0, 238.0, 144.0, 0.5)",
          "width": 0.5
         },
         "mode": "lines",
         "type": "scatter",
         "x": [
          -0.09712082956116205,
          -0.05535731170970401,
          null
         ],
         "y": [
          0.16616080061522118,
          -0.13165770614718297,
          null
         ]
        },
        {
         "hoverinfo": "none",
         "line": {
          "color": "rgba(144.0, 238.0, 144.0, 0.5)",
          "width": 0.5
         },
         "mode": "lines",
         "type": "scatter",
         "x": [
          -0.09712082956116205,
          -0.09888059852184569,
          null
         ],
         "y": [
          0.16616080061522118,
          0.019712051440705456,
          null
         ]
        },
        {
         "hoverinfo": "none",
         "line": {
          "color": "rgba(144.0, 238.0, 144.0, 0.5)",
          "width": 0.5
         },
         "mode": "lines",
         "type": "scatter",
         "x": [
          -0.09712082956116205,
          -0.4525842881064867,
          null
         ],
         "y": [
          0.16616080061522118,
          0.35651636797649994,
          null
         ]
        },
        {
         "hoverinfo": "none",
         "line": {
          "color": "rgba(144.0, 238.0, 144.0, 0.5)",
          "width": 0.5
         },
         "mode": "lines",
         "type": "scatter",
         "x": [
          -0.09712082956116205,
          -0.3050897530341685,
          null
         ],
         "y": [
          0.16616080061522118,
          0.20869558028462507,
          null
         ]
        },
        {
         "hoverinfo": "none",
         "line": {
          "color": "rgba(144.0, 238.0, 144.0, 0.5)",
          "width": 0.5
         },
         "mode": "lines",
         "type": "scatter",
         "x": [
          -0.09712082956116205,
          -0.2728782061654218,
          null
         ],
         "y": [
          0.16616080061522118,
          0.24777215595226404,
          null
         ]
        },
        {
         "hoverinfo": "none",
         "line": {
          "color": "rgba(144.0, 238.0, 144.0, 0.5)",
          "width": 0.5
         },
         "mode": "lines",
         "type": "scatter",
         "x": [
          -0.09712082956116205,
          -0.04312852812558068,
          null
         ],
         "y": [
          0.16616080061522118,
          0.06529052607210352,
          null
         ]
        },
        {
         "hoverinfo": "none",
         "line": {
          "color": "rgba(144.0, 238.0, 144.0, 0.5)",
          "width": 0.5
         },
         "mode": "lines",
         "type": "scatter",
         "x": [
          -0.09712082956116205,
          0.11446488128043716,
          null
         ],
         "y": [
          0.16616080061522118,
          0.1771605177335045,
          null
         ]
        },
        {
         "hoverinfo": "none",
         "line": {
          "color": "rgba(144.0, 238.0, 144.0, 0.5)",
          "width": 0.5
         },
         "mode": "lines",
         "type": "scatter",
         "x": [
          -0.09712082956116205,
          0.08508056166314654,
          null
         ],
         "y": [
          0.16616080061522118,
          0.21727748726847088,
          null
         ]
        },
        {
         "hoverinfo": "none",
         "line": {
          "color": "rgba(144.0, 238.0, 144.0, 0.5)",
          "width": 0.5
         },
         "mode": "lines",
         "type": "scatter",
         "x": [
          -0.09712082956116205,
          0.06340199839732927,
          null
         ],
         "y": [
          0.16616080061522118,
          0.04334777518009053,
          null
         ]
        },
        {
         "hoverinfo": "none",
         "line": {
          "color": "rgba(144.0, 238.0, 144.0, 0.5)",
          "width": 0.5
         },
         "mode": "lines",
         "type": "scatter",
         "x": [
          -0.09712082956116205,
          -0.1294525107914809,
          null
         ],
         "y": [
          0.16616080061522118,
          0.7740505864629438,
          null
         ]
        },
        {
         "hoverinfo": "none",
         "line": {
          "color": "rgba(144.0, 238.0, 144.0, 0.5)",
          "width": 0.5
         },
         "mode": "lines",
         "type": "scatter",
         "x": [
          -0.09712082956116205,
          -0.21372190190860446,
          null
         ],
         "y": [
          0.16616080061522118,
          0.015050777958272891,
          null
         ]
        },
        {
         "hoverinfo": "none",
         "line": {
          "color": "rgba(146.17647058823528, 233.33333333333331, 141.1764705882353, 0.5)",
          "width": 0.5
         },
         "mode": "lines",
         "type": "scatter",
         "x": [
          -0.09712082956116205,
          -0.17061830911863504,
          null
         ],
         "y": [
          0.16616080061522118,
          0.16087499144082618,
          null
         ]
        },
        {
         "hoverinfo": "none",
         "line": {
          "color": "rgba(144.0, 238.0, 144.0, 0.5)",
          "width": 0.5
         },
         "mode": "lines",
         "type": "scatter",
         "x": [
          -0.09712082956116205,
          -0.03705981388259749,
          null
         ],
         "y": [
          0.16616080061522118,
          -0.06691982066653902,
          null
         ]
        },
        {
         "hoverinfo": "none",
         "line": {
          "color": "rgba(144.0, 238.0, 144.0, 0.5)",
          "width": 0.5
         },
         "mode": "lines",
         "type": "scatter",
         "x": [
          -0.09712082956116205,
          -0.1310758831768436,
          null
         ],
         "y": [
          0.16616080061522118,
          0.1092337977977338,
          null
         ]
        },
        {
         "hoverinfo": "none",
         "line": {
          "color": "rgba(146.17647058823528, 233.33333333333331, 141.1764705882353, 0.5)",
          "width": 0.5
         },
         "mode": "lines",
         "type": "scatter",
         "x": [
          0.3646472940287012,
          0.2255783421536663,
          null
         ],
         "y": [
          -0.45147715700301844,
          -0.33655595515679293,
          null
         ]
        },
        {
         "hoverinfo": "none",
         "line": {
          "color": "rgba(144.0, 238.0, 144.0, 0.5)",
          "width": 0.5
         },
         "mode": "lines",
         "type": "scatter",
         "x": [
          0.2255783421536663,
          0.2499440796226149,
          null
         ],
         "y": [
          -0.33655595515679293,
          -0.5244762083205755,
          null
         ]
        },
        {
         "hoverinfo": "none",
         "line": {
          "color": "rgba(144.0, 238.0, 144.0, 0.5)",
          "width": 0.5
         },
         "mode": "lines",
         "type": "scatter",
         "x": [
          0.2255783421536663,
          0.3197984603220672,
          null
         ],
         "y": [
          -0.33655595515679293,
          -0.6866329409948275,
          null
         ]
        },
        {
         "hoverinfo": "none",
         "line": {
          "color": "rgba(146.17647058823528, 233.33333333333331, 141.1764705882353, 0.5)",
          "width": 0.5
         },
         "mode": "lines",
         "type": "scatter",
         "x": [
          0.2255783421536663,
          0.322048109851657,
          null
         ],
         "y": [
          -0.33655595515679293,
          -0.4967902766951395,
          null
         ]
        },
        {
         "hoverinfo": "none",
         "line": {
          "color": "rgba(144.0, 238.0, 144.0, 0.5)",
          "width": 0.5
         },
         "mode": "lines",
         "type": "scatter",
         "x": [
          0.24034291504186064,
          0.3197984603220672,
          null
         ],
         "y": [
          -0.6694931776181153,
          -0.6866329409948275,
          null
         ]
        },
        {
         "hoverinfo": "none",
         "line": {
          "color": "rgba(144.0, 238.0, 144.0, 0.5)",
          "width": 0.5
         },
         "mode": "lines",
         "type": "scatter",
         "x": [
          0.24034291504186064,
          0.14270551669236803,
          null
         ],
         "y": [
          -0.6694931776181153,
          -0.6287464926388941,
          null
         ]
        },
        {
         "hoverinfo": "none",
         "line": {
          "color": "rgba(144.0, 238.0, 144.0, 0.5)",
          "width": 0.5
         },
         "mode": "lines",
         "type": "scatter",
         "x": [
          0.24034291504186064,
          0.2499440796226149,
          null
         ],
         "y": [
          -0.6694931776181153,
          -0.5244762083205755,
          null
         ]
        },
        {
         "hoverinfo": "none",
         "line": {
          "color": "rgba(148.78823529411764, 227.73333333333335, 137.78823529411767, 0.5)",
          "width": 0.5
         },
         "mode": "lines",
         "type": "scatter",
         "x": [
          0.3197984603220672,
          0.2499440796226149,
          null
         ],
         "y": [
          -0.6866329409948275,
          -0.5244762083205755,
          null
         ]
        },
        {
         "hoverinfo": "none",
         "line": {
          "color": "rgba(144.0, 238.0, 144.0, 0.5)",
          "width": 0.5
         },
         "mode": "lines",
         "type": "scatter",
         "x": [
          0.3197984603220672,
          0.14270551669236803,
          null
         ],
         "y": [
          -0.6866329409948275,
          -0.6287464926388941,
          null
         ]
        },
        {
         "hoverinfo": "none",
         "line": {
          "color": "rgba(144.0, 238.0, 144.0, 0.5)",
          "width": 0.5
         },
         "mode": "lines",
         "type": "scatter",
         "x": [
          0.2499440796226149,
          0.14270551669236803,
          null
         ],
         "y": [
          -0.5244762083205755,
          -0.6287464926388941,
          null
         ]
        },
        {
         "hoverinfo": "none",
         "line": {
          "color": "rgba(144.0, 238.0, 144.0, 0.5)",
          "width": 0.5
         },
         "mode": "lines",
         "type": "scatter",
         "x": [
          0.2499440796226149,
          0.08032564751396598,
          null
         ],
         "y": [
          -0.5244762083205755,
          -0.02409632523960449,
          null
         ]
        },
        {
         "hoverinfo": "none",
         "line": {
          "color": "rgba(144.0, 238.0, 144.0, 0.5)",
          "width": 0.5
         },
         "mode": "lines",
         "type": "scatter",
         "x": [
          0.08032564751396598,
          0.1681471909172889,
          null
         ],
         "y": [
          -0.02409632523960449,
          0.12252577017806437,
          null
         ]
        },
        {
         "hoverinfo": "none",
         "line": {
          "color": "rgba(144.0, 238.0, 144.0, 0.5)",
          "width": 0.5
         },
         "mode": "lines",
         "type": "scatter",
         "x": [
          0.08032564751396598,
          -0.021233240631821707,
          null
         ],
         "y": [
          -0.02409632523960449,
          -0.04959646375473747,
          null
         ]
        },
        {
         "hoverinfo": "none",
         "line": {
          "color": "rgba(144.0, 238.0, 144.0, 0.5)",
          "width": 0.5
         },
         "mode": "lines",
         "type": "scatter",
         "x": [
          0.08032564751396598,
          -0.21506768916699479,
          null
         ],
         "y": [
          -0.02409632523960449,
          -0.2787256230087928,
          null
         ]
        },
        {
         "hoverinfo": "none",
         "line": {
          "color": "rgba(144.0, 238.0, 144.0, 0.5)",
          "width": 0.5
         },
         "mode": "lines",
         "type": "scatter",
         "x": [
          0.08032564751396598,
          -0.21841503354558905,
          null
         ],
         "y": [
          -0.02409632523960449,
          -0.0945802778400624,
          null
         ]
        },
        {
         "hoverinfo": "none",
         "line": {
          "color": "rgba(146.17647058823528, 233.33333333333331, 141.1764705882353, 0.5)",
          "width": 0.5
         },
         "mode": "lines",
         "type": "scatter",
         "x": [
          0.08032564751396598,
          -0.004092312520426679,
          null
         ],
         "y": [
          -0.02409632523960449,
          0.024106741651111197,
          null
         ]
        },
        {
         "hoverinfo": "none",
         "line": {
          "color": "rgba(144.0, 238.0, 144.0, 0.5)",
          "width": 0.5
         },
         "mode": "lines",
         "type": "scatter",
         "x": [
          0.08032564751396598,
          0.005720528430193572,
          null
         ],
         "y": [
          -0.02409632523960449,
          0.1609735299876217,
          null
         ]
        },
        {
         "hoverinfo": "none",
         "line": {
          "color": "rgba(151.4, 222.13333333333335, 134.4, 0.5)",
          "width": 0.5
         },
         "mode": "lines",
         "type": "scatter",
         "x": [
          0.08032564751396598,
          0.005386321220475092,
          null
         ],
         "y": [
          -0.02409632523960449,
          0.04818967093067006,
          null
         ]
        },
        {
         "hoverinfo": "none",
         "line": {
          "color": "rgba(144.0, 238.0, 144.0, 0.5)",
          "width": 0.5
         },
         "mode": "lines",
         "type": "scatter",
         "x": [
          0.08032564751396598,
          0.023384759964192165,
          null
         ],
         "y": [
          -0.02409632523960449,
          -0.19734267718946394,
          null
         ]
        },
        {
         "hoverinfo": "none",
         "line": {
          "color": "rgba(144.0, 238.0, 144.0, 0.5)",
          "width": 0.5
         },
         "mode": "lines",
         "type": "scatter",
         "x": [
          0.08032564751396598,
          0.01102729588140955,
          null
         ],
         "y": [
          -0.02409632523960449,
          -0.0593242624273822,
          null
         ]
        },
        {
         "hoverinfo": "none",
         "line": {
          "color": "rgba(146.17647058823528, 233.33333333333331, 141.1764705882353, 0.5)",
          "width": 0.5
         },
         "mode": "lines",
         "type": "scatter",
         "x": [
          0.08032564751396598,
          0.2534199335857249,
          null
         ],
         "y": [
          -0.02409632523960449,
          0.11127925321556327,
          null
         ]
        },
        {
         "hoverinfo": "none",
         "line": {
          "color": "rgba(148.78823529411764, 227.73333333333335, 137.78823529411767, 0.5)",
          "width": 0.5
         },
         "mode": "lines",
         "type": "scatter",
         "x": [
          0.08032564751396598,
          0.2680454697221705,
          null
         ],
         "y": [
          -0.02409632523960449,
          0.018037818296431442,
          null
         ]
        },
        {
         "hoverinfo": "none",
         "line": {
          "color": "rgba(144.0, 238.0, 144.0, 0.5)",
          "width": 0.5
         },
         "mode": "lines",
         "type": "scatter",
         "x": [
          0.08032564751396598,
          -0.1310758831768436,
          null
         ],
         "y": [
          -0.02409632523960449,
          0.1092337977977338,
          null
         ]
        },
        {
         "hoverinfo": "none",
         "line": {
          "color": "rgba(144.0, 238.0, 144.0, 0.5)",
          "width": 0.5
         },
         "mode": "lines",
         "type": "scatter",
         "x": [
          0.08032564751396598,
          -0.03705981388259749,
          null
         ],
         "y": [
          -0.02409632523960449,
          -0.06691982066653902,
          null
         ]
        },
        {
         "hoverinfo": "none",
         "line": {
          "color": "rgba(144.0, 238.0, 144.0, 0.5)",
          "width": 0.5
         },
         "mode": "lines",
         "type": "scatter",
         "x": [
          0.08032564751396598,
          -0.09217634642314189,
          null
         ],
         "y": [
          -0.02409632523960449,
          0.10947281325324452,
          null
         ]
        },
        {
         "hoverinfo": "none",
         "line": {
          "color": "rgba(144.0, 238.0, 144.0, 0.5)",
          "width": 0.5
         },
         "mode": "lines",
         "type": "scatter",
         "x": [
          0.08032564751396598,
          -0.02944573707110539,
          null
         ],
         "y": [
          -0.02409632523960449,
          0.15990157972187483,
          null
         ]
        },
        {
         "hoverinfo": "none",
         "line": {
          "color": "rgba(146.17647058823528, 233.33333333333331, 141.1764705882353, 0.5)",
          "width": 0.5
         },
         "mode": "lines",
         "type": "scatter",
         "x": [
          0.08032564751396598,
          0.44053857609595404,
          null
         ],
         "y": [
          -0.02409632523960449,
          0.15370652239066104,
          null
         ]
        },
        {
         "hoverinfo": "none",
         "line": {
          "color": "rgba(159.23529411764704, 205.33333333333334, 124.23529411764706, 0.5)",
          "width": 0.5
         },
         "mode": "lines",
         "type": "scatter",
         "x": [
          0.08032564751396598,
          -0.08002563823441185,
          null
         ],
         "y": [
          -0.02409632523960449,
          -0.06939400517860572,
          null
         ]
        },
        {
         "hoverinfo": "none",
         "line": {
          "color": "rgba(144.0, 238.0, 144.0, 0.5)",
          "width": 0.5
         },
         "mode": "lines",
         "type": "scatter",
         "x": [
          0.08032564751396598,
          -0.09888059852184569,
          null
         ],
         "y": [
          -0.02409632523960449,
          0.019712051440705456,
          null
         ]
        },
        {
         "hoverinfo": "none",
         "line": {
          "color": "rgba(144.0, 238.0, 144.0, 0.5)",
          "width": 0.5
         },
         "mode": "lines",
         "type": "scatter",
         "x": [
          0.08032564751396598,
          -0.1840932534843109,
          null
         ],
         "y": [
          -0.02409632523960449,
          -0.1878456931166274,
          null
         ]
        },
        {
         "hoverinfo": "none",
         "line": {
          "color": "rgba(144.0, 238.0, 144.0, 0.5)",
          "width": 0.5
         },
         "mode": "lines",
         "type": "scatter",
         "x": [
          0.08032564751396598,
          -0.1103728414169264,
          null
         ],
         "y": [
          -0.02409632523960449,
          -0.014126211710549553,
          null
         ]
        },
        {
         "hoverinfo": "none",
         "line": {
          "color": "rgba(144.0, 238.0, 144.0, 0.5)",
          "width": 0.5
         },
         "mode": "lines",
         "type": "scatter",
         "x": [
          0.08032564751396598,
          -0.28799831737468357,
          null
         ],
         "y": [
          -0.02409632523960449,
          -0.375414055482189,
          null
         ]
        },
        {
         "hoverinfo": "none",
         "line": {
          "color": "rgba(146.17647058823528, 233.33333333333331, 141.1764705882353, 0.5)",
          "width": 0.5
         },
         "mode": "lines",
         "type": "scatter",
         "x": [
          0.08032564751396598,
          0.1158453758115048,
          null
         ],
         "y": [
          -0.02409632523960449,
          0.29463524803815394,
          null
         ]
        },
        {
         "hoverinfo": "none",
         "line": {
          "color": "rgba(144.0, 238.0, 144.0, 0.5)",
          "width": 0.5
         },
         "mode": "lines",
         "type": "scatter",
         "x": [
          0.08032564751396598,
          0.5170417014459732,
          null
         ],
         "y": [
          -0.02409632523960449,
          0.31729743710147773,
          null
         ]
        },
        {
         "hoverinfo": "none",
         "line": {
          "color": "rgba(151.4, 222.13333333333335, 134.4, 0.5)",
          "width": 0.5
         },
         "mode": "lines",
         "type": "scatter",
         "x": [
          0.4148875712192451,
          0.23010504573538224,
          null
         ],
         "y": [
          -0.11238755379678743,
          0.08416042030327081,
          null
         ]
        },
        {
         "hoverinfo": "none",
         "line": {
          "color": "rgba(144.0, 238.0, 144.0, 0.5)",
          "width": 0.5
         },
         "mode": "lines",
         "type": "scatter",
         "x": [
          0.4148875712192451,
          0.1681471909172889,
          null
         ],
         "y": [
          -0.11238755379678743,
          0.12252577017806437,
          null
         ]
        },
        {
         "hoverinfo": "none",
         "line": {
          "color": "rgba(146.17647058823528, 233.33333333333331, 141.1764705882353, 0.5)",
          "width": 0.5
         },
         "mode": "lines",
         "type": "scatter",
         "x": [
          0.4148875712192451,
          0.7413904905940539,
          null
         ],
         "y": [
          -0.11238755379678743,
          -0.38207241515218604,
          null
         ]
        },
        {
         "hoverinfo": "none",
         "line": {
          "color": "rgba(146.17647058823528, 233.33333333333331, 141.1764705882353, 0.5)",
          "width": 0.5
         },
         "mode": "lines",
         "type": "scatter",
         "x": [
          0.4148875712192451,
          0.24027995853925033,
          null
         ],
         "y": [
          -0.11238755379678743,
          -0.006338437098562069,
          null
         ]
        },
        {
         "hoverinfo": "none",
         "line": {
          "color": "rgba(144.0, 238.0, 144.0, 0.5)",
          "width": 0.5
         },
         "mode": "lines",
         "type": "scatter",
         "x": [
          0.23010504573538224,
          0.1681471909172889,
          null
         ],
         "y": [
          0.08416042030327081,
          0.12252577017806437,
          null
         ]
        },
        {
         "hoverinfo": "none",
         "line": {
          "color": "rgba(144.0, 238.0, 144.0, 0.5)",
          "width": 0.5
         },
         "mode": "lines",
         "type": "scatter",
         "x": [
          0.23010504573538224,
          0.29974872209354714,
          null
         ],
         "y": [
          0.08416042030327081,
          0.13546324523716463,
          null
         ]
        },
        {
         "hoverinfo": "none",
         "line": {
          "color": "rgba(144.0, 238.0, 144.0, 0.5)",
          "width": 0.5
         },
         "mode": "lines",
         "type": "scatter",
         "x": [
          0.23010504573538224,
          0.0633813890216842,
          null
         ],
         "y": [
          0.08416042030327081,
          0.1708497958201921,
          null
         ]
        },
        {
         "hoverinfo": "none",
         "line": {
          "color": "rgba(146.17647058823528, 233.33333333333331, 141.1764705882353, 0.5)",
          "width": 0.5
         },
         "mode": "lines",
         "type": "scatter",
         "x": [
          0.23010504573538224,
          0.11864841531844185,
          null
         ],
         "y": [
          0.08416042030327081,
          0.10057846423515035,
          null
         ]
        },
        {
         "hoverinfo": "none",
         "line": {
          "color": "rgba(151.4, 222.13333333333335, 134.4, 0.5)",
          "width": 0.5
         },
         "mode": "lines",
         "type": "scatter",
         "x": [
          0.23010504573538224,
          0.34849815216105473,
          null
         ],
         "y": [
          0.08416042030327081,
          0.0031757432778342985,
          null
         ]
        },
        {
         "hoverinfo": "none",
         "line": {
          "color": "rgba(146.17647058823528, 233.33333333333331, 141.1764705882353, 0.5)",
          "width": 0.5
         },
         "mode": "lines",
         "type": "scatter",
         "x": [
          0.23010504573538224,
          0.24027995853925033,
          null
         ],
         "y": [
          0.08416042030327081,
          -0.006338437098562069,
          null
         ]
        },
        {
         "hoverinfo": "none",
         "line": {
          "color": "rgba(146.17647058823528, 233.33333333333331, 141.1764705882353, 0.5)",
          "width": 0.5
         },
         "mode": "lines",
         "type": "scatter",
         "x": [
          0.23010504573538224,
          0.4485713614547625,
          null
         ],
         "y": [
          0.08416042030327081,
          0.1065702378510162,
          null
         ]
        },
        {
         "hoverinfo": "none",
         "line": {
          "color": "rgba(144.0, 238.0, 144.0, 0.5)",
          "width": 0.5
         },
         "mode": "lines",
         "type": "scatter",
         "x": [
          0.23010504573538224,
          0.46137143485782556,
          null
         ],
         "y": [
          0.08416042030327081,
          0.22490919853615368,
          null
         ]
        },
        {
         "hoverinfo": "none",
         "line": {
          "color": "rgba(144.0, 238.0, 144.0, 0.5)",
          "width": 0.5
         },
         "mode": "lines",
         "type": "scatter",
         "x": [
          0.23010504573538224,
          0.37768535454200663,
          null
         ],
         "y": [
          0.08416042030327081,
          0.05514185504872265,
          null
         ]
        },
        {
         "hoverinfo": "none",
         "line": {
          "color": "rgba(144.0, 238.0, 144.0, 0.5)",
          "width": 0.5
         },
         "mode": "lines",
         "type": "scatter",
         "x": [
          0.23010504573538224,
          -0.004092312520426679,
          null
         ],
         "y": [
          0.08416042030327081,
          0.024106741651111197,
          null
         ]
        },
        {
         "hoverinfo": "none",
         "line": {
          "color": "rgba(144.0, 238.0, 144.0, 0.5)",
          "width": 0.5
         },
         "mode": "lines",
         "type": "scatter",
         "x": [
          0.23010504573538224,
          -0.04789367222069038,
          null
         ],
         "y": [
          0.08416042030327081,
          0.12632699513542509,
          null
         ]
        },
        {
         "hoverinfo": "none",
         "line": {
          "color": "rgba(144.0, 238.0, 144.0, 0.5)",
          "width": 0.5
         },
         "mode": "lines",
         "type": "scatter",
         "x": [
          0.23010504573538224,
          0.1208207247688906,
          null
         ],
         "y": [
          0.08416042030327081,
          -0.01204508455225134,
          null
         ]
        },
        {
         "hoverinfo": "none",
         "line": {
          "color": "rgba(144.0, 238.0, 144.0, 0.5)",
          "width": 0.5
         },
         "mode": "lines",
         "type": "scatter",
         "x": [
          0.23010504573538224,
          0.3380234153202886,
          null
         ],
         "y": [
          0.08416042030327081,
          -0.13438898539837152,
          null
         ]
        },
        {
         "hoverinfo": "none",
         "line": {
          "color": "rgba(144.0, 238.0, 144.0, 0.5)",
          "width": 0.5
         },
         "mode": "lines",
         "type": "scatter",
         "x": [
          0.23010504573538224,
          0.005386321220475092,
          null
         ],
         "y": [
          0.08416042030327081,
          0.04818967093067006,
          null
         ]
        },
        {
         "hoverinfo": "none",
         "line": {
          "color": "rgba(144.0, 238.0, 144.0, 0.5)",
          "width": 0.5
         },
         "mode": "lines",
         "type": "scatter",
         "x": [
          0.23010504573538224,
          0.00608491303550132,
          null
         ],
         "y": [
          0.08416042030327081,
          0.1386826777322132,
          null
         ]
        },
        {
         "hoverinfo": "none",
         "line": {
          "color": "rgba(144.0, 238.0, 144.0, 0.5)",
          "width": 0.5
         },
         "mode": "lines",
         "type": "scatter",
         "x": [
          0.23010504573538224,
          0.24312232119304752,
          null
         ],
         "y": [
          0.08416042030327081,
          0.22272154339534592,
          null
         ]
        },
        {
         "hoverinfo": "none",
         "line": {
          "color": "rgba(146.17647058823528, 233.33333333333331, 141.1764705882353, 0.5)",
          "width": 0.5
         },
         "mode": "lines",
         "type": "scatter",
         "x": [
          0.23010504573538224,
          -0.08609823480974288,
          null
         ],
         "y": [
          0.08416042030327081,
          0.1553027250389448,
          null
         ]
        },
        {
         "hoverinfo": "none",
         "line": {
          "color": "rgba(144.0, 238.0, 144.0, 0.5)",
          "width": 0.5
         },
         "mode": "lines",
         "type": "scatter",
         "x": [
          0.23010504573538224,
          -0.04312852812558068,
          null
         ],
         "y": [
          0.08416042030327081,
          0.06529052607210352,
          null
         ]
        },
        {
         "hoverinfo": "none",
         "line": {
          "color": "rgba(144.0, 238.0, 144.0, 0.5)",
          "width": 0.5
         },
         "mode": "lines",
         "type": "scatter",
         "x": [
          0.23010504573538224,
          0.2525798560701464,
          null
         ],
         "y": [
          0.08416042030327081,
          0.44954060038311183,
          null
         ]
        },
        {
         "hoverinfo": "none",
         "line": {
          "color": "rgba(144.0, 238.0, 144.0, 0.5)",
          "width": 0.5
         },
         "mode": "lines",
         "type": "scatter",
         "x": [
          0.23010504573538224,
          0.005720528430193572,
          null
         ],
         "y": [
          0.08416042030327081,
          0.1609735299876217,
          null
         ]
        },
        {
         "hoverinfo": "none",
         "line": {
          "color": "rgba(144.0, 238.0, 144.0, 0.5)",
          "width": 0.5
         },
         "mode": "lines",
         "type": "scatter",
         "x": [
          0.1681471909172889,
          0.29974872209354714,
          null
         ],
         "y": [
          0.12252577017806437,
          0.13546324523716463,
          null
         ]
        },
        {
         "hoverinfo": "none",
         "line": {
          "color": "rgba(144.0, 238.0, 144.0, 0.5)",
          "width": 0.5
         },
         "mode": "lines",
         "type": "scatter",
         "x": [
          0.1681471909172889,
          0.11864841531844185,
          null
         ],
         "y": [
          0.12252577017806437,
          0.10057846423515035,
          null
         ]
        },
        {
         "hoverinfo": "none",
         "line": {
          "color": "rgba(144.0, 238.0, 144.0, 0.5)",
          "width": 0.5
         },
         "mode": "lines",
         "type": "scatter",
         "x": [
          0.1681471909172889,
          0.37768535454200663,
          null
         ],
         "y": [
          0.12252577017806437,
          0.05514185504872265,
          null
         ]
        },
        {
         "hoverinfo": "none",
         "line": {
          "color": "rgba(144.0, 238.0, 144.0, 0.5)",
          "width": 0.5
         },
         "mode": "lines",
         "type": "scatter",
         "x": [
          0.1681471909172889,
          0.3169063743701449,
          null
         ],
         "y": [
          0.12252577017806437,
          0.3010327765827759,
          null
         ]
        },
        {
         "hoverinfo": "none",
         "line": {
          "color": "rgba(154.01176470588237, 216.53333333333333, 131.01176470588237, 0.5)",
          "width": 0.5
         },
         "mode": "lines",
         "type": "scatter",
         "x": [
          0.1681471909172889,
          0.24027995853925033,
          null
         ],
         "y": [
          0.12252577017806437,
          -0.006338437098562069,
          null
         ]
        },
        {
         "hoverinfo": "none",
         "line": {
          "color": "rgba(144.0, 238.0, 144.0, 0.5)",
          "width": 0.5
         },
         "mode": "lines",
         "type": "scatter",
         "x": [
          0.1681471909172889,
          0.34849815216105473,
          null
         ],
         "y": [
          0.12252577017806437,
          0.0031757432778342985,
          null
         ]
        },
        {
         "hoverinfo": "none",
         "line": {
          "color": "rgba(144.0, 238.0, 144.0, 0.5)",
          "width": 0.5
         },
         "mode": "lines",
         "type": "scatter",
         "x": [
          0.1681471909172889,
          -0.059980207520610444,
          null
         ],
         "y": [
          0.12252577017806437,
          -0.023130294095487357,
          null
         ]
        },
        {
         "hoverinfo": "none",
         "line": {
          "color": "rgba(146.17647058823528, 233.33333333333331, 141.1764705882353, 0.5)",
          "width": 0.5
         },
         "mode": "lines",
         "type": "scatter",
         "x": [
          0.1681471909172889,
          0.48178711162465143,
          null
         ],
         "y": [
          0.12252577017806437,
          -0.025398746802250172,
          null
         ]
        },
        {
         "hoverinfo": "none",
         "line": {
          "color": "rgba(144.0, 238.0, 144.0, 0.5)",
          "width": 0.5
         },
         "mode": "lines",
         "type": "scatter",
         "x": [
          0.1681471909172889,
          0.4485713614547625,
          null
         ],
         "y": [
          0.12252577017806437,
          0.1065702378510162,
          null
         ]
        },
        {
         "hoverinfo": "none",
         "line": {
          "color": "rgba(144.0, 238.0, 144.0, 0.5)",
          "width": 0.5
         },
         "mode": "lines",
         "type": "scatter",
         "x": [
          0.1681471909172889,
          0.46137143485782556,
          null
         ],
         "y": [
          0.12252577017806437,
          0.22490919853615368,
          null
         ]
        },
        {
         "hoverinfo": "none",
         "line": {
          "color": "rgba(146.17647058823528, 233.33333333333331, 141.1764705882353, 0.5)",
          "width": 0.5
         },
         "mode": "lines",
         "type": "scatter",
         "x": [
          0.1681471909172889,
          0.14989312569988808,
          null
         ],
         "y": [
          0.12252577017806437,
          -0.03096123652709826,
          null
         ]
        },
        {
         "hoverinfo": "none",
         "line": {
          "color": "rgba(144.0, 238.0, 144.0, 0.5)",
          "width": 0.5
         },
         "mode": "lines",
         "type": "scatter",
         "x": [
          0.1681471909172889,
          -0.004092312520426679,
          null
         ],
         "y": [
          0.12252577017806437,
          0.024106741651111197,
          null
         ]
        },
        {
         "hoverinfo": "none",
         "line": {
          "color": "rgba(144.0, 238.0, 144.0, 0.5)",
          "width": 0.5
         },
         "mode": "lines",
         "type": "scatter",
         "x": [
          0.1681471909172889,
          -0.021233240631821707,
          null
         ],
         "y": [
          0.12252577017806437,
          -0.04959646375473747,
          null
         ]
        },
        {
         "hoverinfo": "none",
         "line": {
          "color": "rgba(144.0, 238.0, 144.0, 0.5)",
          "width": 0.5
         },
         "mode": "lines",
         "type": "scatter",
         "x": [
          0.1681471909172889,
          -0.01920046280766127,
          null
         ],
         "y": [
          0.12252577017806437,
          0.05693354076657738,
          null
         ]
        },
        {
         "hoverinfo": "none",
         "line": {
          "color": "rgba(144.0, 238.0, 144.0, 0.5)",
          "width": 0.5
         },
         "mode": "lines",
         "type": "scatter",
         "x": [
          0.1681471909172889,
          0.0633813890216842,
          null
         ],
         "y": [
          0.12252577017806437,
          0.1708497958201921,
          null
         ]
        },
        {
         "hoverinfo": "none",
         "line": {
          "color": "rgba(144.0, 238.0, 144.0, 0.5)",
          "width": 0.5
         },
         "mode": "lines",
         "type": "scatter",
         "x": [
          0.1681471909172889,
          -0.04789367222069038,
          null
         ],
         "y": [
          0.12252577017806437,
          0.12632699513542509,
          null
         ]
        },
        {
         "hoverinfo": "none",
         "line": {
          "color": "rgba(144.0, 238.0, 144.0, 0.5)",
          "width": 0.5
         },
         "mode": "lines",
         "type": "scatter",
         "x": [
          0.1681471909172889,
          -0.02944573707110539,
          null
         ],
         "y": [
          0.12252577017806437,
          0.15990157972187483,
          null
         ]
        },
        {
         "hoverinfo": "none",
         "line": {
          "color": "rgba(144.0, 238.0, 144.0, 0.5)",
          "width": 0.5
         },
         "mode": "lines",
         "type": "scatter",
         "x": [
          0.1681471909172889,
          -0.08609823480974288,
          null
         ],
         "y": [
          0.12252577017806437,
          0.1553027250389448,
          null
         ]
        },
        {
         "hoverinfo": "none",
         "line": {
          "color": "rgba(144.0, 238.0, 144.0, 0.5)",
          "width": 0.5
         },
         "mode": "lines",
         "type": "scatter",
         "x": [
          0.1681471909172889,
          0.1208207247688906,
          null
         ],
         "y": [
          0.12252577017806437,
          -0.01204508455225134,
          null
         ]
        },
        {
         "hoverinfo": "none",
         "line": {
          "color": "rgba(144.0, 238.0, 144.0, 0.5)",
          "width": 0.5
         },
         "mode": "lines",
         "type": "scatter",
         "x": [
          0.1681471909172889,
          -0.08530667865266246,
          null
         ],
         "y": [
          0.12252577017806437,
          -0.10009792139295513,
          null
         ]
        },
        {
         "hoverinfo": "none",
         "line": {
          "color": "rgba(144.0, 238.0, 144.0, 0.5)",
          "width": 0.5
         },
         "mode": "lines",
         "type": "scatter",
         "x": [
          0.1681471909172889,
          -0.04312852812558068,
          null
         ],
         "y": [
          0.12252577017806437,
          0.06529052607210352,
          null
         ]
        },
        {
         "hoverinfo": "none",
         "line": {
          "color": "rgba(144.0, 238.0, 144.0, 0.5)",
          "width": 0.5
         },
         "mode": "lines",
         "type": "scatter",
         "x": [
          0.1681471909172889,
          0.03318362620603166,
          null
         ],
         "y": [
          0.12252577017806437,
          0.40262569127087705,
          null
         ]
        },
        {
         "hoverinfo": "none",
         "line": {
          "color": "rgba(144.0, 238.0, 144.0, 0.5)",
          "width": 0.5
         },
         "mode": "lines",
         "type": "scatter",
         "x": [
          0.1681471909172889,
          -0.16077250953811276,
          null
         ],
         "y": [
          0.12252577017806437,
          0.3360781181857651,
          null
         ]
        },
        {
         "hoverinfo": "none",
         "line": {
          "color": "rgba(144.0, 238.0, 144.0, 0.5)",
          "width": 0.5
         },
         "mode": "lines",
         "type": "scatter",
         "x": [
          0.1681471909172889,
          -0.0795150080994743,
          null
         ],
         "y": [
          0.12252577017806437,
          0.2172236208559976,
          null
         ]
        },
        {
         "hoverinfo": "none",
         "line": {
          "color": "rgba(144.0, 238.0, 144.0, 0.5)",
          "width": 0.5
         },
         "mode": "lines",
         "type": "scatter",
         "x": [
          0.1681471909172889,
          -0.09217634642314189,
          null
         ],
         "y": [
          0.12252577017806437,
          0.10947281325324452,
          null
         ]
        },
        {
         "hoverinfo": "none",
         "line": {
          "color": "rgba(144.0, 238.0, 144.0, 0.5)",
          "width": 0.5
         },
         "mode": "lines",
         "type": "scatter",
         "x": [
          0.1681471909172889,
          0.005386321220475092,
          null
         ],
         "y": [
          0.12252577017806437,
          0.04818967093067006,
          null
         ]
        },
        {
         "hoverinfo": "none",
         "line": {
          "color": "rgba(144.0, 238.0, 144.0, 0.5)",
          "width": 0.5
         },
         "mode": "lines",
         "type": "scatter",
         "x": [
          0.1681471909172889,
          -0.1103728414169264,
          null
         ],
         "y": [
          0.12252577017806437,
          -0.014126211710549553,
          null
         ]
        },
        {
         "hoverinfo": "none",
         "line": {
          "color": "rgba(144.0, 238.0, 144.0, 0.5)",
          "width": 0.5
         },
         "mode": "lines",
         "type": "scatter",
         "x": [
          0.1681471909172889,
          0.11682886181796201,
          null
         ],
         "y": [
          0.12252577017806437,
          0.3755850632547882,
          null
         ]
        },
        {
         "hoverinfo": "none",
         "line": {
          "color": "rgba(146.17647058823528, 233.33333333333331, 141.1764705882353, 0.5)",
          "width": 0.5
         },
         "mode": "lines",
         "type": "scatter",
         "x": [
          0.1681471909172889,
          0.24312232119304752,
          null
         ],
         "y": [
          0.12252577017806437,
          0.22272154339534592,
          null
         ]
        },
        {
         "hoverinfo": "none",
         "line": {
          "color": "rgba(144.0, 238.0, 144.0, 0.5)",
          "width": 0.5
         },
         "mode": "lines",
         "type": "scatter",
         "x": [
          0.1681471909172889,
          0.2525798560701464,
          null
         ],
         "y": [
          0.12252577017806437,
          0.44954060038311183,
          null
         ]
        },
        {
         "hoverinfo": "none",
         "line": {
          "color": "rgba(144.0, 238.0, 144.0, 0.5)",
          "width": 0.5
         },
         "mode": "lines",
         "type": "scatter",
         "x": [
          0.1681471909172889,
          -0.0642487984527689,
          null
         ],
         "y": [
          0.12252577017806437,
          0.03486906981503287,
          null
         ]
        },
        {
         "hoverinfo": "none",
         "line": {
          "color": "rgba(144.0, 238.0, 144.0, 0.5)",
          "width": 0.5
         },
         "mode": "lines",
         "type": "scatter",
         "x": [
          0.1681471909172889,
          -0.019899021063032183,
          null
         ],
         "y": [
          0.12252577017806437,
          0.3334359612380626,
          null
         ]
        },
        {
         "hoverinfo": "none",
         "line": {
          "color": "rgba(144.0, 238.0, 144.0, 0.5)",
          "width": 0.5
         },
         "mode": "lines",
         "type": "scatter",
         "x": [
          0.1681471909172889,
          0.1158453758115048,
          null
         ],
         "y": [
          0.12252577017806437,
          0.29463524803815394,
          null
         ]
        },
        {
         "hoverinfo": "none",
         "line": {
          "color": "rgba(151.4, 222.13333333333335, 134.4, 0.5)",
          "width": 0.5
         },
         "mode": "lines",
         "type": "scatter",
         "x": [
          0.4485713614547625,
          0.46137143485782556,
          null
         ],
         "y": [
          0.1065702378510162,
          0.22490919853615368,
          null
         ]
        },
        {
         "hoverinfo": "none",
         "line": {
          "color": "rgba(144.0, 238.0, 144.0, 0.5)",
          "width": 0.5
         },
         "mode": "lines",
         "type": "scatter",
         "x": [
          0.4485713614547625,
          0.37768535454200663,
          null
         ],
         "y": [
          0.1065702378510162,
          0.05514185504872265,
          null
         ]
        },
        {
         "hoverinfo": "none",
         "line": {
          "color": "rgba(144.0, 238.0, 144.0, 0.5)",
          "width": 0.5
         },
         "mode": "lines",
         "type": "scatter",
         "x": [
          0.4485713614547625,
          0.11864841531844185,
          null
         ],
         "y": [
          0.1065702378510162,
          0.10057846423515035,
          null
         ]
        },
        {
         "hoverinfo": "none",
         "line": {
          "color": "rgba(144.0, 238.0, 144.0, 0.5)",
          "width": 0.5
         },
         "mode": "lines",
         "type": "scatter",
         "x": [
          0.4485713614547625,
          0.29974872209354714,
          null
         ],
         "y": [
          0.1065702378510162,
          0.13546324523716463,
          null
         ]
        },
        {
         "hoverinfo": "none",
         "line": {
          "color": "rgba(144.0, 238.0, 144.0, 0.5)",
          "width": 0.5
         },
         "mode": "lines",
         "type": "scatter",
         "x": [
          0.4485713614547625,
          0.24027995853925033,
          null
         ],
         "y": [
          0.1065702378510162,
          -0.006338437098562069,
          null
         ]
        },
        {
         "hoverinfo": "none",
         "line": {
          "color": "rgba(144.0, 238.0, 144.0, 0.5)",
          "width": 0.5
         },
         "mode": "lines",
         "type": "scatter",
         "x": [
          0.46137143485782556,
          0.29974872209354714,
          null
         ],
         "y": [
          0.22490919853615368,
          0.13546324523716463,
          null
         ]
        },
        {
         "hoverinfo": "none",
         "line": {
          "color": "rgba(144.0, 238.0, 144.0, 0.5)",
          "width": 0.5
         },
         "mode": "lines",
         "type": "scatter",
         "x": [
          0.46137143485782556,
          -0.01920046280766127,
          null
         ],
         "y": [
          0.22490919853615368,
          0.05693354076657738,
          null
         ]
        },
        {
         "hoverinfo": "none",
         "line": {
          "color": "rgba(146.17647058823528, 233.33333333333331, 141.1764705882353, 0.5)",
          "width": 0.5
         },
         "mode": "lines",
         "type": "scatter",
         "x": [
          0.29974872209354714,
          0.11864841531844185,
          null
         ],
         "y": [
          0.13546324523716463,
          0.10057846423515035,
          null
         ]
        },
        {
         "hoverinfo": "none",
         "line": {
          "color": "rgba(144.0, 238.0, 144.0, 0.5)",
          "width": 0.5
         },
         "mode": "lines",
         "type": "scatter",
         "x": [
          0.29974872209354714,
          0.37768535454200663,
          null
         ],
         "y": [
          0.13546324523716463,
          0.05514185504872265,
          null
         ]
        },
        {
         "hoverinfo": "none",
         "line": {
          "color": "rgba(144.0, 238.0, 144.0, 0.5)",
          "width": 0.5
         },
         "mode": "lines",
         "type": "scatter",
         "x": [
          0.29974872209354714,
          0.3169063743701449,
          null
         ],
         "y": [
          0.13546324523716463,
          0.3010327765827759,
          null
         ]
        },
        {
         "hoverinfo": "none",
         "line": {
          "color": "rgba(148.78823529411764, 227.73333333333335, 137.78823529411767, 0.5)",
          "width": 0.5
         },
         "mode": "lines",
         "type": "scatter",
         "x": [
          0.29974872209354714,
          0.0633813890216842,
          null
         ],
         "y": [
          0.13546324523716463,
          0.1708497958201921,
          null
         ]
        },
        {
         "hoverinfo": "none",
         "line": {
          "color": "rgba(146.17647058823528, 233.33333333333331, 141.1764705882353, 0.5)",
          "width": 0.5
         },
         "mode": "lines",
         "type": "scatter",
         "x": [
          0.29974872209354714,
          0.24027995853925033,
          null
         ],
         "y": [
          0.13546324523716463,
          -0.006338437098562069,
          null
         ]
        },
        {
         "hoverinfo": "none",
         "line": {
          "color": "rgba(144.0, 238.0, 144.0, 0.5)",
          "width": 0.5
         },
         "mode": "lines",
         "type": "scatter",
         "x": [
          0.29974872209354714,
          -0.004092312520426679,
          null
         ],
         "y": [
          0.13546324523716463,
          0.024106741651111197,
          null
         ]
        },
        {
         "hoverinfo": "none",
         "line": {
          "color": "rgba(146.17647058823528, 233.33333333333331, 141.1764705882353, 0.5)",
          "width": 0.5
         },
         "mode": "lines",
         "type": "scatter",
         "x": [
          0.11864841531844185,
          0.37768535454200663,
          null
         ],
         "y": [
          0.10057846423515035,
          0.05514185504872265,
          null
         ]
        },
        {
         "hoverinfo": "none",
         "line": {
          "color": "rgba(144.0, 238.0, 144.0, 0.5)",
          "width": 0.5
         },
         "mode": "lines",
         "type": "scatter",
         "x": [
          0.11864841531844185,
          0.24027995853925033,
          null
         ],
         "y": [
          0.10057846423515035,
          -0.006338437098562069,
          null
         ]
        },
        {
         "hoverinfo": "none",
         "line": {
          "color": "rgba(144.0, 238.0, 144.0, 0.5)",
          "width": 0.5
         },
         "mode": "lines",
         "type": "scatter",
         "x": [
          0.11864841531844185,
          0.0633813890216842,
          null
         ],
         "y": [
          0.10057846423515035,
          0.1708497958201921,
          null
         ]
        },
        {
         "hoverinfo": "none",
         "line": {
          "color": "rgba(144.0, 238.0, 144.0, 0.5)",
          "width": 0.5
         },
         "mode": "lines",
         "type": "scatter",
         "x": [
          0.11864841531844185,
          0.3169063743701449,
          null
         ],
         "y": [
          0.10057846423515035,
          0.3010327765827759,
          null
         ]
        },
        {
         "hoverinfo": "none",
         "line": {
          "color": "rgba(144.0, 238.0, 144.0, 0.5)",
          "width": 0.5
         },
         "mode": "lines",
         "type": "scatter",
         "x": [
          0.11864841531844185,
          0.038452299517264144,
          null
         ],
         "y": [
          0.10057846423515035,
          0.2806057862863662,
          null
         ]
        },
        {
         "hoverinfo": "none",
         "line": {
          "color": "rgba(144.0, 238.0, 144.0, 0.5)",
          "width": 0.5
         },
         "mode": "lines",
         "type": "scatter",
         "x": [
          0.11864841531844185,
          -0.19055928449609405,
          null
         ],
         "y": [
          0.10057846423515035,
          0.217299725401975,
          null
         ]
        },
        {
         "hoverinfo": "none",
         "line": {
          "color": "rgba(144.0, 238.0, 144.0, 0.5)",
          "width": 0.5
         },
         "mode": "lines",
         "type": "scatter",
         "x": [
          0.11864841531844185,
          -0.08609823480974288,
          null
         ],
         "y": [
          0.10057846423515035,
          0.1553027250389448,
          null
         ]
        },
        {
         "hoverinfo": "none",
         "line": {
          "color": "rgba(156.6235294117647, 210.93333333333334, 127.62352941176471, 0.5)",
          "width": 0.5
         },
         "mode": "lines",
         "type": "scatter",
         "x": [
          0.11864841531844185,
          -0.004092312520426679,
          null
         ],
         "y": [
          0.10057846423515035,
          0.024106741651111197,
          null
         ]
        },
        {
         "hoverinfo": "none",
         "line": {
          "color": "rgba(146.17647058823528, 233.33333333333331, 141.1764705882353, 0.5)",
          "width": 0.5
         },
         "mode": "lines",
         "type": "scatter",
         "x": [
          0.11864841531844185,
          0.005720528430193572,
          null
         ],
         "y": [
          0.10057846423515035,
          0.1609735299876217,
          null
         ]
        },
        {
         "hoverinfo": "none",
         "line": {
          "color": "rgba(144.0, 238.0, 144.0, 0.5)",
          "width": 0.5
         },
         "mode": "lines",
         "type": "scatter",
         "x": [
          0.11864841531844185,
          -0.18067723358052504,
          null
         ],
         "y": [
          0.10057846423515035,
          -0.12069862000410217,
          null
         ]
        },
        {
         "hoverinfo": "none",
         "line": {
          "color": "rgba(144.0, 238.0, 144.0, 0.5)",
          "width": 0.5
         },
         "mode": "lines",
         "type": "scatter",
         "x": [
          0.11864841531844185,
          -0.0642487984527689,
          null
         ],
         "y": [
          0.10057846423515035,
          0.03486906981503287,
          null
         ]
        },
        {
         "hoverinfo": "none",
         "line": {
          "color": "rgba(144.0, 238.0, 144.0, 0.5)",
          "width": 0.5
         },
         "mode": "lines",
         "type": "scatter",
         "x": [
          0.11864841531844185,
          -0.04312852812558068,
          null
         ],
         "y": [
          0.10057846423515035,
          0.06529052607210352,
          null
         ]
        },
        {
         "hoverinfo": "none",
         "line": {
          "color": "rgba(151.4, 222.13333333333335, 134.4, 0.5)",
          "width": 0.5
         },
         "mode": "lines",
         "type": "scatter",
         "x": [
          0.11864841531844185,
          0.24312232119304752,
          null
         ],
         "y": [
          0.10057846423515035,
          0.22272154339534592,
          null
         ]
        },
        {
         "hoverinfo": "none",
         "line": {
          "color": "rgba(146.17647058823528, 233.33333333333331, 141.1764705882353, 0.5)",
          "width": 0.5
         },
         "mode": "lines",
         "type": "scatter",
         "x": [
          0.37768535454200663,
          0.24027995853925033,
          null
         ],
         "y": [
          0.05514185504872265,
          -0.006338437098562069,
          null
         ]
        },
        {
         "hoverinfo": "none",
         "line": {
          "color": "rgba(146.17647058823528, 233.33333333333331, 141.1764705882353, 0.5)",
          "width": 0.5
         },
         "mode": "lines",
         "type": "scatter",
         "x": [
          0.3169063743701449,
          0.0633813890216842,
          null
         ],
         "y": [
          0.3010327765827759,
          0.1708497958201921,
          null
         ]
        },
        {
         "hoverinfo": "none",
         "line": {
          "color": "rgba(144.0, 238.0, 144.0, 0.5)",
          "width": 0.5
         },
         "mode": "lines",
         "type": "scatter",
         "x": [
          0.0633813890216842,
          -0.04312852812558068,
          null
         ],
         "y": [
          0.1708497958201921,
          0.06529052607210352,
          null
         ]
        },
        {
         "hoverinfo": "none",
         "line": {
          "color": "rgba(144.0, 238.0, 144.0, 0.5)",
          "width": 0.5
         },
         "mode": "lines",
         "type": "scatter",
         "x": [
          0.0633813890216842,
          -0.08609823480974288,
          null
         ],
         "y": [
          0.1708497958201921,
          0.1553027250389448,
          null
         ]
        },
        {
         "hoverinfo": "none",
         "line": {
          "color": "rgba(144.0, 238.0, 144.0, 0.5)",
          "width": 0.5
         },
         "mode": "lines",
         "type": "scatter",
         "x": [
          0.0633813890216842,
          -0.04789367222069038,
          null
         ],
         "y": [
          0.1708497958201921,
          0.12632699513542509,
          null
         ]
        },
        {
         "hoverinfo": "none",
         "line": {
          "color": "rgba(144.0, 238.0, 144.0, 0.5)",
          "width": 0.5
         },
         "mode": "lines",
         "type": "scatter",
         "x": [
          0.0633813890216842,
          -0.01920046280766127,
          null
         ],
         "y": [
          0.1708497958201921,
          0.05693354076657738,
          null
         ]
        },
        {
         "hoverinfo": "none",
         "line": {
          "color": "rgba(144.0, 238.0, 144.0, 0.5)",
          "width": 0.5
         },
         "mode": "lines",
         "type": "scatter",
         "x": [
          0.0633813890216842,
          0.038452299517264144,
          null
         ],
         "y": [
          0.1708497958201921,
          0.2806057862863662,
          null
         ]
        },
        {
         "hoverinfo": "none",
         "line": {
          "color": "rgba(144.0, 238.0, 144.0, 0.5)",
          "width": 0.5
         },
         "mode": "lines",
         "type": "scatter",
         "x": [
          0.0633813890216842,
          -0.28880853885362967,
          null
         ],
         "y": [
          0.1708497958201921,
          0.0942248662756934,
          null
         ]
        },
        {
         "hoverinfo": "none",
         "line": {
          "color": "rgba(144.0, 238.0, 144.0, 0.5)",
          "width": 0.5
         },
         "mode": "lines",
         "type": "scatter",
         "x": [
          0.0633813890216842,
          0.03318362620603166,
          null
         ],
         "y": [
          0.1708497958201921,
          0.40262569127087705,
          null
         ]
        },
        {
         "hoverinfo": "none",
         "line": {
          "color": "rgba(144.0, 238.0, 144.0, 0.5)",
          "width": 0.5
         },
         "mode": "lines",
         "type": "scatter",
         "x": [
          0.0633813890216842,
          -0.021233240631821707,
          null
         ],
         "y": [
          0.1708497958201921,
          -0.04959646375473747,
          null
         ]
        },
        {
         "hoverinfo": "none",
         "line": {
          "color": "rgba(144.0, 238.0, 144.0, 0.5)",
          "width": 0.5
         },
         "mode": "lines",
         "type": "scatter",
         "x": [
          0.0633813890216842,
          -0.059980207520610444,
          null
         ],
         "y": [
          0.1708497958201921,
          -0.023130294095487357,
          null
         ]
        },
        {
         "hoverinfo": "none",
         "line": {
          "color": "rgba(144.0, 238.0, 144.0, 0.5)",
          "width": 0.5
         },
         "mode": "lines",
         "type": "scatter",
         "x": [
          0.0633813890216842,
          0.11446488128043716,
          null
         ],
         "y": [
          0.1708497958201921,
          0.1771605177335045,
          null
         ]
        },
        {
         "hoverinfo": "none",
         "line": {
          "color": "rgba(144.0, 238.0, 144.0, 0.5)",
          "width": 0.5
         },
         "mode": "lines",
         "type": "scatter",
         "x": [
          0.0633813890216842,
          -0.1103728414169264,
          null
         ],
         "y": [
          0.1708497958201921,
          -0.014126211710549553,
          null
         ]
        },
        {
         "hoverinfo": "none",
         "line": {
          "color": "rgba(144.0, 238.0, 144.0, 0.5)",
          "width": 0.5
         },
         "mode": "lines",
         "type": "scatter",
         "x": [
          0.0633813890216842,
          -0.004092312520426679,
          null
         ],
         "y": [
          0.1708497958201921,
          0.024106741651111197,
          null
         ]
        },
        {
         "hoverinfo": "none",
         "line": {
          "color": "rgba(144.0, 238.0, 144.0, 0.5)",
          "width": 0.5
         },
         "mode": "lines",
         "type": "scatter",
         "x": [
          0.0633813890216842,
          -0.1278979291781272,
          null
         ],
         "y": [
          0.1708497958201921,
          -0.08103816897878831,
          null
         ]
        },
        {
         "hoverinfo": "none",
         "line": {
          "color": "rgba(144.0, 238.0, 144.0, 0.5)",
          "width": 0.5
         },
         "mode": "lines",
         "type": "scatter",
         "x": [
          0.0633813890216842,
          -0.20437734098484633,
          null
         ],
         "y": [
          0.1708497958201921,
          0.040505340548191986,
          null
         ]
        },
        {
         "hoverinfo": "none",
         "line": {
          "color": "rgba(144.0, 238.0, 144.0, 0.5)",
          "width": 0.5
         },
         "mode": "lines",
         "type": "scatter",
         "x": [
          0.0633813890216842,
          -0.1310758831768436,
          null
         ],
         "y": [
          0.1708497958201921,
          0.1092337977977338,
          null
         ]
        },
        {
         "hoverinfo": "none",
         "line": {
          "color": "rgba(144.0, 238.0, 144.0, 0.5)",
          "width": 0.5
         },
         "mode": "lines",
         "type": "scatter",
         "x": [
          0.24027995853925033,
          0.10141493191329501,
          null
         ],
         "y": [
          -0.006338437098562069,
          -0.05325499216906051,
          null
         ]
        },
        {
         "hoverinfo": "none",
         "line": {
          "color": "rgba(148.78823529411764, 227.73333333333335, 137.78823529411767, 0.5)",
          "width": 0.5
         },
         "mode": "lines",
         "type": "scatter",
         "x": [
          0.24027995853925033,
          -0.004092312520426679,
          null
         ],
         "y": [
          -0.006338437098562069,
          0.024106741651111197,
          null
         ]
        },
        {
         "hoverinfo": "none",
         "line": {
          "color": "rgba(144.0, 238.0, 144.0, 0.5)",
          "width": 0.5
         },
         "mode": "lines",
         "type": "scatter",
         "x": [
          0.24027995853925033,
          0.06642876558189482,
          null
         ],
         "y": [
          -0.006338437098562069,
          -0.1308773144455644,
          null
         ]
        },
        {
         "hoverinfo": "none",
         "line": {
          "color": "rgba(144.0, 238.0, 144.0, 0.5)",
          "width": 0.5
         },
         "mode": "lines",
         "type": "scatter",
         "x": [
          0.34849815216105473,
          0.3380234153202886,
          null
         ],
         "y": [
          0.0031757432778342985,
          -0.13438898539837152,
          null
         ]
        },
        {
         "hoverinfo": "none",
         "line": {
          "color": "rgba(144.0, 238.0, 144.0, 0.5)",
          "width": 0.5
         },
         "mode": "lines",
         "type": "scatter",
         "x": [
          0.34849815216105473,
          0.1208207247688906,
          null
         ],
         "y": [
          0.0031757432778342985,
          -0.01204508455225134,
          null
         ]
        },
        {
         "hoverinfo": "none",
         "line": {
          "color": "rgba(144.0, 238.0, 144.0, 0.5)",
          "width": 0.5
         },
         "mode": "lines",
         "type": "scatter",
         "x": [
          0.34849815216105473,
          -0.004092312520426679,
          null
         ],
         "y": [
          0.0031757432778342985,
          0.024106741651111197,
          null
         ]
        },
        {
         "hoverinfo": "none",
         "line": {
          "color": "rgba(144.0, 238.0, 144.0, 0.5)",
          "width": 0.5
         },
         "mode": "lines",
         "type": "scatter",
         "x": [
          -0.059980207520610444,
          0.48178711162465143,
          null
         ],
         "y": [
          -0.023130294095487357,
          -0.025398746802250172,
          null
         ]
        },
        {
         "hoverinfo": "none",
         "line": {
          "color": "rgba(144.0, 238.0, 144.0, 0.5)",
          "width": 0.5
         },
         "mode": "lines",
         "type": "scatter",
         "x": [
          -0.059980207520610444,
          -0.1840932534843109,
          null
         ],
         "y": [
          -0.023130294095487357,
          -0.1878456931166274,
          null
         ]
        },
        {
         "hoverinfo": "none",
         "line": {
          "color": "rgba(144.0, 238.0, 144.0, 0.5)",
          "width": 0.5
         },
         "mode": "lines",
         "type": "scatter",
         "x": [
          -0.059980207520610444,
          0.08304942441927554,
          null
         ],
         "y": [
          -0.023130294095487357,
          -0.2390790882081588,
          null
         ]
        },
        {
         "hoverinfo": "none",
         "line": {
          "color": "rgba(144.0, 238.0, 144.0, 0.5)",
          "width": 0.5
         },
         "mode": "lines",
         "type": "scatter",
         "x": [
          -0.059980207520610444,
          -0.004092312520426679,
          null
         ],
         "y": [
          -0.023130294095487357,
          0.024106741651111197,
          null
         ]
        },
        {
         "hoverinfo": "none",
         "line": {
          "color": "rgba(146.17647058823528, 233.33333333333331, 141.1764705882353, 0.5)",
          "width": 0.5
         },
         "mode": "lines",
         "type": "scatter",
         "x": [
          -0.059980207520610444,
          0.10141493191329501,
          null
         ],
         "y": [
          -0.023130294095487357,
          -0.05325499216906051,
          null
         ]
        },
        {
         "hoverinfo": "none",
         "line": {
          "color": "rgba(146.17647058823528, 233.33333333333331, 141.1764705882353, 0.5)",
          "width": 0.5
         },
         "mode": "lines",
         "type": "scatter",
         "x": [
          -0.059980207520610444,
          0.16626054632938567,
          null
         ],
         "y": [
          -0.023130294095487357,
          0.03499164605088286,
          null
         ]
        },
        {
         "hoverinfo": "none",
         "line": {
          "color": "rgba(146.17647058823528, 233.33333333333331, 141.1764705882353, 0.5)",
          "width": 0.5
         },
         "mode": "lines",
         "type": "scatter",
         "x": [
          -0.059980207520610444,
          0.06642876558189482,
          null
         ],
         "y": [
          -0.023130294095487357,
          -0.1308773144455644,
          null
         ]
        },
        {
         "hoverinfo": "none",
         "line": {
          "color": "rgba(144.0, 238.0, 144.0, 0.5)",
          "width": 0.5
         },
         "mode": "lines",
         "type": "scatter",
         "x": [
          -0.059980207520610444,
          -0.021233240631821707,
          null
         ],
         "y": [
          -0.023130294095487357,
          -0.04959646375473747,
          null
         ]
        },
        {
         "hoverinfo": "none",
         "line": {
          "color": "rgba(144.0, 238.0, 144.0, 0.5)",
          "width": 0.5
         },
         "mode": "lines",
         "type": "scatter",
         "x": [
          -0.059980207520610444,
          -0.01920046280766127,
          null
         ],
         "y": [
          -0.023130294095487357,
          0.05693354076657738,
          null
         ]
        },
        {
         "hoverinfo": "none",
         "line": {
          "color": "rgba(144.0, 238.0, 144.0, 0.5)",
          "width": 0.5
         },
         "mode": "lines",
         "type": "scatter",
         "x": [
          -0.059980207520610444,
          -0.09904357357897299,
          null
         ],
         "y": [
          -0.023130294095487357,
          0.07036911152043185,
          null
         ]
        },
        {
         "hoverinfo": "none",
         "line": {
          "color": "rgba(144.0, 238.0, 144.0, 0.5)",
          "width": 0.5
         },
         "mode": "lines",
         "type": "scatter",
         "x": [
          -0.059980207520610444,
          -0.1278979291781272,
          null
         ],
         "y": [
          -0.023130294095487357,
          -0.08103816897878831,
          null
         ]
        },
        {
         "hoverinfo": "none",
         "line": {
          "color": "rgba(144.0, 238.0, 144.0, 0.5)",
          "width": 0.5
         },
         "mode": "lines",
         "type": "scatter",
         "x": [
          -0.059980207520610444,
          -0.052972056262706874,
          null
         ],
         "y": [
          -0.023130294095487357,
          -0.17629299205101095,
          null
         ]
        },
        {
         "hoverinfo": "none",
         "line": {
          "color": "rgba(144.0, 238.0, 144.0, 0.5)",
          "width": 0.5
         },
         "mode": "lines",
         "type": "scatter",
         "x": [
          -0.059980207520610444,
          -0.08777666419090452,
          null
         ],
         "y": [
          -0.023130294095487357,
          -0.18080269467733467,
          null
         ]
        },
        {
         "hoverinfo": "none",
         "line": {
          "color": "rgba(146.17647058823528, 233.33333333333331, 141.1764705882353, 0.5)",
          "width": 0.5
         },
         "mode": "lines",
         "type": "scatter",
         "x": [
          -0.059980207520610444,
          -0.12459395883666516,
          null
         ],
         "y": [
          -0.023130294095487357,
          0.3089196779436653,
          null
         ]
        },
        {
         "hoverinfo": "none",
         "line": {
          "color": "rgba(144.0, 238.0, 144.0, 0.5)",
          "width": 0.5
         },
         "mode": "lines",
         "type": "scatter",
         "x": [
          -0.059980207520610444,
          -0.01835863240164065,
          null
         ],
         "y": [
          -0.023130294095487357,
          0.2816710488450301,
          null
         ]
        },
        {
         "hoverinfo": "none",
         "line": {
          "color": "rgba(146.17647058823528, 233.33333333333331, 141.1764705882353, 0.5)",
          "width": 0.5
         },
         "mode": "lines",
         "type": "scatter",
         "x": [
          -0.059980207520610444,
          -0.04312852812558068,
          null
         ],
         "y": [
          -0.023130294095487357,
          0.06529052607210352,
          null
         ]
        },
        {
         "hoverinfo": "none",
         "line": {
          "color": "rgba(144.0, 238.0, 144.0, 0.5)",
          "width": 0.5
         },
         "mode": "lines",
         "type": "scatter",
         "x": [
          -0.059980207520610444,
          0.00608491303550132,
          null
         ],
         "y": [
          -0.023130294095487357,
          0.1386826777322132,
          null
         ]
        },
        {
         "hoverinfo": "none",
         "line": {
          "color": "rgba(146.17647058823528, 233.33333333333331, 141.1764705882353, 0.5)",
          "width": 0.5
         },
         "mode": "lines",
         "type": "scatter",
         "x": [
          -0.059980207520610444,
          -0.3934855137409492,
          null
         ],
         "y": [
          -0.023130294095487357,
          -0.1117613423271159,
          null
         ]
        },
        {
         "hoverinfo": "none",
         "line": {
          "color": "rgba(144.0, 238.0, 144.0, 0.5)",
          "width": 0.5
         },
         "mode": "lines",
         "type": "scatter",
         "x": [
          -0.059980207520610444,
          -0.4120544372339625,
          null
         ],
         "y": [
          -0.023130294095487357,
          -0.46330243358234646,
          null
         ]
        },
        {
         "hoverinfo": "none",
         "line": {
          "color": "rgba(144.0, 238.0, 144.0, 0.5)",
          "width": 0.5
         },
         "mode": "lines",
         "type": "scatter",
         "x": [
          -0.059980207520610444,
          -0.08002563823441185,
          null
         ],
         "y": [
          -0.023130294095487357,
          -0.06939400517860572,
          null
         ]
        },
        {
         "hoverinfo": "none",
         "line": {
          "color": "rgba(144.0, 238.0, 144.0, 0.5)",
          "width": 0.5
         },
         "mode": "lines",
         "type": "scatter",
         "x": [
          -0.059980207520610444,
          -0.09217634642314189,
          null
         ],
         "y": [
          -0.023130294095487357,
          0.10947281325324452,
          null
         ]
        },
        {
         "hoverinfo": "none",
         "line": {
          "color": "rgba(144.0, 238.0, 144.0, 0.5)",
          "width": 0.5
         },
         "mode": "lines",
         "type": "scatter",
         "x": [
          -0.059980207520610444,
          -0.05535731170970401,
          null
         ],
         "y": [
          -0.023130294095487357,
          -0.13165770614718297,
          null
         ]
        },
        {
         "hoverinfo": "none",
         "line": {
          "color": "rgba(144.0, 238.0, 144.0, 0.5)",
          "width": 0.5
         },
         "mode": "lines",
         "type": "scatter",
         "x": [
          -0.059980207520610444,
          -0.1310758831768436,
          null
         ],
         "y": [
          -0.023130294095487357,
          0.1092337977977338,
          null
         ]
        },
        {
         "hoverinfo": "none",
         "line": {
          "color": "rgba(144.0, 238.0, 144.0, 0.5)",
          "width": 0.5
         },
         "mode": "lines",
         "type": "scatter",
         "x": [
          -0.059980207520610444,
          -0.1103728414169264,
          null
         ],
         "y": [
          -0.023130294095487357,
          -0.014126211710549553,
          null
         ]
        },
        {
         "hoverinfo": "none",
         "line": {
          "color": "rgba(144.0, 238.0, 144.0, 0.5)",
          "width": 0.5
         },
         "mode": "lines",
         "type": "scatter",
         "x": [
          -0.059980207520610444,
          -0.26096416492678304,
          null
         ],
         "y": [
          -0.023130294095487357,
          0.05494137806017977,
          null
         ]
        },
        {
         "hoverinfo": "none",
         "line": {
          "color": "rgba(144.0, 238.0, 144.0, 0.5)",
          "width": 0.5
         },
         "mode": "lines",
         "type": "scatter",
         "x": [
          0.3380234153202886,
          -0.08609823480974288,
          null
         ],
         "y": [
          -0.13438898539837152,
          0.1553027250389448,
          null
         ]
        },
        {
         "hoverinfo": "none",
         "line": {
          "color": "rgba(144.0, 238.0, 144.0, 0.5)",
          "width": 0.5
         },
         "mode": "lines",
         "type": "scatter",
         "x": [
          0.3380234153202886,
          0.5235078652816174,
          null
         ],
         "y": [
          -0.13438898539837152,
          -0.41327930816203856,
          null
         ]
        },
        {
         "hoverinfo": "none",
         "line": {
          "color": "rgba(144.0, 238.0, 144.0, 0.5)",
          "width": 0.5
         },
         "mode": "lines",
         "type": "scatter",
         "x": [
          0.3380234153202886,
          0.1208207247688906,
          null
         ],
         "y": [
          -0.13438898539837152,
          -0.01204508455225134,
          null
         ]
        },
        {
         "hoverinfo": "none",
         "line": {
          "color": "rgba(144.0, 238.0, 144.0, 0.5)",
          "width": 0.5
         },
         "mode": "lines",
         "type": "scatter",
         "x": [
          0.3380234153202886,
          -0.004092312520426679,
          null
         ],
         "y": [
          -0.13438898539837152,
          0.024106741651111197,
          null
         ]
        },
        {
         "hoverinfo": "none",
         "line": {
          "color": "rgba(148.78823529411764, 227.73333333333335, 137.78823529411767, 0.5)",
          "width": 0.5
         },
         "mode": "lines",
         "type": "scatter",
         "x": [
          0.43351429138747266,
          0.44294953308999263,
          null
         ],
         "y": [
          -0.046776956499071355,
          -0.10939325634034679,
          null
         ]
        },
        {
         "hoverinfo": "none",
         "line": {
          "color": "rgba(146.17647058823528, 233.33333333333331, 141.1764705882353, 0.5)",
          "width": 0.5
         },
         "mode": "lines",
         "type": "scatter",
         "x": [
          0.43351429138747266,
          0.2877616288706344,
          null
         ],
         "y": [
          -0.046776956499071355,
          -0.09112667943117772,
          null
         ]
        },
        {
         "hoverinfo": "none",
         "line": {
          "color": "rgba(148.78823529411764, 227.73333333333335, 137.78823529411767, 0.5)",
          "width": 0.5
         },
         "mode": "lines",
         "type": "scatter",
         "x": [
          0.44294953308999263,
          0.2877616288706344,
          null
         ],
         "y": [
          -0.10939325634034679,
          -0.09112667943117772,
          null
         ]
        },
        {
         "hoverinfo": "none",
         "line": {
          "color": "rgba(146.17647058823528, 233.33333333333331, 141.1764705882353, 0.5)",
          "width": 0.5
         },
         "mode": "lines",
         "type": "scatter",
         "x": [
          0.2877616288706344,
          0.15197018759499384,
          null
         ],
         "y": [
          -0.09112667943117772,
          0.052208707723797376,
          null
         ]
        },
        {
         "hoverinfo": "none",
         "line": {
          "color": "rgba(144.0, 238.0, 144.0, 0.5)",
          "width": 0.5
         },
         "mode": "lines",
         "type": "scatter",
         "x": [
          0.2877616288706344,
          -0.08777666419090452,
          null
         ],
         "y": [
          -0.09112667943117772,
          -0.18080269467733467,
          null
         ]
        },
        {
         "hoverinfo": "none",
         "line": {
          "color": "rgba(144.0, 238.0, 144.0, 0.5)",
          "width": 0.5
         },
         "mode": "lines",
         "type": "scatter",
         "x": [
          0.2877616288706344,
          0.1471055204536889,
          null
         ],
         "y": [
          -0.09112667943117772,
          0.014871912349713466,
          null
         ]
        },
        {
         "hoverinfo": "none",
         "line": {
          "color": "rgba(144.0, 238.0, 144.0, 0.5)",
          "width": 0.5
         },
         "mode": "lines",
         "type": "scatter",
         "x": [
          0.2877616288706344,
          0.2647786104991697,
          null
         ],
         "y": [
          -0.09112667943117772,
          -0.17332847682185096,
          null
         ]
        },
        {
         "hoverinfo": "none",
         "line": {
          "color": "rgba(144.0, 238.0, 144.0, 0.5)",
          "width": 0.5
         },
         "mode": "lines",
         "type": "scatter",
         "x": [
          0.051369703358791555,
          -0.021233240631821707,
          null
         ],
         "y": [
          -0.06605561465884656,
          -0.04959646375473747,
          null
         ]
        },
        {
         "hoverinfo": "none",
         "line": {
          "color": "rgba(144.0, 238.0, 144.0, 0.5)",
          "width": 0.5
         },
         "mode": "lines",
         "type": "scatter",
         "x": [
          0.051369703358791555,
          0.040436006585932986,
          null
         ],
         "y": [
          -0.06605561465884656,
          -0.11245970248929078,
          null
         ]
        },
        {
         "hoverinfo": "none",
         "line": {
          "color": "rgba(148.78823529411764, 227.73333333333335, 137.78823529411767, 0.5)",
          "width": 0.5
         },
         "mode": "lines",
         "type": "scatter",
         "x": [
          0.051369703358791555,
          0.16617558107958147,
          null
         ],
         "y": [
          -0.06605561465884656,
          -0.12651106712926039,
          null
         ]
        },
        {
         "hoverinfo": "none",
         "line": {
          "color": "rgba(154.01176470588237, 216.53333333333333, 131.01176470588237, 0.5)",
          "width": 0.5
         },
         "mode": "lines",
         "type": "scatter",
         "x": [
          0.051369703358791555,
          0.12973198260062271,
          null
         ],
         "y": [
          -0.06605561465884656,
          -0.14884767452265774,
          null
         ]
        },
        {
         "hoverinfo": "none",
         "line": {
          "color": "rgba(144.0, 238.0, 144.0, 0.5)",
          "width": 0.5
         },
         "mode": "lines",
         "type": "scatter",
         "x": [
          0.051369703358791555,
          0.06340199839732927,
          null
         ],
         "y": [
          -0.06605561465884656,
          0.04334777518009053,
          null
         ]
        },
        {
         "hoverinfo": "none",
         "line": {
          "color": "rgba(146.17647058823528, 233.33333333333331, 141.1764705882353, 0.5)",
          "width": 0.5
         },
         "mode": "lines",
         "type": "scatter",
         "x": [
          0.051369703358791555,
          -0.01920046280766127,
          null
         ],
         "y": [
          -0.06605561465884656,
          0.05693354076657738,
          null
         ]
        },
        {
         "hoverinfo": "none",
         "line": {
          "color": "rgba(144.0, 238.0, 144.0, 0.5)",
          "width": 0.5
         },
         "mode": "lines",
         "type": "scatter",
         "x": [
          0.051369703358791555,
          0.08805613312227421,
          null
         ],
         "y": [
          -0.06605561465884656,
          0.2614632945348678,
          null
         ]
        },
        {
         "hoverinfo": "none",
         "line": {
          "color": "rgba(144.0, 238.0, 144.0, 0.5)",
          "width": 0.5
         },
         "mode": "lines",
         "type": "scatter",
         "x": [
          0.051369703358791555,
          0.05555256613411498,
          null
         ],
         "y": [
          -0.06605561465884656,
          0.13608372729972124,
          null
         ]
        },
        {
         "hoverinfo": "none",
         "line": {
          "color": "rgba(148.78823529411764, 227.73333333333335, 137.78823529411767, 0.5)",
          "width": 0.5
         },
         "mode": "lines",
         "type": "scatter",
         "x": [
          0.051369703358791555,
          -0.004092312520426679,
          null
         ],
         "y": [
          -0.06605561465884656,
          0.024106741651111197,
          null
         ]
        },
        {
         "hoverinfo": "none",
         "line": {
          "color": "rgba(144.0, 238.0, 144.0, 0.5)",
          "width": 0.5
         },
         "mode": "lines",
         "type": "scatter",
         "x": [
          0.051369703358791555,
          0.005386321220475092,
          null
         ],
         "y": [
          -0.06605561465884656,
          0.04818967093067006,
          null
         ]
        },
        {
         "hoverinfo": "none",
         "line": {
          "color": "rgba(144.0, 238.0, 144.0, 0.5)",
          "width": 0.5
         },
         "mode": "lines",
         "type": "scatter",
         "x": [
          0.051369703358791555,
          -0.17978469425979474,
          null
         ],
         "y": [
          -0.06605561465884656,
          -0.02793329833471627,
          null
         ]
        },
        {
         "hoverinfo": "none",
         "line": {
          "color": "rgba(144.0, 238.0, 144.0, 0.5)",
          "width": 0.5
         },
         "mode": "lines",
         "type": "scatter",
         "x": [
          0.051369703358791555,
          -0.08002563823441185,
          null
         ],
         "y": [
          -0.06605561465884656,
          -0.06939400517860572,
          null
         ]
        },
        {
         "hoverinfo": "none",
         "line": {
          "color": "rgba(144.0, 238.0, 144.0, 0.5)",
          "width": 0.5
         },
         "mode": "lines",
         "type": "scatter",
         "x": [
          0.051369703358791555,
          -0.00894059969700433,
          null
         ],
         "y": [
          -0.06605561465884656,
          0.07375130773845237,
          null
         ]
        },
        {
         "hoverinfo": "none",
         "line": {
          "color": "rgba(144.0, 238.0, 144.0, 0.5)",
          "width": 0.5
         },
         "mode": "lines",
         "type": "scatter",
         "x": [
          0.051369703358791555,
          -0.21841503354558905,
          null
         ],
         "y": [
          -0.06605561465884656,
          -0.0945802778400624,
          null
         ]
        },
        {
         "hoverinfo": "none",
         "line": {
          "color": "rgba(144.0, 238.0, 144.0, 0.5)",
          "width": 0.5
         },
         "mode": "lines",
         "type": "scatter",
         "x": [
          0.051369703358791555,
          0.2680454697221705,
          null
         ],
         "y": [
          -0.06605561465884656,
          0.018037818296431442,
          null
         ]
        },
        {
         "hoverinfo": "none",
         "line": {
          "color": "rgba(144.0, 238.0, 144.0, 0.5)",
          "width": 0.5
         },
         "mode": "lines",
         "type": "scatter",
         "x": [
          0.051369703358791555,
          -0.09888059852184569,
          null
         ],
         "y": [
          -0.06605561465884656,
          0.019712051440705456,
          null
         ]
        },
        {
         "hoverinfo": "none",
         "line": {
          "color": "rgba(144.0, 238.0, 144.0, 0.5)",
          "width": 0.5
         },
         "mode": "lines",
         "type": "scatter",
         "x": [
          0.051369703358791555,
          0.11042612660412249,
          null
         ],
         "y": [
          -0.06605561465884656,
          -0.3443431794165911,
          null
         ]
        },
        {
         "hoverinfo": "none",
         "line": {
          "color": "rgba(144.0, 238.0, 144.0, 0.5)",
          "width": 0.5
         },
         "mode": "lines",
         "type": "scatter",
         "x": [
          0.051369703358791555,
          0.11446488128043716,
          null
         ],
         "y": [
          -0.06605561465884656,
          0.1771605177335045,
          null
         ]
        },
        {
         "hoverinfo": "none",
         "line": {
          "color": "rgba(146.17647058823528, 233.33333333333331, 141.1764705882353, 0.5)",
          "width": 0.5
         },
         "mode": "lines",
         "type": "scatter",
         "x": [
          0.051369703358791555,
          0.01102729588140955,
          null
         ],
         "y": [
          -0.06605561465884656,
          -0.0593242624273822,
          null
         ]
        },
        {
         "hoverinfo": "none",
         "line": {
          "color": "rgba(144.0, 238.0, 144.0, 0.5)",
          "width": 0.5
         },
         "mode": "lines",
         "type": "scatter",
         "x": [
          0.051369703358791555,
          -0.1840932534843109,
          null
         ],
         "y": [
          -0.06605561465884656,
          -0.1878456931166274,
          null
         ]
        },
        {
         "hoverinfo": "none",
         "line": {
          "color": "rgba(144.0, 238.0, 144.0, 0.5)",
          "width": 0.5
         },
         "mode": "lines",
         "type": "scatter",
         "x": [
          0.2647786104991697,
          0.37932811557106944,
          null
         ],
         "y": [
          -0.17332847682185096,
          -0.23656675216984518,
          null
         ]
        },
        {
         "hoverinfo": "none",
         "line": {
          "color": "rgba(146.17647058823528, 233.33333333333331, 141.1764705882353, 0.5)",
          "width": 0.5
         },
         "mode": "lines",
         "type": "scatter",
         "x": [
          0.2647786104991697,
          0.1471055204536889,
          null
         ],
         "y": [
          -0.17332847682185096,
          0.014871912349713466,
          null
         ]
        },
        {
         "hoverinfo": "none",
         "line": {
          "color": "rgba(144.0, 238.0, 144.0, 0.5)",
          "width": 0.5
         },
         "mode": "lines",
         "type": "scatter",
         "x": [
          0.2647786104991697,
          0.3813397183633559,
          null
         ],
         "y": [
          -0.17332847682185096,
          -0.1583671294707783,
          null
         ]
        },
        {
         "hoverinfo": "none",
         "line": {
          "color": "rgba(146.17647058823528, 233.33333333333331, 141.1764705882353, 0.5)",
          "width": 0.5
         },
         "mode": "lines",
         "type": "scatter",
         "x": [
          0.2647786104991697,
          0.15197018759499384,
          null
         ],
         "y": [
          -0.17332847682185096,
          0.052208707723797376,
          null
         ]
        },
        {
         "hoverinfo": "none",
         "line": {
          "color": "rgba(144.0, 238.0, 144.0, 0.5)",
          "width": 0.5
         },
         "mode": "lines",
         "type": "scatter",
         "x": [
          0.2647786104991697,
          -0.08777666419090452,
          null
         ],
         "y": [
          -0.17332847682185096,
          -0.18080269467733467,
          null
         ]
        },
        {
         "hoverinfo": "none",
         "line": {
          "color": "rgba(144.0, 238.0, 144.0, 0.5)",
          "width": 0.5
         },
         "mode": "lines",
         "type": "scatter",
         "x": [
          0.37932811557106944,
          0.1471055204536889,
          null
         ],
         "y": [
          -0.23656675216984518,
          0.014871912349713466,
          null
         ]
        },
        {
         "hoverinfo": "none",
         "line": {
          "color": "rgba(144.0, 238.0, 144.0, 0.5)",
          "width": 0.5
         },
         "mode": "lines",
         "type": "scatter",
         "x": [
          0.37932811557106944,
          0.3813397183633559,
          null
         ],
         "y": [
          -0.23656675216984518,
          -0.1583671294707783,
          null
         ]
        },
        {
         "hoverinfo": "none",
         "line": {
          "color": "rgba(144.0, 238.0, 144.0, 0.5)",
          "width": 0.5
         },
         "mode": "lines",
         "type": "scatter",
         "x": [
          -0.00894059969700433,
          0.3813397183633559,
          null
         ],
         "y": [
          0.07375130773845237,
          -0.1583671294707783,
          null
         ]
        },
        {
         "hoverinfo": "none",
         "line": {
          "color": "rgba(144.0, 238.0, 144.0, 0.5)",
          "width": 0.5
         },
         "mode": "lines",
         "type": "scatter",
         "x": [
          -0.00894059969700433,
          0.15197018759499384,
          null
         ],
         "y": [
          0.07375130773845237,
          0.052208707723797376,
          null
         ]
        },
        {
         "hoverinfo": "none",
         "line": {
          "color": "rgba(144.0, 238.0, 144.0, 0.5)",
          "width": 0.5
         },
         "mode": "lines",
         "type": "scatter",
         "x": [
          -0.00894059969700433,
          0.1471055204536889,
          null
         ],
         "y": [
          0.07375130773845237,
          0.014871912349713466,
          null
         ]
        },
        {
         "hoverinfo": "none",
         "line": {
          "color": "rgba(146.17647058823528, 233.33333333333331, 141.1764705882353, 0.5)",
          "width": 0.5
         },
         "mode": "lines",
         "type": "scatter",
         "x": [
          -0.00894059969700433,
          0.10141493191329501,
          null
         ],
         "y": [
          0.07375130773845237,
          -0.05325499216906051,
          null
         ]
        },
        {
         "hoverinfo": "none",
         "line": {
          "color": "rgba(144.0, 238.0, 144.0, 0.5)",
          "width": 0.5
         },
         "mode": "lines",
         "type": "scatter",
         "x": [
          -0.00894059969700433,
          -0.01850548100425071,
          null
         ],
         "y": [
          0.07375130773845237,
          0.25254677681882975,
          null
         ]
        },
        {
         "hoverinfo": "none",
         "line": {
          "color": "rgba(146.17647058823528, 233.33333333333331, 141.1764705882353, 0.5)",
          "width": 0.5
         },
         "mode": "lines",
         "type": "scatter",
         "x": [
          -0.00894059969700433,
          -0.04312852812558068,
          null
         ],
         "y": [
          0.07375130773845237,
          0.06529052607210352,
          null
         ]
        },
        {
         "hoverinfo": "none",
         "line": {
          "color": "rgba(144.0, 238.0, 144.0, 0.5)",
          "width": 0.5
         },
         "mode": "lines",
         "type": "scatter",
         "x": [
          -0.00894059969700433,
          0.00608491303550132,
          null
         ],
         "y": [
          0.07375130773845237,
          0.1386826777322132,
          null
         ]
        },
        {
         "hoverinfo": "none",
         "line": {
          "color": "rgba(144.0, 238.0, 144.0, 0.5)",
          "width": 0.5
         },
         "mode": "lines",
         "type": "scatter",
         "x": [
          -0.00894059969700433,
          0.1208207247688906,
          null
         ],
         "y": [
          0.07375130773845237,
          -0.01204508455225134,
          null
         ]
        },
        {
         "hoverinfo": "none",
         "line": {
          "color": "rgba(144.0, 238.0, 144.0, 0.5)",
          "width": 0.5
         },
         "mode": "lines",
         "type": "scatter",
         "x": [
          -0.00894059969700433,
          -0.013254801021019556,
          null
         ],
         "y": [
          0.07375130773845237,
          0.20632008218218892,
          null
         ]
        },
        {
         "hoverinfo": "none",
         "line": {
          "color": "rgba(144.0, 238.0, 144.0, 0.5)",
          "width": 0.5
         },
         "mode": "lines",
         "type": "scatter",
         "x": [
          -0.00894059969700433,
          -0.08609823480974288,
          null
         ],
         "y": [
          0.07375130773845237,
          0.1553027250389448,
          null
         ]
        },
        {
         "hoverinfo": "none",
         "line": {
          "color": "rgba(159.23529411764704, 205.33333333333334, 124.23529411764706, 0.5)",
          "width": 0.5
         },
         "mode": "lines",
         "type": "scatter",
         "x": [
          -0.00894059969700433,
          -0.004092312520426679,
          null
         ],
         "y": [
          0.07375130773845237,
          0.024106741651111197,
          null
         ]
        },
        {
         "hoverinfo": "none",
         "line": {
          "color": "rgba(144.0, 238.0, 144.0, 0.5)",
          "width": 0.5
         },
         "mode": "lines",
         "type": "scatter",
         "x": [
          -0.00894059969700433,
          -0.17978469425979474,
          null
         ],
         "y": [
          0.07375130773845237,
          -0.02793329833471627,
          null
         ]
        },
        {
         "hoverinfo": "none",
         "line": {
          "color": "rgba(144.0, 238.0, 144.0, 0.5)",
          "width": 0.5
         },
         "mode": "lines",
         "type": "scatter",
         "x": [
          -0.00894059969700433,
          -0.5451783181909111,
          null
         ],
         "y": [
          0.07375130773845237,
          0.13913448013826923,
          null
         ]
        },
        {
         "hoverinfo": "none",
         "line": {
          "color": "rgba(146.17647058823528, 233.33333333333331, 141.1764705882353, 0.5)",
          "width": 0.5
         },
         "mode": "lines",
         "type": "scatter",
         "x": [
          -0.00894059969700433,
          -0.08002563823441185,
          null
         ],
         "y": [
          0.07375130773845237,
          -0.06939400517860572,
          null
         ]
        },
        {
         "hoverinfo": "none",
         "line": {
          "color": "rgba(146.17647058823528, 233.33333333333331, 141.1764705882353, 0.5)",
          "width": 0.5
         },
         "mode": "lines",
         "type": "scatter",
         "x": [
          -0.00894059969700433,
          -0.021233240631821707,
          null
         ],
         "y": [
          0.07375130773845237,
          -0.04959646375473747,
          null
         ]
        },
        {
         "hoverinfo": "none",
         "line": {
          "color": "rgba(144.0, 238.0, 144.0, 0.5)",
          "width": 0.5
         },
         "mode": "lines",
         "type": "scatter",
         "x": [
          -0.00894059969700433,
          0.005720528430193572,
          null
         ],
         "y": [
          0.07375130773845237,
          0.1609735299876217,
          null
         ]
        },
        {
         "hoverinfo": "none",
         "line": {
          "color": "rgba(144.0, 238.0, 144.0, 0.5)",
          "width": 0.5
         },
         "mode": "lines",
         "type": "scatter",
         "x": [
          -0.00894059969700433,
          -0.09888059852184569,
          null
         ],
         "y": [
          0.07375130773845237,
          0.019712051440705456,
          null
         ]
        },
        {
         "hoverinfo": "none",
         "line": {
          "color": "rgba(146.17647058823528, 233.33333333333331, 141.1764705882353, 0.5)",
          "width": 0.5
         },
         "mode": "lines",
         "type": "scatter",
         "x": [
          -0.00894059969700433,
          -0.12568436166720384,
          null
         ],
         "y": [
          0.07375130773845237,
          0.23711320197900426,
          null
         ]
        },
        {
         "hoverinfo": "none",
         "line": {
          "color": "rgba(146.17647058823528, 233.33333333333331, 141.1764705882353, 0.5)",
          "width": 0.5
         },
         "mode": "lines",
         "type": "scatter",
         "x": [
          -0.00894059969700433,
          -0.09904357357897299,
          null
         ],
         "y": [
          0.07375130773845237,
          0.07036911152043185,
          null
         ]
        },
        {
         "hoverinfo": "none",
         "line": {
          "color": "rgba(146.17647058823528, 233.33333333333331, 141.1764705882353, 0.5)",
          "width": 0.5
         },
         "mode": "lines",
         "type": "scatter",
         "x": [
          -0.00894059969700433,
          0.10368188103192721,
          null
         ],
         "y": [
          0.07375130773845237,
          0.0180840536644909,
          null
         ]
        },
        {
         "hoverinfo": "none",
         "line": {
          "color": "rgba(144.0, 238.0, 144.0, 0.5)",
          "width": 0.5
         },
         "mode": "lines",
         "type": "scatter",
         "x": [
          -0.00894059969700433,
          0.14555908708716736,
          null
         ],
         "y": [
          0.07375130773845237,
          0.13274317123413848,
          null
         ]
        },
        {
         "hoverinfo": "none",
         "line": {
          "color": "rgba(144.0, 238.0, 144.0, 0.5)",
          "width": 0.5
         },
         "mode": "lines",
         "type": "scatter",
         "x": [
          -0.00894059969700433,
          -0.02944573707110539,
          null
         ],
         "y": [
          0.07375130773845237,
          0.15990157972187483,
          null
         ]
        },
        {
         "hoverinfo": "none",
         "line": {
          "color": "rgba(144.0, 238.0, 144.0, 0.5)",
          "width": 0.5
         },
         "mode": "lines",
         "type": "scatter",
         "x": [
          -0.00894059969700433,
          0.01102729588140955,
          null
         ],
         "y": [
          0.07375130773845237,
          -0.0593242624273822,
          null
         ]
        },
        {
         "hoverinfo": "none",
         "line": {
          "color": "rgba(144.0, 238.0, 144.0, 0.5)",
          "width": 0.5
         },
         "mode": "lines",
         "type": "scatter",
         "x": [
          0.3813397183633559,
          0.1471055204536889,
          null
         ],
         "y": [
          -0.1583671294707783,
          0.014871912349713466,
          null
         ]
        },
        {
         "hoverinfo": "none",
         "line": {
          "color": "rgba(151.4, 222.13333333333335, 134.4, 0.5)",
          "width": 0.5
         },
         "mode": "lines",
         "type": "scatter",
         "x": [
          0.1471055204536889,
          0.15197018759499384,
          null
         ],
         "y": [
          0.014871912349713466,
          0.052208707723797376,
          null
         ]
        },
        {
         "hoverinfo": "none",
         "line": {
          "color": "rgba(144.0, 238.0, 144.0, 0.5)",
          "width": 0.5
         },
         "mode": "lines",
         "type": "scatter",
         "x": [
          0.1471055204536889,
          0.11446488128043716,
          null
         ],
         "y": [
          0.014871912349713466,
          0.1771605177335045,
          null
         ]
        },
        {
         "hoverinfo": "none",
         "line": {
          "color": "rgba(146.17647058823528, 233.33333333333331, 141.1764705882353, 0.5)",
          "width": 0.5
         },
         "mode": "lines",
         "type": "scatter",
         "x": [
          0.1471055204536889,
          0.16154627487490428,
          null
         ],
         "y": [
          0.014871912349713466,
          0.33030556468891753,
          null
         ]
        },
        {
         "hoverinfo": "none",
         "line": {
          "color": "rgba(144.0, 238.0, 144.0, 0.5)",
          "width": 0.5
         },
         "mode": "lines",
         "type": "scatter",
         "x": [
          0.1471055204536889,
          0.08805613312227421,
          null
         ],
         "y": [
          0.014871912349713466,
          0.2614632945348678,
          null
         ]
        },
        {
         "hoverinfo": "none",
         "line": {
          "color": "rgba(148.78823529411764, 227.73333333333335, 137.78823529411767, 0.5)",
          "width": 0.5
         },
         "mode": "lines",
         "type": "scatter",
         "x": [
          0.1471055204536889,
          -0.08002563823441185,
          null
         ],
         "y": [
          0.014871912349713466,
          -0.06939400517860572,
          null
         ]
        },
        {
         "hoverinfo": "none",
         "line": {
          "color": "rgba(144.0, 238.0, 144.0, 0.5)",
          "width": 0.5
         },
         "mode": "lines",
         "type": "scatter",
         "x": [
          0.1471055204536889,
          -0.39263049002499584,
          null
         ],
         "y": [
          0.014871912349713466,
          0.11306709038117096,
          null
         ]
        },
        {
         "hoverinfo": "none",
         "line": {
          "color": "rgba(144.0, 238.0, 144.0, 0.5)",
          "width": 0.5
         },
         "mode": "lines",
         "type": "scatter",
         "x": [
          0.15197018759499384,
          -0.08777666419090452,
          null
         ],
         "y": [
          0.052208707723797376,
          -0.18080269467733467,
          null
         ]
        },
        {
         "hoverinfo": "none",
         "line": {
          "color": "rgba(146.17647058823528, 233.33333333333331, 141.1764705882353, 0.5)",
          "width": 0.5
         },
         "mode": "lines",
         "type": "scatter",
         "x": [
          0.15197018759499384,
          0.038452299517264144,
          null
         ],
         "y": [
          0.052208707723797376,
          0.2806057862863662,
          null
         ]
        },
        {
         "hoverinfo": "none",
         "line": {
          "color": "rgba(148.78823529411764, 227.73333333333335, 137.78823529411767, 0.5)",
          "width": 0.5
         },
         "mode": "lines",
         "type": "scatter",
         "x": [
          0.15197018759499384,
          -0.08609823480974288,
          null
         ],
         "y": [
          0.052208707723797376,
          0.1553027250389448,
          null
         ]
        },
        {
         "hoverinfo": "none",
         "line": {
          "color": "rgba(148.78823529411764, 227.73333333333335, 137.78823529411767, 0.5)",
          "width": 0.5
         },
         "mode": "lines",
         "type": "scatter",
         "x": [
          -0.08777666419090452,
          -0.08002563823441185,
          null
         ],
         "y": [
          -0.18080269467733467,
          -0.06939400517860572,
          null
         ]
        },
        {
         "hoverinfo": "none",
         "line": {
          "color": "rgba(154.01176470588237, 216.53333333333333, 131.01176470588237, 0.5)",
          "width": 0.5
         },
         "mode": "lines",
         "type": "scatter",
         "x": [
          -0.08777666419090452,
          -0.1278979291781272,
          null
         ],
         "y": [
          -0.18080269467733467,
          -0.08103816897878831,
          null
         ]
        },
        {
         "hoverinfo": "none",
         "line": {
          "color": "rgba(144.0, 238.0, 144.0, 0.5)",
          "width": 0.5
         },
         "mode": "lines",
         "type": "scatter",
         "x": [
          -0.08777666419090452,
          -0.052972056262706874,
          null
         ],
         "y": [
          -0.18080269467733467,
          -0.17629299205101095,
          null
         ]
        },
        {
         "hoverinfo": "none",
         "line": {
          "color": "rgba(148.78823529411764, 227.73333333333335, 137.78823529411767, 0.5)",
          "width": 0.5
         },
         "mode": "lines",
         "type": "scatter",
         "x": [
          -0.08777666419090452,
          -0.021233240631821707,
          null
         ],
         "y": [
          -0.18080269467733467,
          -0.04959646375473747,
          null
         ]
        },
        {
         "hoverinfo": "none",
         "line": {
          "color": "rgba(144.0, 238.0, 144.0, 0.5)",
          "width": 0.5
         },
         "mode": "lines",
         "type": "scatter",
         "x": [
          -0.08777666419090452,
          -0.28799831737468357,
          null
         ],
         "y": [
          -0.18080269467733467,
          -0.375414055482189,
          null
         ]
        },
        {
         "hoverinfo": "none",
         "line": {
          "color": "rgba(146.17647058823528, 233.33333333333331, 141.1764705882353, 0.5)",
          "width": 0.5
         },
         "mode": "lines",
         "type": "scatter",
         "x": [
          -0.08777666419090452,
          -0.26096416492678304,
          null
         ],
         "y": [
          -0.18080269467733467,
          0.05494137806017977,
          null
         ]
        },
        {
         "hoverinfo": "none",
         "line": {
          "color": "rgba(146.17647058823528, 233.33333333333331, 141.1764705882353, 0.5)",
          "width": 0.5
         },
         "mode": "lines",
         "type": "scatter",
         "x": [
          -0.08777666419090452,
          -0.3259160963210564,
          null
         ],
         "y": [
          -0.18080269467733467,
          -0.11374568248356766,
          null
         ]
        },
        {
         "hoverinfo": "none",
         "line": {
          "color": "rgba(144.0, 238.0, 144.0, 0.5)",
          "width": 0.5
         },
         "mode": "lines",
         "type": "scatter",
         "x": [
          -0.08777666419090452,
          0.44089722433513057,
          null
         ],
         "y": [
          -0.18080269467733467,
          -0.4907945655728798,
          null
         ]
        },
        {
         "hoverinfo": "none",
         "line": {
          "color": "rgba(144.0, 238.0, 144.0, 0.5)",
          "width": 0.5
         },
         "mode": "lines",
         "type": "scatter",
         "x": [
          -0.08777666419090452,
          -0.28870609353163784,
          null
         ],
         "y": [
          -0.18080269467733467,
          0.1857962856331318,
          null
         ]
        },
        {
         "hoverinfo": "none",
         "line": {
          "color": "rgba(144.0, 238.0, 144.0, 0.5)",
          "width": 0.5
         },
         "mode": "lines",
         "type": "scatter",
         "x": [
          -0.08777666419090452,
          -0.5171782549405454,
          null
         ],
         "y": [
          -0.18080269467733467,
          -0.3340273748150628,
          null
         ]
        },
        {
         "hoverinfo": "none",
         "line": {
          "color": "rgba(144.0, 238.0, 144.0, 0.5)",
          "width": 0.5
         },
         "mode": "lines",
         "type": "scatter",
         "x": [
          -0.08777666419090452,
          -0.12149020981009737,
          null
         ],
         "y": [
          -0.18080269467733467,
          -0.3189035281333635,
          null
         ]
        },
        {
         "hoverinfo": "none",
         "line": {
          "color": "rgba(144.0, 238.0, 144.0, 0.5)",
          "width": 0.5
         },
         "mode": "lines",
         "type": "scatter",
         "x": [
          -0.08777666419090452,
          -0.1987027931296927,
          null
         ],
         "y": [
          -0.18080269467733467,
          -0.3429663223835842,
          null
         ]
        },
        {
         "hoverinfo": "none",
         "line": {
          "color": "rgba(144.0, 238.0, 144.0, 0.5)",
          "width": 0.5
         },
         "mode": "lines",
         "type": "scatter",
         "x": [
          -0.08777666419090452,
          -0.18755978864923079,
          null
         ],
         "y": [
          -0.18080269467733467,
          -0.08615810018397115,
          null
         ]
        },
        {
         "hoverinfo": "none",
         "line": {
          "color": "rgba(146.17647058823528, 233.33333333333331, 141.1764705882353, 0.5)",
          "width": 0.5
         },
         "mode": "lines",
         "type": "scatter",
         "x": [
          -0.02944573707110539,
          0.06642876558189482,
          null
         ],
         "y": [
          0.15990157972187483,
          -0.1308773144455644,
          null
         ]
        },
        {
         "hoverinfo": "none",
         "line": {
          "color": "rgba(144.0, 238.0, 144.0, 0.5)",
          "width": 0.5
         },
         "mode": "lines",
         "type": "scatter",
         "x": [
          -0.02944573707110539,
          -0.021233240631821707,
          null
         ],
         "y": [
          0.15990157972187483,
          -0.04959646375473747,
          null
         ]
        },
        {
         "hoverinfo": "none",
         "line": {
          "color": "rgba(144.0, 238.0, 144.0, 0.5)",
          "width": 0.5
         },
         "mode": "lines",
         "type": "scatter",
         "x": [
          -0.02944573707110539,
          -0.0642487984527689,
          null
         ],
         "y": [
          0.15990157972187483,
          0.03486906981503287,
          null
         ]
        },
        {
         "hoverinfo": "none",
         "line": {
          "color": "rgba(151.4, 222.13333333333335, 134.4, 0.5)",
          "width": 0.5
         },
         "mode": "lines",
         "type": "scatter",
         "x": [
          -0.02944573707110539,
          -0.004092312520426679,
          null
         ],
         "y": [
          0.15990157972187483,
          0.024106741651111197,
          null
         ]
        },
        {
         "hoverinfo": "none",
         "line": {
          "color": "rgba(144.0, 238.0, 144.0, 0.5)",
          "width": 0.5
         },
         "mode": "lines",
         "type": "scatter",
         "x": [
          -0.02944573707110539,
          -0.18755978864923079,
          null
         ],
         "y": [
          0.15990157972187483,
          -0.08615810018397115,
          null
         ]
        },
        {
         "hoverinfo": "none",
         "line": {
          "color": "rgba(146.17647058823528, 233.33333333333331, 141.1764705882353, 0.5)",
          "width": 0.5
         },
         "mode": "lines",
         "type": "scatter",
         "x": [
          -0.02944573707110539,
          0.038452299517264144,
          null
         ],
         "y": [
          0.15990157972187483,
          0.2806057862863662,
          null
         ]
        },
        {
         "hoverinfo": "none",
         "line": {
          "color": "rgba(144.0, 238.0, 144.0, 0.5)",
          "width": 0.5
         },
         "mode": "lines",
         "type": "scatter",
         "x": [
          -0.02944573707110539,
          -0.01920046280766127,
          null
         ],
         "y": [
          0.15990157972187483,
          0.05693354076657738,
          null
         ]
        },
        {
         "hoverinfo": "none",
         "line": {
          "color": "rgba(146.17647058823528, 233.33333333333331, 141.1764705882353, 0.5)",
          "width": 0.5
         },
         "mode": "lines",
         "type": "scatter",
         "x": [
          -0.02944573707110539,
          0.005720528430193572,
          null
         ],
         "y": [
          0.15990157972187483,
          0.1609735299876217,
          null
         ]
        },
        {
         "hoverinfo": "none",
         "line": {
          "color": "rgba(146.17647058823528, 233.33333333333331, 141.1764705882353, 0.5)",
          "width": 0.5
         },
         "mode": "lines",
         "type": "scatter",
         "x": [
          -0.02944573707110539,
          -0.04789367222069038,
          null
         ],
         "y": [
          0.15990157972187483,
          0.12632699513542509,
          null
         ]
        },
        {
         "hoverinfo": "none",
         "line": {
          "color": "rgba(144.0, 238.0, 144.0, 0.5)",
          "width": 0.5
         },
         "mode": "lines",
         "type": "scatter",
         "x": [
          -0.02944573707110539,
          -0.26096416492678304,
          null
         ],
         "y": [
          0.15990157972187483,
          0.05494137806017977,
          null
         ]
        },
        {
         "hoverinfo": "none",
         "line": {
          "color": "rgba(146.17647058823528, 233.33333333333331, 141.1764705882353, 0.5)",
          "width": 0.5
         },
         "mode": "lines",
         "type": "scatter",
         "x": [
          -0.02944573707110539,
          0.08805613312227421,
          null
         ],
         "y": [
          0.15990157972187483,
          0.2614632945348678,
          null
         ]
        },
        {
         "hoverinfo": "none",
         "line": {
          "color": "rgba(144.0, 238.0, 144.0, 0.5)",
          "width": 0.5
         },
         "mode": "lines",
         "type": "scatter",
         "x": [
          -0.02944573707110539,
          0.1208207247688906,
          null
         ],
         "y": [
          0.15990157972187483,
          -0.01204508455225134,
          null
         ]
        },
        {
         "hoverinfo": "none",
         "line": {
          "color": "rgba(144.0, 238.0, 144.0, 0.5)",
          "width": 0.5
         },
         "mode": "lines",
         "type": "scatter",
         "x": [
          -0.02944573707110539,
          -0.08609823480974288,
          null
         ],
         "y": [
          0.15990157972187483,
          0.1553027250389448,
          null
         ]
        },
        {
         "hoverinfo": "none",
         "line": {
          "color": "rgba(144.0, 238.0, 144.0, 0.5)",
          "width": 0.5
         },
         "mode": "lines",
         "type": "scatter",
         "x": [
          -0.02944573707110539,
          0.1461594541923399,
          null
         ],
         "y": [
          0.15990157972187483,
          0.5450236635645472,
          null
         ]
        },
        {
         "hoverinfo": "none",
         "line": {
          "color": "rgba(146.17647058823528, 233.33333333333331, 141.1764705882353, 0.5)",
          "width": 0.5
         },
         "mode": "lines",
         "type": "scatter",
         "x": [
          -0.02944573707110539,
          -0.01850548100425071,
          null
         ],
         "y": [
          0.15990157972187483,
          0.25254677681882975,
          null
         ]
        },
        {
         "hoverinfo": "none",
         "line": {
          "color": "rgba(148.78823529411764, 227.73333333333335, 137.78823529411767, 0.5)",
          "width": 0.5
         },
         "mode": "lines",
         "type": "scatter",
         "x": [
          -0.02944573707110539,
          -0.01835863240164065,
          null
         ],
         "y": [
          0.15990157972187483,
          0.2816710488450301,
          null
         ]
        },
        {
         "hoverinfo": "none",
         "line": {
          "color": "rgba(144.0, 238.0, 144.0, 0.5)",
          "width": 0.5
         },
         "mode": "lines",
         "type": "scatter",
         "x": [
          -0.02944573707110539,
          -0.05177677912445756,
          null
         ],
         "y": [
          0.15990157972187483,
          0.21324350394641564,
          null
         ]
        },
        {
         "hoverinfo": "none",
         "line": {
          "color": "rgba(144.0, 238.0, 144.0, 0.5)",
          "width": 0.5
         },
         "mode": "lines",
         "type": "scatter",
         "x": [
          -0.02944573707110539,
          -0.20402730722088458,
          null
         ],
         "y": [
          0.15990157972187483,
          0.17892555488701034,
          null
         ]
        },
        {
         "hoverinfo": "none",
         "line": {
          "color": "rgba(144.0, 238.0, 144.0, 0.5)",
          "width": 0.5
         },
         "mode": "lines",
         "type": "scatter",
         "x": [
          -0.02944573707110539,
          -0.1278979291781272,
          null
         ],
         "y": [
          0.15990157972187483,
          -0.08103816897878831,
          null
         ]
        },
        {
         "hoverinfo": "none",
         "line": {
          "color": "rgba(144.0, 238.0, 144.0, 0.5)",
          "width": 0.5
         },
         "mode": "lines",
         "type": "scatter",
         "x": [
          -0.02944573707110539,
          -0.052972056262706874,
          null
         ],
         "y": [
          0.15990157972187483,
          -0.17629299205101095,
          null
         ]
        },
        {
         "hoverinfo": "none",
         "line": {
          "color": "rgba(144.0, 238.0, 144.0, 0.5)",
          "width": 0.5
         },
         "mode": "lines",
         "type": "scatter",
         "x": [
          -0.02944573707110539,
          0.3486104317649725,
          null
         ],
         "y": [
          0.15990157972187483,
          0.24890475764236933,
          null
         ]
        },
        {
         "hoverinfo": "none",
         "line": {
          "color": "rgba(144.0, 238.0, 144.0, 0.5)",
          "width": 0.5
         },
         "mode": "lines",
         "type": "scatter",
         "x": [
          -0.02944573707110539,
          -0.4428453326912117,
          null
         ],
         "y": [
          0.15990157972187483,
          0.49279385630150474,
          null
         ]
        },
        {
         "hoverinfo": "none",
         "line": {
          "color": "rgba(148.78823529411764, 227.73333333333335, 137.78823529411767, 0.5)",
          "width": 0.5
         },
         "mode": "lines",
         "type": "scatter",
         "x": [
          -0.02944573707110539,
          0.11682886181796201,
          null
         ],
         "y": [
          0.15990157972187483,
          0.3755850632547882,
          null
         ]
        },
        {
         "hoverinfo": "none",
         "line": {
          "color": "rgba(148.78823529411764, 227.73333333333335, 137.78823529411767, 0.5)",
          "width": 0.5
         },
         "mode": "lines",
         "type": "scatter",
         "x": [
          -0.02944573707110539,
          -0.0777819075103812,
          null
         ],
         "y": [
          0.15990157972187483,
          0.3141753414343992,
          null
         ]
        },
        {
         "hoverinfo": "none",
         "line": {
          "color": "rgba(144.0, 238.0, 144.0, 0.5)",
          "width": 0.5
         },
         "mode": "lines",
         "type": "scatter",
         "x": [
          -0.02944573707110539,
          -0.019899021063032183,
          null
         ],
         "y": [
          0.15990157972187483,
          0.3334359612380626,
          null
         ]
        },
        {
         "hoverinfo": "none",
         "line": {
          "color": "rgba(144.0, 238.0, 144.0, 0.5)",
          "width": 0.5
         },
         "mode": "lines",
         "type": "scatter",
         "x": [
          -0.02944573707110539,
          -0.09904357357897299,
          null
         ],
         "y": [
          0.15990157972187483,
          0.07036911152043185,
          null
         ]
        },
        {
         "hoverinfo": "none",
         "line": {
          "color": "rgba(144.0, 238.0, 144.0, 0.5)",
          "width": 0.5
         },
         "mode": "lines",
         "type": "scatter",
         "x": [
          -0.02944573707110539,
          -0.09583264060449923,
          null
         ],
         "y": [
          0.15990157972187483,
          0.5477091992077073,
          null
         ]
        },
        {
         "hoverinfo": "none",
         "line": {
          "color": "rgba(144.0, 238.0, 144.0, 0.5)",
          "width": 0.5
         },
         "mode": "lines",
         "type": "scatter",
         "x": [
          -0.02944573707110539,
          -0.13414347973577812,
          null
         ],
         "y": [
          0.15990157972187483,
          0.07497062075222752,
          null
         ]
        },
        {
         "hoverinfo": "none",
         "line": {
          "color": "rgba(148.78823529411764, 227.73333333333335, 137.78823529411767, 0.5)",
          "width": 0.5
         },
         "mode": "lines",
         "type": "scatter",
         "x": [
          -0.02944573707110539,
          0.14555908708716736,
          null
         ],
         "y": [
          0.15990157972187483,
          0.13274317123413848,
          null
         ]
        },
        {
         "hoverinfo": "none",
         "line": {
          "color": "rgba(144.0, 238.0, 144.0, 0.5)",
          "width": 0.5
         },
         "mode": "lines",
         "type": "scatter",
         "x": [
          -0.02944573707110539,
          -0.21841503354558905,
          null
         ],
         "y": [
          0.15990157972187483,
          -0.0945802778400624,
          null
         ]
        },
        {
         "hoverinfo": "none",
         "line": {
          "color": "rgba(144.0, 238.0, 144.0, 0.5)",
          "width": 0.5
         },
         "mode": "lines",
         "type": "scatter",
         "x": [
          -0.02944573707110539,
          -0.3259160963210564,
          null
         ],
         "y": [
          0.15990157972187483,
          -0.11374568248356766,
          null
         ]
        },
        {
         "hoverinfo": "none",
         "line": {
          "color": "rgba(144.0, 238.0, 144.0, 0.5)",
          "width": 0.5
         },
         "mode": "lines",
         "type": "scatter",
         "x": [
          -0.02944573707110539,
          0.040436006585932986,
          null
         ],
         "y": [
          0.15990157972187483,
          -0.11245970248929078,
          null
         ]
        },
        {
         "hoverinfo": "none",
         "line": {
          "color": "rgba(144.0, 238.0, 144.0, 0.5)",
          "width": 0.5
         },
         "mode": "lines",
         "type": "scatter",
         "x": [
          -0.02944573707110539,
          -0.3050897530341685,
          null
         ],
         "y": [
          0.15990157972187483,
          0.20869558028462507,
          null
         ]
        },
        {
         "hoverinfo": "none",
         "line": {
          "color": "rgba(144.0, 238.0, 144.0, 0.5)",
          "width": 0.5
         },
         "mode": "lines",
         "type": "scatter",
         "x": [
          -0.02944573707110539,
          0.1158453758115048,
          null
         ],
         "y": [
          0.15990157972187483,
          0.29463524803815394,
          null
         ]
        },
        {
         "hoverinfo": "none",
         "line": {
          "color": "rgba(144.0, 238.0, 144.0, 0.5)",
          "width": 0.5
         },
         "mode": "lines",
         "type": "scatter",
         "x": [
          -0.02944573707110539,
          -0.037736053121505325,
          null
         ],
         "y": [
          0.15990157972187483,
          0.1941783921269007,
          null
         ]
        },
        {
         "hoverinfo": "none",
         "line": {
          "color": "rgba(144.0, 238.0, 144.0, 0.5)",
          "width": 0.5
         },
         "mode": "lines",
         "type": "scatter",
         "x": [
          -0.02944573707110539,
          -0.0795150080994743,
          null
         ],
         "y": [
          0.15990157972187483,
          0.2172236208559976,
          null
         ]
        },
        {
         "hoverinfo": "none",
         "line": {
          "color": "rgba(154.01176470588237, 216.53333333333333, 131.01176470588237, 0.5)",
          "width": 0.5
         },
         "mode": "lines",
         "type": "scatter",
         "x": [
          0.05279576170885225,
          0.01318206610121052,
          null
         ],
         "y": [
          -0.2417125933960446,
          -0.3368989977418131,
          null
         ]
        },
        {
         "hoverinfo": "none",
         "line": {
          "color": "rgba(144.0, 238.0, 144.0, 0.5)",
          "width": 0.5
         },
         "mode": "lines",
         "type": "scatter",
         "x": [
          0.05279576170885225,
          0.048524894804532356,
          null
         ],
         "y": [
          -0.2417125933960446,
          -0.3616202410109812,
          null
         ]
        },
        {
         "hoverinfo": "none",
         "line": {
          "color": "rgba(148.78823529411764, 227.73333333333335, 137.78823529411767, 0.5)",
          "width": 0.5
         },
         "mode": "lines",
         "type": "scatter",
         "x": [
          0.05279576170885225,
          -0.03705981388259749,
          null
         ],
         "y": [
          -0.2417125933960446,
          -0.06691982066653902,
          null
         ]
        },
        {
         "hoverinfo": "none",
         "line": {
          "color": "rgba(144.0, 238.0, 144.0, 0.5)",
          "width": 0.5
         },
         "mode": "lines",
         "type": "scatter",
         "x": [
          0.05279576170885225,
          0.28359107050092613,
          null
         ],
         "y": [
          -0.2417125933960446,
          -0.2802176111132153,
          null
         ]
        },
        {
         "hoverinfo": "none",
         "line": {
          "color": "rgba(144.0, 238.0, 144.0, 0.5)",
          "width": 0.5
         },
         "mode": "lines",
         "type": "scatter",
         "x": [
          0.05279576170885225,
          0.13847244367201625,
          null
         ],
         "y": [
          -0.2417125933960446,
          -0.44585731153129937,
          null
         ]
        },
        {
         "hoverinfo": "none",
         "line": {
          "color": "rgba(148.78823529411764, 227.73333333333335, 137.78823529411767, 0.5)",
          "width": 0.5
         },
         "mode": "lines",
         "type": "scatter",
         "x": [
          0.01318206610121052,
          0.048524894804532356,
          null
         ],
         "y": [
          -0.3368989977418131,
          -0.3616202410109812,
          null
         ]
        },
        {
         "hoverinfo": "none",
         "line": {
          "color": "rgba(144.0, 238.0, 144.0, 0.5)",
          "width": 0.5
         },
         "mode": "lines",
         "type": "scatter",
         "x": [
          0.01318206610121052,
          -0.023706579468236465,
          null
         ],
         "y": [
          -0.3368989977418131,
          -0.1719531655029565,
          null
         ]
        },
        {
         "hoverinfo": "none",
         "line": {
          "color": "rgba(144.0, 238.0, 144.0, 0.5)",
          "width": 0.5
         },
         "mode": "lines",
         "type": "scatter",
         "x": [
          0.01318206610121052,
          -0.11075489112328026,
          null
         ],
         "y": [
          -0.3368989977418131,
          -0.11376191238424242,
          null
         ]
        },
        {
         "hoverinfo": "none",
         "line": {
          "color": "rgba(144.0, 238.0, 144.0, 0.5)",
          "width": 0.5
         },
         "mode": "lines",
         "type": "scatter",
         "x": [
          0.01318206610121052,
          0.13847244367201625,
          null
         ],
         "y": [
          -0.3368989977418131,
          -0.44585731153129937,
          null
         ]
        },
        {
         "hoverinfo": "none",
         "line": {
          "color": "rgba(144.0, 238.0, 144.0, 0.5)",
          "width": 0.5
         },
         "mode": "lines",
         "type": "scatter",
         "x": [
          -0.03705981388259749,
          -0.0642487984527689,
          null
         ],
         "y": [
          -0.06691982066653902,
          0.03486906981503287,
          null
         ]
        },
        {
         "hoverinfo": "none",
         "line": {
          "color": "rgba(144.0, 238.0, 144.0, 0.5)",
          "width": 0.5
         },
         "mode": "lines",
         "type": "scatter",
         "x": [
          -0.03705981388259749,
          0.09359900415860646,
          null
         ],
         "y": [
          -0.06691982066653902,
          -0.1644428106546643,
          null
         ]
        },
        {
         "hoverinfo": "none",
         "line": {
          "color": "rgba(144.0, 238.0, 144.0, 0.5)",
          "width": 0.5
         },
         "mode": "lines",
         "type": "scatter",
         "x": [
          -0.03705981388259749,
          -0.004092312520426679,
          null
         ],
         "y": [
          -0.06691982066653902,
          0.024106741651111197,
          null
         ]
        },
        {
         "hoverinfo": "none",
         "line": {
          "color": "rgba(144.0, 238.0, 144.0, 0.5)",
          "width": 0.5
         },
         "mode": "lines",
         "type": "scatter",
         "x": [
          -0.03705981388259749,
          -0.04312852812558068,
          null
         ],
         "y": [
          -0.06691982066653902,
          0.06529052607210352,
          null
         ]
        },
        {
         "hoverinfo": "none",
         "line": {
          "color": "rgba(146.17647058823528, 233.33333333333331, 141.1764705882353, 0.5)",
          "width": 0.5
         },
         "mode": "lines",
         "type": "scatter",
         "x": [
          -0.03705981388259749,
          -0.1103728414169264,
          null
         ],
         "y": [
          -0.06691982066653902,
          -0.014126211710549553,
          null
         ]
        },
        {
         "hoverinfo": "none",
         "line": {
          "color": "rgba(144.0, 238.0, 144.0, 0.5)",
          "width": 0.5
         },
         "mode": "lines",
         "type": "scatter",
         "x": [
          -0.03705981388259749,
          -0.09217634642314189,
          null
         ],
         "y": [
          -0.06691982066653902,
          0.10947281325324452,
          null
         ]
        },
        {
         "hoverinfo": "none",
         "line": {
          "color": "rgba(144.0, 238.0, 144.0, 0.5)",
          "width": 0.5
         },
         "mode": "lines",
         "type": "scatter",
         "x": [
          -0.03705981388259749,
          -0.05177677912445756,
          null
         ],
         "y": [
          -0.06691982066653902,
          0.21324350394641564,
          null
         ]
        },
        {
         "hoverinfo": "none",
         "line": {
          "color": "rgba(146.17647058823528, 233.33333333333331, 141.1764705882353, 0.5)",
          "width": 0.5
         },
         "mode": "lines",
         "type": "scatter",
         "x": [
          -0.03705981388259749,
          -0.1310758831768436,
          null
         ],
         "y": [
          -0.06691982066653902,
          0.1092337977977338,
          null
         ]
        },
        {
         "hoverinfo": "none",
         "line": {
          "color": "rgba(144.0, 238.0, 144.0, 0.5)",
          "width": 0.5
         },
         "mode": "lines",
         "type": "scatter",
         "x": [
          -0.03705981388259749,
          -0.08002563823441185,
          null
         ],
         "y": [
          -0.06691982066653902,
          -0.06939400517860572,
          null
         ]
        },
        {
         "hoverinfo": "none",
         "line": {
          "color": "rgba(146.17647058823528, 233.33333333333331, 141.1764705882353, 0.5)",
          "width": 0.5
         },
         "mode": "lines",
         "type": "scatter",
         "x": [
          -0.03705981388259749,
          -0.021233240631821707,
          null
         ],
         "y": [
          -0.06691982066653902,
          -0.04959646375473747,
          null
         ]
        },
        {
         "hoverinfo": "none",
         "line": {
          "color": "rgba(144.0, 238.0, 144.0, 0.5)",
          "width": 0.5
         },
         "mode": "lines",
         "type": "scatter",
         "x": [
          -0.03705981388259749,
          -0.08609823480974288,
          null
         ],
         "y": [
          -0.06691982066653902,
          0.1553027250389448,
          null
         ]
        },
        {
         "hoverinfo": "none",
         "line": {
          "color": "rgba(148.78823529411764, 227.73333333333335, 137.78823529411767, 0.5)",
          "width": 0.5
         },
         "mode": "lines",
         "type": "scatter",
         "x": [
          -0.03705981388259749,
          -0.05535731170970401,
          null
         ],
         "y": [
          -0.06691982066653902,
          -0.13165770614718297,
          null
         ]
        },
        {
         "hoverinfo": "none",
         "line": {
          "color": "rgba(144.0, 238.0, 144.0, 0.5)",
          "width": 0.5
         },
         "mode": "lines",
         "type": "scatter",
         "x": [
          -0.03705981388259749,
          -0.09888059852184569,
          null
         ],
         "y": [
          -0.06691982066653902,
          0.019712051440705456,
          null
         ]
        },
        {
         "hoverinfo": "none",
         "line": {
          "color": "rgba(144.0, 238.0, 144.0, 0.5)",
          "width": 0.5
         },
         "mode": "lines",
         "type": "scatter",
         "x": [
          -0.0642487984527689,
          0.06642876558189482,
          null
         ],
         "y": [
          0.03486906981503287,
          -0.1308773144455644,
          null
         ]
        },
        {
         "hoverinfo": "none",
         "line": {
          "color": "rgba(172.2941176470588, 177.33333333333331, 107.29411764705883, 0.5)",
          "width": 0.5
         },
         "mode": "lines",
         "type": "scatter",
         "x": [
          -0.0642487984527689,
          -0.004092312520426679,
          null
         ],
         "y": [
          0.03486906981503287,
          0.024106741651111197,
          null
         ]
        },
        {
         "hoverinfo": "none",
         "line": {
          "color": "rgba(161.8470588235294, 199.73333333333335, 120.84705882352942, 0.5)",
          "width": 0.5
         },
         "mode": "lines",
         "type": "scatter",
         "x": [
          -0.0642487984527689,
          -0.018967929377365664,
          null
         ],
         "y": [
          0.03486906981503287,
          -0.08945783424872485,
          null
         ]
        },
        {
         "hoverinfo": "none",
         "line": {
          "color": "rgba(164.45882352941177, 194.13333333333333, 117.45882352941177, 0.5)",
          "width": 0.5
         },
         "mode": "lines",
         "type": "scatter",
         "x": [
          -0.0642487984527689,
          -0.11075489112328026,
          null
         ],
         "y": [
          0.03486906981503287,
          -0.11376191238424242,
          null
         ]
        },
        {
         "hoverinfo": "none",
         "line": {
          "color": "rgba(151.4, 222.13333333333335, 134.4, 0.5)",
          "width": 0.5
         },
         "mode": "lines",
         "type": "scatter",
         "x": [
          -0.0642487984527689,
          -0.023706579468236465,
          null
         ],
         "y": [
          0.03486906981503287,
          -0.1719531655029565,
          null
         ]
        },
        {
         "hoverinfo": "none",
         "line": {
          "color": "rgba(144.0, 238.0, 144.0, 0.5)",
          "width": 0.5
         },
         "mode": "lines",
         "type": "scatter",
         "x": [
          -0.0642487984527689,
          0.29668389970862213,
          null
         ],
         "y": [
          0.03486906981503287,
          -0.12969702221079557,
          null
         ]
        },
        {
         "hoverinfo": "none",
         "line": {
          "color": "rgba(144.0, 238.0, 144.0, 0.5)",
          "width": 0.5
         },
         "mode": "lines",
         "type": "scatter",
         "x": [
          -0.0642487984527689,
          -0.28880853885362967,
          null
         ],
         "y": [
          0.03486906981503287,
          0.0942248662756934,
          null
         ]
        },
        {
         "hoverinfo": "none",
         "line": {
          "color": "rgba(144.0, 238.0, 144.0, 0.5)",
          "width": 0.5
         },
         "mode": "lines",
         "type": "scatter",
         "x": [
          -0.0642487984527689,
          -0.18755978864923079,
          null
         ],
         "y": [
          0.03486906981503287,
          -0.08615810018397115,
          null
         ]
        },
        {
         "hoverinfo": "none",
         "line": {
          "color": "rgba(144.0, 238.0, 144.0, 0.5)",
          "width": 0.5
         },
         "mode": "lines",
         "type": "scatter",
         "x": [
          -0.0642487984527689,
          -0.08530667865266246,
          null
         ],
         "y": [
          0.03486906981503287,
          -0.10009792139295513,
          null
         ]
        },
        {
         "hoverinfo": "none",
         "line": {
          "color": "rgba(146.17647058823528, 233.33333333333331, 141.1764705882353, 0.5)",
          "width": 0.5
         },
         "mode": "lines",
         "type": "scatter",
         "x": [
          -0.0642487984527689,
          0.005720528430193572,
          null
         ],
         "y": [
          0.03486906981503287,
          0.1609735299876217,
          null
         ]
        },
        {
         "hoverinfo": "none",
         "line": {
          "color": "rgba(146.17647058823528, 233.33333333333331, 141.1764705882353, 0.5)",
          "width": 0.5
         },
         "mode": "lines",
         "type": "scatter",
         "x": [
          -0.0642487984527689,
          -0.0777819075103812,
          null
         ],
         "y": [
          0.03486906981503287,
          0.3141753414343992,
          null
         ]
        },
        {
         "hoverinfo": "none",
         "line": {
          "color": "rgba(146.17647058823528, 233.33333333333331, 141.1764705882353, 0.5)",
          "width": 0.5
         },
         "mode": "lines",
         "type": "scatter",
         "x": [
          -0.0642487984527689,
          -0.037736053121505325,
          null
         ],
         "y": [
          0.03486906981503287,
          0.1941783921269007,
          null
         ]
        },
        {
         "hoverinfo": "none",
         "line": {
          "color": "rgba(146.17647058823528, 233.33333333333331, 141.1764705882353, 0.5)",
          "width": 0.5
         },
         "mode": "lines",
         "type": "scatter",
         "x": [
          -0.0642487984527689,
          -0.013254801021019556,
          null
         ],
         "y": [
          0.03486906981503287,
          0.20632008218218892,
          null
         ]
        },
        {
         "hoverinfo": "none",
         "line": {
          "color": "rgba(144.0, 238.0, 144.0, 0.5)",
          "width": 0.5
         },
         "mode": "lines",
         "type": "scatter",
         "x": [
          -0.0642487984527689,
          -0.04312852812558068,
          null
         ],
         "y": [
          0.03486906981503287,
          0.06529052607210352,
          null
         ]
        },
        {
         "hoverinfo": "none",
         "line": {
          "color": "rgba(144.0, 238.0, 144.0, 0.5)",
          "width": 0.5
         },
         "mode": "lines",
         "type": "scatter",
         "x": [
          -0.0642487984527689,
          -0.06610153325615863,
          null
         ],
         "y": [
          0.03486906981503287,
          0.2606475451946278,
          null
         ]
        },
        {
         "hoverinfo": "none",
         "line": {
          "color": "rgba(144.0, 238.0, 144.0, 0.5)",
          "width": 0.5
         },
         "mode": "lines",
         "type": "scatter",
         "x": [
          -0.0642487984527689,
          -0.01850548100425071,
          null
         ],
         "y": [
          0.03486906981503287,
          0.25254677681882975,
          null
         ]
        },
        {
         "hoverinfo": "none",
         "line": {
          "color": "rgba(144.0, 238.0, 144.0, 0.5)",
          "width": 0.5
         },
         "mode": "lines",
         "type": "scatter",
         "x": [
          -0.0642487984527689,
          0.11446488128043716,
          null
         ],
         "y": [
          0.03486906981503287,
          0.1771605177335045,
          null
         ]
        },
        {
         "hoverinfo": "none",
         "line": {
          "color": "rgba(144.0, 238.0, 144.0, 0.5)",
          "width": 0.5
         },
         "mode": "lines",
         "type": "scatter",
         "x": [
          -0.0642487984527689,
          -0.021233240631821707,
          null
         ],
         "y": [
          0.03486906981503287,
          -0.04959646375473747,
          null
         ]
        },
        {
         "hoverinfo": "none",
         "line": {
          "color": "rgba(144.0, 238.0, 144.0, 0.5)",
          "width": 0.5
         },
         "mode": "lines",
         "type": "scatter",
         "x": [
          -0.0642487984527689,
          0.2290320009809992,
          null
         ],
         "y": [
          0.03486906981503287,
          0.27709614057250703,
          null
         ]
        },
        {
         "hoverinfo": "none",
         "line": {
          "color": "rgba(144.0, 238.0, 144.0, 0.5)",
          "width": 0.5
         },
         "mode": "lines",
         "type": "scatter",
         "x": [
          -0.0642487984527689,
          -0.16807591990904772,
          null
         ],
         "y": [
          0.03486906981503287,
          0.002254779748922316,
          null
         ]
        },
        {
         "hoverinfo": "none",
         "line": {
          "color": "rgba(144.0, 238.0, 144.0, 0.5)",
          "width": 0.5
         },
         "mode": "lines",
         "type": "scatter",
         "x": [
          -0.0642487984527689,
          -0.05177677912445756,
          null
         ],
         "y": [
          0.03486906981503287,
          0.21324350394641564,
          null
         ]
        },
        {
         "hoverinfo": "none",
         "line": {
          "color": "rgba(144.0, 238.0, 144.0, 0.5)",
          "width": 0.5
         },
         "mode": "lines",
         "type": "scatter",
         "x": [
          -0.0642487984527689,
          -0.20402730722088458,
          null
         ],
         "y": [
          0.03486906981503287,
          0.17892555488701034,
          null
         ]
        },
        {
         "hoverinfo": "none",
         "line": {
          "color": "rgba(148.78823529411764, 227.73333333333335, 137.78823529411767, 0.5)",
          "width": 0.5
         },
         "mode": "lines",
         "type": "scatter",
         "x": [
          -0.0642487984527689,
          -0.09888059852184569,
          null
         ],
         "y": [
          0.03486906981503287,
          0.019712051440705456,
          null
         ]
        },
        {
         "hoverinfo": "none",
         "line": {
          "color": "rgba(144.0, 238.0, 144.0, 0.5)",
          "width": 0.5
         },
         "mode": "lines",
         "type": "scatter",
         "x": [
          -0.0642487984527689,
          -0.12568436166720384,
          null
         ],
         "y": [
          0.03486906981503287,
          0.23711320197900426,
          null
         ]
        },
        {
         "hoverinfo": "none",
         "line": {
          "color": "rgba(144.0, 238.0, 144.0, 0.5)",
          "width": 0.5
         },
         "mode": "lines",
         "type": "scatter",
         "x": [
          -0.0642487984527689,
          -0.09904357357897299,
          null
         ],
         "y": [
          0.03486906981503287,
          0.07036911152043185,
          null
         ]
        },
        {
         "hoverinfo": "none",
         "line": {
          "color": "rgba(144.0, 238.0, 144.0, 0.5)",
          "width": 0.5
         },
         "mode": "lines",
         "type": "scatter",
         "x": [
          -0.0642487984527689,
          -0.08609823480974288,
          null
         ],
         "y": [
          0.03486906981503287,
          0.1553027250389448,
          null
         ]
        },
        {
         "hoverinfo": "none",
         "line": {
          "color": "rgba(144.0, 238.0, 144.0, 0.5)",
          "width": 0.5
         },
         "mode": "lines",
         "type": "scatter",
         "x": [
          -0.0642487984527689,
          -0.26096416492678304,
          null
         ],
         "y": [
          0.03486906981503287,
          0.05494137806017977,
          null
         ]
        },
        {
         "hoverinfo": "none",
         "line": {
          "color": "rgba(146.17647058823528, 233.33333333333331, 141.1764705882353, 0.5)",
          "width": 0.5
         },
         "mode": "lines",
         "type": "scatter",
         "x": [
          -0.0642487984527689,
          -0.0795150080994743,
          null
         ],
         "y": [
          0.03486906981503287,
          0.2172236208559976,
          null
         ]
        },
        {
         "hoverinfo": "none",
         "line": {
          "color": "rgba(144.0, 238.0, 144.0, 0.5)",
          "width": 0.5
         },
         "mode": "lines",
         "type": "scatter",
         "x": [
          -0.0642487984527689,
          -0.17061830911863504,
          null
         ],
         "y": [
          0.03486906981503287,
          0.16087499144082618,
          null
         ]
        },
        {
         "hoverinfo": "none",
         "line": {
          "color": "rgba(144.0, 238.0, 144.0, 0.5)",
          "width": 0.5
         },
         "mode": "lines",
         "type": "scatter",
         "x": [
          -0.0642487984527689,
          0.01102729588140955,
          null
         ],
         "y": [
          0.03486906981503287,
          -0.0593242624273822,
          null
         ]
        },
        {
         "hoverinfo": "none",
         "line": {
          "color": "rgba(144.0, 238.0, 144.0, 0.5)",
          "width": 0.5
         },
         "mode": "lines",
         "type": "scatter",
         "x": [
          -0.0642487984527689,
          -0.5230291626398516,
          null
         ],
         "y": [
          0.03486906981503287,
          -0.04580185974946745,
          null
         ]
        },
        {
         "hoverinfo": "none",
         "line": {
          "color": "rgba(144.0, 238.0, 144.0, 0.5)",
          "width": 0.5
         },
         "mode": "lines",
         "type": "scatter",
         "x": [
          -0.0642487984527689,
          -0.13414347973577812,
          null
         ],
         "y": [
          0.03486906981503287,
          0.07497062075222752,
          null
         ]
        },
        {
         "hoverinfo": "none",
         "line": {
          "color": "rgba(144.0, 238.0, 144.0, 0.5)",
          "width": 0.5
         },
         "mode": "lines",
         "type": "scatter",
         "x": [
          -0.0642487984527689,
          -0.1103728414169264,
          null
         ],
         "y": [
          0.03486906981503287,
          -0.014126211710549553,
          null
         ]
        },
        {
         "hoverinfo": "none",
         "line": {
          "color": "rgba(144.0, 238.0, 144.0, 0.5)",
          "width": 0.5
         },
         "mode": "lines",
         "type": "scatter",
         "x": [
          -0.0642487984527689,
          -0.08002563823441185,
          null
         ],
         "y": [
          0.03486906981503287,
          -0.06939400517860572,
          null
         ]
        },
        {
         "hoverinfo": "none",
         "line": {
          "color": "rgba(144.0, 238.0, 144.0, 0.5)",
          "width": 0.5
         },
         "mode": "lines",
         "type": "scatter",
         "x": [
          -0.0642487984527689,
          -0.1278979291781272,
          null
         ],
         "y": [
          0.03486906981503287,
          -0.08103816897878831,
          null
         ]
        },
        {
         "hoverinfo": "none",
         "line": {
          "color": "rgba(144.0, 238.0, 144.0, 0.5)",
          "width": 0.5
         },
         "mode": "lines",
         "type": "scatter",
         "x": [
          -0.0642487984527689,
          -0.34565817852861247,
          null
         ],
         "y": [
          0.03486906981503287,
          -0.07484623050406784,
          null
         ]
        },
        {
         "hoverinfo": "none",
         "line": {
          "color": "rgba(144.0, 238.0, 144.0, 0.5)",
          "width": 0.5
         },
         "mode": "lines",
         "type": "scatter",
         "x": [
          0.28359107050092613,
          0.13847244367201625,
          null
         ],
         "y": [
          -0.2802176111132153,
          -0.44585731153129937,
          null
         ]
        },
        {
         "hoverinfo": "none",
         "line": {
          "color": "rgba(146.17647058823528, 233.33333333333331, 141.1764705882353, 0.5)",
          "width": 0.5
         },
         "mode": "lines",
         "type": "scatter",
         "x": [
          -0.023706579468236465,
          -0.11075489112328026,
          null
         ],
         "y": [
          -0.1719531655029565,
          -0.11376191238424242,
          null
         ]
        },
        {
         "hoverinfo": "none",
         "line": {
          "color": "rgba(154.01176470588237, 216.53333333333333, 131.01176470588237, 0.5)",
          "width": 0.5
         },
         "mode": "lines",
         "type": "scatter",
         "x": [
          -0.023706579468236465,
          -0.004092312520426679,
          null
         ],
         "y": [
          -0.1719531655029565,
          0.024106741651111197,
          null
         ]
        },
        {
         "hoverinfo": "none",
         "line": {
          "color": "rgba(144.0, 238.0, 144.0, 0.5)",
          "width": 0.5
         },
         "mode": "lines",
         "type": "scatter",
         "x": [
          -0.023706579468236465,
          -0.018967929377365664,
          null
         ],
         "y": [
          -0.1719531655029565,
          -0.08945783424872485,
          null
         ]
        },
        {
         "hoverinfo": "none",
         "line": {
          "color": "rgba(144.0, 238.0, 144.0, 0.5)",
          "width": 0.5
         },
         "mode": "lines",
         "type": "scatter",
         "x": [
          -0.11075489112328026,
          -0.004092312520426679,
          null
         ],
         "y": [
          -0.11376191238424242,
          0.024106741651111197,
          null
         ]
        },
        {
         "hoverinfo": "none",
         "line": {
          "color": "rgba(144.0, 238.0, 144.0, 0.5)",
          "width": 0.5
         },
         "mode": "lines",
         "type": "scatter",
         "x": [
          -0.11075489112328026,
          -0.018967929377365664,
          null
         ],
         "y": [
          -0.11376191238424242,
          -0.08945783424872485,
          null
         ]
        },
        {
         "hoverinfo": "none",
         "line": {
          "color": "rgba(144.0, 238.0, 144.0, 0.5)",
          "width": 0.5
         },
         "mode": "lines",
         "type": "scatter",
         "x": [
          -0.11075489112328026,
          -0.021233240631821707,
          null
         ],
         "y": [
          -0.11376191238424242,
          -0.04959646375473747,
          null
         ]
        },
        {
         "hoverinfo": "none",
         "line": {
          "color": "rgba(144.0, 238.0, 144.0, 0.5)",
          "width": 0.5
         },
         "mode": "lines",
         "type": "scatter",
         "x": [
          -0.11075489112328026,
          -0.1103728414169264,
          null
         ],
         "y": [
          -0.11376191238424242,
          -0.014126211710549553,
          null
         ]
        },
        {
         "hoverinfo": "none",
         "line": {
          "color": "rgba(144.0, 238.0, 144.0, 0.5)",
          "width": 0.5
         },
         "mode": "lines",
         "type": "scatter",
         "x": [
          -0.11075489112328026,
          0.2529097371575984,
          null
         ],
         "y": [
          -0.11376191238424242,
          -0.13380420467015644,
          null
         ]
        },
        {
         "hoverinfo": "none",
         "line": {
          "color": "rgba(144.0, 238.0, 144.0, 0.5)",
          "width": 0.5
         },
         "mode": "lines",
         "type": "scatter",
         "x": [
          -0.11075489112328026,
          -0.019899021063032183,
          null
         ],
         "y": [
          -0.11376191238424242,
          0.3334359612380626,
          null
         ]
        },
        {
         "hoverinfo": "none",
         "line": {
          "color": "rgba(144.0, 238.0, 144.0, 0.5)",
          "width": 0.5
         },
         "mode": "lines",
         "type": "scatter",
         "x": [
          -0.11075489112328026,
          0.005720528430193572,
          null
         ],
         "y": [
          -0.11376191238424242,
          0.1609735299876217,
          null
         ]
        },
        {
         "hoverinfo": "none",
         "line": {
          "color": "rgba(144.0, 238.0, 144.0, 0.5)",
          "width": 0.5
         },
         "mode": "lines",
         "type": "scatter",
         "x": [
          -0.11075489112328026,
          -0.18067723358052504,
          null
         ],
         "y": [
          -0.11376191238424242,
          -0.12069862000410217,
          null
         ]
        },
        {
         "hoverinfo": "none",
         "line": {
          "color": "rgba(144.0, 238.0, 144.0, 0.5)",
          "width": 0.5
         },
         "mode": "lines",
         "type": "scatter",
         "x": [
          -0.11075489112328026,
          -0.48264633370868937,
          null
         ],
         "y": [
          -0.11376191238424242,
          -0.38655723833214856,
          null
         ]
        },
        {
         "hoverinfo": "none",
         "line": {
          "color": "rgba(144.0, 238.0, 144.0, 0.5)",
          "width": 0.5
         },
         "mode": "lines",
         "type": "scatter",
         "x": [
          -0.11075489112328026,
          0.01102729588140955,
          null
         ],
         "y": [
          -0.11376191238424242,
          -0.0593242624273822,
          null
         ]
        },
        {
         "hoverinfo": "none",
         "line": {
          "color": "rgba(154.01176470588237, 216.53333333333333, 131.01176470588237, 0.5)",
          "width": 0.5
         },
         "mode": "lines",
         "type": "scatter",
         "x": [
          -0.20437734098484633,
          -0.26096416492678304,
          null
         ],
         "y": [
          0.040505340548191986,
          0.05494137806017977,
          null
         ]
        },
        {
         "hoverinfo": "none",
         "line": {
          "color": "rgba(144.0, 238.0, 144.0, 0.5)",
          "width": 0.5
         },
         "mode": "lines",
         "type": "scatter",
         "x": [
          -0.20437734098484633,
          -0.1278979291781272,
          null
         ],
         "y": [
          0.040505340548191986,
          -0.08103816897878831,
          null
         ]
        },
        {
         "hoverinfo": "none",
         "line": {
          "color": "rgba(144.0, 238.0, 144.0, 0.5)",
          "width": 0.5
         },
         "mode": "lines",
         "type": "scatter",
         "x": [
          -0.20437734098484633,
          -0.1310758831768436,
          null
         ],
         "y": [
          0.040505340548191986,
          0.1092337977977338,
          null
         ]
        },
        {
         "hoverinfo": "none",
         "line": {
          "color": "rgba(144.0, 238.0, 144.0, 0.5)",
          "width": 0.5
         },
         "mode": "lines",
         "type": "scatter",
         "x": [
          -0.20437734098484633,
          -0.18755978864923079,
          null
         ],
         "y": [
          0.040505340548191986,
          -0.08615810018397115,
          null
         ]
        },
        {
         "hoverinfo": "none",
         "line": {
          "color": "rgba(144.0, 238.0, 144.0, 0.5)",
          "width": 0.5
         },
         "mode": "lines",
         "type": "scatter",
         "x": [
          -0.20437734098484633,
          -0.08609823480974288,
          null
         ],
         "y": [
          0.040505340548191986,
          0.1553027250389448,
          null
         ]
        },
        {
         "hoverinfo": "none",
         "line": {
          "color": "rgba(144.0, 238.0, 144.0, 0.5)",
          "width": 0.5
         },
         "mode": "lines",
         "type": "scatter",
         "x": [
          -0.20437734098484633,
          -0.004092312520426679,
          null
         ],
         "y": [
          0.040505340548191986,
          0.024106741651111197,
          null
         ]
        },
        {
         "hoverinfo": "none",
         "line": {
          "color": "rgba(146.17647058823528, 233.33333333333331, 141.1764705882353, 0.5)",
          "width": 0.5
         },
         "mode": "lines",
         "type": "scatter",
         "x": [
          0.09359900415860646,
          0.08304942441927554,
          null
         ],
         "y": [
          -0.1644428106546643,
          -0.2390790882081588,
          null
         ]
        },
        {
         "hoverinfo": "none",
         "line": {
          "color": "rgba(144.0, 238.0, 144.0, 0.5)",
          "width": 0.5
         },
         "mode": "lines",
         "type": "scatter",
         "x": [
          0.08304942441927554,
          -0.1840932534843109,
          null
         ],
         "y": [
          -0.2390790882081588,
          -0.1878456931166274,
          null
         ]
        },
        {
         "hoverinfo": "none",
         "line": {
          "color": "rgba(144.0, 238.0, 144.0, 0.5)",
          "width": 0.5
         },
         "mode": "lines",
         "type": "scatter",
         "x": [
          -0.1840932534843109,
          -0.004092312520426679,
          null
         ],
         "y": [
          -0.1878456931166274,
          0.024106741651111197,
          null
         ]
        },
        {
         "hoverinfo": "none",
         "line": {
          "color": "rgba(144.0, 238.0, 144.0, 0.5)",
          "width": 0.5
         },
         "mode": "lines",
         "type": "scatter",
         "x": [
          -0.1840932534843109,
          -0.1103728414169264,
          null
         ],
         "y": [
          -0.1878456931166274,
          -0.014126211710549553,
          null
         ]
        },
        {
         "hoverinfo": "none",
         "line": {
          "color": "rgba(144.0, 238.0, 144.0, 0.5)",
          "width": 0.5
         },
         "mode": "lines",
         "type": "scatter",
         "x": [
          -0.1840932534843109,
          -0.08002563823441185,
          null
         ],
         "y": [
          -0.1878456931166274,
          -0.06939400517860572,
          null
         ]
        },
        {
         "hoverinfo": "none",
         "line": {
          "color": "rgba(146.17647058823528, 233.33333333333331, 141.1764705882353, 0.5)",
          "width": 0.5
         },
         "mode": "lines",
         "type": "scatter",
         "x": [
          -0.1840932534843109,
          -0.021233240631821707,
          null
         ],
         "y": [
          -0.1878456931166274,
          -0.04959646375473747,
          null
         ]
        },
        {
         "hoverinfo": "none",
         "line": {
          "color": "rgba(144.0, 238.0, 144.0, 0.5)",
          "width": 0.5
         },
         "mode": "lines",
         "type": "scatter",
         "x": [
          -0.1840932534843109,
          -0.5181830269989587,
          null
         ],
         "y": [
          -0.1878456931166274,
          0.2070075865883011,
          null
         ]
        },
        {
         "hoverinfo": "none",
         "line": {
          "color": "rgba(144.0, 238.0, 144.0, 0.5)",
          "width": 0.5
         },
         "mode": "lines",
         "type": "scatter",
         "x": [
          -0.1840932534843109,
          0.01102729588140955,
          null
         ],
         "y": [
          -0.1878456931166274,
          -0.0593242624273822,
          null
         ]
        },
        {
         "hoverinfo": "none",
         "line": {
          "color": "rgba(144.0, 238.0, 144.0, 0.5)",
          "width": 0.5
         },
         "mode": "lines",
         "type": "scatter",
         "x": [
          -0.1840932534843109,
          -0.28799831737468357,
          null
         ],
         "y": [
          -0.1878456931166274,
          -0.375414055482189,
          null
         ]
        },
        {
         "hoverinfo": "none",
         "line": {
          "color": "rgba(144.0, 238.0, 144.0, 0.5)",
          "width": 0.5
         },
         "mode": "lines",
         "type": "scatter",
         "x": [
          -0.1840932534843109,
          -0.1402163251918487,
          null
         ],
         "y": [
          -0.1878456931166274,
          -0.7787040668566418,
          null
         ]
        },
        {
         "hoverinfo": "none",
         "line": {
          "color": "rgba(144.0, 238.0, 144.0, 0.5)",
          "width": 0.5
         },
         "mode": "lines",
         "type": "scatter",
         "x": [
          -0.1840932534843109,
          -0.28870609353163784,
          null
         ],
         "y": [
          -0.1878456931166274,
          0.1857962856331318,
          null
         ]
        },
        {
         "hoverinfo": "none",
         "line": {
          "color": "rgba(144.0, 238.0, 144.0, 0.5)",
          "width": 0.5
         },
         "mode": "lines",
         "type": "scatter",
         "x": [
          -0.1840932534843109,
          -0.5171782549405454,
          null
         ],
         "y": [
          -0.1878456931166274,
          -0.3340273748150628,
          null
         ]
        },
        {
         "hoverinfo": "none",
         "line": {
          "color": "rgba(151.4, 222.13333333333335, 134.4, 0.5)",
          "width": 0.5
         },
         "mode": "lines",
         "type": "scatter",
         "x": [
          0.16105680476195416,
          -0.021233240631821707,
          null
         ],
         "y": [
          -0.22640406278010852,
          -0.04959646375473747,
          null
         ]
        },
        {
         "hoverinfo": "none",
         "line": {
          "color": "rgba(144.0, 238.0, 144.0, 0.5)",
          "width": 0.5
         },
         "mode": "lines",
         "type": "scatter",
         "x": [
          -0.021233240631821707,
          0.11446488128043716,
          null
         ],
         "y": [
          -0.04959646375473747,
          0.1771605177335045,
          null
         ]
        },
        {
         "hoverinfo": "none",
         "line": {
          "color": "rgba(144.0, 238.0, 144.0, 0.5)",
          "width": 0.5
         },
         "mode": "lines",
         "type": "scatter",
         "x": [
          -0.021233240631821707,
          0.008881731270320388,
          null
         ],
         "y": [
          -0.04959646375473747,
          -0.3880380386075744,
          null
         ]
        },
        {
         "hoverinfo": "none",
         "line": {
          "color": "rgba(148.78823529411764, 227.73333333333335, 137.78823529411767, 0.5)",
          "width": 0.5
         },
         "mode": "lines",
         "type": "scatter",
         "x": [
          -0.021233240631821707,
          0.2922399271954087,
          null
         ],
         "y": [
          -0.04959646375473747,
          -0.1938310040327664,
          null
         ]
        },
        {
         "hoverinfo": "none",
         "line": {
          "color": "rgba(151.4, 222.13333333333335, 134.4, 0.5)",
          "width": 0.5
         },
         "mode": "lines",
         "type": "scatter",
         "x": [
          -0.021233240631821707,
          0.040436006585932986,
          null
         ],
         "y": [
          -0.04959646375473747,
          -0.11245970248929078,
          null
         ]
        },
        {
         "hoverinfo": "none",
         "line": {
          "color": "rgba(144.0, 238.0, 144.0, 0.5)",
          "width": 0.5
         },
         "mode": "lines",
         "type": "scatter",
         "x": [
          -0.021233240631821707,
          0.3047752643761323,
          null
         ],
         "y": [
          -0.04959646375473747,
          -0.38193414232700745,
          null
         ]
        },
        {
         "hoverinfo": "none",
         "line": {
          "color": "rgba(144.0, 238.0, 144.0, 0.5)",
          "width": 0.5
         },
         "mode": "lines",
         "type": "scatter",
         "x": [
          -0.021233240631821707,
          0.12973198260062271,
          null
         ],
         "y": [
          -0.04959646375473747,
          -0.14884767452265774,
          null
         ]
        },
        {
         "hoverinfo": "none",
         "line": {
          "color": "rgba(148.78823529411764, 227.73333333333335, 137.78823529411767, 0.5)",
          "width": 0.5
         },
         "mode": "lines",
         "type": "scatter",
         "x": [
          -0.021233240631821707,
          0.16617558107958147,
          null
         ],
         "y": [
          -0.04959646375473747,
          -0.12651106712926039,
          null
         ]
        },
        {
         "hoverinfo": "none",
         "line": {
          "color": "rgba(144.0, 238.0, 144.0, 0.5)",
          "width": 0.5
         },
         "mode": "lines",
         "type": "scatter",
         "x": [
          -0.021233240631821707,
          0.09154239875927359,
          null
         ],
         "y": [
          -0.04959646375473747,
          0.13936048585214847,
          null
         ]
        },
        {
         "hoverinfo": "none",
         "line": {
          "color": "rgba(146.17647058823528, 233.33333333333331, 141.1764705882353, 0.5)",
          "width": 0.5
         },
         "mode": "lines",
         "type": "scatter",
         "x": [
          -0.021233240631821707,
          0.2059115061276234,
          null
         ],
         "y": [
          -0.04959646375473747,
          -0.15453399767208037,
          null
         ]
        },
        {
         "hoverinfo": "none",
         "line": {
          "color": "rgba(144.0, 238.0, 144.0, 0.5)",
          "width": 0.5
         },
         "mode": "lines",
         "type": "scatter",
         "x": [
          -0.021233240631821707,
          -0.4661156191946845,
          null
         ],
         "y": [
          -0.04959646375473747,
          -0.5322529442554138,
          null
         ]
        },
        {
         "hoverinfo": "none",
         "line": {
          "color": "rgba(146.17647058823528, 233.33333333333331, 141.1764705882353, 0.5)",
          "width": 0.5
         },
         "mode": "lines",
         "type": "scatter",
         "x": [
          -0.021233240631821707,
          0.10141493191329501,
          null
         ],
         "y": [
          -0.04959646375473747,
          -0.05325499216906051,
          null
         ]
        },
        {
         "hoverinfo": "none",
         "line": {
          "color": "rgba(172.2941176470588, 177.33333333333331, 107.29411764705883, 0.5)",
          "width": 0.5
         },
         "mode": "lines",
         "type": "scatter",
         "x": [
          -0.021233240631821707,
          -0.004092312520426679,
          null
         ],
         "y": [
          -0.04959646375473747,
          0.024106741651111197,
          null
         ]
        },
        {
         "hoverinfo": "none",
         "line": {
          "color": "rgba(146.17647058823528, 233.33333333333331, 141.1764705882353, 0.5)",
          "width": 0.5
         },
         "mode": "lines",
         "type": "scatter",
         "x": [
          -0.021233240631821707,
          -0.21506768916699479,
          null
         ],
         "y": [
          -0.04959646375473747,
          -0.2787256230087928,
          null
         ]
        },
        {
         "hoverinfo": "none",
         "line": {
          "color": "rgba(144.0, 238.0, 144.0, 0.5)",
          "width": 0.5
         },
         "mode": "lines",
         "type": "scatter",
         "x": [
          -0.021233240631821707,
          -0.32169159398371533,
          null
         ],
         "y": [
          -0.04959646375473747,
          -0.40453800375018484,
          null
         ]
        },
        {
         "hoverinfo": "none",
         "line": {
          "color": "rgba(216.25882352941176, 83.06666666666666, 50.258823529411764, 0.5)",
          "width": 0.5
         },
         "mode": "lines",
         "type": "scatter",
         "x": [
          -0.021233240631821707,
          -0.01920046280766127,
          null
         ],
         "y": [
          -0.04959646375473747,
          0.05693354076657738,
          null
         ]
        },
        {
         "hoverinfo": "none",
         "line": {
          "color": "rgba(144.0, 238.0, 144.0, 0.5)",
          "width": 0.5
         },
         "mode": "lines",
         "type": "scatter",
         "x": [
          -0.021233240631821707,
          -0.14319011935497858,
          null
         ],
         "y": [
          -0.04959646375473747,
          -0.09835547769374435,
          null
         ]
        },
        {
         "hoverinfo": "none",
         "line": {
          "color": "rgba(161.8470588235294, 199.73333333333335, 120.84705882352942, 0.5)",
          "width": 0.5
         },
         "mode": "lines",
         "type": "scatter",
         "x": [
          -0.021233240631821707,
          0.06340199839732927,
          null
         ],
         "y": [
          -0.04959646375473747,
          0.04334777518009053,
          null
         ]
        },
        {
         "hoverinfo": "none",
         "line": {
          "color": "rgba(146.17647058823528, 233.33333333333331, 141.1764705882353, 0.5)",
          "width": 0.5
         },
         "mode": "lines",
         "type": "scatter",
         "x": [
          -0.021233240631821707,
          -0.16807591990904772,
          null
         ],
         "y": [
          -0.04959646375473747,
          0.002254779748922316,
          null
         ]
        },
        {
         "hoverinfo": "none",
         "line": {
          "color": "rgba(144.0, 238.0, 144.0, 0.5)",
          "width": 0.5
         },
         "mode": "lines",
         "type": "scatter",
         "x": [
          -0.021233240631821707,
          0.005720528430193572,
          null
         ],
         "y": [
          -0.04959646375473747,
          0.1609735299876217,
          null
         ]
        },
        {
         "hoverinfo": "none",
         "line": {
          "color": "rgba(144.0, 238.0, 144.0, 0.5)",
          "width": 0.5
         },
         "mode": "lines",
         "type": "scatter",
         "x": [
          -0.021233240631821707,
          -0.09904357357897299,
          null
         ],
         "y": [
          -0.04959646375473747,
          0.07036911152043185,
          null
         ]
        },
        {
         "hoverinfo": "none",
         "line": {
          "color": "rgba(148.78823529411764, 227.73333333333335, 137.78823529411767, 0.5)",
          "width": 0.5
         },
         "mode": "lines",
         "type": "scatter",
         "x": [
          -0.021233240631821707,
          0.1208207247688906,
          null
         ],
         "y": [
          -0.04959646375473747,
          -0.01204508455225134,
          null
         ]
        },
        {
         "hoverinfo": "none",
         "line": {
          "color": "rgba(144.0, 238.0, 144.0, 0.5)",
          "width": 0.5
         },
         "mode": "lines",
         "type": "scatter",
         "x": [
          -0.021233240631821707,
          0.005386321220475092,
          null
         ],
         "y": [
          -0.04959646375473747,
          0.04818967093067006,
          null
         ]
        },
        {
         "hoverinfo": "none",
         "line": {
          "color": "rgba(144.0, 238.0, 144.0, 0.5)",
          "width": 0.5
         },
         "mode": "lines",
         "type": "scatter",
         "x": [
          -0.021233240631821707,
          0.2290320009809992,
          null
         ],
         "y": [
          -0.04959646375473747,
          0.27709614057250703,
          null
         ]
        },
        {
         "hoverinfo": "none",
         "line": {
          "color": "rgba(144.0, 238.0, 144.0, 0.5)",
          "width": 0.5
         },
         "mode": "lines",
         "type": "scatter",
         "x": [
          -0.021233240631821707,
          0.42323034174642354,
          null
         ],
         "y": [
          -0.04959646375473747,
          0.12304165355902631,
          null
         ]
        },
        {
         "hoverinfo": "none",
         "line": {
          "color": "rgba(144.0, 238.0, 144.0, 0.5)",
          "width": 0.5
         },
         "mode": "lines",
         "type": "scatter",
         "x": [
          -0.021233240631821707,
          -0.01835863240164065,
          null
         ],
         "y": [
          -0.04959646375473747,
          0.2816710488450301,
          null
         ]
        },
        {
         "hoverinfo": "none",
         "line": {
          "color": "rgba(144.0, 238.0, 144.0, 0.5)",
          "width": 0.5
         },
         "mode": "lines",
         "type": "scatter",
         "x": [
          -0.021233240631821707,
          -0.3259160963210564,
          null
         ],
         "y": [
          -0.04959646375473747,
          -0.11374568248356766,
          null
         ]
        },
        {
         "hoverinfo": "none",
         "line": {
          "color": "rgba(146.17647058823528, 233.33333333333331, 141.1764705882353, 0.5)",
          "width": 0.5
         },
         "mode": "lines",
         "type": "scatter",
         "x": [
          -0.021233240631821707,
          -0.04312852812558068,
          null
         ],
         "y": [
          -0.04959646375473747,
          0.06529052607210352,
          null
         ]
        },
        {
         "hoverinfo": "none",
         "line": {
          "color": "rgba(146.17647058823528, 233.33333333333331, 141.1764705882353, 0.5)",
          "width": 0.5
         },
         "mode": "lines",
         "type": "scatter",
         "x": [
          -0.021233240631821707,
          -0.08609823480974288,
          null
         ],
         "y": [
          -0.04959646375473747,
          0.1553027250389448,
          null
         ]
        },
        {
         "hoverinfo": "none",
         "line": {
          "color": "rgba(144.0, 238.0, 144.0, 0.5)",
          "width": 0.5
         },
         "mode": "lines",
         "type": "scatter",
         "x": [
          -0.021233240631821707,
          -0.663056425427045,
          null
         ],
         "y": [
          -0.04959646375473747,
          0.09226307554996419,
          null
         ]
        },
        {
         "hoverinfo": "none",
         "line": {
          "color": "rgba(144.0, 238.0, 144.0, 0.5)",
          "width": 0.5
         },
         "mode": "lines",
         "type": "scatter",
         "x": [
          -0.021233240631821707,
          -0.08002563823441185,
          null
         ],
         "y": [
          -0.04959646375473747,
          -0.06939400517860572,
          null
         ]
        },
        {
         "hoverinfo": "none",
         "line": {
          "color": "rgba(144.0, 238.0, 144.0, 0.5)",
          "width": 0.5
         },
         "mode": "lines",
         "type": "scatter",
         "x": [
          -0.021233240631821707,
          -0.1278979291781272,
          null
         ],
         "y": [
          -0.04959646375473747,
          -0.08103816897878831,
          null
         ]
        },
        {
         "hoverinfo": "none",
         "line": {
          "color": "rgba(146.17647058823528, 233.33333333333331, 141.1764705882353, 0.5)",
          "width": 0.5
         },
         "mode": "lines",
         "type": "scatter",
         "x": [
          -0.021233240631821707,
          -0.15884862835591715,
          null
         ],
         "y": [
          -0.04959646375473747,
          -0.2605013762401174,
          null
         ]
        },
        {
         "hoverinfo": "none",
         "line": {
          "color": "rgba(151.4, 222.13333333333335, 134.4, 0.5)",
          "width": 0.5
         },
         "mode": "lines",
         "type": "scatter",
         "x": [
          -0.021233240631821707,
          -0.052972056262706874,
          null
         ],
         "y": [
          -0.04959646375473747,
          -0.17629299205101095,
          null
         ]
        },
        {
         "hoverinfo": "none",
         "line": {
          "color": "rgba(144.0, 238.0, 144.0, 0.5)",
          "width": 0.5
         },
         "mode": "lines",
         "type": "scatter",
         "x": [
          -0.021233240631821707,
          -0.12149020981009737,
          null
         ],
         "y": [
          -0.04959646375473747,
          -0.3189035281333635,
          null
         ]
        },
        {
         "hoverinfo": "none",
         "line": {
          "color": "rgba(144.0, 238.0, 144.0, 0.5)",
          "width": 0.5
         },
         "mode": "lines",
         "type": "scatter",
         "x": [
          -0.021233240631821707,
          -0.12459395883666516,
          null
         ],
         "y": [
          -0.04959646375473747,
          0.3089196779436653,
          null
         ]
        },
        {
         "hoverinfo": "none",
         "line": {
          "color": "rgba(144.0, 238.0, 144.0, 0.5)",
          "width": 0.5
         },
         "mode": "lines",
         "type": "scatter",
         "x": [
          -0.021233240631821707,
          0.03318362620603166,
          null
         ],
         "y": [
          -0.04959646375473747,
          0.40262569127087705,
          null
         ]
        },
        {
         "hoverinfo": "none",
         "line": {
          "color": "rgba(146.17647058823528, 233.33333333333331, 141.1764705882353, 0.5)",
          "width": 0.5
         },
         "mode": "lines",
         "type": "scatter",
         "x": [
          -0.021233240631821707,
          -0.1103728414169264,
          null
         ],
         "y": [
          -0.04959646375473747,
          -0.014126211710549553,
          null
         ]
        },
        {
         "hoverinfo": "none",
         "line": {
          "color": "rgba(144.0, 238.0, 144.0, 0.5)",
          "width": 0.5
         },
         "mode": "lines",
         "type": "scatter",
         "x": [
          -0.021233240631821707,
          -0.19055928449609405,
          null
         ],
         "y": [
          -0.04959646375473747,
          0.217299725401975,
          null
         ]
        },
        {
         "hoverinfo": "none",
         "line": {
          "color": "rgba(144.0, 238.0, 144.0, 0.5)",
          "width": 0.5
         },
         "mode": "lines",
         "type": "scatter",
         "x": [
          -0.021233240631821707,
          0.2529097371575984,
          null
         ],
         "y": [
          -0.04959646375473747,
          -0.13380420467015644,
          null
         ]
        },
        {
         "hoverinfo": "none",
         "line": {
          "color": "rgba(154.01176470588237, 216.53333333333333, 131.01176470588237, 0.5)",
          "width": 0.5
         },
         "mode": "lines",
         "type": "scatter",
         "x": [
          -0.021233240631821707,
          -0.1310758831768436,
          null
         ],
         "y": [
          -0.04959646375473747,
          0.1092337977977338,
          null
         ]
        },
        {
         "hoverinfo": "none",
         "line": {
          "color": "rgba(144.0, 238.0, 144.0, 0.5)",
          "width": 0.5
         },
         "mode": "lines",
         "type": "scatter",
         "x": [
          -0.021233240631821707,
          -0.13414347973577812,
          null
         ],
         "y": [
          -0.04959646375473747,
          0.07497062075222752,
          null
         ]
        },
        {
         "hoverinfo": "none",
         "line": {
          "color": "rgba(144.0, 238.0, 144.0, 0.5)",
          "width": 0.5
         },
         "mode": "lines",
         "type": "scatter",
         "x": [
          -0.021233240631821707,
          -0.23123087529251413,
          null
         ],
         "y": [
          -0.04959646375473747,
          0.10582388808140479,
          null
         ]
        },
        {
         "hoverinfo": "none",
         "line": {
          "color": "rgba(144.0, 238.0, 144.0, 0.5)",
          "width": 0.5
         },
         "mode": "lines",
         "type": "scatter",
         "x": [
          -0.021233240631821707,
          -0.09217634642314189,
          null
         ],
         "y": [
          -0.04959646375473747,
          0.10947281325324452,
          null
         ]
        },
        {
         "hoverinfo": "none",
         "line": {
          "color": "rgba(148.78823529411764, 227.73333333333335, 137.78823529411767, 0.5)",
          "width": 0.5
         },
         "mode": "lines",
         "type": "scatter",
         "x": [
          -0.021233240631821707,
          -0.05535731170970401,
          null
         ],
         "y": [
          -0.04959646375473747,
          -0.13165770614718297,
          null
         ]
        },
        {
         "hoverinfo": "none",
         "line": {
          "color": "rgba(148.78823529411764, 227.73333333333335, 137.78823529411767, 0.5)",
          "width": 0.5
         },
         "mode": "lines",
         "type": "scatter",
         "x": [
          -0.021233240631821707,
          -0.09888059852184569,
          null
         ],
         "y": [
          -0.04959646375473747,
          0.019712051440705456,
          null
         ]
        },
        {
         "hoverinfo": "none",
         "line": {
          "color": "rgba(144.0, 238.0, 144.0, 0.5)",
          "width": 0.5
         },
         "mode": "lines",
         "type": "scatter",
         "x": [
          -0.021233240631821707,
          -0.11656011755985318,
          null
         ],
         "y": [
          -0.04959646375473747,
          -0.23291884797257528,
          null
         ]
        },
        {
         "hoverinfo": "none",
         "line": {
          "color": "rgba(144.0, 238.0, 144.0, 0.5)",
          "width": 0.5
         },
         "mode": "lines",
         "type": "scatter",
         "x": [
          -0.021233240631821707,
          0.01102729588140955,
          null
         ],
         "y": [
          -0.04959646375473747,
          -0.0593242624273822,
          null
         ]
        },
        {
         "hoverinfo": "none",
         "line": {
          "color": "rgba(144.0, 238.0, 144.0, 0.5)",
          "width": 0.5
         },
         "mode": "lines",
         "type": "scatter",
         "x": [
          -0.021233240631821707,
          -0.04789367222069038,
          null
         ],
         "y": [
          -0.04959646375473747,
          0.12632699513542509,
          null
         ]
        },
        {
         "hoverinfo": "none",
         "line": {
          "color": "rgba(144.0, 238.0, 144.0, 0.5)",
          "width": 0.5
         },
         "mode": "lines",
         "type": "scatter",
         "x": [
          -0.021233240631821707,
          -0.16601237278549122,
          null
         ],
         "y": [
          -0.04959646375473747,
          -0.4174758498098329,
          null
         ]
        },
        {
         "hoverinfo": "none",
         "line": {
          "color": "rgba(144.0, 238.0, 144.0, 0.5)",
          "width": 0.5
         },
         "mode": "lines",
         "type": "scatter",
         "x": [
          -0.021233240631821707,
          -0.18755978864923079,
          null
         ],
         "y": [
          -0.04959646375473747,
          -0.08615810018397115,
          null
         ]
        },
        {
         "hoverinfo": "none",
         "line": {
          "color": "rgba(144.0, 238.0, 144.0, 0.5)",
          "width": 0.5
         },
         "mode": "lines",
         "type": "scatter",
         "x": [
          -0.021233240631821707,
          -0.17978469425979474,
          null
         ],
         "y": [
          -0.04959646375473747,
          -0.02793329833471627,
          null
         ]
        },
        {
         "hoverinfo": "none",
         "line": {
          "color": "rgba(144.0, 238.0, 144.0, 0.5)",
          "width": 0.5
         },
         "mode": "lines",
         "type": "scatter",
         "x": [
          0.11446488128043716,
          0.08805613312227421,
          null
         ],
         "y": [
          0.1771605177335045,
          0.2614632945348678,
          null
         ]
        },
        {
         "hoverinfo": "none",
         "line": {
          "color": "rgba(144.0, 238.0, 144.0, 0.5)",
          "width": 0.5
         },
         "mode": "lines",
         "type": "scatter",
         "x": [
          0.11446488128043716,
          0.16154627487490428,
          null
         ],
         "y": [
          0.1771605177335045,
          0.33030556468891753,
          null
         ]
        },
        {
         "hoverinfo": "none",
         "line": {
          "color": "rgba(144.0, 238.0, 144.0, 0.5)",
          "width": 0.5
         },
         "mode": "lines",
         "type": "scatter",
         "x": [
          0.11446488128043716,
          0.07025780894941544,
          null
         ],
         "y": [
          0.1771605177335045,
          0.0758657772446874,
          null
         ]
        },
        {
         "hoverinfo": "none",
         "line": {
          "color": "rgba(144.0, 238.0, 144.0, 0.5)",
          "width": 0.5
         },
         "mode": "lines",
         "type": "scatter",
         "x": [
          0.11446488128043716,
          -0.004092312520426679,
          null
         ],
         "y": [
          0.1771605177335045,
          0.024106741651111197,
          null
         ]
        },
        {
         "hoverinfo": "none",
         "line": {
          "color": "rgba(146.17647058823528, 233.33333333333331, 141.1764705882353, 0.5)",
          "width": 0.5
         },
         "mode": "lines",
         "type": "scatter",
         "x": [
          0.11446488128043716,
          0.005720528430193572,
          null
         ],
         "y": [
          0.1771605177335045,
          0.1609735299876217,
          null
         ]
        },
        {
         "hoverinfo": "none",
         "line": {
          "color": "rgba(144.0, 238.0, 144.0, 0.5)",
          "width": 0.5
         },
         "mode": "lines",
         "type": "scatter",
         "x": [
          0.11446488128043716,
          0.08508056166314654,
          null
         ],
         "y": [
          0.1771605177335045,
          0.21727748726847088,
          null
         ]
        },
        {
         "hoverinfo": "none",
         "line": {
          "color": "rgba(144.0, 238.0, 144.0, 0.5)",
          "width": 0.5
         },
         "mode": "lines",
         "type": "scatter",
         "x": [
          0.11446488128043716,
          -0.06610153325615863,
          null
         ],
         "y": [
          0.1771605177335045,
          0.2606475451946278,
          null
         ]
        },
        {
         "hoverinfo": "none",
         "line": {
          "color": "rgba(144.0, 238.0, 144.0, 0.5)",
          "width": 0.5
         },
         "mode": "lines",
         "type": "scatter",
         "x": [
          0.11446488128043716,
          0.073323613514079,
          null
         ],
         "y": [
          0.1771605177335045,
          0.3892253749122883,
          null
         ]
        },
        {
         "hoverinfo": "none",
         "line": {
          "color": "rgba(144.0, 238.0, 144.0, 0.5)",
          "width": 0.5
         },
         "mode": "lines",
         "type": "scatter",
         "x": [
          0.11446488128043716,
          -0.01850548100425071,
          null
         ],
         "y": [
          0.1771605177335045,
          0.25254677681882975,
          null
         ]
        },
        {
         "hoverinfo": "none",
         "line": {
          "color": "rgba(144.0, 238.0, 144.0, 0.5)",
          "width": 0.5
         },
         "mode": "lines",
         "type": "scatter",
         "x": [
          0.11446488128043716,
          -0.05177677912445756,
          null
         ],
         "y": [
          0.1771605177335045,
          0.21324350394641564,
          null
         ]
        },
        {
         "hoverinfo": "none",
         "line": {
          "color": "rgba(144.0, 238.0, 144.0, 0.5)",
          "width": 0.5
         },
         "mode": "lines",
         "type": "scatter",
         "x": [
          0.11446488128043716,
          -0.04312852812558068,
          null
         ],
         "y": [
          0.1771605177335045,
          0.06529052607210352,
          null
         ]
        },
        {
         "hoverinfo": "none",
         "line": {
          "color": "rgba(144.0, 238.0, 144.0, 0.5)",
          "width": 0.5
         },
         "mode": "lines",
         "type": "scatter",
         "x": [
          0.11446488128043716,
          0.42323034174642354,
          null
         ],
         "y": [
          0.1771605177335045,
          0.12304165355902631,
          null
         ]
        },
        {
         "hoverinfo": "none",
         "line": {
          "color": "rgba(144.0, 238.0, 144.0, 0.5)",
          "width": 0.5
         },
         "mode": "lines",
         "type": "scatter",
         "x": [
          0.11446488128043716,
          0.10368188103192721,
          null
         ],
         "y": [
          0.1771605177335045,
          0.0180840536644909,
          null
         ]
        },
        {
         "hoverinfo": "none",
         "line": {
          "color": "rgba(144.0, 238.0, 144.0, 0.5)",
          "width": 0.5
         },
         "mode": "lines",
         "type": "scatter",
         "x": [
          0.040436006585932986,
          0.10141493191329501,
          null
         ],
         "y": [
          -0.11245970248929078,
          -0.05325499216906051,
          null
         ]
        },
        {
         "hoverinfo": "none",
         "line": {
          "color": "rgba(144.0, 238.0, 144.0, 0.5)",
          "width": 0.5
         },
         "mode": "lines",
         "type": "scatter",
         "x": [
          0.040436006585932986,
          -0.004092312520426679,
          null
         ],
         "y": [
          -0.11245970248929078,
          0.024106741651111197,
          null
         ]
        },
        {
         "hoverinfo": "none",
         "line": {
          "color": "rgba(146.17647058823528, 233.33333333333331, 141.1764705882353, 0.5)",
          "width": 0.5
         },
         "mode": "lines",
         "type": "scatter",
         "x": [
          0.040436006585932986,
          -0.08530667865266246,
          null
         ],
         "y": [
          -0.11245970248929078,
          -0.10009792139295513,
          null
         ]
        },
        {
         "hoverinfo": "none",
         "line": {
          "color": "rgba(144.0, 238.0, 144.0, 0.5)",
          "width": 0.5
         },
         "mode": "lines",
         "type": "scatter",
         "x": [
          0.040436006585932986,
          -0.01920046280766127,
          null
         ],
         "y": [
          -0.11245970248929078,
          0.05693354076657738,
          null
         ]
        },
        {
         "hoverinfo": "none",
         "line": {
          "color": "rgba(144.0, 238.0, 144.0, 0.5)",
          "width": 0.5
         },
         "mode": "lines",
         "type": "scatter",
         "x": [
          0.040436006585932986,
          0.00608491303550132,
          null
         ],
         "y": [
          -0.11245970248929078,
          0.1386826777322132,
          null
         ]
        },
        {
         "hoverinfo": "none",
         "line": {
          "color": "rgba(144.0, 238.0, 144.0, 0.5)",
          "width": 0.5
         },
         "mode": "lines",
         "type": "scatter",
         "x": [
          0.040436006585932986,
          -0.1278979291781272,
          null
         ],
         "y": [
          -0.11245970248929078,
          -0.08103816897878831,
          null
         ]
        },
        {
         "hoverinfo": "none",
         "line": {
          "color": "rgba(164.45882352941177, 194.13333333333333, 117.45882352941177, 0.5)",
          "width": 0.5
         },
         "mode": "lines",
         "type": "scatter",
         "x": [
          0.16617558107958147,
          0.12973198260062271,
          null
         ],
         "y": [
          -0.12651106712926039,
          -0.14884767452265774,
          null
         ]
        },
        {
         "hoverinfo": "none",
         "line": {
          "color": "rgba(146.17647058823528, 233.33333333333331, 141.1764705882353, 0.5)",
          "width": 0.5
         },
         "mode": "lines",
         "type": "scatter",
         "x": [
          0.16617558107958147,
          0.2059115061276234,
          null
         ],
         "y": [
          -0.12651106712926039,
          -0.15453399767208037,
          null
         ]
        },
        {
         "hoverinfo": "none",
         "line": {
          "color": "rgba(144.0, 238.0, 144.0, 0.5)",
          "width": 0.5
         },
         "mode": "lines",
         "type": "scatter",
         "x": [
          0.16617558107958147,
          0.09154239875927359,
          null
         ],
         "y": [
          -0.12651106712926039,
          0.13936048585214847,
          null
         ]
        },
        {
         "hoverinfo": "none",
         "line": {
          "color": "rgba(144.0, 238.0, 144.0, 0.5)",
          "width": 0.5
         },
         "mode": "lines",
         "type": "scatter",
         "x": [
          0.3047752643761323,
          0.12973198260062271,
          null
         ],
         "y": [
          -0.38193414232700745,
          -0.14884767452265774,
          null
         ]
        },
        {
         "hoverinfo": "none",
         "line": {
          "color": "rgba(144.0, 238.0, 144.0, 0.5)",
          "width": 0.5
         },
         "mode": "lines",
         "type": "scatter",
         "x": [
          0.12973198260062271,
          -0.09904357357897299,
          null
         ],
         "y": [
          -0.14884767452265774,
          0.07036911152043185,
          null
         ]
        },
        {
         "hoverinfo": "none",
         "line": {
          "color": "rgba(144.0, 238.0, 144.0, 0.5)",
          "width": 0.5
         },
         "mode": "lines",
         "type": "scatter",
         "x": [
          0.09154239875927359,
          0.2059115061276234,
          null
         ],
         "y": [
          0.13936048585214847,
          -0.15453399767208037,
          null
         ]
        },
        {
         "hoverinfo": "none",
         "line": {
          "color": "rgba(146.17647058823528, 233.33333333333331, 141.1764705882353, 0.5)",
          "width": 0.5
         },
         "mode": "lines",
         "type": "scatter",
         "x": [
          0.09154239875927359,
          -0.0777819075103812,
          null
         ],
         "y": [
          0.13936048585214847,
          0.3141753414343992,
          null
         ]
        },
        {
         "hoverinfo": "none",
         "line": {
          "color": "rgba(144.0, 238.0, 144.0, 0.5)",
          "width": 0.5
         },
         "mode": "lines",
         "type": "scatter",
         "x": [
          0.09154239875927359,
          -0.019899021063032183,
          null
         ],
         "y": [
          0.13936048585214847,
          0.3334359612380626,
          null
         ]
        },
        {
         "hoverinfo": "none",
         "line": {
          "color": "rgba(144.0, 238.0, 144.0, 0.5)",
          "width": 0.5
         },
         "mode": "lines",
         "type": "scatter",
         "x": [
          0.09154239875927359,
          -0.01920046280766127,
          null
         ],
         "y": [
          0.13936048585214847,
          0.05693354076657738,
          null
         ]
        },
        {
         "hoverinfo": "none",
         "line": {
          "color": "rgba(146.17647058823528, 233.33333333333331, 141.1764705882353, 0.5)",
          "width": 0.5
         },
         "mode": "lines",
         "type": "scatter",
         "x": [
          0.09154239875927359,
          -0.17061830911863504,
          null
         ],
         "y": [
          0.13936048585214847,
          0.16087499144082618,
          null
         ]
        },
        {
         "hoverinfo": "none",
         "line": {
          "color": "rgba(144.0, 238.0, 144.0, 0.5)",
          "width": 0.5
         },
         "mode": "lines",
         "type": "scatter",
         "x": [
          0.09154239875927359,
          -0.08609823480974288,
          null
         ],
         "y": [
          0.13936048585214847,
          0.1553027250389448,
          null
         ]
        },
        {
         "hoverinfo": "none",
         "line": {
          "color": "rgba(174.90588235294118, 171.73333333333332, 103.90588235294118, 0.5)",
          "width": 0.5
         },
         "mode": "lines",
         "type": "scatter",
         "x": [
          0.10141493191329501,
          -0.004092312520426679,
          null
         ],
         "y": [
          -0.05325499216906051,
          0.024106741651111197,
          null
         ]
        },
        {
         "hoverinfo": "none",
         "line": {
          "color": "rgba(159.23529411764704, 205.33333333333334, 124.23529411764706, 0.5)",
          "width": 0.5
         },
         "mode": "lines",
         "type": "scatter",
         "x": [
          0.10141493191329501,
          0.14989312569988808,
          null
         ],
         "y": [
          -0.05325499216906051,
          -0.03096123652709826,
          null
         ]
        },
        {
         "hoverinfo": "none",
         "line": {
          "color": "rgba(144.0, 238.0, 144.0, 0.5)",
          "width": 0.5
         },
         "mode": "lines",
         "type": "scatter",
         "x": [
          0.10141493191329501,
          0.16626054632938567,
          null
         ],
         "y": [
          -0.05325499216906051,
          0.03499164605088286,
          null
         ]
        },
        {
         "hoverinfo": "none",
         "line": {
          "color": "rgba(159.23529411764704, 205.33333333333334, 124.23529411764706, 0.5)",
          "width": 0.5
         },
         "mode": "lines",
         "type": "scatter",
         "x": [
          0.16626054632938567,
          -0.004092312520426679,
          null
         ],
         "y": [
          0.03499164605088286,
          0.024106741651111197,
          null
         ]
        },
        {
         "hoverinfo": "none",
         "line": {
          "color": "rgba(151.4, 222.13333333333335, 134.4, 0.5)",
          "width": 0.5
         },
         "mode": "lines",
         "type": "scatter",
         "x": [
          0.16626054632938567,
          0.2290320009809992,
          null
         ],
         "y": [
          0.03499164605088286,
          0.27709614057250703,
          null
         ]
        },
        {
         "hoverinfo": "none",
         "line": {
          "color": "rgba(144.0, 238.0, 144.0, 0.5)",
          "width": 0.5
         },
         "mode": "lines",
         "type": "scatter",
         "x": [
          0.16626054632938567,
          0.14989312569988808,
          null
         ],
         "y": [
          0.03499164605088286,
          -0.03096123652709826,
          null
         ]
        },
        {
         "hoverinfo": "none",
         "line": {
          "color": "rgba(164.45882352941177, 194.13333333333333, 117.45882352941177, 0.5)",
          "width": 0.5
         },
         "mode": "lines",
         "type": "scatter",
         "x": [
          0.14989312569988808,
          -0.004092312520426679,
          null
         ],
         "y": [
          -0.03096123652709826,
          0.024106741651111197,
          null
         ]
        },
        {
         "hoverinfo": "none",
         "line": {
          "color": "rgba(144.0, 238.0, 144.0, 0.5)",
          "width": 0.5
         },
         "mode": "lines",
         "type": "scatter",
         "x": [
          0.14989312569988808,
          0.2290320009809992,
          null
         ],
         "y": [
          -0.03096123652709826,
          0.27709614057250703,
          null
         ]
        },
        {
         "hoverinfo": "none",
         "line": {
          "color": "rgba(144.0, 238.0, 144.0, 0.5)",
          "width": 0.5
         },
         "mode": "lines",
         "type": "scatter",
         "x": [
          -0.004092312520426679,
          -0.1987027931296927,
          null
         ],
         "y": [
          0.024106741651111197,
          -0.3429663223835842,
          null
         ]
        },
        {
         "hoverinfo": "none",
         "line": {
          "color": "rgba(146.17647058823528, 233.33333333333331, 141.1764705882353, 0.5)",
          "width": 0.5
         },
         "mode": "lines",
         "type": "scatter",
         "x": [
          -0.004092312520426679,
          0.06642876558189482,
          null
         ],
         "y": [
          0.024106741651111197,
          -0.1308773144455644,
          null
         ]
        },
        {
         "hoverinfo": "none",
         "line": {
          "color": "rgba(148.78823529411764, 227.73333333333335, 137.78823529411767, 0.5)",
          "width": 0.5
         },
         "mode": "lines",
         "type": "scatter",
         "x": [
          -0.004092312520426679,
          -0.01920046280766127,
          null
         ],
         "y": [
          0.024106741651111197,
          0.05693354076657738,
          null
         ]
        },
        {
         "hoverinfo": "none",
         "line": {
          "color": "rgba(177.51764705882354, 166.13333333333333, 100.51764705882353, 0.5)",
          "width": 0.5
         },
         "mode": "lines",
         "type": "scatter",
         "x": [
          -0.004092312520426679,
          -0.018967929377365664,
          null
         ],
         "y": [
          0.024106741651111197,
          -0.08945783424872485,
          null
         ]
        },
        {
         "hoverinfo": "none",
         "line": {
          "color": "rgba(144.0, 238.0, 144.0, 0.5)",
          "width": 0.5
         },
         "mode": "lines",
         "type": "scatter",
         "x": [
          -0.004092312520426679,
          0.29668389970862213,
          null
         ],
         "y": [
          0.024106741651111197,
          -0.12969702221079557,
          null
         ]
        },
        {
         "hoverinfo": "none",
         "line": {
          "color": "rgba(144.0, 238.0, 144.0, 0.5)",
          "width": 0.5
         },
         "mode": "lines",
         "type": "scatter",
         "x": [
          -0.004092312520426679,
          -0.16807591990904772,
          null
         ],
         "y": [
          0.024106741651111197,
          0.002254779748922316,
          null
         ]
        },
        {
         "hoverinfo": "none",
         "line": {
          "color": "rgba(148.78823529411764, 227.73333333333335, 137.78823529411767, 0.5)",
          "width": 0.5
         },
         "mode": "lines",
         "type": "scatter",
         "x": [
          -0.004092312520426679,
          -0.18755978864923079,
          null
         ],
         "y": [
          0.024106741651111197,
          -0.08615810018397115,
          null
         ]
        },
        {
         "hoverinfo": "none",
         "line": {
          "color": "rgba(146.17647058823528, 233.33333333333331, 141.1764705882353, 0.5)",
          "width": 0.5
         },
         "mode": "lines",
         "type": "scatter",
         "x": [
          -0.004092312520426679,
          -0.3084768317598821,
          null
         ],
         "y": [
          0.024106741651111197,
          -0.22045408183236073,
          null
         ]
        },
        {
         "hoverinfo": "none",
         "line": {
          "color": "rgba(144.0, 238.0, 144.0, 0.5)",
          "width": 0.5
         },
         "mode": "lines",
         "type": "scatter",
         "x": [
          -0.004092312520426679,
          0.038452299517264144,
          null
         ],
         "y": [
          0.024106741651111197,
          0.2806057862863662,
          null
         ]
        },
        {
         "hoverinfo": "none",
         "line": {
          "color": "rgba(146.17647058823528, 233.33333333333331, 141.1764705882353, 0.5)",
          "width": 0.5
         },
         "mode": "lines",
         "type": "scatter",
         "x": [
          -0.004092312520426679,
          -0.3634312576904113,
          null
         ],
         "y": [
          0.024106741651111197,
          -0.2608515714529413,
          null
         ]
        },
        {
         "hoverinfo": "none",
         "line": {
          "color": "rgba(146.17647058823528, 233.33333333333331, 141.1764705882353, 0.5)",
          "width": 0.5
         },
         "mode": "lines",
         "type": "scatter",
         "x": [
          -0.004092312520426679,
          -0.3798156273584622,
          null
         ],
         "y": [
          0.024106741651111197,
          0.009427932911057223,
          null
         ]
        },
        {
         "hoverinfo": "none",
         "line": {
          "color": "rgba(148.78823529411764, 227.73333333333335, 137.78823529411767, 0.5)",
          "width": 0.5
         },
         "mode": "lines",
         "type": "scatter",
         "x": [
          -0.004092312520426679,
          -0.08530667865266246,
          null
         ],
         "y": [
          0.024106741651111197,
          -0.10009792139295513,
          null
         ]
        },
        {
         "hoverinfo": "none",
         "line": {
          "color": "rgba(144.0, 238.0, 144.0, 0.5)",
          "width": 0.5
         },
         "mode": "lines",
         "type": "scatter",
         "x": [
          -0.004092312520426679,
          -0.14319011935497858,
          null
         ],
         "y": [
          0.024106741651111197,
          -0.09835547769374435,
          null
         ]
        },
        {
         "hoverinfo": "none",
         "line": {
          "color": "rgba(159.23529411764704, 205.33333333333334, 124.23529411764706, 0.5)",
          "width": 0.5
         },
         "mode": "lines",
         "type": "scatter",
         "x": [
          -0.004092312520426679,
          0.005720528430193572,
          null
         ],
         "y": [
          0.024106741651111197,
          0.1609735299876217,
          null
         ]
        },
        {
         "hoverinfo": "none",
         "line": {
          "color": "rgba(146.17647058823528, 233.33333333333331, 141.1764705882353, 0.5)",
          "width": 0.5
         },
         "mode": "lines",
         "type": "scatter",
         "x": [
          -0.004092312520426679,
          0.06340199839732927,
          null
         ],
         "y": [
          0.024106741651111197,
          0.04334777518009053,
          null
         ]
        },
        {
         "hoverinfo": "none",
         "line": {
          "color": "rgba(148.78823529411764, 227.73333333333335, 137.78823529411767, 0.5)",
          "width": 0.5
         },
         "mode": "lines",
         "type": "scatter",
         "x": [
          -0.004092312520426679,
          -0.26096416492678304,
          null
         ],
         "y": [
          0.024106741651111197,
          0.05494137806017977,
          null
         ]
        },
        {
         "hoverinfo": "none",
         "line": {
          "color": "rgba(146.17647058823528, 233.33333333333331, 141.1764705882353, 0.5)",
          "width": 0.5
         },
         "mode": "lines",
         "type": "scatter",
         "x": [
          -0.004092312520426679,
          -0.23123087529251413,
          null
         ],
         "y": [
          0.024106741651111197,
          0.10582388808140479,
          null
         ]
        },
        {
         "hoverinfo": "none",
         "line": {
          "color": "rgba(156.6235294117647, 210.93333333333334, 127.62352941176471, 0.5)",
          "width": 0.5
         },
         "mode": "lines",
         "type": "scatter",
         "x": [
          -0.004092312520426679,
          -0.09904357357897299,
          null
         ],
         "y": [
          0.024106741651111197,
          0.07036911152043185,
          null
         ]
        },
        {
         "hoverinfo": "none",
         "line": {
          "color": "rgba(144.0, 238.0, 144.0, 0.5)",
          "width": 0.5
         },
         "mode": "lines",
         "type": "scatter",
         "x": [
          -0.004092312520426679,
          -0.28880853885362967,
          null
         ],
         "y": [
          0.024106741651111197,
          0.0942248662756934,
          null
         ]
        },
        {
         "hoverinfo": "none",
         "line": {
          "color": "rgba(144.0, 238.0, 144.0, 0.5)",
          "width": 0.5
         },
         "mode": "lines",
         "type": "scatter",
         "x": [
          -0.004092312520426679,
          0.00608491303550132,
          null
         ],
         "y": [
          0.024106741651111197,
          0.1386826777322132,
          null
         ]
        },
        {
         "hoverinfo": "none",
         "line": {
          "color": "rgba(146.17647058823528, 233.33333333333331, 141.1764705882353, 0.5)",
          "width": 0.5
         },
         "mode": "lines",
         "type": "scatter",
         "x": [
          -0.004092312520426679,
          0.08805613312227421,
          null
         ],
         "y": [
          0.024106741651111197,
          0.2614632945348678,
          null
         ]
        },
        {
         "hoverinfo": "none",
         "line": {
          "color": "rgba(144.0, 238.0, 144.0, 0.5)",
          "width": 0.5
         },
         "mode": "lines",
         "type": "scatter",
         "x": [
          -0.004092312520426679,
          0.1208207247688906,
          null
         ],
         "y": [
          0.024106741651111197,
          -0.01204508455225134,
          null
         ]
        },
        {
         "hoverinfo": "none",
         "line": {
          "color": "rgba(151.4, 222.13333333333335, 134.4, 0.5)",
          "width": 0.5
         },
         "mode": "lines",
         "type": "scatter",
         "x": [
          -0.004092312520426679,
          0.05555256613411498,
          null
         ],
         "y": [
          0.024106741651111197,
          0.13608372729972124,
          null
         ]
        },
        {
         "hoverinfo": "none",
         "line": {
          "color": "rgba(195.79999999999998, 126.93333333333332, 76.8, 0.5)",
          "width": 0.5
         },
         "mode": "lines",
         "type": "scatter",
         "x": [
          -0.004092312520426679,
          0.07025780894941544,
          null
         ],
         "y": [
          0.024106741651111197,
          0.0758657772446874,
          null
         ]
        },
        {
         "hoverinfo": "none",
         "line": {
          "color": "rgba(146.17647058823528, 233.33333333333331, 141.1764705882353, 0.5)",
          "width": 0.5
         },
         "mode": "lines",
         "type": "scatter",
         "x": [
          -0.004092312520426679,
          -0.01850548100425071,
          null
         ],
         "y": [
          0.024106741651111197,
          0.25254677681882975,
          null
         ]
        },
        {
         "hoverinfo": "none",
         "line": {
          "color": "rgba(144.0, 238.0, 144.0, 0.5)",
          "width": 0.5
         },
         "mode": "lines",
         "type": "scatter",
         "x": [
          -0.004092312520426679,
          -0.09217634642314189,
          null
         ],
         "y": [
          0.024106741651111197,
          0.10947281325324452,
          null
         ]
        },
        {
         "hoverinfo": "none",
         "line": {
          "color": "rgba(148.78823529411764, 227.73333333333335, 137.78823529411767, 0.5)",
          "width": 0.5
         },
         "mode": "lines",
         "type": "scatter",
         "x": [
          -0.004092312520426679,
          -0.12735754871383898,
          null
         ],
         "y": [
          0.024106741651111197,
          0.336905683302759,
          null
         ]
        },
        {
         "hoverinfo": "none",
         "line": {
          "color": "rgba(144.0, 238.0, 144.0, 0.5)",
          "width": 0.5
         },
         "mode": "lines",
         "type": "scatter",
         "x": [
          -0.004092312520426679,
          -0.0795150080994743,
          null
         ],
         "y": [
          0.024106741651111197,
          0.2172236208559976,
          null
         ]
        },
        {
         "hoverinfo": "none",
         "line": {
          "color": "rgba(146.17647058823528, 233.33333333333331, 141.1764705882353, 0.5)",
          "width": 0.5
         },
         "mode": "lines",
         "type": "scatter",
         "x": [
          -0.004092312520426679,
          0.16154627487490428,
          null
         ],
         "y": [
          0.024106741651111197,
          0.33030556468891753,
          null
         ]
        },
        {
         "hoverinfo": "none",
         "line": {
          "color": "rgba(144.0, 238.0, 144.0, 0.5)",
          "width": 0.5
         },
         "mode": "lines",
         "type": "scatter",
         "x": [
          -0.004092312520426679,
          0.1461594541923399,
          null
         ],
         "y": [
          0.024106741651111197,
          0.5450236635645472,
          null
         ]
        },
        {
         "hoverinfo": "none",
         "line": {
          "color": "rgba(144.0, 238.0, 144.0, 0.5)",
          "width": 0.5
         },
         "mode": "lines",
         "type": "scatter",
         "x": [
          -0.004092312520426679,
          -0.013254801021019556,
          null
         ],
         "y": [
          0.024106741651111197,
          0.20632008218218892,
          null
         ]
        },
        {
         "hoverinfo": "none",
         "line": {
          "color": "rgba(169.68235294117648, 182.93333333333334, 110.68235294117648, 0.5)",
          "width": 0.5
         },
         "mode": "lines",
         "type": "scatter",
         "x": [
          -0.004092312520426679,
          -0.04312852812558068,
          null
         ],
         "y": [
          0.024106741651111197,
          0.06529052607210352,
          null
         ]
        },
        {
         "hoverinfo": "none",
         "line": {
          "color": "rgba(148.78823529411764, 227.73333333333335, 137.78823529411767, 0.5)",
          "width": 0.5
         },
         "mode": "lines",
         "type": "scatter",
         "x": [
          -0.004092312520426679,
          -0.08609823480974288,
          null
         ],
         "y": [
          0.024106741651111197,
          0.1553027250389448,
          null
         ]
        },
        {
         "hoverinfo": "none",
         "line": {
          "color": "rgba(144.0, 238.0, 144.0, 0.5)",
          "width": 0.5
         },
         "mode": "lines",
         "type": "scatter",
         "x": [
          -0.004092312520426679,
          -0.21841503354558905,
          null
         ],
         "y": [
          0.024106741651111197,
          -0.0945802778400624,
          null
         ]
        },
        {
         "hoverinfo": "none",
         "line": {
          "color": "rgba(144.0, 238.0, 144.0, 0.5)",
          "width": 0.5
         },
         "mode": "lines",
         "type": "scatter",
         "x": [
          -0.004092312520426679,
          -0.43095578003313206,
          null
         ],
         "y": [
          0.024106741651111197,
          -0.08907072584270936,
          null
         ]
        },
        {
         "hoverinfo": "none",
         "line": {
          "color": "rgba(172.2941176470588, 177.33333333333331, 107.29411764705883, 0.5)",
          "width": 0.5
         },
         "mode": "lines",
         "type": "scatter",
         "x": [
          -0.004092312520426679,
          -0.17978469425979474,
          null
         ],
         "y": [
          0.024106741651111197,
          -0.02793329833471627,
          null
         ]
        },
        {
         "hoverinfo": "none",
         "line": {
          "color": "rgba(159.23529411764704, 205.33333333333334, 124.23529411764706, 0.5)",
          "width": 0.5
         },
         "mode": "lines",
         "type": "scatter",
         "x": [
          -0.004092312520426679,
          0.005386321220475092,
          null
         ],
         "y": [
          0.024106741651111197,
          0.04818967093067006,
          null
         ]
        },
        {
         "hoverinfo": "none",
         "line": {
          "color": "rgba(144.0, 238.0, 144.0, 0.5)",
          "width": 0.5
         },
         "mode": "lines",
         "type": "scatter",
         "x": [
          -0.004092312520426679,
          -0.08002563823441185,
          null
         ],
         "y": [
          0.024106741651111197,
          -0.06939400517860572,
          null
         ]
        },
        {
         "hoverinfo": "none",
         "line": {
          "color": "rgba(144.0, 238.0, 144.0, 0.5)",
          "width": 0.5
         },
         "mode": "lines",
         "type": "scatter",
         "x": [
          -0.004092312520426679,
          -0.1278979291781272,
          null
         ],
         "y": [
          0.024106741651111197,
          -0.08103816897878831,
          null
         ]
        },
        {
         "hoverinfo": "none",
         "line": {
          "color": "rgba(156.6235294117647, 210.93333333333334, 127.62352941176471, 0.5)",
          "width": 0.5
         },
         "mode": "lines",
         "type": "scatter",
         "x": [
          -0.004092312520426679,
          -0.1103728414169264,
          null
         ],
         "y": [
          0.024106741651111197,
          -0.014126211710549553,
          null
         ]
        },
        {
         "hoverinfo": "none",
         "line": {
          "color": "rgba(146.17647058823528, 233.33333333333331, 141.1764705882353, 0.5)",
          "width": 0.5
         },
         "mode": "lines",
         "type": "scatter",
         "x": [
          -0.004092312520426679,
          -0.09888059852184569,
          null
         ],
         "y": [
          0.024106741651111197,
          0.019712051440705456,
          null
         ]
        },
        {
         "hoverinfo": "none",
         "line": {
          "color": "rgba(144.0, 238.0, 144.0, 0.5)",
          "width": 0.5
         },
         "mode": "lines",
         "type": "scatter",
         "x": [
          -0.004092312520426679,
          -0.20402730722088458,
          null
         ],
         "y": [
          0.024106741651111197,
          0.17892555488701034,
          null
         ]
        },
        {
         "hoverinfo": "none",
         "line": {
          "color": "rgba(146.17647058823528, 233.33333333333331, 141.1764705882353, 0.5)",
          "width": 0.5
         },
         "mode": "lines",
         "type": "scatter",
         "x": [
          -0.004092312520426679,
          -0.05177677912445756,
          null
         ],
         "y": [
          0.024106741651111197,
          0.21324350394641564,
          null
         ]
        },
        {
         "hoverinfo": "none",
         "line": {
          "color": "rgba(144.0, 238.0, 144.0, 0.5)",
          "width": 0.5
         },
         "mode": "lines",
         "type": "scatter",
         "x": [
          -0.004092312520426679,
          -0.06610153325615863,
          null
         ],
         "y": [
          0.024106741651111197,
          0.2606475451946278,
          null
         ]
        },
        {
         "hoverinfo": "none",
         "line": {
          "color": "rgba(146.17647058823528, 233.33333333333331, 141.1764705882353, 0.5)",
          "width": 0.5
         },
         "mode": "lines",
         "type": "scatter",
         "x": [
          -0.004092312520426679,
          -0.037736053121505325,
          null
         ],
         "y": [
          0.024106741651111197,
          0.1941783921269007,
          null
         ]
        },
        {
         "hoverinfo": "none",
         "line": {
          "color": "rgba(144.0, 238.0, 144.0, 0.5)",
          "width": 0.5
         },
         "mode": "lines",
         "type": "scatter",
         "x": [
          -0.004092312520426679,
          -0.12568436166720384,
          null
         ],
         "y": [
          0.024106741651111197,
          0.23711320197900426,
          null
         ]
        },
        {
         "hoverinfo": "none",
         "line": {
          "color": "rgba(144.0, 238.0, 144.0, 0.5)",
          "width": 0.5
         },
         "mode": "lines",
         "type": "scatter",
         "x": [
          -0.004092312520426679,
          -0.21372190190860446,
          null
         ],
         "y": [
          0.024106741651111197,
          0.015050777958272891,
          null
         ]
        },
        {
         "hoverinfo": "none",
         "line": {
          "color": "rgba(146.17647058823528, 233.33333333333331, 141.1764705882353, 0.5)",
          "width": 0.5
         },
         "mode": "lines",
         "type": "scatter",
         "x": [
          -0.004092312520426679,
          0.023384759964192165,
          null
         ],
         "y": [
          0.024106741651111197,
          -0.19734267718946394,
          null
         ]
        },
        {
         "hoverinfo": "none",
         "line": {
          "color": "rgba(234.54117647058825, 43.86666666666667, 26.541176470588244, 0.5)",
          "width": 0.5
         },
         "mode": "lines",
         "type": "scatter",
         "x": [
          -0.004092312520426679,
          0.01102729588140955,
          null
         ],
         "y": [
          0.024106741651111197,
          -0.0593242624273822,
          null
         ]
        },
        {
         "hoverinfo": "none",
         "line": {
          "color": "rgba(144.0, 238.0, 144.0, 0.5)",
          "width": 0.5
         },
         "mode": "lines",
         "type": "scatter",
         "x": [
          -0.004092312520426679,
          -0.04789367222069038,
          null
         ],
         "y": [
          0.024106741651111197,
          0.12632699513542509,
          null
         ]
        },
        {
         "hoverinfo": "none",
         "line": {
          "color": "rgba(144.0, 238.0, 144.0, 0.5)",
          "width": 0.5
         },
         "mode": "lines",
         "type": "scatter",
         "x": [
          -0.004092312520426679,
          0.1808694119674158,
          null
         ],
         "y": [
          0.024106741651111197,
          0.28339783598243706,
          null
         ]
        },
        {
         "hoverinfo": "none",
         "line": {
          "color": "rgba(151.4, 222.13333333333335, 134.4, 0.5)",
          "width": 0.5
         },
         "mode": "lines",
         "type": "scatter",
         "x": [
          -0.004092312520426679,
          0.2534199335857249,
          null
         ],
         "y": [
          0.024106741651111197,
          0.11127925321556327,
          null
         ]
        },
        {
         "hoverinfo": "none",
         "line": {
          "color": "rgba(148.78823529411764, 227.73333333333335, 137.78823529411767, 0.5)",
          "width": 0.5
         },
         "mode": "lines",
         "type": "scatter",
         "x": [
          -0.004092312520426679,
          0.2680454697221705,
          null
         ],
         "y": [
          0.024106741651111197,
          0.018037818296431442,
          null
         ]
        },
        {
         "hoverinfo": "none",
         "line": {
          "color": "rgba(144.0, 238.0, 144.0, 0.5)",
          "width": 0.5
         },
         "mode": "lines",
         "type": "scatter",
         "x": [
          -0.004092312520426679,
          -0.0777819075103812,
          null
         ],
         "y": [
          0.024106741651111197,
          0.3141753414343992,
          null
         ]
        },
        {
         "hoverinfo": "none",
         "line": {
          "color": "rgba(146.17647058823528, 233.33333333333331, 141.1764705882353, 0.5)",
          "width": 0.5
         },
         "mode": "lines",
         "type": "scatter",
         "x": [
          -0.004092312520426679,
          -0.019899021063032183,
          null
         ],
         "y": [
          0.024106741651111197,
          0.3334359612380626,
          null
         ]
        },
        {
         "hoverinfo": "none",
         "line": {
          "color": "rgba(144.0, 238.0, 144.0, 0.5)",
          "width": 0.5
         },
         "mode": "lines",
         "type": "scatter",
         "x": [
          -0.004092312520426679,
          -0.18067723358052504,
          null
         ],
         "y": [
          0.024106741651111197,
          -0.12069862000410217,
          null
         ]
        },
        {
         "hoverinfo": "none",
         "line": {
          "color": "rgba(146.17647058823528, 233.33333333333331, 141.1764705882353, 0.5)",
          "width": 0.5
         },
         "mode": "lines",
         "type": "scatter",
         "x": [
          -0.004092312520426679,
          0.24312232119304752,
          null
         ],
         "y": [
          0.024106741651111197,
          0.22272154339534592,
          null
         ]
        },
        {
         "hoverinfo": "none",
         "line": {
          "color": "rgba(144.0, 238.0, 144.0, 0.5)",
          "width": 0.5
         },
         "mode": "lines",
         "type": "scatter",
         "x": [
          -0.004092312520426679,
          0.11682886181796201,
          null
         ],
         "y": [
          0.024106741651111197,
          0.3755850632547882,
          null
         ]
        },
        {
         "hoverinfo": "none",
         "line": {
          "color": "rgba(164.45882352941177, 194.13333333333333, 117.45882352941177, 0.5)",
          "width": 0.5
         },
         "mode": "lines",
         "type": "scatter",
         "x": [
          -0.004092312520426679,
          -0.13414347973577812,
          null
         ],
         "y": [
          0.024106741651111197,
          0.07497062075222752,
          null
         ]
        },
        {
         "hoverinfo": "none",
         "line": {
          "color": "rgba(174.90588235294118, 171.73333333333332, 103.90588235294118, 0.5)",
          "width": 0.5
         },
         "mode": "lines",
         "type": "scatter",
         "x": [
          -0.004092312520426679,
          0.10368188103192721,
          null
         ],
         "y": [
          0.024106741651111197,
          0.0180840536644909,
          null
         ]
        },
        {
         "hoverinfo": "none",
         "line": {
          "color": "rgba(156.6235294117647, 210.93333333333334, 127.62352941176471, 0.5)",
          "width": 0.5
         },
         "mode": "lines",
         "type": "scatter",
         "x": [
          -0.004092312520426679,
          0.14555908708716736,
          null
         ],
         "y": [
          0.024106741651111197,
          0.13274317123413848,
          null
         ]
        },
        {
         "hoverinfo": "none",
         "line": {
          "color": "rgba(146.17647058823528, 233.33333333333331, 141.1764705882353, 0.5)",
          "width": 0.5
         },
         "mode": "lines",
         "type": "scatter",
         "x": [
          -0.004092312520426679,
          0.11042612660412249,
          null
         ],
         "y": [
          0.024106741651111197,
          -0.3443431794165911,
          null
         ]
        },
        {
         "hoverinfo": "none",
         "line": {
          "color": "rgba(144.0, 238.0, 144.0, 0.5)",
          "width": 0.5
         },
         "mode": "lines",
         "type": "scatter",
         "x": [
          -0.004092312520426679,
          0.08508056166314654,
          null
         ],
         "y": [
          0.024106741651111197,
          0.21727748726847088,
          null
         ]
        },
        {
         "hoverinfo": "none",
         "line": {
          "color": "rgba(144.0, 238.0, 144.0, 0.5)",
          "width": 0.5
         },
         "mode": "lines",
         "type": "scatter",
         "x": [
          -0.004092312520426679,
          -0.11656011755985318,
          null
         ],
         "y": [
          0.024106741651111197,
          -0.23291884797257528,
          null
         ]
        },
        {
         "hoverinfo": "none",
         "line": {
          "color": "rgba(144.0, 238.0, 144.0, 0.5)",
          "width": 0.5
         },
         "mode": "lines",
         "type": "scatter",
         "x": [
          -0.004092312520426679,
          0.1158453758115048,
          null
         ],
         "y": [
          0.024106741651111197,
          0.29463524803815394,
          null
         ]
        },
        {
         "hoverinfo": "none",
         "line": {
          "color": "rgba(144.0, 238.0, 144.0, 0.5)",
          "width": 0.5
         },
         "mode": "lines",
         "type": "scatter",
         "x": [
          -0.004092312520426679,
          -0.1310758831768436,
          null
         ],
         "y": [
          0.024106741651111197,
          0.1092337977977338,
          null
         ]
        },
        {
         "hoverinfo": "none",
         "line": {
          "color": "rgba(146.17647058823528, 233.33333333333331, 141.1764705882353, 0.5)",
          "width": 0.5
         },
         "mode": "lines",
         "type": "scatter",
         "x": [
          -0.004092312520426679,
          -0.34565817852861247,
          null
         ],
         "y": [
          0.024106741651111197,
          -0.07484623050406784,
          null
         ]
        },
        {
         "hoverinfo": "none",
         "line": {
          "color": "rgba(144.0, 238.0, 144.0, 0.5)",
          "width": 0.5
         },
         "mode": "lines",
         "type": "scatter",
         "x": [
          0.2290320009809992,
          0.31311200003985806,
          null
         ],
         "y": [
          0.27709614057250703,
          0.8509577837860071,
          null
         ]
        },
        {
         "hoverinfo": "none",
         "line": {
          "color": "rgba(144.0, 238.0, 144.0, 0.5)",
          "width": 0.5
         },
         "mode": "lines",
         "type": "scatter",
         "x": [
          -0.1987027931296927,
          -0.05535731170970401,
          null
         ],
         "y": [
          -0.3429663223835842,
          -0.13165770614718297,
          null
         ]
        },
        {
         "hoverinfo": "none",
         "line": {
          "color": "rgba(144.0, 238.0, 144.0, 0.5)",
          "width": 0.5
         },
         "mode": "lines",
         "type": "scatter",
         "x": [
          -0.1987027931296927,
          -0.1278979291781272,
          null
         ],
         "y": [
          -0.3429663223835842,
          -0.08103816897878831,
          null
         ]
        },
        {
         "hoverinfo": "none",
         "line": {
          "color": "rgba(144.0, 238.0, 144.0, 0.5)",
          "width": 0.5
         },
         "mode": "lines",
         "type": "scatter",
         "x": [
          -0.1987027931296927,
          -0.12149020981009737,
          null
         ],
         "y": [
          -0.3429663223835842,
          -0.3189035281333635,
          null
         ]
        },
        {
         "hoverinfo": "none",
         "line": {
          "color": "rgba(146.17647058823528, 233.33333333333331, 141.1764705882353, 0.5)",
          "width": 0.5
         },
         "mode": "lines",
         "type": "scatter",
         "x": [
          0.06642876558189482,
          0.15889584701162374,
          null
         ],
         "y": [
          -0.1308773144455644,
          -0.25531418213048807,
          null
         ]
        },
        {
         "hoverinfo": "none",
         "line": {
          "color": "rgba(144.0, 238.0, 144.0, 0.5)",
          "width": 0.5
         },
         "mode": "lines",
         "type": "scatter",
         "x": [
          -0.21506768916699479,
          -0.32169159398371533,
          null
         ],
         "y": [
          -0.2787256230087928,
          -0.40453800375018484,
          null
         ]
        },
        {
         "hoverinfo": "none",
         "line": {
          "color": "rgba(144.0, 238.0, 144.0, 0.5)",
          "width": 0.5
         },
         "mode": "lines",
         "type": "scatter",
         "x": [
          -0.21506768916699479,
          -0.26096416492678304,
          null
         ],
         "y": [
          -0.2787256230087928,
          0.05494137806017977,
          null
         ]
        },
        {
         "hoverinfo": "none",
         "line": {
          "color": "rgba(144.0, 238.0, 144.0, 0.5)",
          "width": 0.5
         },
         "mode": "lines",
         "type": "scatter",
         "x": [
          -0.21506768916699479,
          -0.1278979291781272,
          null
         ],
         "y": [
          -0.2787256230087928,
          -0.08103816897878831,
          null
         ]
        },
        {
         "hoverinfo": "none",
         "line": {
          "color": "rgba(144.0, 238.0, 144.0, 0.5)",
          "width": 0.5
         },
         "mode": "lines",
         "type": "scatter",
         "x": [
          -0.21506768916699479,
          -0.3259160963210564,
          null
         ],
         "y": [
          -0.2787256230087928,
          -0.11374568248356766,
          null
         ]
        },
        {
         "hoverinfo": "none",
         "line": {
          "color": "rgba(159.23529411764704, 205.33333333333334, 124.23529411764706, 0.5)",
          "width": 0.5
         },
         "mode": "lines",
         "type": "scatter",
         "x": [
          -0.01920046280766127,
          0.005720528430193572,
          null
         ],
         "y": [
          0.05693354076657738,
          0.1609735299876217,
          null
         ]
        },
        {
         "hoverinfo": "none",
         "line": {
          "color": "rgba(144.0, 238.0, 144.0, 0.5)",
          "width": 0.5
         },
         "mode": "lines",
         "type": "scatter",
         "x": [
          -0.01920046280766127,
          -0.16807591990904772,
          null
         ],
         "y": [
          0.05693354076657738,
          0.002254779748922316,
          null
         ]
        },
        {
         "hoverinfo": "none",
         "line": {
          "color": "rgba(144.0, 238.0, 144.0, 0.5)",
          "width": 0.5
         },
         "mode": "lines",
         "type": "scatter",
         "x": [
          -0.01920046280766127,
          0.06340199839732927,
          null
         ],
         "y": [
          0.05693354076657738,
          0.04334777518009053,
          null
         ]
        },
        {
         "hoverinfo": "none",
         "line": {
          "color": "rgba(167.0705882352941, 188.53333333333333, 114.07058823529412, 0.5)",
          "width": 0.5
         },
         "mode": "lines",
         "type": "scatter",
         "x": [
          -0.01920046280766127,
          0.1208207247688906,
          null
         ],
         "y": [
          0.05693354076657738,
          -0.01204508455225134,
          null
         ]
        },
        {
         "hoverinfo": "none",
         "line": {
          "color": "rgba(144.0, 238.0, 144.0, 0.5)",
          "width": 0.5
         },
         "mode": "lines",
         "type": "scatter",
         "x": [
          -0.01920046280766127,
          -0.037736053121505325,
          null
         ],
         "y": [
          0.05693354076657738,
          0.1941783921269007,
          null
         ]
        },
        {
         "hoverinfo": "none",
         "line": {
          "color": "rgba(144.0, 238.0, 144.0, 0.5)",
          "width": 0.5
         },
         "mode": "lines",
         "type": "scatter",
         "x": [
          -0.01920046280766127,
          0.038452299517264144,
          null
         ],
         "y": [
          0.05693354076657738,
          0.2806057862863662,
          null
         ]
        },
        {
         "hoverinfo": "none",
         "line": {
          "color": "rgba(144.0, 238.0, 144.0, 0.5)",
          "width": 0.5
         },
         "mode": "lines",
         "type": "scatter",
         "x": [
          -0.01920046280766127,
          -0.08609823480974288,
          null
         ],
         "y": [
          0.05693354076657738,
          0.1553027250389448,
          null
         ]
        },
        {
         "hoverinfo": "none",
         "line": {
          "color": "rgba(164.45882352941177, 194.13333333333333, 117.45882352941177, 0.5)",
          "width": 0.5
         },
         "mode": "lines",
         "type": "scatter",
         "x": [
          -0.01920046280766127,
          -0.04312852812558068,
          null
         ],
         "y": [
          0.05693354076657738,
          0.06529052607210352,
          null
         ]
        },
        {
         "hoverinfo": "none",
         "line": {
          "color": "rgba(144.0, 238.0, 144.0, 0.5)",
          "width": 0.5
         },
         "mode": "lines",
         "type": "scatter",
         "x": [
          -0.01920046280766127,
          -0.01835863240164065,
          null
         ],
         "y": [
          0.05693354076657738,
          0.2816710488450301,
          null
         ]
        },
        {
         "hoverinfo": "none",
         "line": {
          "color": "rgba(144.0, 238.0, 144.0, 0.5)",
          "width": 0.5
         },
         "mode": "lines",
         "type": "scatter",
         "x": [
          -0.01920046280766127,
          -0.1103728414169264,
          null
         ],
         "y": [
          0.05693354076657738,
          -0.014126211710549553,
          null
         ]
        },
        {
         "hoverinfo": "none",
         "line": {
          "color": "rgba(144.0, 238.0, 144.0, 0.5)",
          "width": 0.5
         },
         "mode": "lines",
         "type": "scatter",
         "x": [
          -0.01920046280766127,
          -0.20402730722088458,
          null
         ],
         "y": [
          0.05693354076657738,
          0.17892555488701034,
          null
         ]
        },
        {
         "hoverinfo": "none",
         "line": {
          "color": "rgba(161.8470588235294, 199.73333333333335, 120.84705882352942, 0.5)",
          "width": 0.5
         },
         "mode": "lines",
         "type": "scatter",
         "x": [
          -0.01920046280766127,
          -0.17061830911863504,
          null
         ],
         "y": [
          0.05693354076657738,
          0.16087499144082618,
          null
         ]
        },
        {
         "hoverinfo": "none",
         "line": {
          "color": "rgba(146.17647058823528, 233.33333333333331, 141.1764705882353, 0.5)",
          "width": 0.5
         },
         "mode": "lines",
         "type": "scatter",
         "x": [
          -0.01920046280766127,
          -0.3417577013058011,
          null
         ],
         "y": [
          0.05693354076657738,
          0.2466946162954508,
          null
         ]
        },
        {
         "hoverinfo": "none",
         "line": {
          "color": "rgba(144.0, 238.0, 144.0, 0.5)",
          "width": 0.5
         },
         "mode": "lines",
         "type": "scatter",
         "x": [
          -0.01920046280766127,
          -0.04789367222069038,
          null
         ],
         "y": [
          0.05693354076657738,
          0.12632699513542509,
          null
         ]
        },
        {
         "hoverinfo": "none",
         "line": {
          "color": "rgba(148.78823529411764, 227.73333333333335, 137.78823529411767, 0.5)",
          "width": 0.5
         },
         "mode": "lines",
         "type": "scatter",
         "x": [
          -0.01920046280766127,
          -0.21372190190860446,
          null
         ],
         "y": [
          0.05693354076657738,
          0.015050777958272891,
          null
         ]
        },
        {
         "hoverinfo": "none",
         "line": {
          "color": "rgba(144.0, 238.0, 144.0, 0.5)",
          "width": 0.5
         },
         "mode": "lines",
         "type": "scatter",
         "x": [
          -0.01920046280766127,
          0.023384759964192165,
          null
         ],
         "y": [
          0.05693354076657738,
          -0.19734267718946394,
          null
         ]
        },
        {
         "hoverinfo": "none",
         "line": {
          "color": "rgba(144.0, 238.0, 144.0, 0.5)",
          "width": 0.5
         },
         "mode": "lines",
         "type": "scatter",
         "x": [
          -0.01920046280766127,
          0.005386321220475092,
          null
         ],
         "y": [
          0.05693354076657738,
          0.04818967093067006,
          null
         ]
        },
        {
         "hoverinfo": "none",
         "line": {
          "color": "rgba(146.17647058823528, 233.33333333333331, 141.1764705882353, 0.5)",
          "width": 0.5
         },
         "mode": "lines",
         "type": "scatter",
         "x": [
          -0.16807591990904772,
          0.005720528430193572,
          null
         ],
         "y": [
          0.002254779748922316,
          0.1609735299876217,
          null
         ]
        },
        {
         "hoverinfo": "none",
         "line": {
          "color": "rgba(161.8470588235294, 199.73333333333335, 120.84705882352942, 0.5)",
          "width": 0.5
         },
         "mode": "lines",
         "type": "scatter",
         "x": [
          -0.16807591990904772,
          -0.08002563823441185,
          null
         ],
         "y": [
          0.002254779748922316,
          -0.06939400517860572,
          null
         ]
        },
        {
         "hoverinfo": "none",
         "line": {
          "color": "rgba(146.17647058823528, 233.33333333333331, 141.1764705882353, 0.5)",
          "width": 0.5
         },
         "mode": "lines",
         "type": "scatter",
         "x": [
          -0.16807591990904772,
          -0.1675259453265881,
          null
         ],
         "y": [
          0.002254779748922316,
          0.23429302452312867,
          null
         ]
        },
        {
         "hoverinfo": "none",
         "line": {
          "color": "rgba(144.0, 238.0, 144.0, 0.5)",
          "width": 0.5
         },
         "mode": "lines",
         "type": "scatter",
         "x": [
          -0.16807591990904772,
          -0.3333960749512078,
          null
         ],
         "y": [
          0.002254779748922316,
          -0.21797028785639486,
          null
         ]
        },
        {
         "hoverinfo": "none",
         "line": {
          "color": "rgba(144.0, 238.0, 144.0, 0.5)",
          "width": 0.5
         },
         "mode": "lines",
         "type": "scatter",
         "x": [
          -0.16807591990904772,
          -0.21372190190860446,
          null
         ],
         "y": [
          0.002254779748922316,
          0.015050777958272891,
          null
         ]
        },
        {
         "hoverinfo": "none",
         "line": {
          "color": "rgba(144.0, 238.0, 144.0, 0.5)",
          "width": 0.5
         },
         "mode": "lines",
         "type": "scatter",
         "x": [
          -0.16807591990904772,
          0.005386321220475092,
          null
         ],
         "y": [
          0.002254779748922316,
          0.04818967093067006,
          null
         ]
        },
        {
         "hoverinfo": "none",
         "line": {
          "color": "rgba(144.0, 238.0, 144.0, 0.5)",
          "width": 0.5
         },
         "mode": "lines",
         "type": "scatter",
         "x": [
          -0.28880853885362967,
          -0.26096416492678304,
          null
         ],
         "y": [
          0.0942248662756934,
          0.05494137806017977,
          null
         ]
        },
        {
         "hoverinfo": "none",
         "line": {
          "color": "rgba(144.0, 238.0, 144.0, 0.5)",
          "width": 0.5
         },
         "mode": "lines",
         "type": "scatter",
         "x": [
          -0.28880853885362967,
          -0.08002563823441185,
          null
         ],
         "y": [
          0.0942248662756934,
          -0.06939400517860572,
          null
         ]
        },
        {
         "hoverinfo": "none",
         "line": {
          "color": "rgba(144.0, 238.0, 144.0, 0.5)",
          "width": 0.5
         },
         "mode": "lines",
         "type": "scatter",
         "x": [
          -0.28880853885362967,
          -0.1103728414169264,
          null
         ],
         "y": [
          0.0942248662756934,
          -0.014126211710549553,
          null
         ]
        },
        {
         "hoverinfo": "none",
         "line": {
          "color": "rgba(144.0, 238.0, 144.0, 0.5)",
          "width": 0.5
         },
         "mode": "lines",
         "type": "scatter",
         "x": [
          -0.18755978864923079,
          -0.2757561994990008,
          null
         ],
         "y": [
          -0.08615810018397115,
          0.30601375367211264,
          null
         ]
        },
        {
         "hoverinfo": "none",
         "line": {
          "color": "rgba(144.0, 238.0, 144.0, 0.5)",
          "width": 0.5
         },
         "mode": "lines",
         "type": "scatter",
         "x": [
          -0.18755978864923079,
          -0.3798156273584622,
          null
         ],
         "y": [
          -0.08615810018397115,
          0.009427932911057223,
          null
         ]
        },
        {
         "hoverinfo": "none",
         "line": {
          "color": "rgba(144.0, 238.0, 144.0, 0.5)",
          "width": 0.5
         },
         "mode": "lines",
         "type": "scatter",
         "x": [
          -0.18755978864923079,
          -0.3084768317598821,
          null
         ],
         "y": [
          -0.08615810018397115,
          -0.22045408183236073,
          null
         ]
        },
        {
         "hoverinfo": "none",
         "line": {
          "color": "rgba(148.78823529411764, 227.73333333333335, 137.78823529411767, 0.5)",
          "width": 0.5
         },
         "mode": "lines",
         "type": "scatter",
         "x": [
          -0.18755978864923079,
          -0.08530667865266246,
          null
         ],
         "y": [
          -0.08615810018397115,
          -0.10009792139295513,
          null
         ]
        },
        {
         "hoverinfo": "none",
         "line": {
          "color": "rgba(144.0, 238.0, 144.0, 0.5)",
          "width": 0.5
         },
         "mode": "lines",
         "type": "scatter",
         "x": [
          -0.18755978864923079,
          -0.3634312576904113,
          null
         ],
         "y": [
          -0.08615810018397115,
          -0.2608515714529413,
          null
         ]
        },
        {
         "hoverinfo": "none",
         "line": {
          "color": "rgba(144.0, 238.0, 144.0, 0.5)",
          "width": 0.5
         },
         "mode": "lines",
         "type": "scatter",
         "x": [
          -0.18755978864923079,
          -0.1310758831768436,
          null
         ],
         "y": [
          -0.08615810018397115,
          0.1092337977977338,
          null
         ]
        },
        {
         "hoverinfo": "none",
         "line": {
          "color": "rgba(144.0, 238.0, 144.0, 0.5)",
          "width": 0.5
         },
         "mode": "lines",
         "type": "scatter",
         "x": [
          -0.18755978864923079,
          -0.08609823480974288,
          null
         ],
         "y": [
          -0.08615810018397115,
          0.1553027250389448,
          null
         ]
        },
        {
         "hoverinfo": "none",
         "line": {
          "color": "rgba(154.01176470588237, 216.53333333333333, 131.01176470588237, 0.5)",
          "width": 0.5
         },
         "mode": "lines",
         "type": "scatter",
         "x": [
          -0.18755978864923079,
          -0.1278979291781272,
          null
         ],
         "y": [
          -0.08615810018397115,
          -0.08103816897878831,
          null
         ]
        },
        {
         "hoverinfo": "none",
         "line": {
          "color": "rgba(146.17647058823528, 233.33333333333331, 141.1764705882353, 0.5)",
          "width": 0.5
         },
         "mode": "lines",
         "type": "scatter",
         "x": [
          -0.18755978864923079,
          -0.16601237278549122,
          null
         ],
         "y": [
          -0.08615810018397115,
          -0.4174758498098329,
          null
         ]
        },
        {
         "hoverinfo": "none",
         "line": {
          "color": "rgba(144.0, 238.0, 144.0, 0.5)",
          "width": 0.5
         },
         "mode": "lines",
         "type": "scatter",
         "x": [
          -0.2757561994990008,
          -0.3798156273584622,
          null
         ],
         "y": [
          0.30601375367211264,
          0.009427932911057223,
          null
         ]
        },
        {
         "hoverinfo": "none",
         "line": {
          "color": "rgba(144.0, 238.0, 144.0, 0.5)",
          "width": 0.5
         },
         "mode": "lines",
         "type": "scatter",
         "x": [
          -0.2757561994990008,
          -0.08530667865266246,
          null
         ],
         "y": [
          0.30601375367211264,
          -0.10009792139295513,
          null
         ]
        },
        {
         "hoverinfo": "none",
         "line": {
          "color": "rgba(144.0, 238.0, 144.0, 0.5)",
          "width": 0.5
         },
         "mode": "lines",
         "type": "scatter",
         "x": [
          -0.3798156273584622,
          -0.3084768317598821,
          null
         ],
         "y": [
          0.009427932911057223,
          -0.22045408183236073,
          null
         ]
        },
        {
         "hoverinfo": "none",
         "line": {
          "color": "rgba(144.0, 238.0, 144.0, 0.5)",
          "width": 0.5
         },
         "mode": "lines",
         "type": "scatter",
         "x": [
          -0.3798156273584622,
          -0.1278979291781272,
          null
         ],
         "y": [
          0.009427932911057223,
          -0.08103816897878831,
          null
         ]
        },
        {
         "hoverinfo": "none",
         "line": {
          "color": "rgba(144.0, 238.0, 144.0, 0.5)",
          "width": 0.5
         },
         "mode": "lines",
         "type": "scatter",
         "x": [
          -0.3084768317598821,
          -0.08530667865266246,
          null
         ],
         "y": [
          -0.22045408183236073,
          -0.10009792139295513,
          null
         ]
        },
        {
         "hoverinfo": "none",
         "line": {
          "color": "rgba(144.0, 238.0, 144.0, 0.5)",
          "width": 0.5
         },
         "mode": "lines",
         "type": "scatter",
         "x": [
          -0.08530667865266246,
          -0.04312852812558068,
          null
         ],
         "y": [
          -0.10009792139295513,
          0.06529052607210352,
          null
         ]
        },
        {
         "hoverinfo": "none",
         "line": {
          "color": "rgba(144.0, 238.0, 144.0, 0.5)",
          "width": 0.5
         },
         "mode": "lines",
         "type": "scatter",
         "x": [
          0.038452299517264144,
          -0.04789367222069038,
          null
         ],
         "y": [
          0.2806057862863662,
          0.12632699513542509,
          null
         ]
        },
        {
         "hoverinfo": "none",
         "line": {
          "color": "rgba(144.0, 238.0, 144.0, 0.5)",
          "width": 0.5
         },
         "mode": "lines",
         "type": "scatter",
         "x": [
          0.038452299517264144,
          -0.19055928449609405,
          null
         ],
         "y": [
          0.2806057862863662,
          0.217299725401975,
          null
         ]
        },
        {
         "hoverinfo": "none",
         "line": {
          "color": "rgba(144.0, 238.0, 144.0, 0.5)",
          "width": 0.5
         },
         "mode": "lines",
         "type": "scatter",
         "x": [
          0.038452299517264144,
          -0.08609823480974288,
          null
         ],
         "y": [
          0.2806057862863662,
          0.1553027250389448,
          null
         ]
        },
        {
         "hoverinfo": "none",
         "line": {
          "color": "rgba(144.0, 238.0, 144.0, 0.5)",
          "width": 0.5
         },
         "mode": "lines",
         "type": "scatter",
         "x": [
          0.038452299517264144,
          0.005720528430193572,
          null
         ],
         "y": [
          0.2806057862863662,
          0.1609735299876217,
          null
         ]
        },
        {
         "hoverinfo": "none",
         "line": {
          "color": "rgba(144.0, 238.0, 144.0, 0.5)",
          "width": 0.5
         },
         "mode": "lines",
         "type": "scatter",
         "x": [
          0.038452299517264144,
          -0.037736053121505325,
          null
         ],
         "y": [
          0.2806057862863662,
          0.1941783921269007,
          null
         ]
        },
        {
         "hoverinfo": "none",
         "line": {
          "color": "rgba(144.0, 238.0, 144.0, 0.5)",
          "width": 0.5
         },
         "mode": "lines",
         "type": "scatter",
         "x": [
          0.038452299517264144,
          0.08508056166314654,
          null
         ],
         "y": [
          0.2806057862863662,
          0.21727748726847088,
          null
         ]
        },
        {
         "hoverinfo": "none",
         "line": {
          "color": "rgba(146.17647058823528, 233.33333333333331, 141.1764705882353, 0.5)",
          "width": 0.5
         },
         "mode": "lines",
         "type": "scatter",
         "x": [
          0.038452299517264144,
          -0.01835863240164065,
          null
         ],
         "y": [
          0.2806057862863662,
          0.2816710488450301,
          null
         ]
        },
        {
         "hoverinfo": "none",
         "line": {
          "color": "rgba(144.0, 238.0, 144.0, 0.5)",
          "width": 0.5
         },
         "mode": "lines",
         "type": "scatter",
         "x": [
          0.038452299517264144,
          -0.12568436166720384,
          null
         ],
         "y": [
          0.2806057862863662,
          0.23711320197900426,
          null
         ]
        },
        {
         "hoverinfo": "none",
         "line": {
          "color": "rgba(144.0, 238.0, 144.0, 0.5)",
          "width": 0.5
         },
         "mode": "lines",
         "type": "scatter",
         "x": [
          0.038452299517264144,
          -0.05177677912445756,
          null
         ],
         "y": [
          0.2806057862863662,
          0.21324350394641564,
          null
         ]
        },
        {
         "hoverinfo": "none",
         "line": {
          "color": "rgba(144.0, 238.0, 144.0, 0.5)",
          "width": 0.5
         },
         "mode": "lines",
         "type": "scatter",
         "x": [
          0.038452299517264144,
          0.1158453758115048,
          null
         ],
         "y": [
          0.2806057862863662,
          0.29463524803815394,
          null
         ]
        },
        {
         "hoverinfo": "none",
         "line": {
          "color": "rgba(144.0, 238.0, 144.0, 0.5)",
          "width": 0.5
         },
         "mode": "lines",
         "type": "scatter",
         "x": [
          -0.14319011935497858,
          -0.13414347973577812,
          null
         ],
         "y": [
          -0.09835547769374435,
          0.07497062075222752,
          null
         ]
        },
        {
         "hoverinfo": "none",
         "line": {
          "color": "rgba(144.0, 238.0, 144.0, 0.5)",
          "width": 0.5
         },
         "mode": "lines",
         "type": "scatter",
         "x": [
          0.06340199839732927,
          0.005720528430193572,
          null
         ],
         "y": [
          0.04334777518009053,
          0.1609735299876217,
          null
         ]
        },
        {
         "hoverinfo": "none",
         "line": {
          "color": "rgba(148.78823529411764, 227.73333333333335, 137.78823529411767, 0.5)",
          "width": 0.5
         },
         "mode": "lines",
         "type": "scatter",
         "x": [
          0.06340199839732927,
          0.08508056166314654,
          null
         ],
         "y": [
          0.04334777518009053,
          0.21727748726847088,
          null
         ]
        },
        {
         "hoverinfo": "none",
         "line": {
          "color": "rgba(144.0, 238.0, 144.0, 0.5)",
          "width": 0.5
         },
         "mode": "lines",
         "type": "scatter",
         "x": [
          0.005720528430193572,
          0.1208207247688906,
          null
         ],
         "y": [
          0.1609735299876217,
          -0.01204508455225134,
          null
         ]
        },
        {
         "hoverinfo": "none",
         "line": {
          "color": "rgba(144.0, 238.0, 144.0, 0.5)",
          "width": 0.5
         },
         "mode": "lines",
         "type": "scatter",
         "x": [
          0.005720528430193572,
          -0.08609823480974288,
          null
         ],
         "y": [
          0.1609735299876217,
          0.1553027250389448,
          null
         ]
        },
        {
         "hoverinfo": "none",
         "line": {
          "color": "rgba(151.4, 222.13333333333335, 134.4, 0.5)",
          "width": 0.5
         },
         "mode": "lines",
         "type": "scatter",
         "x": [
          0.005720528430193572,
          -0.037736053121505325,
          null
         ],
         "y": [
          0.1609735299876217,
          0.1941783921269007,
          null
         ]
        },
        {
         "hoverinfo": "none",
         "line": {
          "color": "rgba(144.0, 238.0, 144.0, 0.5)",
          "width": 0.5
         },
         "mode": "lines",
         "type": "scatter",
         "x": [
          0.005720528430193572,
          0.073323613514079,
          null
         ],
         "y": [
          0.1609735299876217,
          0.3892253749122883,
          null
         ]
        },
        {
         "hoverinfo": "none",
         "line": {
          "color": "rgba(144.0, 238.0, 144.0, 0.5)",
          "width": 0.5
         },
         "mode": "lines",
         "type": "scatter",
         "x": [
          0.005720528430193572,
          0.1574657163746438,
          null
         ],
         "y": [
          0.1609735299876217,
          0.2233464453212604,
          null
         ]
        },
        {
         "hoverinfo": "none",
         "line": {
          "color": "rgba(144.0, 238.0, 144.0, 0.5)",
          "width": 0.5
         },
         "mode": "lines",
         "type": "scatter",
         "x": [
          0.005720528430193572,
          -0.06610153325615863,
          null
         ],
         "y": [
          0.1609735299876217,
          0.2606475451946278,
          null
         ]
        },
        {
         "hoverinfo": "none",
         "line": {
          "color": "rgba(146.17647058823528, 233.33333333333331, 141.1764705882353, 0.5)",
          "width": 0.5
         },
         "mode": "lines",
         "type": "scatter",
         "x": [
          0.005720528430193572,
          0.08508056166314654,
          null
         ],
         "y": [
          0.1609735299876217,
          0.21727748726847088,
          null
         ]
        },
        {
         "hoverinfo": "none",
         "line": {
          "color": "rgba(148.78823529411764, 227.73333333333335, 137.78823529411767, 0.5)",
          "width": 0.5
         },
         "mode": "lines",
         "type": "scatter",
         "x": [
          0.005720528430193572,
          -0.01850548100425071,
          null
         ],
         "y": [
          0.1609735299876217,
          0.25254677681882975,
          null
         ]
        },
        {
         "hoverinfo": "none",
         "line": {
          "color": "rgba(146.17647058823528, 233.33333333333331, 141.1764705882353, 0.5)",
          "width": 0.5
         },
         "mode": "lines",
         "type": "scatter",
         "x": [
          0.005720528430193572,
          -0.013254801021019556,
          null
         ],
         "y": [
          0.1609735299876217,
          0.20632008218218892,
          null
         ]
        },
        {
         "hoverinfo": "none",
         "line": {
          "color": "rgba(146.17647058823528, 233.33333333333331, 141.1764705882353, 0.5)",
          "width": 0.5
         },
         "mode": "lines",
         "type": "scatter",
         "x": [
          0.005720528430193572,
          -0.1675259453265881,
          null
         ],
         "y": [
          0.1609735299876217,
          0.23429302452312867,
          null
         ]
        },
        {
         "hoverinfo": "none",
         "line": {
          "color": "rgba(151.4, 222.13333333333335, 134.4, 0.5)",
          "width": 0.5
         },
         "mode": "lines",
         "type": "scatter",
         "x": [
          0.005720528430193572,
          -0.01835863240164065,
          null
         ],
         "y": [
          0.1609735299876217,
          0.2816710488450301,
          null
         ]
        },
        {
         "hoverinfo": "none",
         "line": {
          "color": "rgba(148.78823529411764, 227.73333333333335, 137.78823529411767, 0.5)",
          "width": 0.5
         },
         "mode": "lines",
         "type": "scatter",
         "x": [
          0.005720528430193572,
          -0.05177677912445756,
          null
         ],
         "y": [
          0.1609735299876217,
          0.21324350394641564,
          null
         ]
        },
        {
         "hoverinfo": "none",
         "line": {
          "color": "rgba(144.0, 238.0, 144.0, 0.5)",
          "width": 0.5
         },
         "mode": "lines",
         "type": "scatter",
         "x": [
          0.005720528430193572,
          -0.21372190190860446,
          null
         ],
         "y": [
          0.1609735299876217,
          0.015050777958272891,
          null
         ]
        },
        {
         "hoverinfo": "none",
         "line": {
          "color": "rgba(148.78823529411764, 227.73333333333335, 137.78823529411767, 0.5)",
          "width": 0.5
         },
         "mode": "lines",
         "type": "scatter",
         "x": [
          0.005720528430193572,
          -0.0795150080994743,
          null
         ],
         "y": [
          0.1609735299876217,
          0.2172236208559976,
          null
         ]
        },
        {
         "hoverinfo": "none",
         "line": {
          "color": "rgba(144.0, 238.0, 144.0, 0.5)",
          "width": 0.5
         },
         "mode": "lines",
         "type": "scatter",
         "x": [
          0.005720528430193572,
          -0.20402730722088458,
          null
         ],
         "y": [
          0.1609735299876217,
          0.17892555488701034,
          null
         ]
        },
        {
         "hoverinfo": "none",
         "line": {
          "color": "rgba(154.01176470588237, 216.53333333333333, 131.01176470588237, 0.5)",
          "width": 0.5
         },
         "mode": "lines",
         "type": "scatter",
         "x": [
          0.005720528430193572,
          -0.07631835394842536,
          null
         ],
         "y": [
          0.1609735299876217,
          0.39781233999569576,
          null
         ]
        },
        {
         "hoverinfo": "none",
         "line": {
          "color": "rgba(144.0, 238.0, 144.0, 0.5)",
          "width": 0.5
         },
         "mode": "lines",
         "type": "scatter",
         "x": [
          0.005720528430193572,
          -0.1278979291781272,
          null
         ],
         "y": [
          0.1609735299876217,
          -0.08103816897878831,
          null
         ]
        },
        {
         "hoverinfo": "none",
         "line": {
          "color": "rgba(144.0, 238.0, 144.0, 0.5)",
          "width": 0.5
         },
         "mode": "lines",
         "type": "scatter",
         "x": [
          0.005720528430193572,
          -0.12568436166720384,
          null
         ],
         "y": [
          0.1609735299876217,
          0.23711320197900426,
          null
         ]
        },
        {
         "hoverinfo": "none",
         "line": {
          "color": "rgba(144.0, 238.0, 144.0, 0.5)",
          "width": 0.5
         },
         "mode": "lines",
         "type": "scatter",
         "x": [
          0.005720528430193572,
          0.00608491303550132,
          null
         ],
         "y": [
          0.1609735299876217,
          0.1386826777322132,
          null
         ]
        },
        {
         "hoverinfo": "none",
         "line": {
          "color": "rgba(156.6235294117647, 210.93333333333334, 127.62352941176471, 0.5)",
          "width": 0.5
         },
         "mode": "lines",
         "type": "scatter",
         "x": [
          0.005720528430193572,
          -0.09888059852184569,
          null
         ],
         "y": [
          0.1609735299876217,
          0.019712051440705456,
          null
         ]
        },
        {
         "hoverinfo": "none",
         "line": {
          "color": "rgba(144.0, 238.0, 144.0, 0.5)",
          "width": 0.5
         },
         "mode": "lines",
         "type": "scatter",
         "x": [
          0.005720528430193572,
          -0.09904357357897299,
          null
         ],
         "y": [
          0.1609735299876217,
          0.07036911152043185,
          null
         ]
        },
        {
         "hoverinfo": "none",
         "line": {
          "color": "rgba(146.17647058823528, 233.33333333333331, 141.1764705882353, 0.5)",
          "width": 0.5
         },
         "mode": "lines",
         "type": "scatter",
         "x": [
          0.005720528430193572,
          0.005386321220475092,
          null
         ],
         "y": [
          0.1609735299876217,
          0.04818967093067006,
          null
         ]
        },
        {
         "hoverinfo": "none",
         "line": {
          "color": "rgba(144.0, 238.0, 144.0, 0.5)",
          "width": 0.5
         },
         "mode": "lines",
         "type": "scatter",
         "x": [
          0.005720528430193572,
          -0.019899021063032183,
          null
         ],
         "y": [
          0.1609735299876217,
          0.3334359612380626,
          null
         ]
        },
        {
         "hoverinfo": "none",
         "line": {
          "color": "rgba(144.0, 238.0, 144.0, 0.5)",
          "width": 0.5
         },
         "mode": "lines",
         "type": "scatter",
         "x": [
          0.005720528430193572,
          -0.18067723358052504,
          null
         ],
         "y": [
          0.1609735299876217,
          -0.12069862000410217,
          null
         ]
        },
        {
         "hoverinfo": "none",
         "line": {
          "color": "rgba(148.78823529411764, 227.73333333333335, 137.78823529411767, 0.5)",
          "width": 0.5
         },
         "mode": "lines",
         "type": "scatter",
         "x": [
          0.005720528430193572,
          -0.04312852812558068,
          null
         ],
         "y": [
          0.1609735299876217,
          0.06529052607210352,
          null
         ]
        },
        {
         "hoverinfo": "none",
         "line": {
          "color": "rgba(144.0, 238.0, 144.0, 0.5)",
          "width": 0.5
         },
         "mode": "lines",
         "type": "scatter",
         "x": [
          0.005720528430193572,
          0.11682886181796201,
          null
         ],
         "y": [
          0.1609735299876217,
          0.3755850632547882,
          null
         ]
        },
        {
         "hoverinfo": "none",
         "line": {
          "color": "rgba(144.0, 238.0, 144.0, 0.5)",
          "width": 0.5
         },
         "mode": "lines",
         "type": "scatter",
         "x": [
          0.005720528430193572,
          0.6141363061163377,
          null
         ],
         "y": [
          0.1609735299876217,
          0.5029252275290627,
          null
         ]
        },
        {
         "hoverinfo": "none",
         "line": {
          "color": "rgba(144.0, 238.0, 144.0, 0.5)",
          "width": 0.5
         },
         "mode": "lines",
         "type": "scatter",
         "x": [
          0.005720528430193572,
          -0.0777819075103812,
          null
         ],
         "y": [
          0.1609735299876217,
          0.3141753414343992,
          null
         ]
        },
        {
         "hoverinfo": "none",
         "line": {
          "color": "rgba(144.0, 238.0, 144.0, 0.5)",
          "width": 0.5
         },
         "mode": "lines",
         "type": "scatter",
         "x": [
          -0.04789367222069038,
          -0.08609823480974288,
          null
         ],
         "y": [
          0.12632699513542509,
          0.1553027250389448,
          null
         ]
        },
        {
         "hoverinfo": "none",
         "line": {
          "color": "rgba(144.0, 238.0, 144.0, 0.5)",
          "width": 0.5
         },
         "mode": "lines",
         "type": "scatter",
         "x": [
          -0.04789367222069038,
          0.08805613312227421,
          null
         ],
         "y": [
          0.12632699513542509,
          0.2614632945348678,
          null
         ]
        },
        {
         "hoverinfo": "none",
         "line": {
          "color": "rgba(144.0, 238.0, 144.0, 0.5)",
          "width": 0.5
         },
         "mode": "lines",
         "type": "scatter",
         "x": [
          -0.04789367222069038,
          -0.01835863240164065,
          null
         ],
         "y": [
          0.12632699513542509,
          0.2816710488450301,
          null
         ]
        },
        {
         "hoverinfo": "none",
         "line": {
          "color": "rgba(148.78823529411764, 227.73333333333335, 137.78823529411767, 0.5)",
          "width": 0.5
         },
         "mode": "lines",
         "type": "scatter",
         "x": [
          -0.04789367222069038,
          -0.08002563823441185,
          null
         ],
         "y": [
          0.12632699513542509,
          -0.06939400517860572,
          null
         ]
        },
        {
         "hoverinfo": "none",
         "line": {
          "color": "rgba(144.0, 238.0, 144.0, 0.5)",
          "width": 0.5
         },
         "mode": "lines",
         "type": "scatter",
         "x": [
          -0.04789367222069038,
          -0.3417577013058011,
          null
         ],
         "y": [
          0.12632699513542509,
          0.2466946162954508,
          null
         ]
        },
        {
         "hoverinfo": "none",
         "line": {
          "color": "rgba(144.0, 238.0, 144.0, 0.5)",
          "width": 0.5
         },
         "mode": "lines",
         "type": "scatter",
         "x": [
          -0.04789367222069038,
          -0.1103728414169264,
          null
         ],
         "y": [
          0.12632699513542509,
          -0.014126211710549553,
          null
         ]
        },
        {
         "hoverinfo": "none",
         "line": {
          "color": "rgba(144.0, 238.0, 144.0, 0.5)",
          "width": 0.5
         },
         "mode": "lines",
         "type": "scatter",
         "x": [
          -0.04789367222069038,
          -0.3050897530341685,
          null
         ],
         "y": [
          0.12632699513542509,
          0.20869558028462507,
          null
         ]
        },
        {
         "hoverinfo": "none",
         "line": {
          "color": "rgba(144.0, 238.0, 144.0, 0.5)",
          "width": 0.5
         },
         "mode": "lines",
         "type": "scatter",
         "x": [
          -0.19055928449609405,
          -0.037736053121505325,
          null
         ],
         "y": [
          0.217299725401975,
          0.1941783921269007,
          null
         ]
        },
        {
         "hoverinfo": "none",
         "line": {
          "color": "rgba(146.17647058823528, 233.33333333333331, 141.1764705882353, 0.5)",
          "width": 0.5
         },
         "mode": "lines",
         "type": "scatter",
         "x": [
          -0.19055928449609405,
          -0.1103728414169264,
          null
         ],
         "y": [
          0.217299725401975,
          -0.014126211710549553,
          null
         ]
        },
        {
         "hoverinfo": "none",
         "line": {
          "color": "rgba(146.17647058823528, 233.33333333333331, 141.1764705882353, 0.5)",
          "width": 0.5
         },
         "mode": "lines",
         "type": "scatter",
         "x": [
          -0.08609823480974288,
          0.00608491303550132,
          null
         ],
         "y": [
          0.1553027250389448,
          0.1386826777322132,
          null
         ]
        },
        {
         "hoverinfo": "none",
         "line": {
          "color": "rgba(146.17647058823528, 233.33333333333331, 141.1764705882353, 0.5)",
          "width": 0.5
         },
         "mode": "lines",
         "type": "scatter",
         "x": [
          -0.08609823480974288,
          -0.04312852812558068,
          null
         ],
         "y": [
          0.1553027250389448,
          0.06529052607210352,
          null
         ]
        },
        {
         "hoverinfo": "none",
         "line": {
          "color": "rgba(144.0, 238.0, 144.0, 0.5)",
          "width": 0.5
         },
         "mode": "lines",
         "type": "scatter",
         "x": [
          -0.08609823480974288,
          0.08805613312227421,
          null
         ],
         "y": [
          0.1553027250389448,
          0.2614632945348678,
          null
         ]
        },
        {
         "hoverinfo": "none",
         "line": {
          "color": "rgba(146.17647058823528, 233.33333333333331, 141.1764705882353, 0.5)",
          "width": 0.5
         },
         "mode": "lines",
         "type": "scatter",
         "x": [
          -0.08609823480974288,
          -0.01835863240164065,
          null
         ],
         "y": [
          0.1553027250389448,
          0.2816710488450301,
          null
         ]
        },
        {
         "hoverinfo": "none",
         "line": {
          "color": "rgba(144.0, 238.0, 144.0, 0.5)",
          "width": 0.5
         },
         "mode": "lines",
         "type": "scatter",
         "x": [
          -0.08609823480974288,
          0.1208207247688906,
          null
         ],
         "y": [
          0.1553027250389448,
          -0.01204508455225134,
          null
         ]
        },
        {
         "hoverinfo": "none",
         "line": {
          "color": "rgba(144.0, 238.0, 144.0, 0.5)",
          "width": 0.5
         },
         "mode": "lines",
         "type": "scatter",
         "x": [
          -0.08609823480974288,
          -0.037736053121505325,
          null
         ],
         "y": [
          0.1553027250389448,
          0.1941783921269007,
          null
         ]
        },
        {
         "hoverinfo": "none",
         "line": {
          "color": "rgba(144.0, 238.0, 144.0, 0.5)",
          "width": 0.5
         },
         "mode": "lines",
         "type": "scatter",
         "x": [
          -0.08609823480974288,
          -0.05177677912445756,
          null
         ],
         "y": [
          0.1553027250389448,
          0.21324350394641564,
          null
         ]
        },
        {
         "hoverinfo": "none",
         "line": {
          "color": "rgba(144.0, 238.0, 144.0, 0.5)",
          "width": 0.5
         },
         "mode": "lines",
         "type": "scatter",
         "x": [
          -0.08609823480974288,
          -0.01850548100425071,
          null
         ],
         "y": [
          0.1553027250389448,
          0.25254677681882975,
          null
         ]
        },
        {
         "hoverinfo": "none",
         "line": {
          "color": "rgba(144.0, 238.0, 144.0, 0.5)",
          "width": 0.5
         },
         "mode": "lines",
         "type": "scatter",
         "x": [
          -0.08609823480974288,
          -0.1675259453265881,
          null
         ],
         "y": [
          0.1553027250389448,
          0.23429302452312867,
          null
         ]
        },
        {
         "hoverinfo": "none",
         "line": {
          "color": "rgba(144.0, 238.0, 144.0, 0.5)",
          "width": 0.5
         },
         "mode": "lines",
         "type": "scatter",
         "x": [
          -0.08609823480974288,
          -0.4525842881064867,
          null
         ],
         "y": [
          0.1553027250389448,
          0.35651636797649994,
          null
         ]
        },
        {
         "hoverinfo": "none",
         "line": {
          "color": "rgba(144.0, 238.0, 144.0, 0.5)",
          "width": 0.5
         },
         "mode": "lines",
         "type": "scatter",
         "x": [
          -0.08609823480974288,
          -0.23123087529251413,
          null
         ],
         "y": [
          0.1553027250389448,
          0.10582388808140479,
          null
         ]
        },
        {
         "hoverinfo": "none",
         "line": {
          "color": "rgba(144.0, 238.0, 144.0, 0.5)",
          "width": 0.5
         },
         "mode": "lines",
         "type": "scatter",
         "x": [
          -0.08609823480974288,
          -0.28870609353163784,
          null
         ],
         "y": [
          0.1553027250389448,
          0.1857962856331318,
          null
         ]
        },
        {
         "hoverinfo": "none",
         "line": {
          "color": "rgba(144.0, 238.0, 144.0, 0.5)",
          "width": 0.5
         },
         "mode": "lines",
         "type": "scatter",
         "x": [
          -0.08609823480974288,
          -0.0777819075103812,
          null
         ],
         "y": [
          0.1553027250389448,
          0.3141753414343992,
          null
         ]
        },
        {
         "hoverinfo": "none",
         "line": {
          "color": "rgba(146.17647058823528, 233.33333333333331, 141.1764705882353, 0.5)",
          "width": 0.5
         },
         "mode": "lines",
         "type": "scatter",
         "x": [
          -0.08609823480974288,
          -0.3050897530341685,
          null
         ],
         "y": [
          0.1553027250389448,
          0.20869558028462507,
          null
         ]
        },
        {
         "hoverinfo": "none",
         "line": {
          "color": "rgba(146.17647058823528, 233.33333333333331, 141.1764705882353, 0.5)",
          "width": 0.5
         },
         "mode": "lines",
         "type": "scatter",
         "x": [
          -0.08609823480974288,
          -0.17061830911863504,
          null
         ],
         "y": [
          0.1553027250389448,
          0.16087499144082618,
          null
         ]
        },
        {
         "hoverinfo": "none",
         "line": {
          "color": "rgba(148.78823529411764, 227.73333333333335, 137.78823529411767, 0.5)",
          "width": 0.5
         },
         "mode": "lines",
         "type": "scatter",
         "x": [
          -0.08609823480974288,
          -0.21372190190860446,
          null
         ],
         "y": [
          0.1553027250389448,
          0.015050777958272891,
          null
         ]
        },
        {
         "hoverinfo": "none",
         "line": {
          "color": "rgba(144.0, 238.0, 144.0, 0.5)",
          "width": 0.5
         },
         "mode": "lines",
         "type": "scatter",
         "x": [
          -0.08609823480974288,
          -0.4113815882989154,
          null
         ],
         "y": [
          0.1553027250389448,
          0.015208526640826,
          null
         ]
        },
        {
         "hoverinfo": "none",
         "line": {
          "color": "rgba(144.0, 238.0, 144.0, 0.5)",
          "width": 0.5
         },
         "mode": "lines",
         "type": "scatter",
         "x": [
          -0.08609823480974288,
          -0.1103728414169264,
          null
         ],
         "y": [
          0.1553027250389448,
          -0.014126211710549553,
          null
         ]
        },
        {
         "hoverinfo": "none",
         "line": {
          "color": "rgba(144.0, 238.0, 144.0, 0.5)",
          "width": 0.5
         },
         "mode": "lines",
         "type": "scatter",
         "x": [
          -0.08609823480974288,
          -0.21841503354558905,
          null
         ],
         "y": [
          0.1553027250389448,
          -0.0945802778400624,
          null
         ]
        },
        {
         "hoverinfo": "none",
         "line": {
          "color": "rgba(144.0, 238.0, 144.0, 0.5)",
          "width": 0.5
         },
         "mode": "lines",
         "type": "scatter",
         "x": [
          -0.08609823480974288,
          -0.08002563823441185,
          null
         ],
         "y": [
          0.1553027250389448,
          -0.06939400517860572,
          null
         ]
        },
        {
         "hoverinfo": "none",
         "line": {
          "color": "rgba(144.0, 238.0, 144.0, 0.5)",
          "width": 0.5
         },
         "mode": "lines",
         "type": "scatter",
         "x": [
          -0.08609823480974288,
          -0.20402730722088458,
          null
         ],
         "y": [
          0.1553027250389448,
          0.17892555488701034,
          null
         ]
        },
        {
         "hoverinfo": "none",
         "line": {
          "color": "rgba(144.0, 238.0, 144.0, 0.5)",
          "width": 0.5
         },
         "mode": "lines",
         "type": "scatter",
         "x": [
          -0.08609823480974288,
          -0.0795150080994743,
          null
         ],
         "y": [
          0.1553027250389448,
          0.2172236208559976,
          null
         ]
        },
        {
         "hoverinfo": "none",
         "line": {
          "color": "rgba(144.0, 238.0, 144.0, 0.5)",
          "width": 0.5
         },
         "mode": "lines",
         "type": "scatter",
         "x": [
          -0.08609823480974288,
          -0.07631835394842536,
          null
         ],
         "y": [
          0.1553027250389448,
          0.39781233999569576,
          null
         ]
        },
        {
         "hoverinfo": "none",
         "line": {
          "color": "rgba(144.0, 238.0, 144.0, 0.5)",
          "width": 0.5
         },
         "mode": "lines",
         "type": "scatter",
         "x": [
          -0.08609823480974288,
          0.03318362620603166,
          null
         ],
         "y": [
          0.1553027250389448,
          0.40262569127087705,
          null
         ]
        },
        {
         "hoverinfo": "none",
         "line": {
          "color": "rgba(148.78823529411764, 227.73333333333335, 137.78823529411767, 0.5)",
          "width": 0.5
         },
         "mode": "lines",
         "type": "scatter",
         "x": [
          -0.08609823480974288,
          -0.22617704328375923,
          null
         ],
         "y": [
          0.1553027250389448,
          0.38383303596181,
          null
         ]
        },
        {
         "hoverinfo": "none",
         "line": {
          "color": "rgba(144.0, 238.0, 144.0, 0.5)",
          "width": 0.5
         },
         "mode": "lines",
         "type": "scatter",
         "x": [
          -0.08609823480974288,
          -0.09888059852184569,
          null
         ],
         "y": [
          0.1553027250389448,
          0.019712051440705456,
          null
         ]
        },
        {
         "hoverinfo": "none",
         "line": {
          "color": "rgba(146.17647058823528, 233.33333333333331, 141.1764705882353, 0.5)",
          "width": 0.5
         },
         "mode": "lines",
         "type": "scatter",
         "x": [
          -0.08609823480974288,
          -0.06610153325615863,
          null
         ],
         "y": [
          0.1553027250389448,
          0.2606475451946278,
          null
         ]
        },
        {
         "hoverinfo": "none",
         "line": {
          "color": "rgba(148.78823529411764, 227.73333333333335, 137.78823529411767, 0.5)",
          "width": 0.5
         },
         "mode": "lines",
         "type": "scatter",
         "x": [
          -0.08609823480974288,
          -0.17978469425979474,
          null
         ],
         "y": [
          0.1553027250389448,
          -0.02793329833471627,
          null
         ]
        },
        {
         "hoverinfo": "none",
         "line": {
          "color": "rgba(144.0, 238.0, 144.0, 0.5)",
          "width": 0.5
         },
         "mode": "lines",
         "type": "scatter",
         "x": [
          -0.08609823480974288,
          0.005386321220475092,
          null
         ],
         "y": [
          0.1553027250389448,
          0.04818967093067006,
          null
         ]
        },
        {
         "hoverinfo": "none",
         "line": {
          "color": "rgba(144.0, 238.0, 144.0, 0.5)",
          "width": 0.5
         },
         "mode": "lines",
         "type": "scatter",
         "x": [
          -0.08609823480974288,
          0.1808694119674158,
          null
         ],
         "y": [
          0.1553027250389448,
          0.28339783598243706,
          null
         ]
        },
        {
         "hoverinfo": "none",
         "line": {
          "color": "rgba(144.0, 238.0, 144.0, 0.5)",
          "width": 0.5
         },
         "mode": "lines",
         "type": "scatter",
         "x": [
          -0.08609823480974288,
          -0.5994365219971354,
          null
         ],
         "y": [
          0.1553027250389448,
          0.4999188591383581,
          null
         ]
        },
        {
         "hoverinfo": "none",
         "line": {
          "color": "rgba(144.0, 238.0, 144.0, 0.5)",
          "width": 0.5
         },
         "mode": "lines",
         "type": "scatter",
         "x": [
          -0.08609823480974288,
          -0.09583264060449923,
          null
         ],
         "y": [
          0.1553027250389448,
          0.5477091992077073,
          null
         ]
        },
        {
         "hoverinfo": "none",
         "line": {
          "color": "rgba(144.0, 238.0, 144.0, 0.5)",
          "width": 0.5
         },
         "mode": "lines",
         "type": "scatter",
         "x": [
          -0.08609823480974288,
          -0.019899021063032183,
          null
         ],
         "y": [
          0.1553027250389448,
          0.3334359612380626,
          null
         ]
        },
        {
         "hoverinfo": "none",
         "line": {
          "color": "rgba(144.0, 238.0, 144.0, 0.5)",
          "width": 0.5
         },
         "mode": "lines",
         "type": "scatter",
         "x": [
          -0.08609823480974288,
          -0.13414347973577812,
          null
         ],
         "y": [
          0.1553027250389448,
          0.07497062075222752,
          null
         ]
        },
        {
         "hoverinfo": "none",
         "line": {
          "color": "rgba(148.78823529411764, 227.73333333333335, 137.78823529411767, 0.5)",
          "width": 0.5
         },
         "mode": "lines",
         "type": "scatter",
         "x": [
          -0.08609823480974288,
          -0.2728782061654218,
          null
         ],
         "y": [
          0.1553027250389448,
          0.24777215595226404,
          null
         ]
        },
        {
         "hoverinfo": "none",
         "line": {
          "color": "rgba(144.0, 238.0, 144.0, 0.5)",
          "width": 0.5
         },
         "mode": "lines",
         "type": "scatter",
         "x": [
          -0.08609823480974288,
          -0.1278979291781272,
          null
         ],
         "y": [
          0.1553027250389448,
          -0.08103816897878831,
          null
         ]
        },
        {
         "hoverinfo": "none",
         "line": {
          "color": "rgba(146.17647058823528, 233.33333333333331, 141.1764705882353, 0.5)",
          "width": 0.5
         },
         "mode": "lines",
         "type": "scatter",
         "x": [
          -0.08609823480974288,
          0.1158453758115048,
          null
         ],
         "y": [
          0.1553027250389448,
          0.29463524803815394,
          null
         ]
        },
        {
         "hoverinfo": "none",
         "line": {
          "color": "rgba(144.0, 238.0, 144.0, 0.5)",
          "width": 0.5
         },
         "mode": "lines",
         "type": "scatter",
         "x": [
          0.00608491303550132,
          0.1208207247688906,
          null
         ],
         "y": [
          0.1386826777322132,
          -0.01204508455225134,
          null
         ]
        },
        {
         "hoverinfo": "none",
         "line": {
          "color": "rgba(144.0, 238.0, 144.0, 0.5)",
          "width": 0.5
         },
         "mode": "lines",
         "type": "scatter",
         "x": [
          0.00608491303550132,
          0.005386321220475092,
          null
         ],
         "y": [
          0.1386826777322132,
          0.04818967093067006,
          null
         ]
        },
        {
         "hoverinfo": "none",
         "line": {
          "color": "rgba(144.0, 238.0, 144.0, 0.5)",
          "width": 0.5
         },
         "mode": "lines",
         "type": "scatter",
         "x": [
          0.00608491303550132,
          -0.0795150080994743,
          null
         ],
         "y": [
          0.1386826777322132,
          0.2172236208559976,
          null
         ]
        },
        {
         "hoverinfo": "none",
         "line": {
          "color": "rgba(144.0, 238.0, 144.0, 0.5)",
          "width": 0.5
         },
         "mode": "lines",
         "type": "scatter",
         "x": [
          0.00608491303550132,
          -0.037736053121505325,
          null
         ],
         "y": [
          0.1386826777322132,
          0.1941783921269007,
          null
         ]
        },
        {
         "hoverinfo": "none",
         "line": {
          "color": "rgba(144.0, 238.0, 144.0, 0.5)",
          "width": 0.5
         },
         "mode": "lines",
         "type": "scatter",
         "x": [
          0.00608491303550132,
          -0.12568436166720384,
          null
         ],
         "y": [
          0.1386826777322132,
          0.23711320197900426,
          null
         ]
        },
        {
         "hoverinfo": "none",
         "line": {
          "color": "rgba(144.0, 238.0, 144.0, 0.5)",
          "width": 0.5
         },
         "mode": "lines",
         "type": "scatter",
         "x": [
          0.00608491303550132,
          -0.05177677912445756,
          null
         ],
         "y": [
          0.1386826777322132,
          0.21324350394641564,
          null
         ]
        },
        {
         "hoverinfo": "none",
         "line": {
          "color": "rgba(144.0, 238.0, 144.0, 0.5)",
          "width": 0.5
         },
         "mode": "lines",
         "type": "scatter",
         "x": [
          0.00608491303550132,
          -0.0777819075103812,
          null
         ],
         "y": [
          0.1386826777322132,
          0.3141753414343992,
          null
         ]
        },
        {
         "hoverinfo": "none",
         "line": {
          "color": "rgba(144.0, 238.0, 144.0, 0.5)",
          "width": 0.5
         },
         "mode": "lines",
         "type": "scatter",
         "x": [
          0.00608491303550132,
          -0.04312852812558068,
          null
         ],
         "y": [
          0.1386826777322132,
          0.06529052607210352,
          null
         ]
        },
        {
         "hoverinfo": "none",
         "line": {
          "color": "rgba(146.17647058823528, 233.33333333333331, 141.1764705882353, 0.5)",
          "width": 0.5
         },
         "mode": "lines",
         "type": "scatter",
         "x": [
          0.00608491303550132,
          -0.13414347973577812,
          null
         ],
         "y": [
          0.1386826777322132,
          0.07497062075222752,
          null
         ]
        },
        {
         "hoverinfo": "none",
         "line": {
          "color": "rgba(144.0, 238.0, 144.0, 0.5)",
          "width": 0.5
         },
         "mode": "lines",
         "type": "scatter",
         "x": [
          -0.04312852812558068,
          -0.1675259453265881,
          null
         ],
         "y": [
          0.06529052607210352,
          0.23429302452312867,
          null
         ]
        },
        {
         "hoverinfo": "none",
         "line": {
          "color": "rgba(144.0, 238.0, 144.0, 0.5)",
          "width": 0.5
         },
         "mode": "lines",
         "type": "scatter",
         "x": [
          -0.04312852812558068,
          -0.01850548100425071,
          null
         ],
         "y": [
          0.06529052607210352,
          0.25254677681882975,
          null
         ]
        },
        {
         "hoverinfo": "none",
         "line": {
          "color": "rgba(151.4, 222.13333333333335, 134.4, 0.5)",
          "width": 0.5
         },
         "mode": "lines",
         "type": "scatter",
         "x": [
          -0.04312852812558068,
          -0.013254801021019556,
          null
         ],
         "y": [
          0.06529052607210352,
          0.20632008218218892,
          null
         ]
        },
        {
         "hoverinfo": "none",
         "line": {
          "color": "rgba(144.0, 238.0, 144.0, 0.5)",
          "width": 0.5
         },
         "mode": "lines",
         "type": "scatter",
         "x": [
          -0.04312852812558068,
          -0.05177677912445756,
          null
         ],
         "y": [
          0.06529052607210352,
          0.21324350394641564,
          null
         ]
        },
        {
         "hoverinfo": "none",
         "line": {
          "color": "rgba(146.17647058823528, 233.33333333333331, 141.1764705882353, 0.5)",
          "width": 0.5
         },
         "mode": "lines",
         "type": "scatter",
         "x": [
          -0.04312852812558068,
          0.073323613514079,
          null
         ],
         "y": [
          0.06529052607210352,
          0.3892253749122883,
          null
         ]
        },
        {
         "hoverinfo": "none",
         "line": {
          "color": "rgba(144.0, 238.0, 144.0, 0.5)",
          "width": 0.5
         },
         "mode": "lines",
         "type": "scatter",
         "x": [
          -0.04312852812558068,
          0.1208207247688906,
          null
         ],
         "y": [
          0.06529052607210352,
          -0.01204508455225134,
          null
         ]
        },
        {
         "hoverinfo": "none",
         "line": {
          "color": "rgba(144.0, 238.0, 144.0, 0.5)",
          "width": 0.5
         },
         "mode": "lines",
         "type": "scatter",
         "x": [
          -0.04312852812558068,
          0.08508056166314654,
          null
         ],
         "y": [
          0.06529052607210352,
          0.21727748726847088,
          null
         ]
        },
        {
         "hoverinfo": "none",
         "line": {
          "color": "rgba(144.0, 238.0, 144.0, 0.5)",
          "width": 0.5
         },
         "mode": "lines",
         "type": "scatter",
         "x": [
          -0.04312852812558068,
          0.1574657163746438,
          null
         ],
         "y": [
          0.06529052607210352,
          0.2233464453212604,
          null
         ]
        },
        {
         "hoverinfo": "none",
         "line": {
          "color": "rgba(144.0, 238.0, 144.0, 0.5)",
          "width": 0.5
         },
         "mode": "lines",
         "type": "scatter",
         "x": [
          -0.04312852812558068,
          -0.06610153325615863,
          null
         ],
         "y": [
          0.06529052607210352,
          0.2606475451946278,
          null
         ]
        },
        {
         "hoverinfo": "none",
         "line": {
          "color": "rgba(146.17647058823528, 233.33333333333331, 141.1764705882353, 0.5)",
          "width": 0.5
         },
         "mode": "lines",
         "type": "scatter",
         "x": [
          -0.04312852812558068,
          -0.0777819075103812,
          null
         ],
         "y": [
          0.06529052607210352,
          0.3141753414343992,
          null
         ]
        },
        {
         "hoverinfo": "none",
         "line": {
          "color": "rgba(144.0, 238.0, 144.0, 0.5)",
          "width": 0.5
         },
         "mode": "lines",
         "type": "scatter",
         "x": [
          -0.04312852812558068,
          -0.4113815882989154,
          null
         ],
         "y": [
          0.06529052607210352,
          0.015208526640826,
          null
         ]
        },
        {
         "hoverinfo": "none",
         "line": {
          "color": "rgba(144.0, 238.0, 144.0, 0.5)",
          "width": 0.5
         },
         "mode": "lines",
         "type": "scatter",
         "x": [
          -0.04312852812558068,
          -0.01835863240164065,
          null
         ],
         "y": [
          0.06529052607210352,
          0.2816710488450301,
          null
         ]
        },
        {
         "hoverinfo": "none",
         "line": {
          "color": "rgba(146.17647058823528, 233.33333333333331, 141.1764705882353, 0.5)",
          "width": 0.5
         },
         "mode": "lines",
         "type": "scatter",
         "x": [
          -0.04312852812558068,
          -0.12568436166720384,
          null
         ],
         "y": [
          0.06529052607210352,
          0.23711320197900426,
          null
         ]
        },
        {
         "hoverinfo": "none",
         "line": {
          "color": "rgba(144.0, 238.0, 144.0, 0.5)",
          "width": 0.5
         },
         "mode": "lines",
         "type": "scatter",
         "x": [
          -0.04312852812558068,
          -0.0795150080994743,
          null
         ],
         "y": [
          0.06529052607210352,
          0.2172236208559976,
          null
         ]
        },
        {
         "hoverinfo": "none",
         "line": {
          "color": "rgba(144.0, 238.0, 144.0, 0.5)",
          "width": 0.5
         },
         "mode": "lines",
         "type": "scatter",
         "x": [
          -0.04312852812558068,
          -0.037736053121505325,
          null
         ],
         "y": [
          0.06529052607210352,
          0.1941783921269007,
          null
         ]
        },
        {
         "hoverinfo": "none",
         "line": {
          "color": "rgba(144.0, 238.0, 144.0, 0.5)",
          "width": 0.5
         },
         "mode": "lines",
         "type": "scatter",
         "x": [
          -0.04312852812558068,
          -0.17061830911863504,
          null
         ],
         "y": [
          0.06529052607210352,
          0.16087499144082618,
          null
         ]
        },
        {
         "hoverinfo": "none",
         "line": {
          "color": "rgba(144.0, 238.0, 144.0, 0.5)",
          "width": 0.5
         },
         "mode": "lines",
         "type": "scatter",
         "x": [
          -0.04312852812558068,
          -0.18067723358052504,
          null
         ],
         "y": [
          0.06529052607210352,
          -0.12069862000410217,
          null
         ]
        },
        {
         "hoverinfo": "none",
         "line": {
          "color": "rgba(144.0, 238.0, 144.0, 0.5)",
          "width": 0.5
         },
         "mode": "lines",
         "type": "scatter",
         "x": [
          -0.04312852812558068,
          -0.3050897530341685,
          null
         ],
         "y": [
          0.06529052607210352,
          0.20869558028462507,
          null
         ]
        },
        {
         "hoverinfo": "none",
         "line": {
          "color": "rgba(144.0, 238.0, 144.0, 0.5)",
          "width": 0.5
         },
         "mode": "lines",
         "type": "scatter",
         "x": [
          -0.04312852812558068,
          -0.23123087529251413,
          null
         ],
         "y": [
          0.06529052607210352,
          0.10582388808140479,
          null
         ]
        },
        {
         "hoverinfo": "none",
         "line": {
          "color": "rgba(144.0, 238.0, 144.0, 0.5)",
          "width": 0.5
         },
         "mode": "lines",
         "type": "scatter",
         "x": [
          -0.04312852812558068,
          -0.21372190190860446,
          null
         ],
         "y": [
          0.06529052607210352,
          0.015050777958272891,
          null
         ]
        },
        {
         "hoverinfo": "none",
         "line": {
          "color": "rgba(146.17647058823528, 233.33333333333331, 141.1764705882353, 0.5)",
          "width": 0.5
         },
         "mode": "lines",
         "type": "scatter",
         "x": [
          -0.04312852812558068,
          -0.2728782061654218,
          null
         ],
         "y": [
          0.06529052607210352,
          0.24777215595226404,
          null
         ]
        },
        {
         "hoverinfo": "none",
         "line": {
          "color": "rgba(151.4, 222.13333333333335, 134.4, 0.5)",
          "width": 0.5
         },
         "mode": "lines",
         "type": "scatter",
         "x": [
          -0.04312852812558068,
          -0.09888059852184569,
          null
         ],
         "y": [
          0.06529052607210352,
          0.019712051440705456,
          null
         ]
        },
        {
         "hoverinfo": "none",
         "line": {
          "color": "rgba(144.0, 238.0, 144.0, 0.5)",
          "width": 0.5
         },
         "mode": "lines",
         "type": "scatter",
         "x": [
          -0.04312852812558068,
          -0.11656011755985318,
          null
         ],
         "y": [
          0.06529052607210352,
          -0.23291884797257528,
          null
         ]
        },
        {
         "hoverinfo": "none",
         "line": {
          "color": "rgba(144.0, 238.0, 144.0, 0.5)",
          "width": 0.5
         },
         "mode": "lines",
         "type": "scatter",
         "x": [
          -0.04312852812558068,
          0.1808694119674158,
          null
         ],
         "y": [
          0.06529052607210352,
          0.28339783598243706,
          null
         ]
        },
        {
         "hoverinfo": "none",
         "line": {
          "color": "rgba(144.0, 238.0, 144.0, 0.5)",
          "width": 0.5
         },
         "mode": "lines",
         "type": "scatter",
         "x": [
          -0.04312852812558068,
          -0.46518212024985794,
          null
         ],
         "y": [
          0.06529052607210352,
          -0.41768036412367465,
          null
         ]
        },
        {
         "hoverinfo": "none",
         "line": {
          "color": "rgba(144.0, 238.0, 144.0, 0.5)",
          "width": 0.5
         },
         "mode": "lines",
         "type": "scatter",
         "x": [
          -0.1675259453265881,
          -0.01850548100425071,
          null
         ],
         "y": [
          0.23429302452312867,
          0.25254677681882975,
          null
         ]
        },
        {
         "hoverinfo": "none",
         "line": {
          "color": "rgba(144.0, 238.0, 144.0, 0.5)",
          "width": 0.5
         },
         "mode": "lines",
         "type": "scatter",
         "x": [
          -0.1675259453265881,
          -0.013254801021019556,
          null
         ],
         "y": [
          0.23429302452312867,
          0.20632008218218892,
          null
         ]
        },
        {
         "hoverinfo": "none",
         "line": {
          "color": "rgba(144.0, 238.0, 144.0, 0.5)",
          "width": 0.5
         },
         "mode": "lines",
         "type": "scatter",
         "x": [
          -0.1675259453265881,
          -0.05177677912445756,
          null
         ],
         "y": [
          0.23429302452312867,
          0.21324350394641564,
          null
         ]
        },
        {
         "hoverinfo": "none",
         "line": {
          "color": "rgba(144.0, 238.0, 144.0, 0.5)",
          "width": 0.5
         },
         "mode": "lines",
         "type": "scatter",
         "x": [
          -0.1675259453265881,
          -0.06610153325615863,
          null
         ],
         "y": [
          0.23429302452312867,
          0.2606475451946278,
          null
         ]
        },
        {
         "hoverinfo": "none",
         "line": {
          "color": "rgba(144.0, 238.0, 144.0, 0.5)",
          "width": 0.5
         },
         "mode": "lines",
         "type": "scatter",
         "x": [
          -0.01850548100425071,
          -0.013254801021019556,
          null
         ],
         "y": [
          0.25254677681882975,
          0.20632008218218892,
          null
         ]
        },
        {
         "hoverinfo": "none",
         "line": {
          "color": "rgba(144.0, 238.0, 144.0, 0.5)",
          "width": 0.5
         },
         "mode": "lines",
         "type": "scatter",
         "x": [
          -0.01850548100425071,
          -0.0795150080994743,
          null
         ],
         "y": [
          0.25254677681882975,
          0.2172236208559976,
          null
         ]
        },
        {
         "hoverinfo": "none",
         "line": {
          "color": "rgba(144.0, 238.0, 144.0, 0.5)",
          "width": 0.5
         },
         "mode": "lines",
         "type": "scatter",
         "x": [
          -0.01850548100425071,
          -0.05177677912445756,
          null
         ],
         "y": [
          0.25254677681882975,
          0.21324350394641564,
          null
         ]
        },
        {
         "hoverinfo": "none",
         "line": {
          "color": "rgba(144.0, 238.0, 144.0, 0.5)",
          "width": 0.5
         },
         "mode": "lines",
         "type": "scatter",
         "x": [
          -0.01850548100425071,
          -0.00846415920525289,
          null
         ],
         "y": [
          0.25254677681882975,
          0.6796371795920549,
          null
         ]
        },
        {
         "hoverinfo": "none",
         "line": {
          "color": "rgba(146.17647058823528, 233.33333333333331, 141.1764705882353, 0.5)",
          "width": 0.5
         },
         "mode": "lines",
         "type": "scatter",
         "x": [
          -0.01850548100425071,
          -0.06610153325615863,
          null
         ],
         "y": [
          0.25254677681882975,
          0.2606475451946278,
          null
         ]
        },
        {
         "hoverinfo": "none",
         "line": {
          "color": "rgba(144.0, 238.0, 144.0, 0.5)",
          "width": 0.5
         },
         "mode": "lines",
         "type": "scatter",
         "x": [
          -0.01850548100425071,
          0.073323613514079,
          null
         ],
         "y": [
          0.25254677681882975,
          0.3892253749122883,
          null
         ]
        },
        {
         "hoverinfo": "none",
         "line": {
          "color": "rgba(144.0, 238.0, 144.0, 0.5)",
          "width": 0.5
         },
         "mode": "lines",
         "type": "scatter",
         "x": [
          -0.01850548100425071,
          -0.037736053121505325,
          null
         ],
         "y": [
          0.25254677681882975,
          0.1941783921269007,
          null
         ]
        },
        {
         "hoverinfo": "none",
         "line": {
          "color": "rgba(144.0, 238.0, 144.0, 0.5)",
          "width": 0.5
         },
         "mode": "lines",
         "type": "scatter",
         "x": [
          -0.01850548100425071,
          -0.01835863240164065,
          null
         ],
         "y": [
          0.25254677681882975,
          0.2816710488450301,
          null
         ]
        },
        {
         "hoverinfo": "none",
         "line": {
          "color": "rgba(144.0, 238.0, 144.0, 0.5)",
          "width": 0.5
         },
         "mode": "lines",
         "type": "scatter",
         "x": [
          -0.01850548100425071,
          -0.12568436166720384,
          null
         ],
         "y": [
          0.25254677681882975,
          0.23711320197900426,
          null
         ]
        },
        {
         "hoverinfo": "none",
         "line": {
          "color": "rgba(144.0, 238.0, 144.0, 0.5)",
          "width": 0.5
         },
         "mode": "lines",
         "type": "scatter",
         "x": [
          -0.013254801021019556,
          -0.00846415920525289,
          null
         ],
         "y": [
          0.20632008218218892,
          0.6796371795920549,
          null
         ]
        },
        {
         "hoverinfo": "none",
         "line": {
          "color": "rgba(144.0, 238.0, 144.0, 0.5)",
          "width": 0.5
         },
         "mode": "lines",
         "type": "scatter",
         "x": [
          -0.013254801021019556,
          0.005386321220475092,
          null
         ],
         "y": [
          0.20632008218218892,
          0.04818967093067006,
          null
         ]
        },
        {
         "hoverinfo": "none",
         "line": {
          "color": "rgba(144.0, 238.0, 144.0, 0.5)",
          "width": 0.5
         },
         "mode": "lines",
         "type": "scatter",
         "x": [
          -0.013254801021019556,
          -0.037736053121505325,
          null
         ],
         "y": [
          0.20632008218218892,
          0.1941783921269007,
          null
         ]
        },
        {
         "hoverinfo": "none",
         "line": {
          "color": "rgba(144.0, 238.0, 144.0, 0.5)",
          "width": 0.5
         },
         "mode": "lines",
         "type": "scatter",
         "x": [
          -0.013254801021019556,
          -0.13414347973577812,
          null
         ],
         "y": [
          0.20632008218218892,
          0.07497062075222752,
          null
         ]
        },
        {
         "hoverinfo": "none",
         "line": {
          "color": "rgba(144.0, 238.0, 144.0, 0.5)",
          "width": 0.5
         },
         "mode": "lines",
         "type": "scatter",
         "x": [
          -0.26096416492678304,
          0.05555256613411498,
          null
         ],
         "y": [
          0.05494137806017977,
          0.13608372729972124,
          null
         ]
        },
        {
         "hoverinfo": "none",
         "line": {
          "color": "rgba(146.17647058823528, 233.33333333333331, 141.1764705882353, 0.5)",
          "width": 0.5
         },
         "mode": "lines",
         "type": "scatter",
         "x": [
          -0.26096416492678304,
          -0.6999298466122766,
          null
         ],
         "y": [
          0.05494137806017977,
          0.16133846602913343,
          null
         ]
        },
        {
         "hoverinfo": "none",
         "line": {
          "color": "rgba(144.0, 238.0, 144.0, 0.5)",
          "width": 0.5
         },
         "mode": "lines",
         "type": "scatter",
         "x": [
          -0.26096416492678304,
          -0.23123087529251413,
          null
         ],
         "y": [
          0.05494137806017977,
          0.10582388808140479,
          null
         ]
        },
        {
         "hoverinfo": "none",
         "line": {
          "color": "rgba(144.0, 238.0, 144.0, 0.5)",
          "width": 0.5
         },
         "mode": "lines",
         "type": "scatter",
         "x": [
          -0.26096416492678304,
          -0.1278979291781272,
          null
         ],
         "y": [
          0.05494137806017977,
          -0.08103816897878831,
          null
         ]
        },
        {
         "hoverinfo": "none",
         "line": {
          "color": "rgba(144.0, 238.0, 144.0, 0.5)",
          "width": 0.5
         },
         "mode": "lines",
         "type": "scatter",
         "x": [
          -0.26096416492678304,
          -0.3259160963210564,
          null
         ],
         "y": [
          0.05494137806017977,
          -0.11374568248356766,
          null
         ]
        },
        {
         "hoverinfo": "none",
         "line": {
          "color": "rgba(144.0, 238.0, 144.0, 0.5)",
          "width": 0.5
         },
         "mode": "lines",
         "type": "scatter",
         "x": [
          -0.26096416492678304,
          -0.09217634642314189,
          null
         ],
         "y": [
          0.05494137806017977,
          0.10947281325324452,
          null
         ]
        },
        {
         "hoverinfo": "none",
         "line": {
          "color": "rgba(144.0, 238.0, 144.0, 0.5)",
          "width": 0.5
         },
         "mode": "lines",
         "type": "scatter",
         "x": [
          -0.26096416492678304,
          -0.34958674786515487,
          null
         ],
         "y": [
          0.05494137806017977,
          0.4088785253160498,
          null
         ]
        },
        {
         "hoverinfo": "none",
         "line": {
          "color": "rgba(146.17647058823528, 233.33333333333331, 141.1764705882353, 0.5)",
          "width": 0.5
         },
         "mode": "lines",
         "type": "scatter",
         "x": [
          -0.26096416492678304,
          -0.28870609353163784,
          null
         ],
         "y": [
          0.05494137806017977,
          0.1857962856331318,
          null
         ]
        },
        {
         "hoverinfo": "none",
         "line": {
          "color": "rgba(156.6235294117647, 210.93333333333334, 127.62352941176471, 0.5)",
          "width": 0.5
         },
         "mode": "lines",
         "type": "scatter",
         "x": [
          -0.26096416492678304,
          -0.39263049002499584,
          null
         ],
         "y": [
          0.05494137806017977,
          0.11306709038117096,
          null
         ]
        },
        {
         "hoverinfo": "none",
         "line": {
          "color": "rgba(144.0, 238.0, 144.0, 0.5)",
          "width": 0.5
         },
         "mode": "lines",
         "type": "scatter",
         "x": [
          -0.23123087529251413,
          -0.4525842881064867,
          null
         ],
         "y": [
          0.10582388808140479,
          0.35651636797649994,
          null
         ]
        },
        {
         "hoverinfo": "none",
         "line": {
          "color": "rgba(144.0, 238.0, 144.0, 0.5)",
          "width": 0.5
         },
         "mode": "lines",
         "type": "scatter",
         "x": [
          -0.23123087529251413,
          -0.13414347973577812,
          null
         ],
         "y": [
          0.10582388808140479,
          0.07497062075222752,
          null
         ]
        },
        {
         "hoverinfo": "none",
         "line": {
          "color": "rgba(144.0, 238.0, 144.0, 0.5)",
          "width": 0.5
         },
         "mode": "lines",
         "type": "scatter",
         "x": [
          -0.23123087529251413,
          -0.09888059852184569,
          null
         ],
         "y": [
          0.10582388808140479,
          0.019712051440705456,
          null
         ]
        },
        {
         "hoverinfo": "none",
         "line": {
          "color": "rgba(144.0, 238.0, 144.0, 0.5)",
          "width": 0.5
         },
         "mode": "lines",
         "type": "scatter",
         "x": [
          -0.09904357357897299,
          -0.09888059852184569,
          null
         ],
         "y": [
          0.07036911152043185,
          0.019712051440705456,
          null
         ]
        },
        {
         "hoverinfo": "none",
         "line": {
          "color": "rgba(144.0, 238.0, 144.0, 0.5)",
          "width": 0.5
         },
         "mode": "lines",
         "type": "scatter",
         "x": [
          -0.09904357357897299,
          -0.12568436166720384,
          null
         ],
         "y": [
          0.07036911152043185,
          0.23711320197900426,
          null
         ]
        },
        {
         "hoverinfo": "none",
         "line": {
          "color": "rgba(144.0, 238.0, 144.0, 0.5)",
          "width": 0.5
         },
         "mode": "lines",
         "type": "scatter",
         "x": [
          -0.09904357357897299,
          -0.08002563823441185,
          null
         ],
         "y": [
          0.07036911152043185,
          -0.06939400517860572,
          null
         ]
        },
        {
         "hoverinfo": "none",
         "line": {
          "color": "rgba(146.17647058823528, 233.33333333333331, 141.1764705882353, 0.5)",
          "width": 0.5
         },
         "mode": "lines",
         "type": "scatter",
         "x": [
          -0.09904357357897299,
          -0.1103728414169264,
          null
         ],
         "y": [
          0.07036911152043185,
          -0.014126211710549553,
          null
         ]
        },
        {
         "hoverinfo": "none",
         "line": {
          "color": "rgba(144.0, 238.0, 144.0, 0.5)",
          "width": 0.5
         },
         "mode": "lines",
         "type": "scatter",
         "x": [
          -0.09904357357897299,
          -0.0777819075103812,
          null
         ],
         "y": [
          0.07036911152043185,
          0.3141753414343992,
          null
         ]
        },
        {
         "hoverinfo": "none",
         "line": {
          "color": "rgba(146.17647058823528, 233.33333333333331, 141.1764705882353, 0.5)",
          "width": 0.5
         },
         "mode": "lines",
         "type": "scatter",
         "x": [
          0.08805613312227421,
          -0.01835863240164065,
          null
         ],
         "y": [
          0.2614632945348678,
          0.2816710488450301,
          null
         ]
        },
        {
         "hoverinfo": "none",
         "line": {
          "color": "rgba(144.0, 238.0, 144.0, 0.5)",
          "width": 0.5
         },
         "mode": "lines",
         "type": "scatter",
         "x": [
          -0.01835863240164065,
          -0.037736053121505325,
          null
         ],
         "y": [
          0.2816710488450301,
          0.1941783921269007,
          null
         ]
        },
        {
         "hoverinfo": "none",
         "line": {
          "color": "rgba(146.17647058823528, 233.33333333333331, 141.1764705882353, 0.5)",
          "width": 0.5
         },
         "mode": "lines",
         "type": "scatter",
         "x": [
          -0.01835863240164065,
          0.2525798560701464,
          null
         ],
         "y": [
          0.2816710488450301,
          0.44954060038311183,
          null
         ]
        },
        {
         "hoverinfo": "none",
         "line": {
          "color": "rgba(144.0, 238.0, 144.0, 0.5)",
          "width": 0.5
         },
         "mode": "lines",
         "type": "scatter",
         "x": [
          -0.01835863240164065,
          0.1158453758115048,
          null
         ],
         "y": [
          0.2816710488450301,
          0.29463524803815394,
          null
         ]
        },
        {
         "hoverinfo": "none",
         "line": {
          "color": "rgba(148.78823529411764, 227.73333333333335, 137.78823529411767, 0.5)",
          "width": 0.5
         },
         "mode": "lines",
         "type": "scatter",
         "x": [
          -0.01835863240164065,
          -0.20402730722088458,
          null
         ],
         "y": [
          0.2816710488450301,
          0.17892555488701034,
          null
         ]
        },
        {
         "hoverinfo": "none",
         "line": {
          "color": "rgba(144.0, 238.0, 144.0, 0.5)",
          "width": 0.5
         },
         "mode": "lines",
         "type": "scatter",
         "x": [
          -0.01835863240164065,
          -0.0795150080994743,
          null
         ],
         "y": [
          0.2816710488450301,
          0.2172236208559976,
          null
         ]
        },
        {
         "hoverinfo": "none",
         "line": {
          "color": "rgba(146.17647058823528, 233.33333333333331, 141.1764705882353, 0.5)",
          "width": 0.5
         },
         "mode": "lines",
         "type": "scatter",
         "x": [
          -0.01835863240164065,
          -0.05177677912445756,
          null
         ],
         "y": [
          0.2816710488450301,
          0.21324350394641564,
          null
         ]
        },
        {
         "hoverinfo": "none",
         "line": {
          "color": "rgba(144.0, 238.0, 144.0, 0.5)",
          "width": 0.5
         },
         "mode": "lines",
         "type": "scatter",
         "x": [
          -0.01835863240164065,
          0.11682886181796201,
          null
         ],
         "y": [
          0.2816710488450301,
          0.3755850632547882,
          null
         ]
        },
        {
         "hoverinfo": "none",
         "line": {
          "color": "rgba(144.0, 238.0, 144.0, 0.5)",
          "width": 0.5
         },
         "mode": "lines",
         "type": "scatter",
         "x": [
          0.1208207247688906,
          0.5235078652816174,
          null
         ],
         "y": [
          -0.01204508455225134,
          -0.41327930816203856,
          null
         ]
        },
        {
         "hoverinfo": "none",
         "line": {
          "color": "rgba(144.0, 238.0, 144.0, 0.5)",
          "width": 0.5
         },
         "mode": "lines",
         "type": "scatter",
         "x": [
          0.1208207247688906,
          0.005386321220475092,
          null
         ],
         "y": [
          -0.01204508455225134,
          0.04818967093067006,
          null
         ]
        },
        {
         "hoverinfo": "none",
         "line": {
          "color": "rgba(146.17647058823528, 233.33333333333331, 141.1764705882353, 0.5)",
          "width": 0.5
         },
         "mode": "lines",
         "type": "scatter",
         "x": [
          0.1208207247688906,
          -0.08002563823441185,
          null
         ],
         "y": [
          -0.01204508455225134,
          -0.06939400517860572,
          null
         ]
        },
        {
         "hoverinfo": "none",
         "line": {
          "color": "rgba(146.17647058823528, 233.33333333333331, 141.1764705882353, 0.5)",
          "width": 0.5
         },
         "mode": "lines",
         "type": "scatter",
         "x": [
          -0.037736053121505325,
          -0.05177677912445756,
          null
         ],
         "y": [
          0.1941783921269007,
          0.21324350394641564,
          null
         ]
        },
        {
         "hoverinfo": "none",
         "line": {
          "color": "rgba(146.17647058823528, 233.33333333333331, 141.1764705882353, 0.5)",
          "width": 0.5
         },
         "mode": "lines",
         "type": "scatter",
         "x": [
          -0.037736053121505325,
          0.08508056166314654,
          null
         ],
         "y": [
          0.1941783921269007,
          0.21727748726847088,
          null
         ]
        },
        {
         "hoverinfo": "none",
         "line": {
          "color": "rgba(144.0, 238.0, 144.0, 0.5)",
          "width": 0.5
         },
         "mode": "lines",
         "type": "scatter",
         "x": [
          -0.037736053121505325,
          0.1574657163746438,
          null
         ],
         "y": [
          0.1941783921269007,
          0.2233464453212604,
          null
         ]
        },
        {
         "hoverinfo": "none",
         "line": {
          "color": "rgba(144.0, 238.0, 144.0, 0.5)",
          "width": 0.5
         },
         "mode": "lines",
         "type": "scatter",
         "x": [
          -0.037736053121505325,
          -0.06610153325615863,
          null
         ],
         "y": [
          0.1941783921269007,
          0.2606475451946278,
          null
         ]
        },
        {
         "hoverinfo": "none",
         "line": {
          "color": "rgba(144.0, 238.0, 144.0, 0.5)",
          "width": 0.5
         },
         "mode": "lines",
         "type": "scatter",
         "x": [
          -0.037736053121505325,
          -0.0777819075103812,
          null
         ],
         "y": [
          0.1941783921269007,
          0.3141753414343992,
          null
         ]
        },
        {
         "hoverinfo": "none",
         "line": {
          "color": "rgba(144.0, 238.0, 144.0, 0.5)",
          "width": 0.5
         },
         "mode": "lines",
         "type": "scatter",
         "x": [
          -0.037736053121505325,
          0.073323613514079,
          null
         ],
         "y": [
          0.1941783921269007,
          0.3892253749122883,
          null
         ]
        },
        {
         "hoverinfo": "none",
         "line": {
          "color": "rgba(144.0, 238.0, 144.0, 0.5)",
          "width": 0.5
         },
         "mode": "lines",
         "type": "scatter",
         "x": [
          -0.037736053121505325,
          -0.07631835394842536,
          null
         ],
         "y": [
          0.1941783921269007,
          0.39781233999569576,
          null
         ]
        },
        {
         "hoverinfo": "none",
         "line": {
          "color": "rgba(146.17647058823528, 233.33333333333331, 141.1764705882353, 0.5)",
          "width": 0.5
         },
         "mode": "lines",
         "type": "scatter",
         "x": [
          -0.037736053121505325,
          -0.20402730722088458,
          null
         ],
         "y": [
          0.1941783921269007,
          0.17892555488701034,
          null
         ]
        },
        {
         "hoverinfo": "none",
         "line": {
          "color": "rgba(146.17647058823528, 233.33333333333331, 141.1764705882353, 0.5)",
          "width": 0.5
         },
         "mode": "lines",
         "type": "scatter",
         "x": [
          -0.037736053121505325,
          -0.0795150080994743,
          null
         ],
         "y": [
          0.1941783921269007,
          0.2172236208559976,
          null
         ]
        },
        {
         "hoverinfo": "none",
         "line": {
          "color": "rgba(144.0, 238.0, 144.0, 0.5)",
          "width": 0.5
         },
         "mode": "lines",
         "type": "scatter",
         "x": [
          -0.037736053121505325,
          -0.12568436166720384,
          null
         ],
         "y": [
          0.1941783921269007,
          0.23711320197900426,
          null
         ]
        },
        {
         "hoverinfo": "none",
         "line": {
          "color": "rgba(148.78823529411764, 227.73333333333335, 137.78823529411767, 0.5)",
          "width": 0.5
         },
         "mode": "lines",
         "type": "scatter",
         "x": [
          -0.037736053121505325,
          -0.09888059852184569,
          null
         ],
         "y": [
          0.1941783921269007,
          0.019712051440705456,
          null
         ]
        },
        {
         "hoverinfo": "none",
         "line": {
          "color": "rgba(144.0, 238.0, 144.0, 0.5)",
          "width": 0.5
         },
         "mode": "lines",
         "type": "scatter",
         "x": [
          -0.037736053121505325,
          0.005386321220475092,
          null
         ],
         "y": [
          0.1941783921269007,
          0.04818967093067006,
          null
         ]
        },
        {
         "hoverinfo": "none",
         "line": {
          "color": "rgba(144.0, 238.0, 144.0, 0.5)",
          "width": 0.5
         },
         "mode": "lines",
         "type": "scatter",
         "x": [
          -0.037736053121505325,
          -0.16077250953811276,
          null
         ],
         "y": [
          0.1941783921269007,
          0.3360781181857651,
          null
         ]
        },
        {
         "hoverinfo": "none",
         "line": {
          "color": "rgba(144.0, 238.0, 144.0, 0.5)",
          "width": 0.5
         },
         "mode": "lines",
         "type": "scatter",
         "x": [
          -0.037736053121505325,
          0.1158453758115048,
          null
         ],
         "y": [
          0.1941783921269007,
          0.29463524803815394,
          null
         ]
        },
        {
         "hoverinfo": "none",
         "line": {
          "color": "rgba(144.0, 238.0, 144.0, 0.5)",
          "width": 0.5
         },
         "mode": "lines",
         "type": "scatter",
         "x": [
          0.05555256613411498,
          0.07025780894941544,
          null
         ],
         "y": [
          0.13608372729972124,
          0.0758657772446874,
          null
         ]
        },
        {
         "hoverinfo": "none",
         "line": {
          "color": "rgba(144.0, 238.0, 144.0, 0.5)",
          "width": 0.5
         },
         "mode": "lines",
         "type": "scatter",
         "x": [
          -0.09217634642314189,
          0.005386321220475092,
          null
         ],
         "y": [
          0.10947281325324452,
          0.04818967093067006,
          null
         ]
        },
        {
         "hoverinfo": "none",
         "line": {
          "color": "rgba(144.0, 238.0, 144.0, 0.5)",
          "width": 0.5
         },
         "mode": "lines",
         "type": "scatter",
         "x": [
          -0.09217634642314189,
          -0.05177677912445756,
          null
         ],
         "y": [
          0.10947281325324452,
          0.21324350394641564,
          null
         ]
        },
        {
         "hoverinfo": "none",
         "line": {
          "color": "rgba(144.0, 238.0, 144.0, 0.5)",
          "width": 0.5
         },
         "mode": "lines",
         "type": "scatter",
         "x": [
          -0.09217634642314189,
          -0.16077250953811276,
          null
         ],
         "y": [
          0.10947281325324452,
          0.3360781181857651,
          null
         ]
        },
        {
         "hoverinfo": "none",
         "line": {
          "color": "rgba(144.0, 238.0, 144.0, 0.5)",
          "width": 0.5
         },
         "mode": "lines",
         "type": "scatter",
         "x": [
          -0.09217634642314189,
          -0.0795150080994743,
          null
         ],
         "y": [
          0.10947281325324452,
          0.2172236208559976,
          null
         ]
        },
        {
         "hoverinfo": "none",
         "line": {
          "color": "rgba(144.0, 238.0, 144.0, 0.5)",
          "width": 0.5
         },
         "mode": "lines",
         "type": "scatter",
         "x": [
          -0.09217634642314189,
          -0.20402730722088458,
          null
         ],
         "y": [
          0.10947281325324452,
          0.17892555488701034,
          null
         ]
        },
        {
         "hoverinfo": "none",
         "line": {
          "color": "rgba(144.0, 238.0, 144.0, 0.5)",
          "width": 0.5
         },
         "mode": "lines",
         "type": "scatter",
         "x": [
          -0.09217634642314189,
          -0.05535731170970401,
          null
         ],
         "y": [
          0.10947281325324452,
          -0.13165770614718297,
          null
         ]
        },
        {
         "hoverinfo": "none",
         "line": {
          "color": "rgba(144.0, 238.0, 144.0, 0.5)",
          "width": 0.5
         },
         "mode": "lines",
         "type": "scatter",
         "x": [
          -0.09217634642314189,
          -0.1310758831768436,
          null
         ],
         "y": [
          0.10947281325324452,
          0.1092337977977338,
          null
         ]
        },
        {
         "hoverinfo": "none",
         "line": {
          "color": "rgba(144.0, 238.0, 144.0, 0.5)",
          "width": 0.5
         },
         "mode": "lines",
         "type": "scatter",
         "x": [
          -0.09217634642314189,
          0.10368188103192721,
          null
         ],
         "y": [
          0.10947281325324452,
          0.0180840536644909,
          null
         ]
        },
        {
         "hoverinfo": "none",
         "line": {
          "color": "rgba(144.0, 238.0, 144.0, 0.5)",
          "width": 0.5
         },
         "mode": "lines",
         "type": "scatter",
         "x": [
          -0.0795150080994743,
          -0.05177677912445756,
          null
         ],
         "y": [
          0.2172236208559976,
          0.21324350394641564,
          null
         ]
        },
        {
         "hoverinfo": "none",
         "line": {
          "color": "rgba(144.0, 238.0, 144.0, 0.5)",
          "width": 0.5
         },
         "mode": "lines",
         "type": "scatter",
         "x": [
          -0.0795150080994743,
          -0.20402730722088458,
          null
         ],
         "y": [
          0.2172236208559976,
          0.17892555488701034,
          null
         ]
        },
        {
         "hoverinfo": "none",
         "line": {
          "color": "rgba(146.17647058823528, 233.33333333333331, 141.1764705882353, 0.5)",
          "width": 0.5
         },
         "mode": "lines",
         "type": "scatter",
         "x": [
          -0.0795150080994743,
          -0.07631835394842536,
          null
         ],
         "y": [
          0.2172236208559976,
          0.39781233999569576,
          null
         ]
        },
        {
         "hoverinfo": "none",
         "line": {
          "color": "rgba(144.0, 238.0, 144.0, 0.5)",
          "width": 0.5
         },
         "mode": "lines",
         "type": "scatter",
         "x": [
          -0.0795150080994743,
          -0.12568436166720384,
          null
         ],
         "y": [
          0.2172236208559976,
          0.23711320197900426,
          null
         ]
        },
        {
         "hoverinfo": "none",
         "line": {
          "color": "rgba(144.0, 238.0, 144.0, 0.5)",
          "width": 0.5
         },
         "mode": "lines",
         "type": "scatter",
         "x": [
          -0.0795150080994743,
          -0.16077250953811276,
          null
         ],
         "y": [
          0.2172236208559976,
          0.3360781181857651,
          null
         ]
        },
        {
         "hoverinfo": "none",
         "line": {
          "color": "rgba(144.0, 238.0, 144.0, 0.5)",
          "width": 0.5
         },
         "mode": "lines",
         "type": "scatter",
         "x": [
          -0.0795150080994743,
          -0.09888059852184569,
          null
         ],
         "y": [
          0.2172236208559976,
          0.019712051440705456,
          null
         ]
        },
        {
         "hoverinfo": "none",
         "line": {
          "color": "rgba(146.17647058823528, 233.33333333333331, 141.1764705882353, 0.5)",
          "width": 0.5
         },
         "mode": "lines",
         "type": "scatter",
         "x": [
          0.005386321220475092,
          -0.12735754871383898,
          null
         ],
         "y": [
          0.04818967093067006,
          0.336905683302759,
          null
         ]
        },
        {
         "hoverinfo": "none",
         "line": {
          "color": "rgba(146.17647058823528, 233.33333333333331, 141.1764705882353, 0.5)",
          "width": 0.5
         },
         "mode": "lines",
         "type": "scatter",
         "x": [
          0.005386321220475092,
          -0.17978469425979474,
          null
         ],
         "y": [
          0.04818967093067006,
          -0.02793329833471627,
          null
         ]
        },
        {
         "hoverinfo": "none",
         "line": {
          "color": "rgba(144.0, 238.0, 144.0, 0.5)",
          "width": 0.5
         },
         "mode": "lines",
         "type": "scatter",
         "x": [
          0.005386321220475092,
          -0.21841503354558905,
          null
         ],
         "y": [
          0.04818967093067006,
          -0.0945802778400624,
          null
         ]
        },
        {
         "hoverinfo": "none",
         "line": {
          "color": "rgba(144.0, 238.0, 144.0, 0.5)",
          "width": 0.5
         },
         "mode": "lines",
         "type": "scatter",
         "x": [
          0.005386321220475092,
          -0.05177677912445756,
          null
         ],
         "y": [
          0.04818967093067006,
          0.21324350394641564,
          null
         ]
        },
        {
         "hoverinfo": "none",
         "line": {
          "color": "rgba(146.17647058823528, 233.33333333333331, 141.1764705882353, 0.5)",
          "width": 0.5
         },
         "mode": "lines",
         "type": "scatter",
         "x": [
          0.005386321220475092,
          -0.20402730722088458,
          null
         ],
         "y": [
          0.04818967093067006,
          0.17892555488701034,
          null
         ]
        },
        {
         "hoverinfo": "none",
         "line": {
          "color": "rgba(144.0, 238.0, 144.0, 0.5)",
          "width": 0.5
         },
         "mode": "lines",
         "type": "scatter",
         "x": [
          0.005386321220475092,
          -0.1128466798805526,
          null
         ],
         "y": [
          0.04818967093067006,
          -0.4573429227320528,
          null
         ]
        },
        {
         "hoverinfo": "none",
         "line": {
          "color": "rgba(144.0, 238.0, 144.0, 0.5)",
          "width": 0.5
         },
         "mode": "lines",
         "type": "scatter",
         "x": [
          0.005386321220475092,
          0.1808694119674158,
          null
         ],
         "y": [
          0.04818967093067006,
          0.28339783598243706,
          null
         ]
        },
        {
         "hoverinfo": "none",
         "line": {
          "color": "rgba(144.0, 238.0, 144.0, 0.5)",
          "width": 0.5
         },
         "mode": "lines",
         "type": "scatter",
         "x": [
          0.005386321220475092,
          0.2534199335857249,
          null
         ],
         "y": [
          0.04818967093067006,
          0.11127925321556327,
          null
         ]
        },
        {
         "hoverinfo": "none",
         "line": {
          "color": "rgba(144.0, 238.0, 144.0, 0.5)",
          "width": 0.5
         },
         "mode": "lines",
         "type": "scatter",
         "x": [
          0.005386321220475092,
          0.2680454697221705,
          null
         ],
         "y": [
          0.04818967093067006,
          0.018037818296431442,
          null
         ]
        },
        {
         "hoverinfo": "none",
         "line": {
          "color": "rgba(146.17647058823528, 233.33333333333331, 141.1764705882353, 0.5)",
          "width": 0.5
         },
         "mode": "lines",
         "type": "scatter",
         "x": [
          -0.12735754871383898,
          -0.2894252955259959,
          null
         ],
         "y": [
          0.336905683302759,
          0.4723524239738518,
          null
         ]
        },
        {
         "hoverinfo": "none",
         "line": {
          "color": "rgba(144.0, 238.0, 144.0, 0.5)",
          "width": 0.5
         },
         "mode": "lines",
         "type": "scatter",
         "x": [
          -0.0777819075103812,
          0.073323613514079,
          null
         ],
         "y": [
          0.3141753414343992,
          0.3892253749122883,
          null
         ]
        },
        {
         "hoverinfo": "none",
         "line": {
          "color": "rgba(144.0, 238.0, 144.0, 0.5)",
          "width": 0.5
         },
         "mode": "lines",
         "type": "scatter",
         "x": [
          -0.0777819075103812,
          -0.019899021063032183,
          null
         ],
         "y": [
          0.3141753414343992,
          0.3334359612380626,
          null
         ]
        },
        {
         "hoverinfo": "none",
         "line": {
          "color": "rgba(144.0, 238.0, 144.0, 0.5)",
          "width": 0.5
         },
         "mode": "lines",
         "type": "scatter",
         "x": [
          -0.0777819075103812,
          -0.3732022629726105,
          null
         ],
         "y": [
          0.3141753414343992,
          0.8062090248132794,
          null
         ]
        },
        {
         "hoverinfo": "none",
         "line": {
          "color": "rgba(144.0, 238.0, 144.0, 0.5)",
          "width": 0.5
         },
         "mode": "lines",
         "type": "scatter",
         "x": [
          -0.0777819075103812,
          -0.09583264060449923,
          null
         ],
         "y": [
          0.3141753414343992,
          0.5477091992077073,
          null
         ]
        },
        {
         "hoverinfo": "none",
         "line": {
          "color": "rgba(144.0, 238.0, 144.0, 0.5)",
          "width": 0.5
         },
         "mode": "lines",
         "type": "scatter",
         "x": [
          -0.05177677912445756,
          0.08508056166314654,
          null
         ],
         "y": [
          0.21324350394641564,
          0.21727748726847088,
          null
         ]
        },
        {
         "hoverinfo": "none",
         "line": {
          "color": "rgba(144.0, 238.0, 144.0, 0.5)",
          "width": 0.5
         },
         "mode": "lines",
         "type": "scatter",
         "x": [
          -0.05177677912445756,
          0.1574657163746438,
          null
         ],
         "y": [
          0.21324350394641564,
          0.2233464453212604,
          null
         ]
        },
        {
         "hoverinfo": "none",
         "line": {
          "color": "rgba(144.0, 238.0, 144.0, 0.5)",
          "width": 0.5
         },
         "mode": "lines",
         "type": "scatter",
         "x": [
          -0.05177677912445756,
          0.1158453758115048,
          null
         ],
         "y": [
          0.21324350394641564,
          0.29463524803815394,
          null
         ]
        },
        {
         "hoverinfo": "none",
         "line": {
          "color": "rgba(144.0, 238.0, 144.0, 0.5)",
          "width": 0.5
         },
         "mode": "lines",
         "type": "scatter",
         "x": [
          -0.05177677912445756,
          -0.07631835394842536,
          null
         ],
         "y": [
          0.21324350394641564,
          0.39781233999569576,
          null
         ]
        },
        {
         "hoverinfo": "none",
         "line": {
          "color": "rgba(144.0, 238.0, 144.0, 0.5)",
          "width": 0.5
         },
         "mode": "lines",
         "type": "scatter",
         "x": [
          -0.05177677912445756,
          -0.20402730722088458,
          null
         ],
         "y": [
          0.21324350394641564,
          0.17892555488701034,
          null
         ]
        },
        {
         "hoverinfo": "none",
         "line": {
          "color": "rgba(144.0, 238.0, 144.0, 0.5)",
          "width": 0.5
         },
         "mode": "lines",
         "type": "scatter",
         "x": [
          -0.05177677912445756,
          -0.06610153325615863,
          null
         ],
         "y": [
          0.21324350394641564,
          0.2606475451946278,
          null
         ]
        },
        {
         "hoverinfo": "none",
         "line": {
          "color": "rgba(144.0, 238.0, 144.0, 0.5)",
          "width": 0.5
         },
         "mode": "lines",
         "type": "scatter",
         "x": [
          -0.05177677912445756,
          -0.17061830911863504,
          null
         ],
         "y": [
          0.21324350394641564,
          0.16087499144082618,
          null
         ]
        },
        {
         "hoverinfo": "none",
         "line": {
          "color": "rgba(144.0, 238.0, 144.0, 0.5)",
          "width": 0.5
         },
         "mode": "lines",
         "type": "scatter",
         "x": [
          -0.05177677912445756,
          -0.1103728414169264,
          null
         ],
         "y": [
          0.21324350394641564,
          -0.014126211710549553,
          null
         ]
        },
        {
         "hoverinfo": "none",
         "line": {
          "color": "rgba(148.78823529411764, 227.73333333333335, 137.78823529411767, 0.5)",
          "width": 0.5
         },
         "mode": "lines",
         "type": "scatter",
         "x": [
          -0.05177677912445756,
          -0.12568436166720384,
          null
         ],
         "y": [
          0.21324350394641564,
          0.23711320197900426,
          null
         ]
        },
        {
         "hoverinfo": "none",
         "line": {
          "color": "rgba(144.0, 238.0, 144.0, 0.5)",
          "width": 0.5
         },
         "mode": "lines",
         "type": "scatter",
         "x": [
          -0.05177677912445756,
          -0.16077250953811276,
          null
         ],
         "y": [
          0.21324350394641564,
          0.3360781181857651,
          null
         ]
        },
        {
         "hoverinfo": "none",
         "line": {
          "color": "rgba(144.0, 238.0, 144.0, 0.5)",
          "width": 0.5
         },
         "mode": "lines",
         "type": "scatter",
         "x": [
          -0.05177677912445756,
          -0.09888059852184569,
          null
         ],
         "y": [
          0.21324350394641564,
          0.019712051440705456,
          null
         ]
        },
        {
         "hoverinfo": "none",
         "line": {
          "color": "rgba(146.17647058823528, 233.33333333333331, 141.1764705882353, 0.5)",
          "width": 0.5
         },
         "mode": "lines",
         "type": "scatter",
         "x": [
          0.073323613514079,
          0.1574657163746438,
          null
         ],
         "y": [
          0.3892253749122883,
          0.2233464453212604,
          null
         ]
        },
        {
         "hoverinfo": "none",
         "line": {
          "color": "rgba(146.17647058823528, 233.33333333333331, 141.1764705882353, 0.5)",
          "width": 0.5
         },
         "mode": "lines",
         "type": "scatter",
         "x": [
          0.073323613514079,
          0.08508056166314654,
          null
         ],
         "y": [
          0.3892253749122883,
          0.21727748726847088,
          null
         ]
        },
        {
         "hoverinfo": "none",
         "line": {
          "color": "rgba(146.17647058823528, 233.33333333333331, 141.1764705882353, 0.5)",
          "width": 0.5
         },
         "mode": "lines",
         "type": "scatter",
         "x": [
          0.08508056166314654,
          -0.06610153325615863,
          null
         ],
         "y": [
          0.21727748726847088,
          0.2606475451946278,
          null
         ]
        },
        {
         "hoverinfo": "none",
         "line": {
          "color": "rgba(144.0, 238.0, 144.0, 0.5)",
          "width": 0.5
         },
         "mode": "lines",
         "type": "scatter",
         "x": [
          0.08508056166314654,
          0.1574657163746438,
          null
         ],
         "y": [
          0.21727748726847088,
          0.2233464453212604,
          null
         ]
        },
        {
         "hoverinfo": "none",
         "line": {
          "color": "rgba(144.0, 238.0, 144.0, 0.5)",
          "width": 0.5
         },
         "mode": "lines",
         "type": "scatter",
         "x": [
          0.08508056166314654,
          -0.1310758831768436,
          null
         ],
         "y": [
          0.21727748726847088,
          0.1092337977977338,
          null
         ]
        },
        {
         "hoverinfo": "none",
         "line": {
          "color": "rgba(144.0, 238.0, 144.0, 0.5)",
          "width": 0.5
         },
         "mode": "lines",
         "type": "scatter",
         "x": [
          0.08508056166314654,
          0.03318362620603166,
          null
         ],
         "y": [
          0.21727748726847088,
          0.40262569127087705,
          null
         ]
        },
        {
         "hoverinfo": "none",
         "line": {
          "color": "rgba(144.0, 238.0, 144.0, 0.5)",
          "width": 0.5
         },
         "mode": "lines",
         "type": "scatter",
         "x": [
          0.08508056166314654,
          0.3871747872432823,
          null
         ],
         "y": [
          0.21727748726847088,
          0.13107032846071326,
          null
         ]
        },
        {
         "hoverinfo": "none",
         "line": {
          "color": "rgba(144.0, 238.0, 144.0, 0.5)",
          "width": 0.5
         },
         "mode": "lines",
         "type": "scatter",
         "x": [
          -0.06610153325615863,
          -0.20402730722088458,
          null
         ],
         "y": [
          0.2606475451946278,
          0.17892555488701034,
          null
         ]
        },
        {
         "hoverinfo": "none",
         "line": {
          "color": "rgba(144.0, 238.0, 144.0, 0.5)",
          "width": 0.5
         },
         "mode": "lines",
         "type": "scatter",
         "x": [
          -0.06610153325615863,
          -0.09888059852184569,
          null
         ],
         "y": [
          0.2606475451946278,
          0.019712051440705456,
          null
         ]
        },
        {
         "hoverinfo": "none",
         "line": {
          "color": "rgba(144.0, 238.0, 144.0, 0.5)",
          "width": 0.5
         },
         "mode": "lines",
         "type": "scatter",
         "x": [
          -0.06610153325615863,
          -0.12568436166720384,
          null
         ],
         "y": [
          0.2606475451946278,
          0.23711320197900426,
          null
         ]
        },
        {
         "hoverinfo": "none",
         "line": {
          "color": "rgba(144.0, 238.0, 144.0, 0.5)",
          "width": 0.5
         },
         "mode": "lines",
         "type": "scatter",
         "x": [
          0.6141363061163377,
          0.9964815577091792,
          null
         ],
         "y": [
          0.5029252275290627,
          0.5740160133577924,
          null
         ]
        },
        {
         "hoverinfo": "none",
         "line": {
          "color": "rgba(144.0, 238.0, 144.0, 0.5)",
          "width": 0.5
         },
         "mode": "lines",
         "type": "scatter",
         "x": [
          -0.28870609353163784,
          -0.34958674786515487,
          null
         ],
         "y": [
          0.1857962856331318,
          0.4088785253160498,
          null
         ]
        },
        {
         "hoverinfo": "none",
         "line": {
          "color": "rgba(144.0, 238.0, 144.0, 0.5)",
          "width": 0.5
         },
         "mode": "lines",
         "type": "scatter",
         "x": [
          -0.28870609353163784,
          -0.2894252955259959,
          null
         ],
         "y": [
          0.1857962856331318,
          0.4723524239738518,
          null
         ]
        },
        {
         "hoverinfo": "none",
         "line": {
          "color": "rgba(144.0, 238.0, 144.0, 0.5)",
          "width": 0.5
         },
         "mode": "lines",
         "type": "scatter",
         "x": [
          -0.28870609353163784,
          -0.1310758831768436,
          null
         ],
         "y": [
          0.1857962856331318,
          0.1092337977977338,
          null
         ]
        },
        {
         "hoverinfo": "none",
         "line": {
          "color": "rgba(144.0, 238.0, 144.0, 0.5)",
          "width": 0.5
         },
         "mode": "lines",
         "type": "scatter",
         "x": [
          -0.3259160963210564,
          -0.20402730722088458,
          null
         ],
         "y": [
          -0.11374568248356766,
          0.17892555488701034,
          null
         ]
        },
        {
         "hoverinfo": "none",
         "line": {
          "color": "rgba(144.0, 238.0, 144.0, 0.5)",
          "width": 0.5
         },
         "mode": "lines",
         "type": "scatter",
         "x": [
          -0.3259160963210564,
          -0.1278979291781272,
          null
         ],
         "y": [
          -0.11374568248356766,
          -0.08103816897878831,
          null
         ]
        },
        {
         "hoverinfo": "none",
         "line": {
          "color": "rgba(144.0, 238.0, 144.0, 0.5)",
          "width": 0.5
         },
         "mode": "lines",
         "type": "scatter",
         "x": [
          -0.3259160963210564,
          -0.8631568853064455,
          null
         ],
         "y": [
          -0.11374568248356766,
          -0.0661752879618619,
          null
         ]
        },
        {
         "hoverinfo": "none",
         "line": {
          "color": "rgba(144.0, 238.0, 144.0, 0.5)",
          "width": 0.5
         },
         "mode": "lines",
         "type": "scatter",
         "x": [
          -0.3259160963210564,
          -0.28799831737468357,
          null
         ],
         "y": [
          -0.11374568248356766,
          -0.375414055482189,
          null
         ]
        },
        {
         "hoverinfo": "none",
         "line": {
          "color": "rgba(144.0, 238.0, 144.0, 0.5)",
          "width": 0.5
         },
         "mode": "lines",
         "type": "scatter",
         "x": [
          -0.3259160963210564,
          -0.5171782549405454,
          null
         ],
         "y": [
          -0.11374568248356766,
          -0.3340273748150628,
          null
         ]
        },
        {
         "hoverinfo": "none",
         "line": {
          "color": "rgba(146.17647058823528, 233.33333333333331, 141.1764705882353, 0.5)",
          "width": 0.5
         },
         "mode": "lines",
         "type": "scatter",
         "x": [
          -0.3050897530341685,
          -0.2728782061654218,
          null
         ],
         "y": [
          0.20869558028462507,
          0.24777215595226404,
          null
         ]
        },
        {
         "hoverinfo": "none",
         "line": {
          "color": "rgba(144.0, 238.0, 144.0, 0.5)",
          "width": 0.5
         },
         "mode": "lines",
         "type": "scatter",
         "x": [
          -0.3050897530341685,
          -0.21372190190860446,
          null
         ],
         "y": [
          0.20869558028462507,
          0.015050777958272891,
          null
         ]
        },
        {
         "hoverinfo": "none",
         "line": {
          "color": "rgba(144.0, 238.0, 144.0, 0.5)",
          "width": 0.5
         },
         "mode": "lines",
         "type": "scatter",
         "x": [
          -0.17061830911863504,
          -0.21372190190860446,
          null
         ],
         "y": [
          0.16087499144082618,
          0.015050777958272891,
          null
         ]
        },
        {
         "hoverinfo": "none",
         "line": {
          "color": "rgba(144.0, 238.0, 144.0, 0.5)",
          "width": 0.5
         },
         "mode": "lines",
         "type": "scatter",
         "x": [
          -0.17061830911863504,
          -0.3417577013058011,
          null
         ],
         "y": [
          0.16087499144082618,
          0.2466946162954508,
          null
         ]
        },
        {
         "hoverinfo": "none",
         "line": {
          "color": "rgba(146.17647058823528, 233.33333333333331, 141.1764705882353, 0.5)",
          "width": 0.5
         },
         "mode": "lines",
         "type": "scatter",
         "x": [
          -0.17061830911863504,
          -0.1103728414169264,
          null
         ],
         "y": [
          0.16087499144082618,
          -0.014126211710549553,
          null
         ]
        },
        {
         "hoverinfo": "none",
         "line": {
          "color": "rgba(144.0, 238.0, 144.0, 0.5)",
          "width": 0.5
         },
         "mode": "lines",
         "type": "scatter",
         "x": [
          -0.17061830911863504,
          -0.08002563823441185,
          null
         ],
         "y": [
          0.16087499144082618,
          -0.06939400517860572,
          null
         ]
        },
        {
         "hoverinfo": "none",
         "line": {
          "color": "rgba(144.0, 238.0, 144.0, 0.5)",
          "width": 0.5
         },
         "mode": "lines",
         "type": "scatter",
         "x": [
          -0.17061830911863504,
          -0.12568436166720384,
          null
         ],
         "y": [
          0.16087499144082618,
          0.23711320197900426,
          null
         ]
        },
        {
         "hoverinfo": "none",
         "line": {
          "color": "rgba(144.0, 238.0, 144.0, 0.5)",
          "width": 0.5
         },
         "mode": "lines",
         "type": "scatter",
         "x": [
          -0.17061830911863504,
          -0.43585287353284385,
          null
         ],
         "y": [
          0.16087499144082618,
          0.40714797890917054,
          null
         ]
        },
        {
         "hoverinfo": "none",
         "line": {
          "color": "rgba(154.01176470588237, 216.53333333333333, 131.01176470588237, 0.5)",
          "width": 0.5
         },
         "mode": "lines",
         "type": "scatter",
         "x": [
          -0.17061830911863504,
          -0.20402730722088458,
          null
         ],
         "y": [
          0.16087499144082618,
          0.17892555488701034,
          null
         ]
        },
        {
         "hoverinfo": "none",
         "line": {
          "color": "rgba(144.0, 238.0, 144.0, 0.5)",
          "width": 0.5
         },
         "mode": "lines",
         "type": "scatter",
         "x": [
          -0.21372190190860446,
          -0.08002563823441185,
          null
         ],
         "y": [
          0.015050777958272891,
          -0.06939400517860572,
          null
         ]
        },
        {
         "hoverinfo": "none",
         "line": {
          "color": "rgba(144.0, 238.0, 144.0, 0.5)",
          "width": 0.5
         },
         "mode": "lines",
         "type": "scatter",
         "x": [
          -0.21372190190860446,
          -0.1128466798805526,
          null
         ],
         "y": [
          0.015050777958272891,
          -0.4573429227320528,
          null
         ]
        },
        {
         "hoverinfo": "none",
         "line": {
          "color": "rgba(144.0, 238.0, 144.0, 0.5)",
          "width": 0.5
         },
         "mode": "lines",
         "type": "scatter",
         "x": [
          -0.21372190190860446,
          -0.2728782061654218,
          null
         ],
         "y": [
          0.015050777958272891,
          0.24777215595226404,
          null
         ]
        },
        {
         "hoverinfo": "none",
         "line": {
          "color": "rgba(146.17647058823528, 233.33333333333331, 141.1764705882353, 0.5)",
          "width": 0.5
         },
         "mode": "lines",
         "type": "scatter",
         "x": [
          -0.4113815882989154,
          -0.20402730722088458,
          null
         ],
         "y": [
          0.015208526640826,
          0.17892555488701034,
          null
         ]
        },
        {
         "hoverinfo": "none",
         "line": {
          "color": "rgba(144.0, 238.0, 144.0, 0.5)",
          "width": 0.5
         },
         "mode": "lines",
         "type": "scatter",
         "x": [
          -0.4113815882989154,
          -0.09888059852184569,
          null
         ],
         "y": [
          0.015208526640826,
          0.019712051440705456,
          null
         ]
        },
        {
         "hoverinfo": "none",
         "line": {
          "color": "rgba(144.0, 238.0, 144.0, 0.5)",
          "width": 0.5
         },
         "mode": "lines",
         "type": "scatter",
         "x": [
          -0.3417577013058011,
          -0.1103728414169264,
          null
         ],
         "y": [
          0.2466946162954508,
          -0.014126211710549553,
          null
         ]
        },
        {
         "hoverinfo": "none",
         "line": {
          "color": "rgba(144.0, 238.0, 144.0, 0.5)",
          "width": 0.5
         },
         "mode": "lines",
         "type": "scatter",
         "x": [
          -0.1103728414169264,
          -0.1278979291781272,
          null
         ],
         "y": [
          -0.014126211710549553,
          -0.08103816897878831,
          null
         ]
        },
        {
         "hoverinfo": "none",
         "line": {
          "color": "rgba(161.8470588235294, 199.73333333333335, 120.84705882352942, 0.5)",
          "width": 0.5
         },
         "mode": "lines",
         "type": "scatter",
         "x": [
          -0.1103728414169264,
          -0.08002563823441185,
          null
         ],
         "y": [
          -0.014126211710549553,
          -0.06939400517860572,
          null
         ]
        },
        {
         "hoverinfo": "none",
         "line": {
          "color": "rgba(144.0, 238.0, 144.0, 0.5)",
          "width": 0.5
         },
         "mode": "lines",
         "type": "scatter",
         "x": [
          -0.1103728414169264,
          -0.20402730722088458,
          null
         ],
         "y": [
          -0.014126211710549553,
          0.17892555488701034,
          null
         ]
        },
        {
         "hoverinfo": "none",
         "line": {
          "color": "rgba(154.01176470588237, 216.53333333333333, 131.01176470588237, 0.5)",
          "width": 0.5
         },
         "mode": "lines",
         "type": "scatter",
         "x": [
          -0.1103728414169264,
          -0.09888059852184569,
          null
         ],
         "y": [
          -0.014126211710549553,
          0.019712051440705456,
          null
         ]
        },
        {
         "hoverinfo": "none",
         "line": {
          "color": "rgba(144.0, 238.0, 144.0, 0.5)",
          "width": 0.5
         },
         "mode": "lines",
         "type": "scatter",
         "x": [
          -0.1103728414169264,
          -0.17978469425979474,
          null
         ],
         "y": [
          -0.014126211710549553,
          -0.02793329833471627,
          null
         ]
        },
        {
         "hoverinfo": "none",
         "line": {
          "color": "rgba(144.0, 238.0, 144.0, 0.5)",
          "width": 0.5
         },
         "mode": "lines",
         "type": "scatter",
         "x": [
          -0.1103728414169264,
          0.2529097371575984,
          null
         ],
         "y": [
          -0.014126211710549553,
          -0.13380420467015644,
          null
         ]
        },
        {
         "hoverinfo": "none",
         "line": {
          "color": "rgba(146.17647058823528, 233.33333333333331, 141.1764705882353, 0.5)",
          "width": 0.5
         },
         "mode": "lines",
         "type": "scatter",
         "x": [
          -0.1103728414169264,
          -0.05535731170970401,
          null
         ],
         "y": [
          -0.014126211710549553,
          -0.13165770614718297,
          null
         ]
        },
        {
         "hoverinfo": "none",
         "line": {
          "color": "rgba(144.0, 238.0, 144.0, 0.5)",
          "width": 0.5
         },
         "mode": "lines",
         "type": "scatter",
         "x": [
          -0.1103728414169264,
          -0.6958018901509342,
          null
         ],
         "y": [
          -0.014126211710549553,
          -0.22237436280961267,
          null
         ]
        },
        {
         "hoverinfo": "none",
         "line": {
          "color": "rgba(144.0, 238.0, 144.0, 0.5)",
          "width": 0.5
         },
         "mode": "lines",
         "type": "scatter",
         "x": [
          -0.21841503354558905,
          -0.43095578003313206,
          null
         ],
         "y": [
          -0.0945802778400624,
          -0.08907072584270936,
          null
         ]
        },
        {
         "hoverinfo": "none",
         "line": {
          "color": "rgba(146.17647058823528, 233.33333333333331, 141.1764705882353, 0.5)",
          "width": 0.5
         },
         "mode": "lines",
         "type": "scatter",
         "x": [
          -0.21841503354558905,
          -0.17978469425979474,
          null
         ],
         "y": [
          -0.0945802778400624,
          -0.02793329833471627,
          null
         ]
        },
        {
         "hoverinfo": "none",
         "line": {
          "color": "rgba(151.4, 222.13333333333335, 134.4, 0.5)",
          "width": 0.5
         },
         "mode": "lines",
         "type": "scatter",
         "x": [
          -0.43095578003313206,
          -0.17978469425979474,
          null
         ],
         "y": [
          -0.08907072584270936,
          -0.02793329833471627,
          null
         ]
        },
        {
         "hoverinfo": "none",
         "line": {
          "color": "rgba(144.0, 238.0, 144.0, 0.5)",
          "width": 0.5
         },
         "mode": "lines",
         "type": "scatter",
         "x": [
          -0.17978469425979474,
          -0.5451783181909111,
          null
         ],
         "y": [
          -0.02793329833471627,
          0.13913448013826923,
          null
         ]
        },
        {
         "hoverinfo": "none",
         "line": {
          "color": "rgba(144.0, 238.0, 144.0, 0.5)",
          "width": 0.5
         },
         "mode": "lines",
         "type": "scatter",
         "x": [
          -0.17978469425979474,
          0.023384759964192165,
          null
         ],
         "y": [
          -0.02793329833471627,
          -0.19734267718946394,
          null
         ]
        },
        {
         "hoverinfo": "none",
         "line": {
          "color": "rgba(146.17647058823528, 233.33333333333331, 141.1764705882353, 0.5)",
          "width": 0.5
         },
         "mode": "lines",
         "type": "scatter",
         "x": [
          -0.08002563823441185,
          -0.3333960749512078,
          null
         ],
         "y": [
          -0.06939400517860572,
          -0.21797028785639486,
          null
         ]
        },
        {
         "hoverinfo": "none",
         "line": {
          "color": "rgba(144.0, 238.0, 144.0, 0.5)",
          "width": 0.5
         },
         "mode": "lines",
         "type": "scatter",
         "x": [
          -0.08002563823441185,
          -0.1278979291781272,
          null
         ],
         "y": [
          -0.06939400517860572,
          -0.08103816897878831,
          null
         ]
        },
        {
         "hoverinfo": "none",
         "line": {
          "color": "rgba(148.78823529411764, 227.73333333333335, 137.78823529411767, 0.5)",
          "width": 0.5
         },
         "mode": "lines",
         "type": "scatter",
         "x": [
          -0.08002563823441185,
          -0.15884862835591715,
          null
         ],
         "y": [
          -0.06939400517860572,
          -0.2605013762401174,
          null
         ]
        },
        {
         "hoverinfo": "none",
         "line": {
          "color": "rgba(151.4, 222.13333333333335, 134.4, 0.5)",
          "width": 0.5
         },
         "mode": "lines",
         "type": "scatter",
         "x": [
          -0.08002563823441185,
          -0.052972056262706874,
          null
         ],
         "y": [
          -0.06939400517860572,
          -0.17629299205101095,
          null
         ]
        },
        {
         "hoverinfo": "none",
         "line": {
          "color": "rgba(146.17647058823528, 233.33333333333331, 141.1764705882353, 0.5)",
          "width": 0.5
         },
         "mode": "lines",
         "type": "scatter",
         "x": [
          -0.08002563823441185,
          -0.12149020981009737,
          null
         ],
         "y": [
          -0.06939400517860572,
          -0.3189035281333635,
          null
         ]
        },
        {
         "hoverinfo": "none",
         "line": {
          "color": "rgba(146.17647058823528, 233.33333333333331, 141.1764705882353, 0.5)",
          "width": 0.5
         },
         "mode": "lines",
         "type": "scatter",
         "x": [
          -0.08002563823441185,
          -0.09888059852184569,
          null
         ],
         "y": [
          -0.06939400517860572,
          0.019712051440705456,
          null
         ]
        },
        {
         "hoverinfo": "none",
         "line": {
          "color": "rgba(144.0, 238.0, 144.0, 0.5)",
          "width": 0.5
         },
         "mode": "lines",
         "type": "scatter",
         "x": [
          -0.08002563823441185,
          -0.20402730722088458,
          null
         ],
         "y": [
          -0.06939400517860572,
          0.17892555488701034,
          null
         ]
        },
        {
         "hoverinfo": "none",
         "line": {
          "color": "rgba(144.0, 238.0, 144.0, 0.5)",
          "width": 0.5
         },
         "mode": "lines",
         "type": "scatter",
         "x": [
          -0.08002563823441185,
          -0.11656011755985318,
          null
         ],
         "y": [
          -0.06939400517860572,
          -0.23291884797257528,
          null
         ]
        },
        {
         "hoverinfo": "none",
         "line": {
          "color": "rgba(144.0, 238.0, 144.0, 0.5)",
          "width": 0.5
         },
         "mode": "lines",
         "type": "scatter",
         "x": [
          -0.08002563823441185,
          -0.05535731170970401,
          null
         ],
         "y": [
          -0.06939400517860572,
          -0.13165770614718297,
          null
         ]
        },
        {
         "hoverinfo": "none",
         "line": {
          "color": "rgba(144.0, 238.0, 144.0, 0.5)",
          "width": 0.5
         },
         "mode": "lines",
         "type": "scatter",
         "x": [
          -0.08002563823441185,
          -0.34565817852861247,
          null
         ],
         "y": [
          -0.06939400517860572,
          -0.07484623050406784,
          null
         ]
        },
        {
         "hoverinfo": "none",
         "line": {
          "color": "rgba(144.0, 238.0, 144.0, 0.5)",
          "width": 0.5
         },
         "mode": "lines",
         "type": "scatter",
         "x": [
          -0.3333960749512078,
          -0.1278979291781272,
          null
         ],
         "y": [
          -0.21797028785639486,
          -0.08103816897878831,
          null
         ]
        },
        {
         "hoverinfo": "none",
         "line": {
          "color": "rgba(144.0, 238.0, 144.0, 0.5)",
          "width": 0.5
         },
         "mode": "lines",
         "type": "scatter",
         "x": [
          0.1158453758115048,
          0.2525798560701464,
          null
         ],
         "y": [
          0.29463524803815394,
          0.44954060038311183,
          null
         ]
        },
        {
         "hoverinfo": "none",
         "line": {
          "color": "rgba(144.0, 238.0, 144.0, 0.5)",
          "width": 0.5
         },
         "mode": "lines",
         "type": "scatter",
         "x": [
          0.1158453758115048,
          -0.20402730722088458,
          null
         ],
         "y": [
          0.29463524803815394,
          0.17892555488701034,
          null
         ]
        },
        {
         "hoverinfo": "none",
         "line": {
          "color": "rgba(144.0, 238.0, 144.0, 0.5)",
          "width": 0.5
         },
         "mode": "lines",
         "type": "scatter",
         "x": [
          0.1158453758115048,
          0.5170417014459732,
          null
         ],
         "y": [
          0.29463524803815394,
          0.31729743710147773,
          null
         ]
        },
        {
         "hoverinfo": "none",
         "line": {
          "color": "rgba(144.0, 238.0, 144.0, 0.5)",
          "width": 0.5
         },
         "mode": "lines",
         "type": "scatter",
         "x": [
          0.1158453758115048,
          -0.019899021063032183,
          null
         ],
         "y": [
          0.29463524803815394,
          0.3334359612380626,
          null
         ]
        },
        {
         "hoverinfo": "none",
         "line": {
          "color": "rgba(144.0, 238.0, 144.0, 0.5)",
          "width": 0.5
         },
         "mode": "lines",
         "type": "scatter",
         "x": [
          -0.20402730722088458,
          -0.07631835394842536,
          null
         ],
         "y": [
          0.17892555488701034,
          0.39781233999569576,
          null
         ]
        },
        {
         "hoverinfo": "none",
         "line": {
          "color": "rgba(144.0, 238.0, 144.0, 0.5)",
          "width": 0.5
         },
         "mode": "lines",
         "type": "scatter",
         "x": [
          -0.20402730722088458,
          -0.09888059852184569,
          null
         ],
         "y": [
          0.17892555488701034,
          0.019712051440705456,
          null
         ]
        },
        {
         "hoverinfo": "none",
         "line": {
          "color": "rgba(146.17647058823528, 233.33333333333331, 141.1764705882353, 0.5)",
          "width": 0.5
         },
         "mode": "lines",
         "type": "scatter",
         "x": [
          -0.20402730722088458,
          -0.3934855137409492,
          null
         ],
         "y": [
          0.17892555488701034,
          -0.1117613423271159,
          null
         ]
        },
        {
         "hoverinfo": "none",
         "line": {
          "color": "rgba(144.0, 238.0, 144.0, 0.5)",
          "width": 0.5
         },
         "mode": "lines",
         "type": "scatter",
         "x": [
          -0.20402730722088458,
          -0.4428453326912117,
          null
         ],
         "y": [
          0.17892555488701034,
          0.49279385630150474,
          null
         ]
        },
        {
         "hoverinfo": "none",
         "line": {
          "color": "rgba(144.0, 238.0, 144.0, 0.5)",
          "width": 0.5
         },
         "mode": "lines",
         "type": "scatter",
         "x": [
          -0.20402730722088458,
          -0.22617704328375923,
          null
         ],
         "y": [
          0.17892555488701034,
          0.38383303596181,
          null
         ]
        },
        {
         "hoverinfo": "none",
         "line": {
          "color": "rgba(146.17647058823528, 233.33333333333331, 141.1764705882353, 0.5)",
          "width": 0.5
         },
         "mode": "lines",
         "type": "scatter",
         "x": [
          -0.20402730722088458,
          -0.12568436166720384,
          null
         ],
         "y": [
          0.17892555488701034,
          0.23711320197900426,
          null
         ]
        },
        {
         "hoverinfo": "none",
         "line": {
          "color": "rgba(146.17647058823528, 233.33333333333331, 141.1764705882353, 0.5)",
          "width": 0.5
         },
         "mode": "lines",
         "type": "scatter",
         "x": [
          -0.20402730722088458,
          -0.16077250953811276,
          null
         ],
         "y": [
          0.17892555488701034,
          0.3360781181857651,
          null
         ]
        },
        {
         "hoverinfo": "none",
         "line": {
          "color": "rgba(148.78823529411764, 227.73333333333335, 137.78823529411767, 0.5)",
          "width": 0.5
         },
         "mode": "lines",
         "type": "scatter",
         "x": [
          -0.20402730722088458,
          -0.43585287353284385,
          null
         ],
         "y": [
          0.17892555488701034,
          0.40714797890917054,
          null
         ]
        },
        {
         "hoverinfo": "none",
         "line": {
          "color": "rgba(144.0, 238.0, 144.0, 0.5)",
          "width": 0.5
         },
         "mode": "lines",
         "type": "scatter",
         "x": [
          -0.663056425427045,
          -0.8631568853064455,
          null
         ],
         "y": [
          0.09226307554996419,
          -0.0661752879618619,
          null
         ]
        },
        {
         "hoverinfo": "none",
         "line": {
          "color": "rgba(144.0, 238.0, 144.0, 0.5)",
          "width": 0.5
         },
         "mode": "lines",
         "type": "scatter",
         "x": [
          -0.1278979291781272,
          -0.052972056262706874,
          null
         ],
         "y": [
          -0.08103816897878831,
          -0.17629299205101095,
          null
         ]
        },
        {
         "hoverinfo": "none",
         "line": {
          "color": "rgba(144.0, 238.0, 144.0, 0.5)",
          "width": 0.5
         },
         "mode": "lines",
         "type": "scatter",
         "x": [
          -0.1278979291781272,
          -0.12149020981009737,
          null
         ],
         "y": [
          -0.08103816897878831,
          -0.3189035281333635,
          null
         ]
        },
        {
         "hoverinfo": "none",
         "line": {
          "color": "rgba(144.0, 238.0, 144.0, 0.5)",
          "width": 0.5
         },
         "mode": "lines",
         "type": "scatter",
         "x": [
          -0.1278979291781272,
          -0.15884862835591715,
          null
         ],
         "y": [
          -0.08103816897878831,
          -0.2605013762401174,
          null
         ]
        },
        {
         "hoverinfo": "none",
         "line": {
          "color": "rgba(146.17647058823528, 233.33333333333331, 141.1764705882353, 0.5)",
          "width": 0.5
         },
         "mode": "lines",
         "type": "scatter",
         "x": [
          -0.1278979291781272,
          -0.11656011755985318,
          null
         ],
         "y": [
          -0.08103816897878831,
          -0.23291884797257528,
          null
         ]
        },
        {
         "hoverinfo": "none",
         "line": {
          "color": "rgba(144.0, 238.0, 144.0, 0.5)",
          "width": 0.5
         },
         "mode": "lines",
         "type": "scatter",
         "x": [
          -0.1278979291781272,
          0.3486104317649725,
          null
         ],
         "y": [
          -0.08103816897878831,
          0.24890475764236933,
          null
         ]
        },
        {
         "hoverinfo": "none",
         "line": {
          "color": "rgba(144.0, 238.0, 144.0, 0.5)",
          "width": 0.5
         },
         "mode": "lines",
         "type": "scatter",
         "x": [
          -0.1278979291781272,
          -0.1310758831768436,
          null
         ],
         "y": [
          -0.08103816897878831,
          0.1092337977977338,
          null
         ]
        },
        {
         "hoverinfo": "none",
         "line": {
          "color": "rgba(144.0, 238.0, 144.0, 0.5)",
          "width": 0.5
         },
         "mode": "lines",
         "type": "scatter",
         "x": [
          -0.1278979291781272,
          -0.16601237278549122,
          null
         ],
         "y": [
          -0.08103816897878831,
          -0.4174758498098329,
          null
         ]
        },
        {
         "hoverinfo": "none",
         "line": {
          "color": "rgba(144.0, 238.0, 144.0, 0.5)",
          "width": 0.5
         },
         "mode": "lines",
         "type": "scatter",
         "x": [
          -0.1278979291781272,
          -0.34565817852861247,
          null
         ],
         "y": [
          -0.08103816897878831,
          -0.07484623050406784,
          null
         ]
        },
        {
         "hoverinfo": "none",
         "line": {
          "color": "rgba(144.0, 238.0, 144.0, 0.5)",
          "width": 0.5
         },
         "mode": "lines",
         "type": "scatter",
         "x": [
          -0.052972056262706874,
          -0.12149020981009737,
          null
         ],
         "y": [
          -0.17629299205101095,
          -0.3189035281333635,
          null
         ]
        },
        {
         "hoverinfo": "none",
         "line": {
          "color": "rgba(144.0, 238.0, 144.0, 0.5)",
          "width": 0.5
         },
         "mode": "lines",
         "type": "scatter",
         "x": [
          -0.052972056262706874,
          -0.15884862835591715,
          null
         ],
         "y": [
          -0.17629299205101095,
          -0.2605013762401174,
          null
         ]
        },
        {
         "hoverinfo": "none",
         "line": {
          "color": "rgba(144.0, 238.0, 144.0, 0.5)",
          "width": 0.5
         },
         "mode": "lines",
         "type": "scatter",
         "x": [
          -0.052972056262706874,
          -0.11656011755985318,
          null
         ],
         "y": [
          -0.17629299205101095,
          -0.23291884797257528,
          null
         ]
        },
        {
         "hoverinfo": "none",
         "line": {
          "color": "rgba(144.0, 238.0, 144.0, 0.5)",
          "width": 0.5
         },
         "mode": "lines",
         "type": "scatter",
         "x": [
          -0.12149020981009737,
          -0.15884862835591715,
          null
         ],
         "y": [
          -0.3189035281333635,
          -0.2605013762401174,
          null
         ]
        },
        {
         "hoverinfo": "none",
         "line": {
          "color": "rgba(144.0, 238.0, 144.0, 0.5)",
          "width": 0.5
         },
         "mode": "lines",
         "type": "scatter",
         "x": [
          -0.12459395883666516,
          -0.1310758831768436,
          null
         ],
         "y": [
          0.3089196779436653,
          0.1092337977977338,
          null
         ]
        },
        {
         "hoverinfo": "none",
         "line": {
          "color": "rgba(146.17647058823528, 233.33333333333331, 141.1764705882353, 0.5)",
          "width": 0.5
         },
         "mode": "lines",
         "type": "scatter",
         "x": [
          -0.12459395883666516,
          -0.2894252955259959,
          null
         ],
         "y": [
          0.3089196779436653,
          0.4723524239738518,
          null
         ]
        },
        {
         "hoverinfo": "none",
         "line": {
          "color": "rgba(144.0, 238.0, 144.0, 0.5)",
          "width": 0.5
         },
         "mode": "lines",
         "type": "scatter",
         "x": [
          0.9645725052195684,
          1,
          null
         ],
         "y": [
          -0.17528884323833135,
          -0.4160580757185913,
          null
         ]
        },
        {
         "hoverinfo": "none",
         "line": {
          "color": "rgba(144.0, 238.0, 144.0, 0.5)",
          "width": 0.5
         },
         "mode": "lines",
         "type": "scatter",
         "x": [
          -0.09888059852184569,
          -0.3934855137409492,
          null
         ],
         "y": [
          0.019712051440705456,
          -0.1117613423271159,
          null
         ]
        },
        {
         "hoverinfo": "none",
         "line": {
          "color": "rgba(144.0, 238.0, 144.0, 0.5)",
          "width": 0.5
         },
         "mode": "lines",
         "type": "scatter",
         "x": [
          -0.09888059852184569,
          -0.12568436166720384,
          null
         ],
         "y": [
          0.019712051440705456,
          0.23711320197900426,
          null
         ]
        },
        {
         "hoverinfo": "none",
         "line": {
          "color": "rgba(148.78823529411764, 227.73333333333335, 137.78823529411767, 0.5)",
          "width": 0.5
         },
         "mode": "lines",
         "type": "scatter",
         "x": [
          -0.09888059852184569,
          -0.4945826495711177,
          null
         ],
         "y": [
          0.019712051440705456,
          0.05175479757798027,
          null
         ]
        },
        {
         "hoverinfo": "none",
         "line": {
          "color": "rgba(144.0, 238.0, 144.0, 0.5)",
          "width": 0.5
         },
         "mode": "lines",
         "type": "scatter",
         "x": [
          -0.3934855137409492,
          -0.4120544372339625,
          null
         ],
         "y": [
          -0.1117613423271159,
          -0.46330243358234646,
          null
         ]
        },
        {
         "hoverinfo": "none",
         "line": {
          "color": "rgba(146.17647058823528, 233.33333333333331, 141.1764705882353, 0.5)",
          "width": 0.5
         },
         "mode": "lines",
         "type": "scatter",
         "x": [
          -0.019899021063032183,
          -0.09583264060449923,
          null
         ],
         "y": [
          0.3334359612380626,
          0.5477091992077073,
          null
         ]
        },
        {
         "hoverinfo": "none",
         "line": {
          "color": "rgba(144.0, 238.0, 144.0, 0.5)",
          "width": 0.5
         },
         "mode": "lines",
         "type": "scatter",
         "x": [
          -0.019899021063032183,
          -0.1310758831768436,
          null
         ],
         "y": [
          0.3334359612380626,
          0.1092337977977338,
          null
         ]
        },
        {
         "hoverinfo": "none",
         "line": {
          "color": "rgba(144.0, 238.0, 144.0, 0.5)",
          "width": 0.5
         },
         "mode": "lines",
         "type": "scatter",
         "x": [
          -0.18067723358052504,
          -0.48264633370868937,
          null
         ],
         "y": [
          -0.12069862000410217,
          -0.38655723833214856,
          null
         ]
        },
        {
         "hoverinfo": "none",
         "line": {
          "color": "rgba(144.0, 238.0, 144.0, 0.5)",
          "width": 0.5
         },
         "mode": "lines",
         "type": "scatter",
         "x": [
          0.023384759964192165,
          0.01102729588140955,
          null
         ],
         "y": [
          -0.19734267718946394,
          -0.0593242624273822,
          null
         ]
        },
        {
         "hoverinfo": "none",
         "line": {
          "color": "rgba(144.0, 238.0, 144.0, 0.5)",
          "width": 0.5
         },
         "mode": "lines",
         "type": "scatter",
         "x": [
          0.023384759964192165,
          0.10368188103192721,
          null
         ],
         "y": [
          -0.19734267718946394,
          0.0180840536644909,
          null
         ]
        },
        {
         "hoverinfo": "none",
         "line": {
          "color": "rgba(148.78823529411764, 227.73333333333335, 137.78823529411767, 0.5)",
          "width": 0.5
         },
         "mode": "lines",
         "type": "scatter",
         "x": [
          0.01102729588140955,
          0.10368188103192721,
          null
         ],
         "y": [
          -0.0593242624273822,
          0.0180840536644909,
          null
         ]
        },
        {
         "hoverinfo": "none",
         "line": {
          "color": "rgba(144.0, 238.0, 144.0, 0.5)",
          "width": 0.5
         },
         "mode": "lines",
         "type": "scatter",
         "x": [
          0.01102729588140955,
          0.11042612660412249,
          null
         ],
         "y": [
          -0.0593242624273822,
          -0.3443431794165911,
          null
         ]
        },
        {
         "hoverinfo": "none",
         "line": {
          "color": "rgba(144.0, 238.0, 144.0, 0.5)",
          "width": 0.5
         },
         "mode": "lines",
         "type": "scatter",
         "x": [
          0.1808694119674158,
          0.2534199335857249,
          null
         ],
         "y": [
          0.28339783598243706,
          0.11127925321556327,
          null
         ]
        },
        {
         "hoverinfo": "none",
         "line": {
          "color": "rgba(144.0, 238.0, 144.0, 0.5)",
          "width": 0.5
         },
         "mode": "lines",
         "type": "scatter",
         "x": [
          0.2534199335857249,
          0.2680454697221705,
          null
         ],
         "y": [
          0.11127925321556327,
          0.018037818296431442,
          null
         ]
        },
        {
         "hoverinfo": "none",
         "line": {
          "color": "rgba(144.0, 238.0, 144.0, 0.5)",
          "width": 0.5
         },
         "mode": "lines",
         "type": "scatter",
         "x": [
          -0.1310758831768436,
          -0.05535731170970401,
          null
         ],
         "y": [
          0.1092337977977338,
          -0.13165770614718297,
          null
         ]
        },
        {
         "hoverinfo": "none",
         "line": {
          "color": "rgba(144.0, 238.0, 144.0, 0.5)",
          "width": 0.5
         },
         "mode": "lines",
         "type": "scatter",
         "x": [
          -0.1310758831768436,
          -0.34958674786515487,
          null
         ],
         "y": [
          0.1092337977977338,
          0.4088785253160498,
          null
         ]
        },
        {
         "hoverinfo": "none",
         "line": {
          "color": "rgba(144.0, 238.0, 144.0, 0.5)",
          "width": 0.5
         },
         "mode": "lines",
         "type": "scatter",
         "x": [
          0.11682886181796201,
          0.24312232119304752,
          null
         ],
         "y": [
          0.3755850632547882,
          0.22272154339534592,
          null
         ]
        },
        {
         "hoverinfo": "none",
         "line": {
          "color": "rgba(146.17647058823528, 233.33333333333331, 141.1764705882353, 0.5)",
          "width": 0.5
         },
         "mode": "lines",
         "type": "scatter",
         "x": [
          0.11682886181796201,
          0.2525798560701464,
          null
         ],
         "y": [
          0.3755850632547882,
          0.44954060038311183,
          null
         ]
        },
        {
         "hoverinfo": "none",
         "line": {
          "color": "rgba(146.17647058823528, 233.33333333333331, 141.1764705882353, 0.5)",
          "width": 0.5
         },
         "mode": "lines",
         "type": "scatter",
         "x": [
          0.10368188103192721,
          0.14555908708716736,
          null
         ],
         "y": [
          0.0180840536644909,
          0.13274317123413848,
          null
         ]
        },
        {
         "hoverinfo": "none",
         "line": {
          "color": "rgba(144.0, 238.0, 144.0, 0.5)",
          "width": 0.5
         },
         "mode": "lines",
         "type": "scatter",
         "x": [
          -0.34958674786515487,
          -0.2894252955259959,
          null
         ],
         "y": [
          0.4088785253160498,
          0.4723524239738518,
          null
         ]
        },
        {
         "marker": {
          "color": [
           249.4160583941606,
           0,
           195.43795620437956,
           247.55474452554745,
           249.4160583941606,
           186.13138686131387,
           120.98540145985402,
           225.2189781021898,
           227.08029197080293,
           232.66423357664235,
           251.27737226277372,
           253.13868613138686,
           238.24817518248176,
           249.4160583941606,
           245.6934306569343,
           245.6934306569343,
           245.6934306569343,
           241.97080291970804,
           199.16058394160584,
           253.13868613138686,
           249.4160583941606,
           241.97080291970804,
           247.55474452554745,
           245.6934306569343,
           243.83211678832117,
           247.55474452554745,
           247.55474452554745,
           253.13868613138686,
           201.02189781021897,
           245.6934306569343,
           210.32846715328466,
           182.4087591240876,
           240.1094890510949,
           245.6934306569343,
           234.52554744525548,
           215.91240875912408,
           241.97080291970804,
           245.6934306569343,
           212.18978102189783,
           253.13868613138686,
           234.52554744525548,
           243.83211678832117,
           199.16058394160584,
           251.27737226277372,
           241.97080291970804,
           249.4160583941606,
           249.4160583941606,
           241.97080291970804,
           212.18978102189783,
           241.97080291970804,
           247.55474452554745,
           206.6058394160584,
           245.6934306569343,
           232.66423357664235,
           238.24817518248176,
           219.63503649635038,
           174.96350364963502,
           241.97080291970804,
           241.97080291970804,
           247.55474452554745,
           215.91240875912408,
           171.24087591240877,
           247.55474452554745,
           245.6934306569343,
           241.97080291970804,
           228.94160583941607,
           234.52554744525548,
           247.55474452554745,
           247.55474452554745,
           225.2189781021898,
           251.27737226277372,
           126.56934306569343,
           214.05109489051094,
           251.27737226277372,
           251.27737226277372,
           232.66423357664235,
           243.83211678832117,
           249.4160583941606,
           241.97080291970804,
           238.24817518248176,
           247.55474452554745,
           253.13868613138686,
           238.24817518248176,
           243.83211678832117,
           241.97080291970804,
           65.14598540145985,
           241.97080291970804,
           243.83211678832117,
           238.24817518248176,
           251.27737226277372,
           243.83211678832117,
           249.4160583941606,
           197.2992700729927,
           245.6934306569343,
           247.55474452554745,
           232.66423357664235,
           241.97080291970804,
           223.35766423357666,
           249.4160583941606,
           245.6934306569343,
           247.55474452554745,
           240.1094890510949,
           221.49635036496352,
           251.27737226277372,
           245.6934306569343,
           234.52554744525548,
           171.24087591240877,
           223.35766423357666,
           243.83211678832117,
           139.5985401459854,
           219.63503649635038,
           173.10218978102188,
           253.13868613138686,
           234.52554744525548,
           214.05109489051094,
           228.94160583941607,
           214.05109489051094,
           234.52554744525548,
           225.2189781021898,
           236.38686131386862,
           217.77372262773724,
           219.63503649635038,
           199.16058394160584,
           251.27737226277372,
           247.55474452554745,
           243.83211678832117,
           243.83211678832117,
           223.35766423357666,
           217.77372262773724,
           202.8832116788321,
           247.55474452554745,
           251.27737226277372,
           225.2189781021898,
           199.16058394160584,
           240.1094890510949,
           223.35766423357666,
           240.1094890510949,
           225.2189781021898,
           251.27737226277372,
           251.27737226277372,
           253.13868613138686,
           249.4160583941606,
           249.4160583941606,
           238.24817518248176,
           232.66423357664235,
           240.1094890510949,
           227.08029197080293,
           230.8029197080292,
           247.55474452554745,
           247.55474452554745,
           195.43795620437956,
           236.38686131386862,
           249.4160583941606,
           228.94160583941607,
           251.27737226277372,
           193.57664233576642,
           247.55474452554745,
           228.94160583941607,
           202.8832116788321,
           243.83211678832117,
           251.27737226277372,
           197.2992700729927,
           234.52554744525548,
           240.1094890510949,
           243.83211678832117,
           238.24817518248176,
           251.27737226277372,
           243.83211678832117,
           241.97080291970804,
           253.13868613138686,
           253.13868613138686,
           204.74452554744525,
           247.55474452554745,
           251.27737226277372,
           249.4160583941606,
           223.35766423357666,
           241.97080291970804,
           251.27737226277372,
           247.55474452554745,
           234.52554744525548,
           241.97080291970804,
           251.27737226277372,
           238.24817518248176,
           225.2189781021898,
           251.27737226277372,
           251.27737226277372,
           243.83211678832117,
           245.6934306569343,
           245.6934306569343,
           253.13868613138686,
           217.77372262773724,
           240.1094890510949,
           253.13868613138686,
           247.55474452554745,
           253.13868613138686,
           243.83211678832117,
           249.4160583941606,
           251.27737226277372,
           232.66423357664235,
           232.66423357664235,
           253.13868613138686,
           251.27737226277372,
           253.13868613138686,
           243.83211678832117,
           241.97080291970804,
           245.6934306569343,
           249.4160583941606,
           253.13868613138686,
           245.6934306569343,
           247.55474452554745,
           245.6934306569343,
           253.13868613138686,
           251.27737226277372,
           253.13868613138686,
           253.13868613138686,
           249.4160583941606,
           253.13868613138686,
           253.13868613138686,
           245.6934306569343,
           251.27737226277372,
           249.4160583941606,
           249.4160583941606,
           251.27737226277372,
           247.55474452554745
          ],
          "colorbar": {
           "thickness": 15,
           "title": {
            "side": "right",
            "text": "Node Degree"
           },
           "xanchor": "left"
          },
          "colorscale": [
           [
            0,
            "rgb(247,251,255)"
           ],
           [
            0.125,
            "rgb(222,235,247)"
           ],
           [
            0.25,
            "rgb(198,219,239)"
           ],
           [
            0.375,
            "rgb(158,202,225)"
           ],
           [
            0.5,
            "rgb(107,174,214)"
           ],
           [
            0.625,
            "rgb(66,146,198)"
           ],
           [
            0.75,
            "rgb(33,113,181)"
           ],
           [
            0.875,
            "rgb(8,81,156)"
           ],
           [
            1,
            "rgb(8,48,107)"
           ]
          ],
          "line": {
           "color": "DarkSlateGrey",
           "width": 1
          },
          "showscale": false,
          "size": [
           5.437956204379562,
           25,
           9.671532846715328,
           5.583941605839416,
           5.437956204379562,
           10.401459854014599,
           15.51094890510949,
           7.335766423357664,
           7.18978102189781,
           6.751824817518248,
           5.291970802919708,
           5.145985401459854,
           6.313868613138686,
           5.437956204379562,
           5.7299270072992705,
           5.7299270072992705,
           5.7299270072992705,
           6.021897810218978,
           9.37956204379562,
           5.145985401459854,
           5.437956204379562,
           6.021897810218978,
           5.583941605839416,
           5.7299270072992705,
           5.875912408759124,
           5.583941605839416,
           5.583941605839416,
           5.145985401459854,
           9.233576642335766,
           5.7299270072992705,
           8.503649635036496,
           10.693430656934307,
           6.1678832116788325,
           5.7299270072992705,
           6.605839416058394,
           8.065693430656935,
           6.021897810218978,
           5.7299270072992705,
           8.357664233576642,
           5.145985401459854,
           6.605839416058394,
           5.875912408759124,
           9.37956204379562,
           5.291970802919708,
           6.021897810218978,
           5.437956204379562,
           5.437956204379562,
           6.021897810218978,
           8.357664233576642,
           6.021897810218978,
           5.583941605839416,
           8.795620437956204,
           5.7299270072992705,
           6.751824817518248,
           6.313868613138686,
           7.773722627737226,
           11.277372262773723,
           6.021897810218978,
           6.021897810218978,
           5.583941605839416,
           8.065693430656935,
           11.569343065693431,
           5.583941605839416,
           5.7299270072992705,
           6.021897810218978,
           7.043795620437956,
           6.605839416058394,
           5.583941605839416,
           5.583941605839416,
           7.335766423357664,
           5.291970802919708,
           15.072992700729928,
           8.211678832116789,
           5.291970802919708,
           5.291970802919708,
           6.751824817518248,
           5.875912408759124,
           5.437956204379562,
           6.021897810218978,
           6.313868613138686,
           5.583941605839416,
           5.145985401459854,
           6.313868613138686,
           5.875912408759124,
           6.021897810218978,
           19.89051094890511,
           6.021897810218978,
           5.875912408759124,
           6.313868613138686,
           5.291970802919708,
           5.875912408759124,
           5.437956204379562,
           9.525547445255475,
           5.7299270072992705,
           5.583941605839416,
           6.751824817518248,
           6.021897810218978,
           7.481751824817518,
           5.437956204379562,
           5.7299270072992705,
           5.583941605839416,
           6.1678832116788325,
           7.627737226277373,
           5.291970802919708,
           5.7299270072992705,
           6.605839416058394,
           11.569343065693431,
           7.481751824817518,
           5.875912408759124,
           14.05109489051095,
           7.773722627737226,
           11.423357664233578,
           5.145985401459854,
           6.605839416058394,
           8.211678832116789,
           7.043795620437956,
           8.211678832116789,
           6.605839416058394,
           7.335766423357664,
           6.45985401459854,
           7.91970802919708,
           7.773722627737226,
           9.37956204379562,
           5.291970802919708,
           5.583941605839416,
           5.875912408759124,
           5.875912408759124,
           7.481751824817518,
           7.91970802919708,
           9.087591240875913,
           5.583941605839416,
           5.291970802919708,
           7.335766423357664,
           9.37956204379562,
           6.1678832116788325,
           7.481751824817518,
           6.1678832116788325,
           7.335766423357664,
           5.291970802919708,
           5.291970802919708,
           5.145985401459854,
           5.437956204379562,
           5.437956204379562,
           6.313868613138686,
           6.751824817518248,
           6.1678832116788325,
           7.18978102189781,
           6.897810218978102,
           5.583941605839416,
           5.583941605839416,
           9.671532846715328,
           6.45985401459854,
           5.437956204379562,
           7.043795620437956,
           5.291970802919708,
           9.817518248175183,
           5.583941605839416,
           7.043795620437956,
           9.087591240875913,
           5.875912408759124,
           5.291970802919708,
           9.525547445255475,
           6.605839416058394,
           6.1678832116788325,
           5.875912408759124,
           6.313868613138686,
           5.291970802919708,
           5.875912408759124,
           6.021897810218978,
           5.145985401459854,
           5.145985401459854,
           8.94160583941606,
           5.583941605839416,
           5.291970802919708,
           5.437956204379562,
           7.481751824817518,
           6.021897810218978,
           5.291970802919708,
           5.583941605839416,
           6.605839416058394,
           6.021897810218978,
           5.291970802919708,
           6.313868613138686,
           7.335766423357664,
           5.291970802919708,
           5.291970802919708,
           5.875912408759124,
           5.7299270072992705,
           5.7299270072992705,
           5.145985401459854,
           7.91970802919708,
           6.1678832116788325,
           5.145985401459854,
           5.583941605839416,
           5.145985401459854,
           5.875912408759124,
           5.437956204379562,
           5.291970802919708,
           6.751824817518248,
           6.751824817518248,
           5.145985401459854,
           5.291970802919708,
           5.145985401459854,
           5.875912408759124,
           6.021897810218978,
           5.7299270072992705,
           5.437956204379562,
           5.145985401459854,
           5.7299270072992705,
           5.583941605839416,
           5.7299270072992705,
           5.145985401459854,
           5.291970802919708,
           5.145985401459854,
           5.145985401459854,
           5.437956204379562,
           5.145985401459854,
           5.145985401459854,
           5.7299270072992705,
           5.291970802919708,
           5.437956204379562,
           5.437956204379562,
           5.291970802919708,
           5.583941605839416
          ]
         },
         "mode": "markers",
         "text": [
          "Node: Velerad<br>Degree: 3",
          "Node: Geralt<br>Degree: 137",
          "Node: Foltest<br>Degree: 32",
          "Node: Adda<br>Degree: 4",
          "Node: Ostrit<br>Degree: 3",
          "Node: Two<br>Degree: 37",
          "Node: Yennefer<br>Degree: 72",
          "Node: Nenneke<br>Degree: 16",
          "Node: Iola<br>Degree: 15",
          "Node: Roach<br>Degree: 12",
          "Node: Nivellen<br>Degree: 2",
          "Node: Fenne<br>Degree: 1",
          "Node: Asse<br>Degree: 9",
          "Node: Vereena<br>Degree: 3",
          "Node: Hereward<br>Degree: 5",
          "Node: Falwick<br>Degree: 5",
          "Node: Caldemeyn<br>Degree: 5",
          "Node: Stregobor<br>Degree: 7",
          "Node: Count<br>Degree: 30",
          "Node: Eltibald<br>Degree: 1",
          "Node: Fredefalk<br>Degree: 3",
          "Node: Renfri<br>Degree: 7",
          "Node: Nohorn<br>Degree: 4",
          "Node: Tavik<br>Degree: 5",
          "Node: Civril<br>Degree: 6",
          "Node: Fifteen<br>Degree: 4",
          "Node: Audoen<br>Degree: 4",
          "Node: Libushe<br>Degree: 1",
          "Node: Baron<br>Degree: 29",
          "Node: Haxo<br>Degree: 5",
          "Node: Pavetta<br>Degree: 24",
          "Node: Calanthe<br>Degree: 39",
          "Node: Rainfarn<br>Degree: 8",
          "Node: Windhalm<br>Degree: 5",
          "Node: Eist<br>Degree: 11",
          "Node: Crach<br>Degree: 21",
          "Node: Draig<br>Degree: 7",
          "Node: Drogodar<br>Degree: 5",
          "Node: Vissegerd<br>Degree: 23",
          "Node: Ravix<br>Degree: 1",
          "Node: Mousesack<br>Degree: 11",
          "Node: Roegner<br>Degree: 6",
          "Node: Sir<br>Degree: 30",
          "Node: Rumplestelt<br>Degree: 2",
          "Node: Akerspaark<br>Degree: 7",
          "Node: Nettly<br>Degree: 3",
          "Node: Dhun<br>Degree: 3",
          "Node: Lille<br>Degree: 7",
          "Node: Little<br>Degree: 23",
          "Node: Torque<br>Degree: 7",
          "Node: Galarr<br>Degree: 4",
          "Node: Aen<br>Degree: 26",
          "Node: Vanadain<br>Degree: 5",
          "Node: Toruviel<br>Degree: 12",
          "Node: Filavandrel<br>Degree: 9",
          "Node: Field<br>Degree: 19",
          "Node: King<br>Degree: 43",
          "Node: Chireadan<br>Degree: 7",
          "Node: Errdil<br>Degree: 7",
          "Node: Vratimir<br>Degree: 4",
          "Node: Beau<br>Degree: 21",
          "Node: Triss<br>Degree: 45",
          "Node: Laurelnose<br>Degree: 4",
          "Node: Neville<br>Degree: 5",
          "Node: Eskel<br>Degree: 7",
          "Node: Vesemir<br>Degree: 14",
          "Node: Dennis<br>Degree: 11",
          "Node: Istredd<br>Degree: 4",
          "Node: Herbolth<br>Degree: 4",
          "Node: Seven<br>Degree: 16",
          "Node: Vespula<br>Degree: 2",
          "Node: Dandelion<br>Degree: 69",
          "Node: Gar<br>Degree: 22",
          "Node: Dudu<br>Degree: 2",
          "Node: Vimme<br>Degree: 2",
          "Node: Sword<br>Degree: 12",
          "Node: Agloval<br>Degree: 6",
          "Node: Teleri<br>Degree: 3",
          "Node: Essi<br>Degree: 7",
          "Node: Duke<br>Degree: 9",
          "Node: Zelest<br>Degree: 4",
          "Node: Veverka<br>Degree: 1",
          "Node: Braenn<br>Degree: 9",
          "Node: Freixenet<br>Degree: 6",
          "Node: EithnÃ©<br>Degree: 7",
          "Node: Ciri<br>Degree: 102",
          "Node: Venzlav<br>Degree: 7",
          "Node: Guy<br>Degree: 6",
          "Node: Yurga<br>Degree: 9",
          "Node: Visenna<br>Degree: 2",
          "Node: Sheldon<br>Degree: 6",
          "Node: Donimir<br>Degree: 3",
          "Node: Rience<br>Degree: 31",
          "Node: Lambert<br>Degree: 5",
          "Node: Vanielle<br>Degree: 4",
          "Node: Ori<br>Degree: 12",
          "Node: Forest<br>Degree: 7",
          "Node: Yarpen<br>Degree: 17",
          "Node: Xavier<br>Degree: 3",
          "Node: Regan<br>Degree: 5",
          "Node: Yannick<br>Degree: 4",
          "Node: Paulie<br>Degree: 8",
          "Node: Henselt<br>Degree: 18",
          "Node: Aelirenn<br>Degree: 2",
          "Node: Everett<br>Degree: 5",
          "Node: Shani<br>Degree: 11",
          "Node: Philippa<br>Degree: 45",
          "Node: Meve<br>Degree: 17",
          "Node: Ethain<br>Degree: 6",
          "Node: Emhyr<br>Degree: 62",
          "Node: Ithlinne<br>Degree: 19",
          "Node: Vilgefortz<br>Degree: 44",
          "Node: Ekkehard<br>Degree: 1",
          "Node: Artaud<br>Degree: 11",
          "Node: Tissaia<br>Degree: 22",
          "Node: Lydia<br>Degree: 14",
          "Node: Jarre<br>Degree: 22",
          "Node: Jan<br>Degree: 11",
          "Node: Blue<br>Degree: 16",
          "Node: Aplegatt<br>Degree: 10",
          "Node: Demavend<br>Degree: 20",
          "Node: Codringher<br>Degree: 19",
          "Node: Sabrina<br>Degree: 30",
          "Node: Horm<br>Degree: 2",
          "Node: Yaevinn<br>Degree: 4",
          "Node: Molnar<br>Degree: 6",
          "Node: Fabio<br>Degree: 6",
          "Node: Anna<br>Degree: 17",
          "Node: Margarita<br>Degree: 20",
          "Node: Falka<br>Degree: 28",
          "Node: Rayla<br>Degree: 4",
          "Node: Bran<br>Degree: 2",
          "Node: Esterad<br>Degree: 16",
          "Node: Francesca<br>Degree: 30",
          "Node: Carduin<br>Degree: 8",
          "Node: Marti<br>Degree: 17",
          "Node: Dorregaray<br>Degree: 8",
          "Node: Keira<br>Degree: 16",
          "Node: Leticia<br>Degree: 2",
          "Node: Sigismund<br>Degree: 2",
          "Node: Voymir<br>Degree: 1",
          "Node: Morvran<br>Degree: 3",
          "Node: Fauve<br>Degree: 3",
          "Node: Bronibor<br>Degree: 9",
          "Node: Menno<br>Degree: 12",
          "Node: Ardal<br>Degree: 8",
          "Node: Vattier<br>Degree: 15",
          "Node: Stefan<br>Degree: 13",
          "Node: Xarthisius<br>Degree: 4",
          "Node: Ceallach<br>Degree: 4",
          "Node: Cahir<br>Degree: 32",
          "Node: Kayleigh<br>Degree: 10",
          "Node: Iskra<br>Degree: 3",
          "Node: Mistle<br>Degree: 14",
          "Node: Rudiger<br>Degree: 2",
          "Node: Milva<br>Degree: 33",
          "Node: Maria<br>Degree: 4",
          "Node: Shilard<br>Degree: 14",
          "Node: Assire<br>Degree: 28",
          "Node: Sheala<br>Degree: 6",
          "Node: Riordain<br>Degree: 2",
          "Node: Zoltan<br>Degree: 31",
          "Node: Percival<br>Degree: 11",
          "Node: Munro<br>Degree: 8",
          "Node: Figgis<br>Degree: 6",
          "Node: Emiel<br>Degree: 9",
          "Node: Brouver<br>Degree: 2",
          "Node: Aubry<br>Degree: 6",
          "Node: Daniel<br>Degree: 7",
          "Node: Vreemde<br>Degree: 1",
          "Node: Morteisen<br>Degree: 1",
          "Node: Fringilla<br>Degree: 27",
          "Node: Merlin<br>Degree: 4",
          "Node: Albrich<br>Degree: 2",
          "Node: Stella<br>Degree: 3",
          "Node: Ida<br>Degree: 17",
          "Node: Adalia<br>Degree: 7",
          "Node: Connor<br>Degree: 2",
          "Node: Dyffryn<br>Degree: 4",
          "Node: Zuleyka<br>Degree: 11",
          "Node: Sigrdrifa<br>Degree: 7",
          "Node: Zyvik<br>Degree: 2",
          "Node: Vysogota<br>Degree: 9",
          "Node: Kelpie<br>Degree: 16",
          "Node: Carthia<br>Degree: 2",
          "Node: Joanna<br>Degree: 2",
          "Node: Leo<br>Degree: 6",
          "Node: Windsor<br>Degree: 5",
          "Node: Stavro<br>Degree: 5",
          "Node: Golan<br>Degree: 1",
          "Node: Julia<br>Degree: 20",
          "Node: Radovid<br>Degree: 8",
          "Node: Fergus<br>Degree: 1",
          "Node: Lebioda<br>Degree: 4",
          "Node: Jacob<br>Degree: 1",
          "Node: Hjalmar<br>Degree: 6",
          "Node: Milo<br>Degree: 3",
          "Node: Arthur<br>Degree: 2",
          "Node: Nimue<br>Degree: 12",
          "Node: Reynart<br>Degree: 12",
          "Node: Reynard<br>Degree: 1",
          "Node: Palmerin<br>Degree: 2",
          "Node: Fulko<br>Degree: 1",
          "Node: Joachim<br>Degree: 6",
          "Node: Eredin<br>Degree: 7",
          "Node: Auberon<br>Degree: 5",
          "Node: Ihuarraquax<br>Degree: 3",
          "Node: Milton<br>Degree: 1",
          "Node: Adam<br>Degree: 5",
          "Node: Puttkammer<br>Degree: 4",
          "Node: Barclay<br>Degree: 5",
          "Node: Ramon<br>Degree: 1",
          "Node: Isengrim<br>Degree: 2",
          "Node: Kobus<br>Degree: 1",
          "Node: Elan<br>Degree: 1",
          "Node: Sievers<br>Degree: 3",
          "Node: Aillil<br>Degree: 1",
          "Node: Braathens<br>Degree: 1",
          "Node: Cyrus<br>Degree: 5",
          "Node: Ambassador<br>Degree: 2",
          "Node: Lucienne<br>Degree: 3",
          "Node: Eudora<br>Degree: 3",
          "Node: Alzur<br>Degree: 2",
          "Node: Lytta<br>Degree: 4"
         ],
         "type": "scatter",
         "x": [
          0.2072795844977499,
          0.06656449284234275,
          0.017725687660674613,
          -0.30083830080903784,
          0.2611063692610051,
          -0.14217672132883327,
          -0.020718659940216443,
          -0.0824867474963051,
          0.022799241112800586,
          -0.05988037641289631,
          0.12133013315908264,
          0.6806207479471333,
          -0.025222713648049167,
          0.07195439250223575,
          -0.19301812381864844,
          -0.2299531137968582,
          0.1878068002708232,
          0.20613286297093755,
          -0.09712082956116205,
          -0.26313259625245056,
          0.3646472940287012,
          0.2255783421536663,
          0.24034291504186064,
          0.3197984603220672,
          0.2499440796226149,
          0.14270551669236803,
          0.322048109851657,
          0.15549625081730184,
          0.08032564751396598,
          0.4148875712192451,
          0.23010504573538224,
          0.1681471909172889,
          0.4485713614547625,
          0.46137143485782556,
          0.29974872209354714,
          0.11864841531844185,
          0.37768535454200663,
          0.3169063743701449,
          0.0633813890216842,
          0.7413904905940539,
          0.24027995853925033,
          0.34849815216105473,
          -0.059980207520610444,
          0.48178711162465143,
          0.3380234153202886,
          0.43351429138747266,
          0.44294953308999263,
          0.2877616288706344,
          0.051369703358791555,
          0.2647786104991697,
          0.37932811557106944,
          -0.00894059969700433,
          0.3813397183633559,
          0.1471055204536889,
          0.15197018759499384,
          -0.08777666419090452,
          -0.02944573707110539,
          0.05279576170885225,
          0.01318206610121052,
          0.048524894804532356,
          -0.03705981388259749,
          -0.0642487984527689,
          0.28359107050092613,
          0.13847244367201625,
          -0.023706579468236465,
          -0.11075489112328026,
          -0.20437734098484633,
          0.09359900415860646,
          0.08304942441927554,
          -0.1840932534843109,
          0.16105680476195416,
          -0.021233240631821707,
          0.11446488128043716,
          0.008881731270320388,
          0.2922399271954087,
          0.040436006585932986,
          0.16617558107958147,
          0.3047752643761323,
          0.12973198260062271,
          0.09154239875927359,
          0.2059115061276234,
          -0.4661156191946845,
          0.10141493191329501,
          0.16626054632938567,
          0.14989312569988808,
          -0.004092312520426679,
          0.2290320009809992,
          -0.1987027931296927,
          0.06642876558189482,
          0.15889584701162374,
          -0.21506768916699479,
          -0.32169159398371533,
          -0.01920046280766127,
          -0.018967929377365664,
          0.29668389970862213,
          -0.16807591990904772,
          -0.28880853885362967,
          -0.18755978864923079,
          -0.2757561994990008,
          -0.3798156273584622,
          -0.3084768317598821,
          -0.08530667865266246,
          0.038452299517264144,
          -0.3634312576904113,
          -0.14319011935497858,
          0.06340199839732927,
          0.005720528430193572,
          -0.04789367222069038,
          -0.19055928449609405,
          -0.08609823480974288,
          0.00608491303550132,
          -0.04312852812558068,
          0.31311200003985806,
          -0.1675259453265881,
          -0.01850548100425071,
          -0.013254801021019556,
          -0.26096416492678304,
          -0.23123087529251413,
          -0.09904357357897299,
          0.08805613312227421,
          -0.01835863240164065,
          0.1208207247688906,
          -0.037736053121505325,
          0.5235078652816174,
          0.16154627487490428,
          0.05555256613411498,
          0.07025780894941544,
          -0.09217634642314189,
          -0.0795150080994743,
          0.005386321220475092,
          -0.12735754871383898,
          0.1461594541923399,
          -0.0777819075103812,
          -0.05177677912445756,
          0.073323613514079,
          0.08508056166314654,
          0.1574657163746438,
          -0.06610153325615863,
          -0.00846415920525289,
          0.6141363061163377,
          0.9964815577091792,
          -0.4525842881064867,
          0.42323034174642354,
          -0.28870609353163784,
          -0.3259160963210564,
          -0.3050897530341685,
          -0.17061830911863504,
          -0.21372190190860446,
          -0.4113815882989154,
          -0.3417577013058011,
          -0.1103728414169264,
          -0.21841503354558905,
          -0.43095578003313206,
          -0.17978469425979474,
          -0.5451783181909111,
          -0.08002563823441185,
          -0.3333960749512078,
          0.1158453758115048,
          -0.20402730722088458,
          -0.07631835394842536,
          -0.663056425427045,
          -0.1278979291781272,
          -0.052972056262706874,
          -0.12149020981009737,
          -0.15884862835591715,
          -0.11656011755985318,
          0.3486104317649725,
          -0.12459395883666516,
          0.03318362620603166,
          0.9645725052195684,
          1,
          -0.09888059852184569,
          -0.3934855137409492,
          -0.4428453326912117,
          -0.22617704328375923,
          -0.12568436166720384,
          -0.16077250953811276,
          -0.5181830269989587,
          0.2529097371575984,
          -0.019899021063032183,
          -0.18067723358052504,
          -0.48264633370868937,
          0.023384759964192165,
          0.01102729588140955,
          -0.43585287353284385,
          -0.1128466798805526,
          0.1808694119674158,
          0.2534199335857249,
          0.2680454697221705,
          0.49167135614137625,
          -0.1310758831768436,
          0.11682886181796201,
          -0.5994365219971354,
          -0.09583264060449923,
          -0.3732022629726105,
          0.24312232119304752,
          0.3871747872432823,
          -0.4120544372339625,
          -0.13414347973577812,
          -0.05535731170970401,
          -0.4866247849330894,
          0.44053857609595404,
          -0.4945826495711177,
          -0.2728782061654218,
          0.10368188103192721,
          0.14555908708716736,
          0.11042612660412249,
          -0.6999298466122766,
          -0.34958674786515487,
          -0.28799831737468357,
          -0.2894252955259959,
          0.44089722433513057,
          -0.8631568853064455,
          -0.1294525107914809,
          -0.1402163251918487,
          -0.5171782549405454,
          -0.6958018901509342,
          -0.46518212024985794,
          0.2525798560701464,
          0.5170417014459732,
          -0.39263049002499584,
          -0.16601237278549122,
          -0.5230291626398516,
          -0.34565817852861247
         ],
         "y": [
          0.46565471615481707,
          -0.08082063388911187,
          0.22151993733942793,
          0.04221848309718572,
          0.16055659023472824,
          0.028056759866294426,
          0.006742399417472763,
          0.022671849273135113,
          0.11535195333824314,
          -0.24034809173940616,
          -0.2800915285125472,
          0.0655603224796806,
          -0.23768233551134987,
          -0.400696158706266,
          0.09135760075681051,
          -0.029604394701872365,
          -0.3224562201133303,
          -0.2515482722700618,
          0.16616080061522118,
          -0.6262052075133723,
          -0.45147715700301844,
          -0.33655595515679293,
          -0.6694931776181153,
          -0.6866329409948275,
          -0.5244762083205755,
          -0.6287464926388941,
          -0.4967902766951395,
          -0.5367552495356873,
          -0.02409632523960449,
          -0.11238755379678743,
          0.08416042030327081,
          0.12252577017806437,
          0.1065702378510162,
          0.22490919853615368,
          0.13546324523716463,
          0.10057846423515035,
          0.05514185504872265,
          0.3010327765827759,
          0.1708497958201921,
          -0.38207241515218604,
          -0.006338437098562069,
          0.0031757432778342985,
          -0.023130294095487357,
          -0.025398746802250172,
          -0.13438898539837152,
          -0.046776956499071355,
          -0.10939325634034679,
          -0.09112667943117772,
          -0.06605561465884656,
          -0.17332847682185096,
          -0.23656675216984518,
          0.07375130773845237,
          -0.1583671294707783,
          0.014871912349713466,
          0.052208707723797376,
          -0.18080269467733467,
          0.15990157972187483,
          -0.2417125933960446,
          -0.3368989977418131,
          -0.3616202410109812,
          -0.06691982066653902,
          0.03486906981503287,
          -0.2802176111132153,
          -0.44585731153129937,
          -0.1719531655029565,
          -0.11376191238424242,
          0.040505340548191986,
          -0.1644428106546643,
          -0.2390790882081588,
          -0.1878456931166274,
          -0.22640406278010852,
          -0.04959646375473747,
          0.1771605177335045,
          -0.3880380386075744,
          -0.1938310040327664,
          -0.11245970248929078,
          -0.12651106712926039,
          -0.38193414232700745,
          -0.14884767452265774,
          0.13936048585214847,
          -0.15453399767208037,
          -0.5322529442554138,
          -0.05325499216906051,
          0.03499164605088286,
          -0.03096123652709826,
          0.024106741651111197,
          0.27709614057250703,
          -0.3429663223835842,
          -0.1308773144455644,
          -0.25531418213048807,
          -0.2787256230087928,
          -0.40453800375018484,
          0.05693354076657738,
          -0.08945783424872485,
          -0.12969702221079557,
          0.002254779748922316,
          0.0942248662756934,
          -0.08615810018397115,
          0.30601375367211264,
          0.009427932911057223,
          -0.22045408183236073,
          -0.10009792139295513,
          0.2806057862863662,
          -0.2608515714529413,
          -0.09835547769374435,
          0.04334777518009053,
          0.1609735299876217,
          0.12632699513542509,
          0.217299725401975,
          0.1553027250389448,
          0.1386826777322132,
          0.06529052607210352,
          0.8509577837860071,
          0.23429302452312867,
          0.25254677681882975,
          0.20632008218218892,
          0.05494137806017977,
          0.10582388808140479,
          0.07036911152043185,
          0.2614632945348678,
          0.2816710488450301,
          -0.01204508455225134,
          0.1941783921269007,
          -0.41327930816203856,
          0.33030556468891753,
          0.13608372729972124,
          0.0758657772446874,
          0.10947281325324452,
          0.2172236208559976,
          0.04818967093067006,
          0.336905683302759,
          0.5450236635645472,
          0.3141753414343992,
          0.21324350394641564,
          0.3892253749122883,
          0.21727748726847088,
          0.2233464453212604,
          0.2606475451946278,
          0.6796371795920549,
          0.5029252275290627,
          0.5740160133577924,
          0.35651636797649994,
          0.12304165355902631,
          0.1857962856331318,
          -0.11374568248356766,
          0.20869558028462507,
          0.16087499144082618,
          0.015050777958272891,
          0.015208526640826,
          0.2466946162954508,
          -0.014126211710549553,
          -0.0945802778400624,
          -0.08907072584270936,
          -0.02793329833471627,
          0.13913448013826923,
          -0.06939400517860572,
          -0.21797028785639486,
          0.29463524803815394,
          0.17892555488701034,
          0.39781233999569576,
          0.09226307554996419,
          -0.08103816897878831,
          -0.17629299205101095,
          -0.3189035281333635,
          -0.2605013762401174,
          -0.23291884797257528,
          0.24890475764236933,
          0.3089196779436653,
          0.40262569127087705,
          -0.17528884323833135,
          -0.4160580757185913,
          0.019712051440705456,
          -0.1117613423271159,
          0.49279385630150474,
          0.38383303596181,
          0.23711320197900426,
          0.3360781181857651,
          0.2070075865883011,
          -0.13380420467015644,
          0.3334359612380626,
          -0.12069862000410217,
          -0.38655723833214856,
          -0.19734267718946394,
          -0.0593242624273822,
          0.40714797890917054,
          -0.4573429227320528,
          0.28339783598243706,
          0.11127925321556327,
          0.018037818296431442,
          -0.5548178145651238,
          0.1092337977977338,
          0.3755850632547882,
          0.4999188591383581,
          0.5477091992077073,
          0.8062090248132794,
          0.22272154339534592,
          0.13107032846071326,
          -0.46330243358234646,
          0.07497062075222752,
          -0.13165770614718297,
          -0.4604052161532061,
          0.15370652239066104,
          0.05175479757798027,
          0.24777215595226404,
          0.0180840536644909,
          0.13274317123413848,
          -0.3443431794165911,
          0.16133846602913343,
          0.4088785253160498,
          -0.375414055482189,
          0.4723524239738518,
          -0.4907945655728798,
          -0.0661752879618619,
          0.7740505864629438,
          -0.7787040668566418,
          -0.3340273748150628,
          -0.22237436280961267,
          -0.41768036412367465,
          0.44954060038311183,
          0.31729743710147773,
          0.11306709038117096,
          -0.4174758498098329,
          -0.04580185974946745,
          -0.07484623050406784
         ]
        }
       ],
       "layout": {
        "annotations": [
         {
          "font": {
           "size": 12
          },
          "showarrow": false,
          "text": "Nodes are sized and colored based on their degree; edges colored by weight",
          "x": 0.005,
          "xanchor": "left",
          "xref": "paper",
          "y": -0.002,
          "yanchor": "bottom",
          "yref": "paper"
         }
        ],
        "height": 1000,
        "hovermode": "closest",
        "margin": {
         "b": 0,
         "l": 0,
         "r": 0,
         "t": 40
        },
        "showlegend": false,
        "template": {
         "data": {
          "bar": [
           {
            "error_x": {
             "color": "#2a3f5f"
            },
            "error_y": {
             "color": "#2a3f5f"
            },
            "marker": {
             "line": {
              "color": "#E5ECF6",
              "width": 0.5
             },
             "pattern": {
              "fillmode": "overlay",
              "size": 10,
              "solidity": 0.2
             }
            },
            "type": "bar"
           }
          ],
          "barpolar": [
           {
            "marker": {
             "line": {
              "color": "#E5ECF6",
              "width": 0.5
             },
             "pattern": {
              "fillmode": "overlay",
              "size": 10,
              "solidity": 0.2
             }
            },
            "type": "barpolar"
           }
          ],
          "carpet": [
           {
            "aaxis": {
             "endlinecolor": "#2a3f5f",
             "gridcolor": "white",
             "linecolor": "white",
             "minorgridcolor": "white",
             "startlinecolor": "#2a3f5f"
            },
            "baxis": {
             "endlinecolor": "#2a3f5f",
             "gridcolor": "white",
             "linecolor": "white",
             "minorgridcolor": "white",
             "startlinecolor": "#2a3f5f"
            },
            "type": "carpet"
           }
          ],
          "choropleth": [
           {
            "colorbar": {
             "outlinewidth": 0,
             "ticks": ""
            },
            "type": "choropleth"
           }
          ],
          "contour": [
           {
            "colorbar": {
             "outlinewidth": 0,
             "ticks": ""
            },
            "colorscale": [
             [
              0,
              "#0d0887"
             ],
             [
              0.1111111111111111,
              "#46039f"
             ],
             [
              0.2222222222222222,
              "#7201a8"
             ],
             [
              0.3333333333333333,
              "#9c179e"
             ],
             [
              0.4444444444444444,
              "#bd3786"
             ],
             [
              0.5555555555555556,
              "#d8576b"
             ],
             [
              0.6666666666666666,
              "#ed7953"
             ],
             [
              0.7777777777777778,
              "#fb9f3a"
             ],
             [
              0.8888888888888888,
              "#fdca26"
             ],
             [
              1,
              "#f0f921"
             ]
            ],
            "type": "contour"
           }
          ],
          "contourcarpet": [
           {
            "colorbar": {
             "outlinewidth": 0,
             "ticks": ""
            },
            "type": "contourcarpet"
           }
          ],
          "heatmap": [
           {
            "colorbar": {
             "outlinewidth": 0,
             "ticks": ""
            },
            "colorscale": [
             [
              0,
              "#0d0887"
             ],
             [
              0.1111111111111111,
              "#46039f"
             ],
             [
              0.2222222222222222,
              "#7201a8"
             ],
             [
              0.3333333333333333,
              "#9c179e"
             ],
             [
              0.4444444444444444,
              "#bd3786"
             ],
             [
              0.5555555555555556,
              "#d8576b"
             ],
             [
              0.6666666666666666,
              "#ed7953"
             ],
             [
              0.7777777777777778,
              "#fb9f3a"
             ],
             [
              0.8888888888888888,
              "#fdca26"
             ],
             [
              1,
              "#f0f921"
             ]
            ],
            "type": "heatmap"
           }
          ],
          "heatmapgl": [
           {
            "colorbar": {
             "outlinewidth": 0,
             "ticks": ""
            },
            "colorscale": [
             [
              0,
              "#0d0887"
             ],
             [
              0.1111111111111111,
              "#46039f"
             ],
             [
              0.2222222222222222,
              "#7201a8"
             ],
             [
              0.3333333333333333,
              "#9c179e"
             ],
             [
              0.4444444444444444,
              "#bd3786"
             ],
             [
              0.5555555555555556,
              "#d8576b"
             ],
             [
              0.6666666666666666,
              "#ed7953"
             ],
             [
              0.7777777777777778,
              "#fb9f3a"
             ],
             [
              0.8888888888888888,
              "#fdca26"
             ],
             [
              1,
              "#f0f921"
             ]
            ],
            "type": "heatmapgl"
           }
          ],
          "histogram": [
           {
            "marker": {
             "pattern": {
              "fillmode": "overlay",
              "size": 10,
              "solidity": 0.2
             }
            },
            "type": "histogram"
           }
          ],
          "histogram2d": [
           {
            "colorbar": {
             "outlinewidth": 0,
             "ticks": ""
            },
            "colorscale": [
             [
              0,
              "#0d0887"
             ],
             [
              0.1111111111111111,
              "#46039f"
             ],
             [
              0.2222222222222222,
              "#7201a8"
             ],
             [
              0.3333333333333333,
              "#9c179e"
             ],
             [
              0.4444444444444444,
              "#bd3786"
             ],
             [
              0.5555555555555556,
              "#d8576b"
             ],
             [
              0.6666666666666666,
              "#ed7953"
             ],
             [
              0.7777777777777778,
              "#fb9f3a"
             ],
             [
              0.8888888888888888,
              "#fdca26"
             ],
             [
              1,
              "#f0f921"
             ]
            ],
            "type": "histogram2d"
           }
          ],
          "histogram2dcontour": [
           {
            "colorbar": {
             "outlinewidth": 0,
             "ticks": ""
            },
            "colorscale": [
             [
              0,
              "#0d0887"
             ],
             [
              0.1111111111111111,
              "#46039f"
             ],
             [
              0.2222222222222222,
              "#7201a8"
             ],
             [
              0.3333333333333333,
              "#9c179e"
             ],
             [
              0.4444444444444444,
              "#bd3786"
             ],
             [
              0.5555555555555556,
              "#d8576b"
             ],
             [
              0.6666666666666666,
              "#ed7953"
             ],
             [
              0.7777777777777778,
              "#fb9f3a"
             ],
             [
              0.8888888888888888,
              "#fdca26"
             ],
             [
              1,
              "#f0f921"
             ]
            ],
            "type": "histogram2dcontour"
           }
          ],
          "mesh3d": [
           {
            "colorbar": {
             "outlinewidth": 0,
             "ticks": ""
            },
            "type": "mesh3d"
           }
          ],
          "parcoords": [
           {
            "line": {
             "colorbar": {
              "outlinewidth": 0,
              "ticks": ""
             }
            },
            "type": "parcoords"
           }
          ],
          "pie": [
           {
            "automargin": true,
            "type": "pie"
           }
          ],
          "scatter": [
           {
            "fillpattern": {
             "fillmode": "overlay",
             "size": 10,
             "solidity": 0.2
            },
            "type": "scatter"
           }
          ],
          "scatter3d": [
           {
            "line": {
             "colorbar": {
              "outlinewidth": 0,
              "ticks": ""
             }
            },
            "marker": {
             "colorbar": {
              "outlinewidth": 0,
              "ticks": ""
             }
            },
            "type": "scatter3d"
           }
          ],
          "scattercarpet": [
           {
            "marker": {
             "colorbar": {
              "outlinewidth": 0,
              "ticks": ""
             }
            },
            "type": "scattercarpet"
           }
          ],
          "scattergeo": [
           {
            "marker": {
             "colorbar": {
              "outlinewidth": 0,
              "ticks": ""
             }
            },
            "type": "scattergeo"
           }
          ],
          "scattergl": [
           {
            "marker": {
             "colorbar": {
              "outlinewidth": 0,
              "ticks": ""
             }
            },
            "type": "scattergl"
           }
          ],
          "scattermapbox": [
           {
            "marker": {
             "colorbar": {
              "outlinewidth": 0,
              "ticks": ""
             }
            },
            "type": "scattermapbox"
           }
          ],
          "scatterpolar": [
           {
            "marker": {
             "colorbar": {
              "outlinewidth": 0,
              "ticks": ""
             }
            },
            "type": "scatterpolar"
           }
          ],
          "scatterpolargl": [
           {
            "marker": {
             "colorbar": {
              "outlinewidth": 0,
              "ticks": ""
             }
            },
            "type": "scatterpolargl"
           }
          ],
          "scatterternary": [
           {
            "marker": {
             "colorbar": {
              "outlinewidth": 0,
              "ticks": ""
             }
            },
            "type": "scatterternary"
           }
          ],
          "surface": [
           {
            "colorbar": {
             "outlinewidth": 0,
             "ticks": ""
            },
            "colorscale": [
             [
              0,
              "#0d0887"
             ],
             [
              0.1111111111111111,
              "#46039f"
             ],
             [
              0.2222222222222222,
              "#7201a8"
             ],
             [
              0.3333333333333333,
              "#9c179e"
             ],
             [
              0.4444444444444444,
              "#bd3786"
             ],
             [
              0.5555555555555556,
              "#d8576b"
             ],
             [
              0.6666666666666666,
              "#ed7953"
             ],
             [
              0.7777777777777778,
              "#fb9f3a"
             ],
             [
              0.8888888888888888,
              "#fdca26"
             ],
             [
              1,
              "#f0f921"
             ]
            ],
            "type": "surface"
           }
          ],
          "table": [
           {
            "cells": {
             "fill": {
              "color": "#EBF0F8"
             },
             "line": {
              "color": "white"
             }
            },
            "header": {
             "fill": {
              "color": "#C8D4E3"
             },
             "line": {
              "color": "white"
             }
            },
            "type": "table"
           }
          ]
         },
         "layout": {
          "annotationdefaults": {
           "arrowcolor": "#2a3f5f",
           "arrowhead": 0,
           "arrowwidth": 1
          },
          "autotypenumbers": "strict",
          "coloraxis": {
           "colorbar": {
            "outlinewidth": 0,
            "ticks": ""
           }
          },
          "colorscale": {
           "diverging": [
            [
             0,
             "#8e0152"
            ],
            [
             0.1,
             "#c51b7d"
            ],
            [
             0.2,
             "#de77ae"
            ],
            [
             0.3,
             "#f1b6da"
            ],
            [
             0.4,
             "#fde0ef"
            ],
            [
             0.5,
             "#f7f7f7"
            ],
            [
             0.6,
             "#e6f5d0"
            ],
            [
             0.7,
             "#b8e186"
            ],
            [
             0.8,
             "#7fbc41"
            ],
            [
             0.9,
             "#4d9221"
            ],
            [
             1,
             "#276419"
            ]
           ],
           "sequential": [
            [
             0,
             "#0d0887"
            ],
            [
             0.1111111111111111,
             "#46039f"
            ],
            [
             0.2222222222222222,
             "#7201a8"
            ],
            [
             0.3333333333333333,
             "#9c179e"
            ],
            [
             0.4444444444444444,
             "#bd3786"
            ],
            [
             0.5555555555555556,
             "#d8576b"
            ],
            [
             0.6666666666666666,
             "#ed7953"
            ],
            [
             0.7777777777777778,
             "#fb9f3a"
            ],
            [
             0.8888888888888888,
             "#fdca26"
            ],
            [
             1,
             "#f0f921"
            ]
           ],
           "sequentialminus": [
            [
             0,
             "#0d0887"
            ],
            [
             0.1111111111111111,
             "#46039f"
            ],
            [
             0.2222222222222222,
             "#7201a8"
            ],
            [
             0.3333333333333333,
             "#9c179e"
            ],
            [
             0.4444444444444444,
             "#bd3786"
            ],
            [
             0.5555555555555556,
             "#d8576b"
            ],
            [
             0.6666666666666666,
             "#ed7953"
            ],
            [
             0.7777777777777778,
             "#fb9f3a"
            ],
            [
             0.8888888888888888,
             "#fdca26"
            ],
            [
             1,
             "#f0f921"
            ]
           ]
          },
          "colorway": [
           "#636efa",
           "#EF553B",
           "#00cc96",
           "#ab63fa",
           "#FFA15A",
           "#19d3f3",
           "#FF6692",
           "#B6E880",
           "#FF97FF",
           "#FECB52"
          ],
          "font": {
           "color": "#2a3f5f"
          },
          "geo": {
           "bgcolor": "white",
           "lakecolor": "white",
           "landcolor": "#E5ECF6",
           "showlakes": true,
           "showland": true,
           "subunitcolor": "white"
          },
          "hoverlabel": {
           "align": "left"
          },
          "hovermode": "closest",
          "mapbox": {
           "style": "light"
          },
          "paper_bgcolor": "white",
          "plot_bgcolor": "#E5ECF6",
          "polar": {
           "angularaxis": {
            "gridcolor": "white",
            "linecolor": "white",
            "ticks": ""
           },
           "bgcolor": "#E5ECF6",
           "radialaxis": {
            "gridcolor": "white",
            "linecolor": "white",
            "ticks": ""
           }
          },
          "scene": {
           "xaxis": {
            "backgroundcolor": "#E5ECF6",
            "gridcolor": "white",
            "gridwidth": 2,
            "linecolor": "white",
            "showbackground": true,
            "ticks": "",
            "zerolinecolor": "white"
           },
           "yaxis": {
            "backgroundcolor": "#E5ECF6",
            "gridcolor": "white",
            "gridwidth": 2,
            "linecolor": "white",
            "showbackground": true,
            "ticks": "",
            "zerolinecolor": "white"
           },
           "zaxis": {
            "backgroundcolor": "#E5ECF6",
            "gridcolor": "white",
            "gridwidth": 2,
            "linecolor": "white",
            "showbackground": true,
            "ticks": "",
            "zerolinecolor": "white"
           }
          },
          "shapedefaults": {
           "line": {
            "color": "#2a3f5f"
           }
          },
          "ternary": {
           "aaxis": {
            "gridcolor": "white",
            "linecolor": "white",
            "ticks": ""
           },
           "baxis": {
            "gridcolor": "white",
            "linecolor": "white",
            "ticks": ""
           },
           "bgcolor": "#E5ECF6",
           "caxis": {
            "gridcolor": "white",
            "linecolor": "white",
            "ticks": ""
           }
          },
          "title": {
           "x": 0.05
          },
          "xaxis": {
           "automargin": true,
           "gridcolor": "white",
           "linecolor": "white",
           "ticks": "",
           "title": {
            "standoff": 15
           },
           "zerolinecolor": "white",
           "zerolinewidth": 2
          },
          "yaxis": {
           "automargin": true,
           "gridcolor": "white",
           "linecolor": "white",
           "ticks": "",
           "title": {
            "standoff": 15
           },
           "zerolinecolor": "white",
           "zerolinewidth": 2
          }
         }
        },
        "title": {
         "font": {
          "color": "DarkSlateGrey",
          "size": 24
         },
         "text": "<b>Global Network Graph with Custom Light Blue-to-Red Edges</b>",
         "x": 0.5
        },
        "width": 1000,
        "xaxis": {
         "showgrid": false,
         "showticklabels": false,
         "zeroline": false
        },
        "yaxis": {
         "showgrid": false,
         "showticklabels": false,
         "zeroline": false
        }
       }
      }
     },
     "metadata": {},
     "output_type": "display_data"
    }
   ],
   "source": [
    "import networkx as nx\n",
    "import plotly.graph_objects as go\n",
    "import matplotlib.colors as mcolors\n",
    "\n",
    "# Create the graph\n",
    "G = nx.Graph()\n",
    "for _, row in df.iterrows():\n",
    "    G.add_edge(row['Source'], row['Target'], weight=row['Weight'])\n",
    "\n",
    "# Set node positions\n",
    "pos = nx.spring_layout(G, k=0.3)\n",
    "\n",
    "node_degrees = dict(G.degree())\n",
    "max_degree = max(node_degrees.values())\n",
    "node_colors = [255 - (degree / max_degree * 255) for degree in node_degrees.values()]\n",
    "node_sizes = [5 + (degree / max_degree * 20) for degree in node_degrees.values()]\n",
    "\n",
    "# Define a custom colormap from light blue to red\n",
    "custom_cmap = mcolors.LinearSegmentedColormap.from_list(\"custom_cmap\", [\"lightgreen\", \"red\"])\n",
    "norm = mcolors.Normalize(vmin=min(nx.get_edge_attributes(G, 'weight').values()),\n",
    "                         vmax=max(nx.get_edge_attributes(G, 'weight').values()))\n",
    "\n",
    "# Create edge traces with custom colors\n",
    "edge_traces = []\n",
    "for edge in G.edges(data=True):\n",
    "    x0, y0 = pos[edge[0]]\n",
    "    x1, y1 = pos[edge[1]]\n",
    "    weight = edge[2]['weight']\n",
    "    rgba_color = mcolors.to_rgba(custom_cmap(norm(weight)), alpha=0.5)\n",
    "    color = f'rgba({rgba_color[0] * 255}, {rgba_color[1] * 255}, {rgba_color[2] * 255}, {rgba_color[3]})'\n",
    "\n",
    "    edge_trace = go.Scatter(\n",
    "        x=[x0, x1, None],\n",
    "        y=[y0, y1, None],\n",
    "        line=dict(width=0.5, color=color),\n",
    "        hoverinfo='none',\n",
    "        mode='lines'\n",
    "    )\n",
    "    edge_traces.append(edge_trace)\n",
    "\n",
    "# Create node traces\n",
    "node_x, node_y = zip(*[pos[node] for node in G.nodes()])\n",
    "node_trace = go.Scatter(\n",
    "    x=node_x, y=node_y,\n",
    "    mode='markers',\n",
    "    text=[f'Node: {node}<br>Degree: {degree}' for node, degree in node_degrees.items()],\n",
    "    marker=dict(\n",
    "        showscale=False,\n",
    "        colorscale='Blues',\n",
    "        color=node_colors,\n",
    "        size=node_sizes,\n",
    "        colorbar=dict(\n",
    "            thickness=15,\n",
    "            title='Node Degree',\n",
    "            xanchor='left',\n",
    "            titleside='right'\n",
    "        ),\n",
    "        line_width=1,\n",
    "        line_color='DarkSlateGrey'))\n",
    "\n",
    "# Combine edge and node traces\n",
    "fig = go.Figure(data=edge_traces + [node_trace],\n",
    "                layout=go.Layout(\n",
    "                    title='<b>Global Network Graph Edges</b>',\n",
    "                    title_x=0.5,\n",
    "                    titlefont=dict(size=24, color='DarkSlateGrey'),\n",
    "                    showlegend=False,\n",
    "                    hovermode='closest',\n",
    "                    margin=dict(b=0, l=0, r=0, t=40),\n",
    "                    annotations=[\n",
    "                        dict(\n",
    "                            showarrow=False,\n",
    "                            text=\"Nodes are sized and colored based on their degree; edges colored by weight\",\n",
    "                            xref=\"paper\", yref=\"paper\",\n",
    "                            x=0.005, y=-0.002,\n",
    "                            xanchor='left', yanchor='bottom',\n",
    "                            font=dict(size=12)\n",
    "                        )\n",
    "                    ],\n",
    "                    xaxis=dict(showgrid=False, zeroline=False, showticklabels=False),\n",
    "                    yaxis=dict(showgrid=False, zeroline=False, showticklabels=False),\n",
    "                    width=1000,\n",
    "                    height=1000\n",
    "                ))\n",
    "\n",
    "fig.show()\n"
   ]
  },
  {
   "cell_type": "code",
   "execution_count": 12,
   "metadata": {},
   "outputs": [],
   "source": [
    "# save processed data to .tsv file\n",
    "book = df['book']\n",
    "df.drop('book', axis=1, inplace=True)\n"
   ]
  },
  {
   "cell_type": "code",
   "execution_count": 14,
   "metadata": {},
   "outputs": [
    {
     "data": {
      "text/html": [
       "<div>\n",
       "<style scoped>\n",
       "    .dataframe tbody tr th:only-of-type {\n",
       "        vertical-align: middle;\n",
       "    }\n",
       "\n",
       "    .dataframe tbody tr th {\n",
       "        vertical-align: top;\n",
       "    }\n",
       "\n",
       "    .dataframe thead th {\n",
       "        text-align: right;\n",
       "    }\n",
       "</style>\n",
       "<table border=\"1\" class=\"dataframe\">\n",
       "  <thead>\n",
       "    <tr style=\"text-align: right;\">\n",
       "      <th></th>\n",
       "      <th>Source</th>\n",
       "      <th>Target</th>\n",
       "      <th>Weight</th>\n",
       "    </tr>\n",
       "  </thead>\n",
       "  <tbody>\n",
       "    <tr>\n",
       "      <th>0</th>\n",
       "      <td>Velerad</td>\n",
       "      <td>Geralt</td>\n",
       "      <td>1</td>\n",
       "    </tr>\n",
       "    <tr>\n",
       "      <th>1</th>\n",
       "      <td>Geralt</td>\n",
       "      <td>Foltest</td>\n",
       "      <td>5</td>\n",
       "    </tr>\n",
       "    <tr>\n",
       "      <th>2</th>\n",
       "      <td>Foltest</td>\n",
       "      <td>Geralt</td>\n",
       "      <td>4</td>\n",
       "    </tr>\n",
       "    <tr>\n",
       "      <th>3</th>\n",
       "      <td>Adda</td>\n",
       "      <td>Geralt</td>\n",
       "      <td>1</td>\n",
       "    </tr>\n",
       "    <tr>\n",
       "      <th>4</th>\n",
       "      <td>Geralt</td>\n",
       "      <td>Ostrit</td>\n",
       "      <td>4</td>\n",
       "    </tr>\n",
       "    <tr>\n",
       "      <th>...</th>\n",
       "      <td>...</td>\n",
       "      <td>...</td>\n",
       "      <td>...</td>\n",
       "    </tr>\n",
       "    <tr>\n",
       "      <th>2595</th>\n",
       "      <td>Lytta</td>\n",
       "      <td>Ciri</td>\n",
       "      <td>2</td>\n",
       "    </tr>\n",
       "    <tr>\n",
       "      <th>2596</th>\n",
       "      <td>Lytta</td>\n",
       "      <td>Triss</td>\n",
       "      <td>1</td>\n",
       "    </tr>\n",
       "    <tr>\n",
       "      <th>2597</th>\n",
       "      <td>Triss</td>\n",
       "      <td>Dandelion</td>\n",
       "      <td>1</td>\n",
       "    </tr>\n",
       "    <tr>\n",
       "      <th>2598</th>\n",
       "      <td>Triss</td>\n",
       "      <td>Yarpen</td>\n",
       "      <td>1</td>\n",
       "    </tr>\n",
       "    <tr>\n",
       "      <th>2599</th>\n",
       "      <td>Dandelion</td>\n",
       "      <td>Mistle</td>\n",
       "      <td>1</td>\n",
       "    </tr>\n",
       "  </tbody>\n",
       "</table>\n",
       "<p>2600 rows × 3 columns</p>\n",
       "</div>"
      ],
      "text/plain": [
       "         Source     Target  Weight\n",
       "0       Velerad     Geralt       1\n",
       "1        Geralt    Foltest       5\n",
       "2       Foltest     Geralt       4\n",
       "3          Adda     Geralt       1\n",
       "4        Geralt     Ostrit       4\n",
       "...         ...        ...     ...\n",
       "2595      Lytta       Ciri       2\n",
       "2596      Lytta      Triss       1\n",
       "2597      Triss  Dandelion       1\n",
       "2598      Triss     Yarpen       1\n",
       "2599  Dandelion     Mistle       1\n",
       "\n",
       "[2600 rows x 3 columns]"
      ]
     },
     "execution_count": 14,
     "metadata": {},
     "output_type": "execute_result"
    }
   ],
   "source": [
    "df"
   ]
  },
  {
   "cell_type": "code",
   "execution_count": 15,
   "metadata": {},
   "outputs": [],
   "source": [
    "df.to_csv('data/witcher_processed.tsv', sep='\\t', index=False)"
   ]
  },
  {
   "cell_type": "code",
   "execution_count": 16,
   "metadata": {},
   "outputs": [],
   "source": [
    "book.to_csv('data/witcher_target.tsv', sep='\\t', index=False)"
   ]
  },
  {
   "cell_type": "code",
   "execution_count": null,
   "metadata": {},
   "outputs": [],
   "source": []
  }
 ],
 "metadata": {
  "kernelspec": {
   "display_name": ".venv",
   "language": "python",
   "name": "python3"
  },
  "language_info": {
   "codemirror_mode": {
    "name": "ipython",
    "version": 3
   },
   "file_extension": ".py",
   "mimetype": "text/x-python",
   "name": "python",
   "nbconvert_exporter": "python",
   "pygments_lexer": "ipython3",
   "version": "3.10.0"
  }
 },
 "nbformat": 4,
 "nbformat_minor": 2
}
